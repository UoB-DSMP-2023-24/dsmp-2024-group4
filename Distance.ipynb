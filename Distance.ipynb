{
 "cells": [
  {
   "cell_type": "code",
   "execution_count": 25,
   "metadata": {},
   "outputs": [],
   "source": [
    "import pandas as pd\n",
    "from GIANA4 import *\n",
    "import numpy as np\n",
    "import subprocess\n",
    "import os\n",
    "import matplotlib.pyplot as plt\n",
    "import seaborn as sns\n",
    "import sys, os, re\n",
    "from os import path\n",
    "import numpy as np\n",
    "from copy import deepcopy\n",
    "from Bio.Align import substitution_matrices\n",
    "import time\n",
    "from time import gmtime, strftime\n",
    "from operator import itemgetter\n",
    "from itertools import chain\n",
    "from random import shuffle\n",
    "from optparse import OptionParser\n",
    "from collections import Counter\n",
    "from sklearn.decomposition import PCA\n",
    "from sklearn.manifold import MDS\n",
    "import faiss\n",
    "from query import *\n",
    "from sklearn.metrics import pairwise_distances\n",
    "from Levenshtein import distance as levenshtein_distance\n",
    "\n",
    "data = pd.read_csv('vdjdb_cleaned.csv')"
   ]
  },
  {
   "cell_type": "code",
   "execution_count": 12,
   "metadata": {},
   "outputs": [
    {
     "data": {
      "text/plain": [
       "CompletedProcess(args=['python', 'GIANA4.py', '-f', './vdjdb_cleaned.csv', '-o', './distance_result', '-t', '7'], returncode=0)"
      ]
     },
     "execution_count": 12,
     "metadata": {},
     "output_type": "execute_result"
    }
   ],
   "source": [
    "# 确保输出目录存在\n",
    "output_dir = './distance_result'\n",
    "if not os.path.exists(output_dir):\n",
    "    os.makedirs(output_dir)\n",
    "\n",
    "# 调用 GIANA 脚本\n",
    "subprocess.run(['python', 'GIANA4.py', '-f', './vdjdb_cleaned.csv', '-o', output_dir, '-t', '7'])"
   ]
  },
  {
   "cell_type": "code",
   "execution_count": 13,
   "metadata": {},
   "outputs": [
    {
     "name": "stdout",
     "output_type": "stream",
     "text": [
      "<class 'pandas.core.frame.DataFrame'>\n",
      "RangeIndex: 29762 entries, 0 to 29761\n",
      "Data columns (total 12 columns):\n",
      " #   Column           Non-Null Count  Dtype \n",
      "---  ------           --------------  ----- \n",
      " 0   complex.id       29762 non-null  int64 \n",
      " 1   cdr3_alpha       29762 non-null  object\n",
      " 2   v.segm_alpha     29762 non-null  object\n",
      " 3   j.segm_alpha     29762 non-null  object\n",
      " 4   species          29762 non-null  object\n",
      " 5   mhc.a            29762 non-null  object\n",
      " 6   mhc.b            29762 non-null  object\n",
      " 7   mhc.class        29762 non-null  object\n",
      " 8   antigen.epitope  29762 non-null  object\n",
      " 9   cdr3_beta        29762 non-null  object\n",
      " 10  v.segm_beta      29762 non-null  object\n",
      " 11  j.segm_beta      29762 non-null  object\n",
      "dtypes: int64(1), object(11)\n",
      "memory usage: 2.7+ MB\n"
     ]
    }
   ],
   "source": [
    "data.info()"
   ]
  },
  {
   "cell_type": "code",
   "execution_count": 19,
   "metadata": {},
   "outputs": [],
   "source": [
    "# 筛选出阿尔法链和贝塔链数据\n",
    "alpha_data = data[['complex.id', 'cdr3_alpha', 'v.segm_alpha', 'j.segm_alpha', 'species', 'mhc.a', 'mhc.b', 'mhc.class', 'antigen.epitope']]\n",
    "beta_data = data[['complex.id', 'cdr3_beta', 'v.segm_beta', 'j.segm_beta', 'species', 'mhc.a', 'mhc.b', 'mhc.class', 'antigen.epitope']]\n",
    "cdr3_alpha_beta = data[['complex.id', 'cdr3_alpha','cdr3_beta', 'v.segm_beta', 'j.segm_beta', 'species', 'mhc.a', 'mhc.b', 'mhc.class', 'antigen.epitope']]\n",
    "# 保存阿尔法链和贝塔链数据为独立的 CSV 文件\n",
    "alpha_data.to_csv('alpha_chain_data.csv', index=False)\n",
    "beta_data.to_csv('beta_chain_data.csv', index=False)\n",
    "cdr3_alpha_beta.to_csv('cdr3_alpha_beta.csv', index=False)\n",
    "\n",
    "# 设置输出目录\n",
    "output_dir_alpha = './alpha_distance_result'\n",
    "output_dir_beta = './beta_distance_result'\n",
    "output_dir_alpha_beta = './alpha_beta_distance_result'"
   ]
  },
  {
   "cell_type": "code",
   "execution_count": 15,
   "metadata": {},
   "outputs": [
    {
     "data": {
      "text/plain": [
       "CompletedProcess(args=['python', 'GIANA4.py', '-f', './beta_chain_data.csv', '-o', './beta_distance_result', '-t', '7'], returncode=1)"
      ]
     },
     "execution_count": 15,
     "metadata": {},
     "output_type": "execute_result"
    }
   ],
   "source": [
    "# 运行 GIANA 脚本计算阿尔法链的距离和相似度矩阵\n",
    "subprocess.run(['python', 'GIANA4.py', '-f', './alpha_chain_data.csv', '-o', output_dir_alpha, '-t', '7'])\n",
    "\n",
    "# 运行 GIANA 脚本计算贝塔链的距离和相似度矩阵\n",
    "subprocess.run(['python', 'GIANA4.py', '-f', './beta_chain_data.csv', '-o', output_dir_beta, '-t', '7'])\n"
   ]
  },
  {
   "cell_type": "code",
   "execution_count": 16,
   "metadata": {},
   "outputs": [
    {
     "name": "stdout",
     "output_type": "stream",
     "text": [
      "   complex.id      cdr3_alpha     v.segm_alpha j.segm_alpha      species  \\\n",
      "0           1   CIVRAPGRADMRF      TRAV26-1*01    TRAJ43*01  HomoSapiens   \n",
      "1           2  CAVPSGAGSYQLTF        TRAV20*01    TRAJ28*01  HomoSapiens   \n",
      "2           4   CAYRPPGTYKYIF  TRAV38-2/DV8*01    TRAJ40*01  HomoSapiens   \n",
      "3           5   CIVRAPGRADMRF      TRAV26-1*01    TRAJ43*01  HomoSapiens   \n",
      "4           6  CAVPSGAGSYQLTF        TRAV20*01    TRAJ28*01  HomoSapiens   \n",
      "\n",
      "      mhc.a mhc.b mhc.class antigen.epitope  \n",
      "0  HLA-B*08   B2M      MHCI        FLKEKGGL  \n",
      "1  HLA-B*08   B2M      MHCI        FLKEKGGL  \n",
      "2  HLA-B*08   B2M      MHCI        FLKEKGGL  \n",
      "3  HLA-B*08   B2M      MHCI        FLKEQGGL  \n",
      "4  HLA-B*08   B2M      MHCI        FLKEQGGL  \n",
      "   complex.id             cdr3_beta v.segm_beta j.segm_beta      species  \\\n",
      "0           1  CASSYLPGQGDHYSNQPQHF   TRBV13*01  TRBJ1-5*01  HomoSapiens   \n",
      "1           2   CASSFEPGQGFYSNQPQHF   TRBV13*01  TRBJ1-5*01  HomoSapiens   \n",
      "2           4        CASSALASLNEQFF   TRBV14*01  TRBJ2-1*01  HomoSapiens   \n",
      "3           5  CASSYLPGQGDHYSNQPQHF   TRBV13*01  TRBJ1-5*01  HomoSapiens   \n",
      "4           6   CASSFEPGQGFYSNQPQHF   TRBV13*01  TRBJ1-5*01  HomoSapiens   \n",
      "\n",
      "      mhc.a mhc.b mhc.class antigen.epitope  \n",
      "0  HLA-B*08   B2M      MHCI        FLKEKGGL  \n",
      "1  HLA-B*08   B2M      MHCI        FLKEKGGL  \n",
      "2  HLA-B*08   B2M      MHCI        FLKEKGGL  \n",
      "3  HLA-B*08   B2M      MHCI        FLKEQGGL  \n",
      "4  HLA-B*08   B2M      MHCI        FLKEQGGL  \n"
     ]
    }
   ],
   "source": [
    "# 查看数据的前几行\n",
    "print(alpha_data.head())\n",
    "print(beta_data.head())"
   ]
  },
  {
   "cell_type": "code",
   "execution_count": 27,
   "metadata": {},
   "outputs": [
    {
     "ename": "KeyboardInterrupt",
     "evalue": "",
     "output_type": "error",
     "traceback": [
      "\u001b[1;31m---------------------------------------------------------------------------\u001b[0m",
      "\u001b[1;31mKeyboardInterrupt\u001b[0m                         Traceback (most recent call last)",
      "Cell \u001b[1;32mIn[27], line 26\u001b[0m\n\u001b[0;32m     24\u001b[0m \u001b[38;5;66;03m# Optionally, save the matrices to CSV files\u001b[39;00m\n\u001b[0;32m     25\u001b[0m np\u001b[38;5;241m.\u001b[39msavetxt(\u001b[38;5;124m\"\u001b[39m\u001b[38;5;124malpha_distance_matrix.csv\u001b[39m\u001b[38;5;124m\"\u001b[39m, alpha_distance_matrix, delimiter\u001b[38;5;241m=\u001b[39m\u001b[38;5;124m\"\u001b[39m\u001b[38;5;124m,\u001b[39m\u001b[38;5;124m\"\u001b[39m)\n\u001b[1;32m---> 26\u001b[0m np\u001b[38;5;241m.\u001b[39msavetxt(\u001b[38;5;124m\"\u001b[39m\u001b[38;5;124mbeta_distance_matrix.csv\u001b[39m\u001b[38;5;124m\"\u001b[39m, beta_distance_matrix, delimiter\u001b[38;5;241m=\u001b[39m\u001b[38;5;124m\"\u001b[39m\u001b[38;5;124m,\u001b[39m\u001b[38;5;124m\"\u001b[39m)\n",
      "File \u001b[1;32m<__array_function__ internals>:200\u001b[0m, in \u001b[0;36msavetxt\u001b[1;34m(*args, **kwargs)\u001b[0m\n",
      "File \u001b[1;32me:\\Anaconda\\Lib\\site-packages\\numpy\\lib\\npyio.py:1613\u001b[0m, in \u001b[0;36msavetxt\u001b[1;34m(fname, X, fmt, delimiter, newline, header, footer, comments, encoding)\u001b[0m\n\u001b[0;32m   1609\u001b[0m         \u001b[38;5;28;01mexcept\u001b[39;00m \u001b[38;5;167;01mTypeError\u001b[39;00m \u001b[38;5;28;01mas\u001b[39;00m e:\n\u001b[0;32m   1610\u001b[0m             \u001b[38;5;28;01mraise\u001b[39;00m \u001b[38;5;167;01mTypeError\u001b[39;00m(\u001b[38;5;124m\"\u001b[39m\u001b[38;5;124mMismatch between array dtype (\u001b[39m\u001b[38;5;124m'\u001b[39m\u001b[38;5;132;01m%s\u001b[39;00m\u001b[38;5;124m'\u001b[39m\u001b[38;5;124m) and \u001b[39m\u001b[38;5;124m\"\u001b[39m\n\u001b[0;32m   1611\u001b[0m                             \u001b[38;5;124m\"\u001b[39m\u001b[38;5;124mformat specifier (\u001b[39m\u001b[38;5;124m'\u001b[39m\u001b[38;5;132;01m%s\u001b[39;00m\u001b[38;5;124m'\u001b[39m\u001b[38;5;124m)\u001b[39m\u001b[38;5;124m\"\u001b[39m\n\u001b[0;32m   1612\u001b[0m                             \u001b[38;5;241m%\u001b[39m (\u001b[38;5;28mstr\u001b[39m(X\u001b[38;5;241m.\u001b[39mdtype), \u001b[38;5;28mformat\u001b[39m)) \u001b[38;5;28;01mfrom\u001b[39;00m \u001b[38;5;21;01me\u001b[39;00m\n\u001b[1;32m-> 1613\u001b[0m         fh\u001b[38;5;241m.\u001b[39mwrite(v)\n\u001b[0;32m   1615\u001b[0m \u001b[38;5;28;01mif\u001b[39;00m \u001b[38;5;28mlen\u001b[39m(footer) \u001b[38;5;241m>\u001b[39m \u001b[38;5;241m0\u001b[39m:\n\u001b[0;32m   1616\u001b[0m     footer \u001b[38;5;241m=\u001b[39m footer\u001b[38;5;241m.\u001b[39mreplace(\u001b[38;5;124m'\u001b[39m\u001b[38;5;130;01m\\n\u001b[39;00m\u001b[38;5;124m'\u001b[39m, \u001b[38;5;124m'\u001b[39m\u001b[38;5;130;01m\\n\u001b[39;00m\u001b[38;5;124m'\u001b[39m \u001b[38;5;241m+\u001b[39m comments)\n",
      "\u001b[1;31mKeyboardInterrupt\u001b[0m: "
     ]
    }
   ],
   "source": [
    "# Load your data\n",
    "alpha_chain_data = pd.read_csv('alpha_chain_data.csv')\n",
    "beta_chain_data = pd.read_csv('beta_chain_data.csv')\n",
    "\n",
    "# Extract CDR3 sequences\n",
    "alpha_cdr3_sequences = alpha_chain_data['cdr3_alpha'].tolist()\n",
    "beta_cdr3_sequences = beta_chain_data['cdr3_beta'].tolist()\n",
    "\n",
    "# Function to calculate the pairwise Levenshtein distance matrix\n",
    "def levenshtein_distance_matrix(sequences):\n",
    "    length = len(sequences)\n",
    "    dist_matrix = np.zeros((length, length))\n",
    "    for i in range(length):\n",
    "        for j in range(i + 1, length):  # Use symmetry to save computation\n",
    "            dist = levenshtein_distance(sequences[i], sequences[j])\n",
    "            dist_matrix[i, j] = dist\n",
    "            dist_matrix[j, i] = dist\n",
    "    return dist_matrix\n",
    "\n",
    "# Compute the distance matrices\n",
    "alpha_distance_matrix = levenshtein_distance_matrix(alpha_cdr3_sequences)\n",
    "beta_distance_matrix = levenshtein_distance_matrix(beta_cdr3_sequences)\n",
    "\n",
    "# Optionally, save the matrices to CSV files\n",
    "np.savetxt(\"alpha_distance_matrix.csv\", alpha_distance_matrix, delimiter=\",\")\n",
    "np.savetxt(\"beta_distance_matrix.csv\", beta_distance_matrix, delimiter=\",\")"
   ]
  }
 ],
 "metadata": {
  "kernelspec": {
   "display_name": "base",
   "language": "python",
   "name": "python3"
  },
  "language_info": {
   "codemirror_mode": {
    "name": "ipython",
    "version": 3
   },
   "file_extension": ".py",
   "mimetype": "text/x-python",
   "name": "python",
   "nbconvert_exporter": "python",
   "pygments_lexer": "ipython3",
   "version": "3.11.4"
  }
 },
 "nbformat": 4,
 "nbformat_minor": 2
}
