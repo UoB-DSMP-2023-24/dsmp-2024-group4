{
 "cells": [
  {
   "cell_type": "code",
   "execution_count": 1,
   "id": "ca5e1425",
   "metadata": {
    "ExecuteTime": {
     "end_time": "2024-04-28T12:18:59.613081Z",
     "start_time": "2024-04-28T12:18:59.598139Z"
    }
   },
   "outputs": [],
   "source": [
    "import pandas as pd\n",
    "import numpy as np\n",
    "import matplotlib.pyplot as plt\n",
    "import seaborn as sns\n",
    "import os"
   ]
  },
  {
   "cell_type": "code",
   "execution_count": null,
   "id": "414f4a0b",
   "metadata": {},
   "outputs": [],
   "source": [
    "# df= pd.read_csv('/Users/shalomifernandes/Desktop/UOB/TB2/DSMP/vdjdb.csv')\n",
    "df= pd.read_csv('pre-processing final/vdjdb.csv')"
   ]
  },
  {
   "cell_type": "code",
   "execution_count": null,
   "id": "d1ea81af",
   "metadata": {},
   "outputs": [],
   "source": [
    "df"
   ]
  },
  {
   "cell_type": "code",
   "execution_count": null,
   "id": "056e8220",
   "metadata": {},
   "outputs": [],
   "source": [
    "df.drop(['reference.id','method','meta','cdr3fix','web.method','web.method.seq','web.cdr3fix.nc','web.cdr3fix.unmp'], axis=1, inplace=True)"
   ]
  },
  {
   "cell_type": "code",
   "execution_count": null,
   "id": "4938c805",
   "metadata": {},
   "outputs": [],
   "source": [
    "df.head()"
   ]
  },
  {
   "cell_type": "code",
   "execution_count": null,
   "id": "2f7612a1",
   "metadata": {},
   "outputs": [],
   "source": [
    "# Check for missing values in each column\n",
    "missing_values = df.isnull().sum()\n",
    "print(\"Missing values in each column:\\n\", missing_values)"
   ]
  },
  {
   "cell_type": "code",
   "execution_count": null,
   "id": "c4a50095",
   "metadata": {},
   "outputs": [],
   "source": [
    "# Drop rows with any missing values\n",
    "df.dropna(subset=['v.segm','j.segm','antigen.gene'], inplace=True)"
   ]
  },
  {
   "cell_type": "code",
   "execution_count": null,
   "id": "1b28e037",
   "metadata": {},
   "outputs": [],
   "source": [
    "df.count()"
   ]
  },
  {
   "cell_type": "code",
   "execution_count": null,
   "id": "b66ce4b8",
   "metadata": {},
   "outputs": [],
   "source": [
    "# Check for missing values in each column\n",
    "cleaned_data = df.isnull().sum()\n",
    "cleaned_data"
   ]
  },
  {
   "cell_type": "code",
   "execution_count": null,
   "id": "437e1824",
   "metadata": {},
   "outputs": [],
   "source": [
    "# Check for duplicate rows\n",
    "duplicates = df.duplicated().sum()\n",
    "print(f\"Number of duplicate rows: {duplicates}\")"
   ]
  },
  {
   "cell_type": "code",
   "execution_count": null,
   "id": "950253cc",
   "metadata": {},
   "outputs": [],
   "source": [
    "# Dropping all duplicate rows\n",
    "df.drop_duplicates(inplace=True)"
   ]
  },
  {
   "cell_type": "code",
   "execution_count": null,
   "id": "473f31bb",
   "metadata": {},
   "outputs": [],
   "source": [
    "# Checking for duplicate rows\n",
    "duplicates = df.duplicated().sum()\n",
    "print(f\"Number of duplicate rows: {duplicates}\")"
   ]
  },
  {
   "cell_type": "code",
   "execution_count": null,
   "id": "06dacd5e",
   "metadata": {},
   "outputs": [],
   "source": [
    "# Calculate the counts for 'species', 'genes', and 'mhc.class'\n",
    "species_counts = df['species'].value_counts()\n",
    "genes_counts = df['gene'].value_counts()\n",
    "mhc_class_counts = df['mhc.class'].value_counts()\n",
    "\n",
    "species_counts, genes_counts, mhc_class_counts"
   ]
  },
  {
   "cell_type": "code",
   "execution_count": null,
   "id": "ef602250",
   "metadata": {},
   "outputs": [],
   "source": []
  },
  {
   "cell_type": "code",
   "execution_count": null,
   "id": "bafc591f",
   "metadata": {},
   "outputs": [],
   "source": [
    "epitope_counts = df['antigen.epitope'].value_counts()\n",
    "\n",
    "epitopes_to_keep = epitope_counts[epitope_counts >= 10].index\n",
    "    \n",
    "# Filter the DataFrame to only include rows with these epitopes\n",
    "df = df[df['antigen.epitope'].isin(epitopes_to_keep)]"
   ]
  },
  {
   "cell_type": "code",
   "execution_count": null,
   "id": "87808866",
   "metadata": {},
   "outputs": [],
   "source": [
    "df"
   ]
  },
  {
   "cell_type": "code",
   "execution_count": null,
   "id": "40f9b3bd",
   "metadata": {},
   "outputs": [],
   "source": [
    "print(df.dtypes)"
   ]
  },
  {
   "cell_type": "code",
   "execution_count": null,
   "id": "60f47082",
   "metadata": {},
   "outputs": [],
   "source": [
    "# Calculate the counts for 'species', 'genes', and 'mhc.class'\n",
    "species_counts = df['species'].value_counts()\n",
    "genes_counts = df['gene'].value_counts()\n",
    "mhc_class_counts = df['mhc.class'].value_counts()\n",
    "\n",
    "species_counts, genes_counts, mhc_class_counts"
   ]
  },
  {
   "cell_type": "code",
   "execution_count": null,
   "id": "22e7f156",
   "metadata": {},
   "outputs": [],
   "source": []
  },
  {
   "cell_type": "code",
   "execution_count": null,
   "id": "82d694a2",
   "metadata": {},
   "outputs": [],
   "source": [
    "import pandas as pd\n",
    "\n",
    "# Calculate the length of each sequence in the cdr3 column\n",
    "df.loc[:,'cdr3_length'] = df['cdr3'].apply(len)\n",
    "\n",
    "# Statistical summary to check for unusual lengths\n",
    "print(df['cdr3_length'].describe())\n",
    "\n",
    "# You can also use a box plot to visualize the distribution of sequence lengths\n",
    "import seaborn as sns\n",
    "import matplotlib.pyplot as plt\n",
    "\n",
    "sns.boxplot(x=df['cdr3_length'])\n",
    "plt.title('Distribution of CDR3 Sequence Lengths')\n",
    "plt.show()"
   ]
  },
  {
   "cell_type": "code",
   "execution_count": null,
   "id": "aeffe286",
   "metadata": {},
   "outputs": [],
   "source": [
    "# Calculate the length of each CDR3 sequence\n",
    "df.loc[:,'cdr3_length'] = df['cdr3'].apply(len)\n",
    "\n",
    "# Count the occurrences of each sequence length\n",
    "length_counts = df['cdr3_length'].value_counts()\n",
    "\n",
    "# Sort the counts by sequence length\n",
    "length_counts_sorted = length_counts.sort_index()\n",
    "\n",
    "# Display the sorted counts\n",
    "print(length_counts_sorted)"
   ]
  },
  {
   "cell_type": "code",
   "execution_count": null,
   "id": "a6b55997",
   "metadata": {},
   "outputs": [],
   "source": [
    "df = df[(df['cdr3_length'] >= 10) & (df['cdr3_length'] <= 20)]\n",
    "df"
   ]
  },
  {
   "cell_type": "code",
   "execution_count": null,
   "id": "87c6d541",
   "metadata": {},
   "outputs": [],
   "source": [
    "# Count the number of unique species\n",
    "unique_species_count = df['antigen.species'].nunique()\n",
    "print(\"Number of distinct antigen species:\", unique_species_count)\n",
    "\n",
    "# Count the occurrences of each species\n",
    "species_counts = df['antigen.species'].value_counts()\n",
    "print(\"Counts for each antigen species:\")\n",
    "print(species_counts)"
   ]
  },
  {
   "cell_type": "code",
   "execution_count": null,
   "id": "bfda8a28",
   "metadata": {},
   "outputs": [],
   "source": [
    "# Get a boolean series where each species with a count greater than 1000 is True\n",
    "species_above_threshold = df['antigen.species'].value_counts() > 1000\n",
    "\n",
    "# Convert it to a list of species\n",
    "species_to_include = species_above_threshold[species_above_threshold].index.tolist()\n",
    "\n",
    "# Filter the DataFrame\n",
    "df = df[df['antigen.species'].isin(species_to_include)]\n",
    "df"
   ]
  },
  {
   "cell_type": "code",
   "execution_count": null,
   "id": "5bea7477",
   "metadata": {},
   "outputs": [],
   "source": [
    "# Count the number of unique species\n",
    "unique_gene_count = df['antigen.gene'].nunique()\n",
    "print(\"Number of distinct antigen genes:\", unique_gene_count)\n",
    "\n",
    "# Count the occurrences of each species\n",
    "genes_counts = df['antigen.gene'].value_counts()\n",
    "print(\"Counts for each antigen genes:\")\n",
    "print(genes_counts)"
   ]
  },
  {
   "cell_type": "code",
   "execution_count": null,
   "id": "01c6c732",
   "metadata": {},
   "outputs": [],
   "source": [
    "# Calculate the counts for each antigen.gene\n",
    "gene_counts = df['antigen.gene'].value_counts()\n",
    "\n",
    "# Find the antigen.gene values with counts of at least 100\n",
    "genes_with_sufficient_count = gene_counts[gene_counts >= 100].index\n",
    "\n",
    "# Filter the DataFrame to only include rows with these antigen.gene values\n",
    "df = df[df['antigen.gene'].isin(genes_with_sufficient_count)]\n",
    "\n",
    "df"
   ]
  },
  {
   "cell_type": "code",
   "execution_count": null,
   "id": "7e90a143",
   "metadata": {},
   "outputs": [],
   "source": [
    "df = df[df['complex.id'] != 0]\n",
    "df"
   ]
  },
  {
   "cell_type": "code",
   "execution_count": null,
   "id": "ac3954ac",
   "metadata": {},
   "outputs": [],
   "source": [
    "# Calculate the counts for 'species', 'genes', and 'mhc.class'\n",
    "species_counts = df['species'].value_counts()\n",
    "genes_counts = df['gene'].value_counts()\n",
    "mhc_class_counts = df['mhc.class'].value_counts()\n",
    "\n",
    "species_counts, genes_counts, mhc_class_counts"
   ]
  },
  {
   "cell_type": "markdown",
   "id": "16b08719",
   "metadata": {},
   "source": [
    "Filtering the data by keeping rows that have data only on Humans as we want to do our further analysis only on Human Data"
   ]
  },
  {
   "cell_type": "code",
   "execution_count": null,
   "id": "f959630a",
   "metadata": {},
   "outputs": [],
   "source": [
    "# Filter the DataFrame for human species\n",
    "df = df[df['species'] == 'HomoSapiens']\n",
    "\n",
    "# The resulting DataFrame 'df' now only contains rows with human species \n",
    "df"
   ]
  },
  {
   "cell_type": "markdown",
   "id": "9bb1992d",
   "metadata": {},
   "source": [
    "We can now drop columns like complex.id, species(since we are only taking human species), and cdr3_length"
   ]
  },
  {
   "cell_type": "code",
   "execution_count": null,
   "id": "2333929a",
   "metadata": {},
   "outputs": [],
   "source": [
    "df.drop(['complex.id','species','cdr3_length'], axis=1, inplace=True)\n",
    "df"
   ]
  },
  {
   "cell_type": "code",
   "execution_count": null,
   "id": "abf26679",
   "metadata": {},
   "outputs": [],
   "source": [
    "# Calculate the counts for 'mhc.a', and 'mhc.b'\n",
    "\n",
    "mhc_a_counts = df['mhc.a'].value_counts()\n",
    "mhc_b_counts = df['mhc.b'].value_counts()\n",
    "\n",
    "mhc_a_counts,mhc_b_counts"
   ]
  },
  {
   "cell_type": "markdown",
   "id": "da598211",
   "metadata": {},
   "source": [
    "Now, we will split the dataframes into two. One for only Human alpha chains and the other one for only Human beta chains and do our further analysis on alpha and beta chains for humans separately"
   ]
  },
  {
   "cell_type": "code",
   "execution_count": null,
   "id": "1de38fda",
   "metadata": {},
   "outputs": [],
   "source": [
    "import pandas as pd\n",
    "\n",
    "# Split the DataFrame into two parts: one for TRA genes and one for TRB genes\n",
    "df_alpha = df[df['gene'] == 'TRA']  # Adjust the condition if necessary\n",
    "df_beta = df[df['gene'] == 'TRB']   # Adjust the condition if necessary\n",
    "\n",
    "# Now df_alpha contains only rows where the gene column is 'TRA'\n",
    "# and df_beta contains only rows where the gene column is 'TRB'\n",
    "# Display the first few rows to verify\n",
    "print(\"Alpha Chains (TRA genes):\")\n",
    "print(df_alpha.head())\n",
    "\n",
    "print(\"Beta Chains (TRB genes):\")\n",
    "print(df_beta.head())"
   ]
  },
  {
   "cell_type": "code",
   "execution_count": null,
   "id": "0cbe898b",
   "metadata": {},
   "outputs": [],
   "source": [
    "df_alpha.drop(['gene'], axis=1, inplace=True)\n",
    "df_beta.drop(['gene'], axis=1, inplace=True)\n",
    "\n",
    "df_alpha.head(), df_beta.head()"
   ]
  },
  {
   "cell_type": "code",
   "execution_count": null,
   "id": "8b6f0a20",
   "metadata": {},
   "outputs": [],
   "source": [
    "df_alpha.drop(['vdjdb.score'], axis=1, inplace=True)\n",
    "df_beta.drop(['vdjdb.score'], axis=1, inplace=True)\n",
    "df_alpha.head(), df_beta.head()"
   ]
  },
  {
   "cell_type": "code",
   "execution_count": null,
   "id": "fc1310c7",
   "metadata": {},
   "outputs": [],
   "source": [
    "import pandas as pd\n",
    "\n",
    "# Rename the columns\n",
    "df_alpha.rename(columns={'antigen.epitope': 'epitope', 'antigen.gene': 'gene', 'antigen.species': 'species'}, inplace=True)\n",
    "df_beta.rename(columns={'antigen.epitope': 'epitope', 'antigen.gene': 'gene', 'antigen.species': 'species'}, inplace=True)\n",
    "\n",
    "# Now the columns are renamed to 'epitope', 'gene', and 'species'\n",
    "df_alpha.head(), df_beta.head()  # Display the first few rows to verify the changes"
   ]
  },
  {
   "cell_type": "markdown",
   "id": "953fb7e8",
   "metadata": {},
   "source": [
    "# MODEL BUILDING AND ANALYSIS ON ALPHA CHAINS:"
   ]
  },
  {
   "cell_type": "markdown",
   "id": "47d0bba8",
   "metadata": {},
   "source": [
    "# ENCODING:"
   ]
  },
  {
   "cell_type": "markdown",
   "id": "4570a559",
   "metadata": {},
   "source": [
    "LABEL ENCODING ON THE 'GENE' AND 'SPECIES' COLUMN"
   ]
  },
  {
   "cell_type": "code",
   "execution_count": null,
   "id": "02a766d1",
   "metadata": {},
   "outputs": [],
   "source": [
    "import pandas as pd\n",
    "from sklearn.preprocessing import LabelEncoder\n",
    "\n",
    "# Initialize the label encoder\n",
    "label_encoder = LabelEncoder()\n",
    "\n",
    "# Fit and transform 'gene' column\n",
    "# Note: It's important to fit a new instance of LabelEncoder for each distinct column.\n",
    "df_alpha.loc[:,'gene_encoded'] = LabelEncoder().fit_transform(df_alpha['gene'])\n",
    "\n",
    "# Fit and transform 'species' column\n",
    "df_alpha.loc[:,'species_encoded'] = LabelEncoder().fit_transform(df_alpha['species'])\n",
    "\n",
    "# Now df contains the new encoded columns: 'gene_encoded' and 'species_encoded'\n",
    "df_alpha"
   ]
  },
  {
   "cell_type": "markdown",
   "id": "81c2b39d",
   "metadata": {},
   "source": [
    "LABEL ENCODING ON THE 'mhc.a' AND 'mhc.b' COLUMN"
   ]
  },
  {
   "cell_type": "code",
   "execution_count": null,
   "id": "153ca31d",
   "metadata": {},
   "outputs": [],
   "source": [
    "import pandas as pd\n",
    "from sklearn.preprocessing import LabelEncoder\n",
    "\n",
    "# Initialize the label encoder\n",
    "label_encoder = LabelEncoder()\n",
    "\n",
    "# Fit and transform 'gene' column\n",
    "# Note: It's important to fit a new instance of LabelEncoder for each distinct column.\n",
    "df_alpha.loc[:,'mhc.a_encoded'] = LabelEncoder().fit_transform(df_alpha['mhc.a'])\n",
    "\n",
    "# Fit and transform 'species' column\n",
    "df_alpha.loc[:,'mhc.b_encoded'] = LabelEncoder().fit_transform(df_alpha['mhc.b'])\n",
    "\n",
    "# Now df contains the new encoded columns: 'gene_encoded' and 'species_encoded'\n",
    "df_alpha"
   ]
  },
  {
   "cell_type": "markdown",
   "id": "d4f10428",
   "metadata": {},
   "source": [
    "BINARY ENCODING ON THE 'mhc.class' column"
   ]
  },
  {
   "cell_type": "code",
   "execution_count": null,
   "id": "986400a1",
   "metadata": {},
   "outputs": [],
   "source": [
    "# Assuming 'df_alpha' is your DataFrame and 'mhc.class' is the column to encode\n",
    "df_alpha['mhc.class_encoded'] = df_alpha['mhc.class'].map({'MHCI': 0, 'MHCII': 1})\n",
    "df_alpha"
   ]
  },
  {
   "cell_type": "markdown",
   "id": "c523a493",
   "metadata": {},
   "source": [
    "LABEL ENCODING ON THE 'v.segm' AND 'j.segm' COLUMN"
   ]
  },
  {
   "cell_type": "code",
   "execution_count": null,
   "id": "218fb265",
   "metadata": {},
   "outputs": [],
   "source": [
    "import pandas as pd\n",
    "from sklearn.preprocessing import LabelEncoder\n",
    "\n",
    "# Initialize the label encoder\n",
    "label_encoder = LabelEncoder()\n",
    "\n",
    "# Fit and transform 'gene' column\n",
    "# Note: It's important to fit a new instance of LabelEncoder for each distinct column.\n",
    "df_alpha.loc[:,'v.segm_encoded'] = LabelEncoder().fit_transform(df_alpha['v.segm'])\n",
    "\n",
    "# Fit and transform 'species' column\n",
    "df_alpha.loc[:,'j.segm_encoded'] = LabelEncoder().fit_transform(df_alpha['j.segm'])\n",
    "\n",
    "# Now df contains the new encoded columns: 'gene_encoded' and 'species_encoded'\n",
    "df_alpha"
   ]
  },
  {
   "cell_type": "markdown",
   "id": "91b6314e",
   "metadata": {},
   "source": [
    "BLOSUM 62 ON THE 'CDR3' COLUMN"
   ]
  },
  {
   "cell_type": "code",
   "execution_count": null,
   "id": "1b0d3170",
   "metadata": {},
   "outputs": [],
   "source": [
    "import pandas as pd\n",
    "import numpy as np\n",
    "from Bio.Align import substitution_matrices\n",
    "\n",
    "\n",
    "# Load the BLOSUM62 matrix\n",
    "blosum62 = substitution_matrices.load(\"BLOSUM62\")\n",
    "\n",
    "# Define the encoding function\n",
    "def encode_sequence_with_blosum62(sequence, blosum62_matrix):\n",
    "    # Initialize an empty list to store the encoded sequence\n",
    "    encoded_sequence = []\n",
    "    # Iterate over each amino acid in the sequence\n",
    "    for aa in sequence:\n",
    "        # If the amino acid is in the BLOSUM62 matrix, retrieve its encoding\n",
    "        # If not (e.g., a gap or special character), use a vector of zeros\n",
    "        encoded_sequence.append(blosum62_matrix.get(aa, np.zeros((1, len(blosum62_matrix)))))\n",
    "    # Convert the list of encoded amino acids into a numpy array\n",
    "    return np.concatenate(encoded_sequence)\n",
    "\n",
    "# Apply the function to each cdr3 sequence in the DataFrame\n",
    "cdr3_encoded = df_alpha['cdr3'].apply(lambda x: encode_sequence_with_blosum62(x, blosum62))\n",
    "\n",
    "# Each row in 'cdr3_blosum62_encoded' will now be a flat array of BLOSUM62 scores\n",
    "print(cdr3_encoded)"
   ]
  },
  {
   "cell_type": "code",
   "execution_count": null,
   "id": "28df7851",
   "metadata": {},
   "outputs": [],
   "source": [
    "import numpy as np\n",
    "from sklearn.manifold import MDS\n",
    "from tqdm import tqdm\n",
    "\n",
    "blosum62 = substitution_matrices.load('BLOSUM62')\n",
    "AAstring = 'ACDEFGHIKLMNPQRSTVWY'\n",
    "AAstringList = list(AAstring)\n",
    "blosum62n = {}\n",
    "for kk in blosum62.keys():\n",
    "    a1 = kk[0]\n",
    "    a2 = kk[1]\n",
    "    vv = blosum62[kk]\n",
    "    if vv > 4:\n",
    "        vv = 4\n",
    "    blosum62n[(a1, a2)] = vv\n",
    "    if a1 != a2:\n",
    "        blosum62n[(a2, a1)] = vv\n",
    "bl62 = {'A': [4, -1, -2, -2, 0, -1, -1, 0, -2, -1, -1, -1, -1, -2, -1, 1, 0, -3, -2, 0],\n",
    "        'R': [-1, 4, 0, -2, -3, 1, 0, -2, 0, -3, -2, 2, -1, -3, -2, -1, -1, -3, -2, -3],\n",
    "        'N': [-2, 0, 4, 1, -3, 0, 0, 0, 1, -3, -3, 0, -2, -3, -2, 1, 0, -4, -2, -3],\n",
    "        'D': [-2, -2, 1, 4, -3, 0, 2, -1, -1, -3, -4, -1, -3, -3, -1, 0, -1, -4, -3, -3],\n",
    "        'C': [0, -3, -3, -3, 4, -3, -4, -3, -3, -1, -1, -3, -1, -2, -3, -1, -1, -2, -2, -1],\n",
    "        'Q': [-1, 1, 0, 0, -3, 4, 2, -2, 0, -3, -2, 1, 0, -3, -1, 0, -1, -2, -1, -2],\n",
    "        'E': [-1, 0, 0, 2, -4, 2, 4, -2, 0, -3, -3, 1, -2, -3, -1, 0, -1, -3, -2, -2],\n",
    "        'G': [0, -2, 0, -1, -3, -2, -2, 4, -2, -4, -4, -2, -3, -3, -2, 0, -2, -2, -3, -3],\n",
    "        'H': [-2, 0, 1, -1, -3, 0, 0, -2, 4, -3, -3, -1, -2, -1, -2, -1, -2, -2, 2, -3],\n",
    "        'I': [-1, -3, -3, -3, -1, -3, -3, -4, -3, 4, 2, -3, 1, 0, -3, -2, -1, -3, -1, 3],\n",
    "        'L': [-1, -2, -3, -4, -1, -2, -3, -4, -3, 2, 4, -2, 2, 0, -3, -2, -1, -2, -1, 1],\n",
    "        'K': [-1, 2, 0, -1, -3, 1, 1, -2, -1, -3, -2, 4, -1, -3, -1, 0, -1, -3, -2, -2],\n",
    "        'M': [-1, -1, -2, -3, -1, 0, -2, -3, -2, 1, 2, -1, 4, 0, -2, -1, -1, -1, -1, 1],\n",
    "        'F': [-2, -3, -3, -3, -2, -3, -3, -3, -1, 0, 0, -3, 0, 4, -4, -2, -2, 1, 3, -1],\n",
    "        'P': [-1, -2, -2, -1, -3, -1, -1, -2, -2, -3, -3, -1, -2, -4, 4, -1, -1, -4, -3, -2],\n",
    "        'S': [1, -1, 1, 0, -1, 0, 0, 0, -1, -2, -2, 0, -1, -2, -1, 4, 1, -3, -2, -2],\n",
    "        'T': [0, -1, 0, -1, -1, -1, -1, -2, -2, -1, -1, -1, -1, -2, -1, 1, 4, -2, -2, 0],\n",
    "        'W': [-3, -3, -4, -4, -2, -2, -3, -2, -2, -3, -2, -3, -1, 1, -4, -3, -2, 4, 2, -3],\n",
    "        'Y': [-2, -2, -2, -3, -2, -1, -2, -3, 2, -1, -1, -2, -1, 3, -3, -2, -2, 2, 4, -1],\n",
    "        'V': [0, -3, -3, -3, -1, -2, -2, -3, -3, 3, 1, -2, 1, -1, -2, -2, 0, -3, -1, 4]}\n",
    "bl62c = np.array([np.array(x) for x in list(bl62.values())])\n",
    "bl62c = 4 - bl62c\n",
    "embedding = MDS(n_components=13, n_init=100, max_iter=1000, eps=0.00001, dissimilarity='precomputed')\n",
    "X = embedding.fit_transform(bl62c)\n",
    "bl62np = {}\n",
    "vkk = list(bl62.keys())\n",
    "for ii in range(20):\n",
    "    kk = vkk[ii]\n",
    "    bl62np[kk] = np.array(list(X[ii,]) + [0] * 17)\n",
    "AAencodingDict = {}\n",
    "for ii in range(len(AAstringList)):\n",
    "    aa = AAstringList[ii]\n",
    "    CODE = [0] * (ii) + [1] + [0] * (20 - ii)\n",
    "    AAencodingDict[aa] = np.array(CODE)\n",
    "Ndim = 16  ## optimized for isometric embedding\n",
    "n0 = Ndim * 6\n",
    "# M0=np.concatenate((np.concatenate((ZERO,M1),axis=1),np.concatenate((M1, ZERO),axis=1)))\n",
    "ZERO = np.zeros((Ndim, Ndim))\n",
    "II = np.eye(Ndim)\n",
    "M0 = np.concatenate((np.concatenate((ZERO, ZERO, II), axis=1), np.concatenate((II, ZERO, ZERO), axis=1),\n",
    "                     np.concatenate((ZERO, II, ZERO), axis=1)))\n",
    "## Construct 6-th order cyclic group\n",
    "ZERO45 = np.zeros((Ndim * 3, Ndim * 3))\n",
    "M6 = np.concatenate((np.concatenate((ZERO45, M0), axis=1), np.concatenate((M0, ZERO45), axis=1)))\n",
    "X = np.array([[-0.31230882, -0.53572156, -0.01949946, -0.12211268, -0.70947917,\n",
    "               -0.42211092, 0.02783931, 0.02637933, -0.41760305, 0.21809875,\n",
    "               0.53532768, 0.04833016, 0.07877711, 0.50464914, -0.26972087,\n",
    "               -0.52416842],\n",
    "              [0.29672002, 0.29005364, 0.18176298, -0.05103382, -0.34686519,\n",
    "               0.58024228, -0.49282931, 0.62304281, -0.09575202, 0.30115555,\n",
    "               0.09913529, 0.1577466, -0.94391939, -0.10505925, 0.05482389,\n",
    "               0.38409897],\n",
    "              [-0.42212537, 0.12225749, 0.16279646, 0.60099009, 0.19734216,\n",
    "               0.42819919, -0.33562418, 0.17036334, 0.4234109, 0.46681561,\n",
    "               -0.50347222, -0.37936876, 0.1494825, 0.32176759, 0.28584684,\n",
    "               0.68469861],\n",
    "              [0.18599294, -0.44017825, -0.4476952, 0.34340976, 0.44603553,\n",
    "               0.40974629, -0.60045935, -0.09056728, 0.22147919, -0.33029418,\n",
    "               0.55635594, -0.54149972, 0.05459062, 0.57334159, -0.06227118,\n",
    "               0.65299872],\n",
    "              [-0.19010428, 0.64418792, -0.85286762, 0.21380295, 0.37639516,\n",
    "               -0.67753593, 0.38751609, 0.55746524, 0.01443766, 0.1776535,\n",
    "               0.62853954, -0.15048523, 0.55100206, -0.21426656, 0.3644061,\n",
    "               -0.0018255],\n",
    "              [0.7350723, 0.10111267, 0.55640019, -0.18226966, 0.51658102,\n",
    "               -0.19321508, -0.46599027, -0.02989911, 0.4036196, -0.11978213,\n",
    "               -0.29837524, -0.30232765, -0.36738065, -0.1379793, 0.04362871,\n",
    "               0.33553714],\n",
    "              [0.41134047, 0.13512443, 0.62492322, -0.10120261, -0.03093491,\n",
    "               0.23751917, -0.68338694, 0.05124762, 0.41533821, 0.46669353,\n",
    "               0.31467277, -0.02427587, 0.15361135, 0.70595112, -0.27952632,\n",
    "               0.32408931],\n",
    "              [-0.33041265, -0.43860065, -0.5509376, -0.04380843, -0.35160935,\n",
    "               0.25134855, 0.53409314, 0.54850824, 0.59490287, 0.32669345,\n",
    "               -0.45355268, -0.56317041, -0.55416297, 0.18117841, -0.71600849,\n",
    "               -0.08989825],\n",
    "              [-0.40366849, 0.10978974, 0.0280101, -0.46667987, -0.45607028,\n",
    "               0.54114052, -0.77552923, -0.10720425, 0.55252091, -0.34397153,\n",
    "               -0.59813694, 0.15567728, 0.03071009, -0.02176143, 0.34442719,\n",
    "               0.14681541],\n",
    "              [0.19280422, 0.35777863, 0.06139255, 0.20081699, -0.30546596,\n",
    "               -0.56901549, -0.15290953, -0.31181573, -0.74523217, 0.22296016,\n",
    "               -0.39143832, -0.16474685, 0.58064427, -0.77386654, 0.19713107,\n",
    "               -0.49477418],\n",
    "              [-0.16133903, 0.22112761, -0.53162136, 0.34764073, -0.08522381,\n",
    "               -0.2510216, 0.04699411, -0.25702389, -0.8739765, -0.24171728,\n",
    "               -0.24370533, 0.42193635, 0.41056913, -0.60378211, -0.65756832,\n",
    "               0.0845203],\n",
    "              [-0.34792144, 0.18450939, 0.77038332, 0.63868511, -0.06221681,\n",
    "               0.11930421, 0.04895523, -0.22463059, -0.03268844, -0.58941354,\n",
    "               0.11640045, 0.32384901, -0.42952779, 0.58119471, 0.07288662,\n",
    "               0.26669673],\n",
    "              [0.01834555, -0.16367754, 0.34900298, 0.45087949, 0.47073855,\n",
    "               -0.37377404, 0.0606911, 0.2455703, -0.55182937, -0.20261009,\n",
    "               0.28325423, -0.04741146, 0.30565238, -0.62090653, 0.17528413,\n",
    "               -0.60434975],\n",
    "              [-0.55464981, 0.50918784, -0.21371646, -0.63996967, -0.37656862,\n",
    "               0.27852662, 0.3287838, -0.56800869, 0.23260763, -0.20653106,\n",
    "               0.63261439, -0.22666691, 0.00726302, -0.60125196, 0.07139961,\n",
    "               -0.35086639],\n",
    "              [0.94039731, -0.25999326, 0.43922549, -0.485738, -0.20492235,\n",
    "               -0.26005626, 0.68776626, 0.57826888, -0.05973995, -0.1193658,\n",
    "               -0.12102433, -0.22091354, 0.43427913, 0.71447886, 0.32745991,\n",
    "               0.03466398],\n",
    "              [-0.13194625, -0.12262688, 0.18029209, 0.16555524, 0.39594125,\n",
    "               -0.58110665, 0.16161717, 0.0839783, 0.0911945, 0.34546976,\n",
    "               -0.29415349, 0.29891936, -0.60834721, 0.5943593, -0.29473819,\n",
    "               0.4864154],\n",
    "              [0.40850093, -0.4638894, -0.39732987, -0.01972861, 0.51189582,\n",
    "               0.10176704, 0.37528519, -0.41479418, -0.1932531, 0.54732221,\n",
    "               -0.11876511, 0.32843973, -0.259283, 0.59500132, 0.35168375,\n",
    "               -0.21733727],\n",
    "              [-0.50627723, -0.1973602, -0.02339884, -0.66846048, 0.62696606,\n",
    "               0.60049717, 0.69143364, -0.48053591, 0.17812208, -0.58481821,\n",
    "               -0.23551415, -0.06229112, 0.20993116, -0.72485884, 0.34375662,\n",
    "               -0.23539168],\n",
    "              [-0.51388312, -0.2788953, 0.00859533, -0.5247195, -0.18021544,\n",
    "               0.28372911, 0.10791359, 0.13033494, 0.34294013, -0.70310089,\n",
    "               -0.13245433, 0.48661081, 0.08451644, -0.69990992, 0.0408274,\n",
    "               -0.47204888],\n",
    "              [0.68546275, 0.22581365, -0.32571833, 0.34394298, -0.43232367,\n",
    "               -0.5041842, 0.04784017, -0.53067936, -0.50049908, 0.36874221,\n",
    "               0.22429186, 0.4616482, 0.11159174, -0.26827959, -0.39372848,\n",
    "               -0.40987423]])\n",
    "bl62np = {}\n",
    "vkk = list(bl62.keys())\n",
    "for ii in range(20):\n",
    "    kk = vkk[ii]\n",
    "    bl62np[kk] = np.array(list(X[ii,]) + [0] * Ndim * 5)\n",
    "def EncodingCDR3(s, M, n0):\n",
    "    sL=list(s)\n",
    "    x=np.array([0]*n0)\n",
    "    for ii in range(len(sL)):\n",
    "        x = np.dot(M, (x+bl62np[sL[ii]]))\n",
    "    return x\n",
    "\n",
    "def GIANA_encoder_pd(df, chains=['alpha','beta'],ST=3):\n",
    "    if chains== ['alpha', 'beta']:\n",
    "        cdr3_alpha = df_alpha['cdr3'].tolist()\n",
    "        cdr3_beta = df_beta['cdr3'].tolist()\n",
    "        cdr3_alpha_encoded = [EncodingCDR3(seq[ST:-2], M6, n0) for seq in cdr3_alpha]\n",
    "        cdr3_beta_encoded = [EncodingCDR3(seq[ST:-2], M6, n0) for seq in cdr3_beta]\n",
    "        cdr3_alpha_array = np.array(cdr3_alpha_encoded)\n",
    "        cdr3_beta_array = np.array(cdr3_beta_encoded)\n",
    "        cdr3_output=np.concatenate((cdr3_alpha_array, cdr3_beta_array), axis=1).tolist()\n",
    "        df.loc[:, 'encoded_cdr3'] = cdr3_output\n",
    "    elif chains== ['alpha']:\n",
    "        cdr3_alpha = df_alpha['cdr3'].tolist()\n",
    "        cdr3_alpha_encoded = [EncodingCDR3(seq[ST:-2], M6, n0) for seq in tqdm(cdr3_alpha)]\n",
    "        df.loc[:, 'encoded_cdr3'] = cdr3_alpha_encoded\n",
    "    elif chains== ['beta']:\n",
    "        cdr3_beta = df_beta['cdr3'].tolist()\n",
    "        cdr3_beta_encoded = [EncodingCDR3(seq[ST:-2], M6, n0) for seq in tqdm(cdr3_beta)]\n",
    "        df.loc[:, 'encoded_cdr3'] = cdr3_beta_encoded\n",
    "    return df\n",
    "# from encoders.GIANA_encoder import GIANA_encoder_pd\n",
    "# human = GIADA_encoder_pd(human, chains=['alpha', 'beta'])\n",
    "# it will add a new column 'encoded_cdr3' to the dataframe, which contains the encoded cdr3 sequences."
   ]
  },
  {
   "cell_type": "code",
   "execution_count": null,
   "id": "d6da96bd",
   "metadata": {},
   "outputs": [],
   "source": [
    "df_alpha = GIANA_encoder_pd(df_alpha,chains=['alpha'])"
   ]
  },
  {
   "cell_type": "code",
   "execution_count": null,
   "id": "a0142c0f",
   "metadata": {},
   "outputs": [],
   "source": [
    "df_alpha.head()"
   ]
  },
  {
   "cell_type": "code",
   "execution_count": null,
   "id": "9b898be3",
   "metadata": {},
   "outputs": [],
   "source": []
  },
  {
   "cell_type": "code",
   "execution_count": null,
   "id": "1a40f372",
   "metadata": {},
   "outputs": [],
   "source": [
    "from sklearn.preprocessing import LabelEncoder\n",
    "\n",
    "# Initialize the label encoder\n",
    "label_encoder = LabelEncoder()\n",
    "\n",
    "# Encode the 'epitope' column\n",
    "df_alpha['epitope_encoded'] = label_encoder.fit_transform(df_alpha['epitope'])\n",
    "\n",
    "# The 'epitope_encoded' column now contains numerical labels for the epitope classes\n",
    "df_alpha"
   ]
  },
  {
   "cell_type": "code",
   "execution_count": null,
   "id": "4a278bb6",
   "metadata": {},
   "outputs": [],
   "source": [
    "df_alpha.drop(['cdr3','epitope','v.segm','j.segm','mhc.a','mhc.b','mhc.class','gene'], axis=1, inplace=True)"
   ]
  },
  {
   "cell_type": "code",
   "execution_count": null,
   "id": "2f35319e",
   "metadata": {},
   "outputs": [],
   "source": [
    "df_alpha.drop(['species'], axis=1, inplace=True)\n",
    "df_alpha"
   ]
  },
  {
   "cell_type": "code",
   "execution_count": null,
   "id": "03755c67",
   "metadata": {},
   "outputs": [],
   "source": [
    "# Save the dataframes to a CSV file\n",
    "df_alpha.to_csv('df_alpha.csv', index=False)\n",
    "\n",
    "from IPython.display import FileLink\n",
    "\n",
    "# Display download links for the CSV files\n",
    "display(FileLink('df_alpha.csv'))"
   ]
  },
  {
   "cell_type": "code",
   "execution_count": null,
   "id": "ec77c0f8",
   "metadata": {},
   "outputs": [],
   "source": [
    "# Check the data types for all features\n",
    "df_alpha_dtypes = df_alpha.dtypes\n",
    "df_alpha_dtypes"
   ]
  },
  {
   "cell_type": "code",
   "execution_count": 2,
   "id": "18fbb294",
   "metadata": {
    "ExecuteTime": {
     "end_time": "2024-04-28T12:19:13.925920Z",
     "start_time": "2024-04-28T12:19:13.647090Z"
    }
   },
   "outputs": [],
   "source": [
    "\n",
    "df_alpha= pd.read_csv('df_alpha.csv')\n"
   ]
  },
  {
   "cell_type": "code",
   "execution_count": 3,
   "id": "298c2bc4",
   "metadata": {
    "ExecuteTime": {
     "end_time": "2024-04-28T12:19:15.767352Z",
     "start_time": "2024-04-28T12:19:14.581823Z"
    }
   },
   "outputs": [],
   "source": [
    "# change the data type of the 'encoded_cdr3' column to np.array\n",
    "def convert_to_array(s):\n",
    "    s = s.strip('[]')\n",
    "    return np.fromstring(s, sep=' ')\n",
    "df_alpha['encoded_cdr3'] = df_alpha['encoded_cdr3'].apply(convert_to_array)\n"
   ]
  },
  {
   "cell_type": "code",
   "execution_count": 4,
   "id": "f21dc849",
   "metadata": {
    "ExecuteTime": {
     "end_time": "2024-04-28T12:19:17.107415Z",
     "start_time": "2024-04-28T12:19:16.789687Z"
    }
   },
   "outputs": [],
   "source": [
    "# normalize the data\n",
    "from sklearn.preprocessing import MinMaxScaler\n",
    "# Normalise the features separately\n",
    "# gene_encoded, species_encoded, mhc.a_encoded, mhc.b_encoded, mhc.class_encoded, v.segm_encoded, j.segm_encoded\n",
    "scaler = MinMaxScaler()\n",
    "df_alpha['gene_encoded'] = scaler.fit_transform(df_alpha['gene_encoded'].values.reshape(-1, 1))\n",
    "df_alpha['species_encoded'] = scaler.fit_transform(df_alpha['species_encoded'].values.reshape(-1, 1))\n",
    "df_alpha['mhc.a_encoded'] = scaler.fit_transform(df_alpha['mhc.a_encoded'].values.reshape(-1, 1))\n",
    "df_alpha['mhc.b_encoded'] = scaler.fit_transform(df_alpha['mhc.b_encoded'].values.reshape(-1, 1))\n",
    "df_alpha['mhc.class_encoded'] = scaler.fit_transform(df_alpha['mhc.class_encoded'].values.reshape(-1, 1))\n",
    "df_alpha['v.segm_encoded'] = scaler.fit_transform(df_alpha['v.segm_encoded'].values.reshape(-1, 1))\n",
    "df_alpha['j.segm_encoded'] = scaler.fit_transform(df_alpha['j.segm_encoded'].values.reshape(-1, 1))\n",
    "\n",
    "\n"
   ]
  },
  {
   "cell_type": "code",
   "outputs": [],
   "source": [
    "# Merge all other features with encoded_cdr3 into a single vector\n",
    "# gene_encoded, species_encoded, mhc.a_encoded, mhc.b_encoded, mhc.class_encoded, v.segm_encoded, j.segm_encoded\n",
    "df_alpha_feature = df_alpha.apply(lambda x: np.concatenate([x['encoded_cdr3'], np.array([x['gene_encoded'], x['species_encoded'], x['mhc.a_encoded'], x['mhc.b_encoded'], x['mhc.class_encoded'], x['v.segm_encoded'], x['j.segm_encoded']])]), axis=1)\n"
   ],
   "metadata": {
    "ExecuteTime": {
     "end_time": "2024-04-28T12:19:19.304076Z",
     "start_time": "2024-04-28T12:19:18.109933Z"
    }
   },
   "id": "235821cc",
   "execution_count": 5
  },
  {
   "cell_type": "code",
   "execution_count": 6,
   "id": "c5d035f3",
   "metadata": {
    "ExecuteTime": {
     "end_time": "2024-04-28T12:19:20.253613Z",
     "start_time": "2024-04-28T12:19:20.184285Z"
    }
   },
   "outputs": [],
   "source": [
    "from sklearn.model_selection import train_test_split\n",
    "epitopes=df_alpha['epitope_encoded']\n",
    "X_train, X_test, y_train, y_test = train_test_split(df_alpha_feature, epitopes, test_size=0.2, random_state=42)\n"
   ]
  },
  {
   "cell_type": "code",
   "outputs": [
    {
     "name": "stdout",
     "output_type": "stream",
     "text": [
      "Accuracy: 0.8750981932443048\n"
     ]
    }
   ],
   "source": [
    "# logistic regression\n",
    "from sklearn.linear_model import LogisticRegression\n",
    "from sklearn.metrics import accuracy_score\n",
    "model = LogisticRegression(max_iter=1000)\n",
    "model.fit(X_train.tolist(), y_train.tolist())\n",
    "y_pred = model.predict(X_test.tolist())\n",
    "accuracy = accuracy_score(y_test.tolist(), y_pred)\n",
    "print(f\"Accuracy: {accuracy}\")\n"
   ],
   "metadata": {
    "collapsed": false,
    "ExecuteTime": {
     "end_time": "2024-04-28T12:20:20.807107Z",
     "start_time": "2024-04-28T12:19:20.983427Z"
    }
   },
   "id": "30b8badd020b5b65",
   "execution_count": 7
  },
  {
   "cell_type": "code",
   "outputs": [],
   "source": [],
   "metadata": {
    "collapsed": false
   },
   "id": "6633855db826af9b"
  }
 ],
 "metadata": {
  "kernelspec": {
   "display_name": "Python 3 (ipykernel)",
   "language": "python",
   "name": "python3"
  },
  "language_info": {
   "codemirror_mode": {
    "name": "ipython",
    "version": 3
   },
   "file_extension": ".py",
   "mimetype": "text/x-python",
   "name": "python",
   "nbconvert_exporter": "python",
   "pygments_lexer": "ipython3",
   "version": "3.11.5"
  }
 },
 "nbformat": 4,
 "nbformat_minor": 5
}
