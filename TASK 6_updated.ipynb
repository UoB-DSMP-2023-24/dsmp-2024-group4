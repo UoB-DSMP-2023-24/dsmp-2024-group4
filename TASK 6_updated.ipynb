{
 "cells": [
  {
   "cell_type": "code",
   "execution_count": 2,
   "id": "ca5e1425",
   "metadata": {
    "ExecuteTime": {
     "end_time": "2024-04-28T01:10:58.771807Z",
     "start_time": "2024-04-28T01:10:58.761834Z"
    }
   },
   "outputs": [],
   "source": [
    "import pandas as pd\n",
    "import numpy as np\n",
    "import matplotlib.pyplot as plt\n",
    "import seaborn as sns\n",
    "import os"
   ]
  },
  {
   "cell_type": "code",
   "execution_count": 3,
   "id": "414f4a0b",
   "metadata": {
    "ExecuteTime": {
     "end_time": "2024-04-28T00:53:07.009410Z",
     "start_time": "2024-04-28T00:53:05.970015Z"
    }
   },
   "outputs": [],
   "source": [
    "# df= pd.read_csv('/Users/shalomifernandes/Desktop/UOB/TB2/DSMP/vdjdb.csv')\n",
    "df= pd.read_csv('pre-processing final/vdjdb.csv')"
   ]
  },
  {
   "cell_type": "code",
   "execution_count": 4,
   "id": "d1ea81af",
   "metadata": {
    "ExecuteTime": {
     "end_time": "2024-04-28T00:53:07.119648Z",
     "start_time": "2024-04-28T00:53:07.011406Z"
    }
   },
   "outputs": [
    {
     "data": {
      "text/plain": "       complex.id gene                  cdr3       v.segm      j.segm  \\\n0               1  TRA         CIVRAPGRADMRF  TRAV26-1*01   TRAJ43*01   \n1               1  TRB  CASSYLPGQGDHYSNQPQHF    TRBV13*01  TRBJ1-5*01   \n2               0  TRB   CASSFEAGQGFFSNQPQHF    TRBV13*01  TRBJ1-5*01   \n3               2  TRA        CAVPSGAGSYQLTF    TRAV20*01   TRAJ28*01   \n4               2  TRB   CASSFEPGQGFYSNQPQHF    TRBV13*01  TRBJ1-5*01   \n...           ...  ...                   ...          ...         ...   \n92766       30592  TRB       CASSPGQGGDNEQFF   TRBV7-3*01  TRBJ2-1*01   \n92767       30593  TRA          CAPQGATNKLIF  TRAV12-2*01   TRAJ32*01   \n92768       30593  TRB       CASSLGAGGQETQYF   TRBV5-1*01  TRBJ2-5*01   \n92769       30594  TRA        CLVGGSGGYNKLIF     TRAV4*01    TRAJ4*01   \n92770       30594  TRB         CASSSTAQETQYF  TRBV11-2*01  TRBJ2-5*01   \n\n           species           mhc.a           mhc.b mhc.class antigen.epitope  \\\n0      HomoSapiens        HLA-B*08             B2M      MHCI        FLKEKGGL   \n1      HomoSapiens        HLA-B*08             B2M      MHCI        FLKEKGGL   \n2      HomoSapiens        HLA-B*08             B2M      MHCI        FLKEKGGL   \n3      HomoSapiens        HLA-B*08             B2M      MHCI        FLKEKGGL   \n4      HomoSapiens        HLA-B*08             B2M      MHCI        FLKEKGGL   \n...            ...             ...             ...       ...             ...   \n92766  HomoSapiens  HLA-DQA1*05:01  HLA-DQB1*02:01     MHCII   PQQPFPQPEQPFP   \n92767  HomoSapiens  HLA-DQA1*05:01  HLA-DQB1*02:01     MHCII   PQQPFPQPEQPFP   \n92768  HomoSapiens  HLA-DQA1*05:01  HLA-DQB1*02:01     MHCII   PQQPFPQPEQPFP   \n92769  HomoSapiens  HLA-DQA1*05:01  HLA-DQB1*02:01     MHCII   PQQPFPQPEQPFP   \n92770  HomoSapiens  HLA-DQA1*05:01  HLA-DQB1*02:01     MHCII   PQQPFPQPEQPFP   \n\n       ... antigen.species   reference.id  \\\n0      ...           HIV-1  PMID:15596521   \n1      ...           HIV-1  PMID:15596521   \n2      ...           HIV-1  PMID:15596521   \n3      ...           HIV-1  PMID:15596521   \n4      ...           HIV-1  PMID:15596521   \n...    ...             ...            ...   \n92766  ...           Wheat  PMID:33927715   \n92767  ...           Wheat  PMID:33927715   \n92768  ...           Wheat  PMID:33927715   \n92769  ...           Wheat  PMID:33927715   \n92770  ...           Wheat  PMID:33927715   \n\n                                                  method  \\\n0      {\"frequency\": \"\", \"identification\": \"tetramer-...   \n1      {\"frequency\": \"\", \"identification\": \"tetramer-...   \n2      {\"frequency\": \"\", \"identification\": \"tetramer-...   \n3      {\"frequency\": \"\", \"identification\": \"tetramer-...   \n4      {\"frequency\": \"\", \"identification\": \"tetramer-...   \n...                                                  ...   \n92766  {\"frequency\": \"\", \"identification\": \"tetramer-...   \n92767  {\"frequency\": \"\", \"identification\": \"tetramer-...   \n92768  {\"frequency\": \"\", \"identification\": \"tetramer-...   \n92769  {\"frequency\": \"\", \"identification\": \"tetramer-...   \n92770  {\"frequency\": \"\", \"identification\": \"tetramer-...   \n\n                                                    meta  \\\n0      {\"cell.subset\": \"CD8+\", \"clone.id\": \"\", \"donor...   \n1      {\"cell.subset\": \"CD8+\", \"clone.id\": \"\", \"donor...   \n2      {\"cell.subset\": \"CD8+\", \"clone.id\": \"\", \"donor...   \n3      {\"cell.subset\": \"CD8+\", \"clone.id\": \"\", \"donor...   \n4      {\"cell.subset\": \"CD8+\", \"clone.id\": \"\", \"donor...   \n...                                                  ...   \n92766  {\"cell.subset\": \"CD4+\", \"clone.id\": \"\", \"donor...   \n92767  {\"cell.subset\": \"CD4+\", \"clone.id\": \"\", \"donor...   \n92768  {\"cell.subset\": \"CD4+\", \"clone.id\": \"\", \"donor...   \n92769  {\"cell.subset\": \"CD4+\", \"clone.id\": \"\", \"donor...   \n92770  {\"cell.subset\": \"CD4+\", \"clone.id\": \"\", \"donor...   \n\n                                                 cdr3fix vdjdb.score  \\\n0      {\"cdr3\": \"CIVRAPGRADMRF\", \"cdr3_old\": \"CIVRAPG...           2   \n1      {\"cdr3\": \"CASSYLPGQGDHYSNQPQHF\", \"cdr3_old\": \"...           2   \n2      {\"cdr3\": \"CASSFEAGQGFFSNQPQHF\", \"cdr3_old\": \"C...           2   \n3      {\"cdr3\": \"CAVPSGAGSYQLTF\", \"cdr3_old\": \"CAVPSG...           2   \n4      {\"cdr3\": \"CASSFEPGQGFYSNQPQHF\", \"cdr3_old\": \"C...           2   \n...                                                  ...         ...   \n92766  {\"cdr3\": \"CASSPGQGGDNEQFF\", \"cdr3_old\": \"CASSP...           0   \n92767  {\"cdr3\": \"CAPQGATNKLIF\", \"cdr3_old\": \"CAPQGATN...           2   \n92768  {\"cdr3\": \"CASSLGAGGQETQYF\", \"cdr3_old\": \"CASSL...           2   \n92769  {\"cdr3\": \"CLVGGSGGYNKLIF\", \"cdr3_old\": \"CLVGGS...           0   \n92770  {\"cdr3\": \"CASSSTAQETQYF\", \"cdr3_old\": \"CASSSTA...           0   \n\n       web.method web.method.seq web.cdr3fix.nc web.cdr3fix.unmp  \n0            sort         sanger             no               no  \n1            sort         sanger             no               no  \n2            sort         sanger             no               no  \n3            sort         sanger             no               no  \n4            sort         sanger             no               no  \n...           ...            ...            ...              ...  \n92766        sort     singlecell             no               no  \n92767        sort     singlecell             no               no  \n92768        sort     singlecell             no               no  \n92769        sort     singlecell             no               no  \n92770        sort     singlecell             no               no  \n\n[92771 rows x 21 columns]",
      "text/html": "<div>\n<style scoped>\n    .dataframe tbody tr th:only-of-type {\n        vertical-align: middle;\n    }\n\n    .dataframe tbody tr th {\n        vertical-align: top;\n    }\n\n    .dataframe thead th {\n        text-align: right;\n    }\n</style>\n<table border=\"1\" class=\"dataframe\">\n  <thead>\n    <tr style=\"text-align: right;\">\n      <th></th>\n      <th>complex.id</th>\n      <th>gene</th>\n      <th>cdr3</th>\n      <th>v.segm</th>\n      <th>j.segm</th>\n      <th>species</th>\n      <th>mhc.a</th>\n      <th>mhc.b</th>\n      <th>mhc.class</th>\n      <th>antigen.epitope</th>\n      <th>...</th>\n      <th>antigen.species</th>\n      <th>reference.id</th>\n      <th>method</th>\n      <th>meta</th>\n      <th>cdr3fix</th>\n      <th>vdjdb.score</th>\n      <th>web.method</th>\n      <th>web.method.seq</th>\n      <th>web.cdr3fix.nc</th>\n      <th>web.cdr3fix.unmp</th>\n    </tr>\n  </thead>\n  <tbody>\n    <tr>\n      <th>0</th>\n      <td>1</td>\n      <td>TRA</td>\n      <td>CIVRAPGRADMRF</td>\n      <td>TRAV26-1*01</td>\n      <td>TRAJ43*01</td>\n      <td>HomoSapiens</td>\n      <td>HLA-B*08</td>\n      <td>B2M</td>\n      <td>MHCI</td>\n      <td>FLKEKGGL</td>\n      <td>...</td>\n      <td>HIV-1</td>\n      <td>PMID:15596521</td>\n      <td>{\"frequency\": \"\", \"identification\": \"tetramer-...</td>\n      <td>{\"cell.subset\": \"CD8+\", \"clone.id\": \"\", \"donor...</td>\n      <td>{\"cdr3\": \"CIVRAPGRADMRF\", \"cdr3_old\": \"CIVRAPG...</td>\n      <td>2</td>\n      <td>sort</td>\n      <td>sanger</td>\n      <td>no</td>\n      <td>no</td>\n    </tr>\n    <tr>\n      <th>1</th>\n      <td>1</td>\n      <td>TRB</td>\n      <td>CASSYLPGQGDHYSNQPQHF</td>\n      <td>TRBV13*01</td>\n      <td>TRBJ1-5*01</td>\n      <td>HomoSapiens</td>\n      <td>HLA-B*08</td>\n      <td>B2M</td>\n      <td>MHCI</td>\n      <td>FLKEKGGL</td>\n      <td>...</td>\n      <td>HIV-1</td>\n      <td>PMID:15596521</td>\n      <td>{\"frequency\": \"\", \"identification\": \"tetramer-...</td>\n      <td>{\"cell.subset\": \"CD8+\", \"clone.id\": \"\", \"donor...</td>\n      <td>{\"cdr3\": \"CASSYLPGQGDHYSNQPQHF\", \"cdr3_old\": \"...</td>\n      <td>2</td>\n      <td>sort</td>\n      <td>sanger</td>\n      <td>no</td>\n      <td>no</td>\n    </tr>\n    <tr>\n      <th>2</th>\n      <td>0</td>\n      <td>TRB</td>\n      <td>CASSFEAGQGFFSNQPQHF</td>\n      <td>TRBV13*01</td>\n      <td>TRBJ1-5*01</td>\n      <td>HomoSapiens</td>\n      <td>HLA-B*08</td>\n      <td>B2M</td>\n      <td>MHCI</td>\n      <td>FLKEKGGL</td>\n      <td>...</td>\n      <td>HIV-1</td>\n      <td>PMID:15596521</td>\n      <td>{\"frequency\": \"\", \"identification\": \"tetramer-...</td>\n      <td>{\"cell.subset\": \"CD8+\", \"clone.id\": \"\", \"donor...</td>\n      <td>{\"cdr3\": \"CASSFEAGQGFFSNQPQHF\", \"cdr3_old\": \"C...</td>\n      <td>2</td>\n      <td>sort</td>\n      <td>sanger</td>\n      <td>no</td>\n      <td>no</td>\n    </tr>\n    <tr>\n      <th>3</th>\n      <td>2</td>\n      <td>TRA</td>\n      <td>CAVPSGAGSYQLTF</td>\n      <td>TRAV20*01</td>\n      <td>TRAJ28*01</td>\n      <td>HomoSapiens</td>\n      <td>HLA-B*08</td>\n      <td>B2M</td>\n      <td>MHCI</td>\n      <td>FLKEKGGL</td>\n      <td>...</td>\n      <td>HIV-1</td>\n      <td>PMID:15596521</td>\n      <td>{\"frequency\": \"\", \"identification\": \"tetramer-...</td>\n      <td>{\"cell.subset\": \"CD8+\", \"clone.id\": \"\", \"donor...</td>\n      <td>{\"cdr3\": \"CAVPSGAGSYQLTF\", \"cdr3_old\": \"CAVPSG...</td>\n      <td>2</td>\n      <td>sort</td>\n      <td>sanger</td>\n      <td>no</td>\n      <td>no</td>\n    </tr>\n    <tr>\n      <th>4</th>\n      <td>2</td>\n      <td>TRB</td>\n      <td>CASSFEPGQGFYSNQPQHF</td>\n      <td>TRBV13*01</td>\n      <td>TRBJ1-5*01</td>\n      <td>HomoSapiens</td>\n      <td>HLA-B*08</td>\n      <td>B2M</td>\n      <td>MHCI</td>\n      <td>FLKEKGGL</td>\n      <td>...</td>\n      <td>HIV-1</td>\n      <td>PMID:15596521</td>\n      <td>{\"frequency\": \"\", \"identification\": \"tetramer-...</td>\n      <td>{\"cell.subset\": \"CD8+\", \"clone.id\": \"\", \"donor...</td>\n      <td>{\"cdr3\": \"CASSFEPGQGFYSNQPQHF\", \"cdr3_old\": \"C...</td>\n      <td>2</td>\n      <td>sort</td>\n      <td>sanger</td>\n      <td>no</td>\n      <td>no</td>\n    </tr>\n    <tr>\n      <th>...</th>\n      <td>...</td>\n      <td>...</td>\n      <td>...</td>\n      <td>...</td>\n      <td>...</td>\n      <td>...</td>\n      <td>...</td>\n      <td>...</td>\n      <td>...</td>\n      <td>...</td>\n      <td>...</td>\n      <td>...</td>\n      <td>...</td>\n      <td>...</td>\n      <td>...</td>\n      <td>...</td>\n      <td>...</td>\n      <td>...</td>\n      <td>...</td>\n      <td>...</td>\n      <td>...</td>\n    </tr>\n    <tr>\n      <th>92766</th>\n      <td>30592</td>\n      <td>TRB</td>\n      <td>CASSPGQGGDNEQFF</td>\n      <td>TRBV7-3*01</td>\n      <td>TRBJ2-1*01</td>\n      <td>HomoSapiens</td>\n      <td>HLA-DQA1*05:01</td>\n      <td>HLA-DQB1*02:01</td>\n      <td>MHCII</td>\n      <td>PQQPFPQPEQPFP</td>\n      <td>...</td>\n      <td>Wheat</td>\n      <td>PMID:33927715</td>\n      <td>{\"frequency\": \"\", \"identification\": \"tetramer-...</td>\n      <td>{\"cell.subset\": \"CD4+\", \"clone.id\": \"\", \"donor...</td>\n      <td>{\"cdr3\": \"CASSPGQGGDNEQFF\", \"cdr3_old\": \"CASSP...</td>\n      <td>0</td>\n      <td>sort</td>\n      <td>singlecell</td>\n      <td>no</td>\n      <td>no</td>\n    </tr>\n    <tr>\n      <th>92767</th>\n      <td>30593</td>\n      <td>TRA</td>\n      <td>CAPQGATNKLIF</td>\n      <td>TRAV12-2*01</td>\n      <td>TRAJ32*01</td>\n      <td>HomoSapiens</td>\n      <td>HLA-DQA1*05:01</td>\n      <td>HLA-DQB1*02:01</td>\n      <td>MHCII</td>\n      <td>PQQPFPQPEQPFP</td>\n      <td>...</td>\n      <td>Wheat</td>\n      <td>PMID:33927715</td>\n      <td>{\"frequency\": \"\", \"identification\": \"tetramer-...</td>\n      <td>{\"cell.subset\": \"CD4+\", \"clone.id\": \"\", \"donor...</td>\n      <td>{\"cdr3\": \"CAPQGATNKLIF\", \"cdr3_old\": \"CAPQGATN...</td>\n      <td>2</td>\n      <td>sort</td>\n      <td>singlecell</td>\n      <td>no</td>\n      <td>no</td>\n    </tr>\n    <tr>\n      <th>92768</th>\n      <td>30593</td>\n      <td>TRB</td>\n      <td>CASSLGAGGQETQYF</td>\n      <td>TRBV5-1*01</td>\n      <td>TRBJ2-5*01</td>\n      <td>HomoSapiens</td>\n      <td>HLA-DQA1*05:01</td>\n      <td>HLA-DQB1*02:01</td>\n      <td>MHCII</td>\n      <td>PQQPFPQPEQPFP</td>\n      <td>...</td>\n      <td>Wheat</td>\n      <td>PMID:33927715</td>\n      <td>{\"frequency\": \"\", \"identification\": \"tetramer-...</td>\n      <td>{\"cell.subset\": \"CD4+\", \"clone.id\": \"\", \"donor...</td>\n      <td>{\"cdr3\": \"CASSLGAGGQETQYF\", \"cdr3_old\": \"CASSL...</td>\n      <td>2</td>\n      <td>sort</td>\n      <td>singlecell</td>\n      <td>no</td>\n      <td>no</td>\n    </tr>\n    <tr>\n      <th>92769</th>\n      <td>30594</td>\n      <td>TRA</td>\n      <td>CLVGGSGGYNKLIF</td>\n      <td>TRAV4*01</td>\n      <td>TRAJ4*01</td>\n      <td>HomoSapiens</td>\n      <td>HLA-DQA1*05:01</td>\n      <td>HLA-DQB1*02:01</td>\n      <td>MHCII</td>\n      <td>PQQPFPQPEQPFP</td>\n      <td>...</td>\n      <td>Wheat</td>\n      <td>PMID:33927715</td>\n      <td>{\"frequency\": \"\", \"identification\": \"tetramer-...</td>\n      <td>{\"cell.subset\": \"CD4+\", \"clone.id\": \"\", \"donor...</td>\n      <td>{\"cdr3\": \"CLVGGSGGYNKLIF\", \"cdr3_old\": \"CLVGGS...</td>\n      <td>0</td>\n      <td>sort</td>\n      <td>singlecell</td>\n      <td>no</td>\n      <td>no</td>\n    </tr>\n    <tr>\n      <th>92770</th>\n      <td>30594</td>\n      <td>TRB</td>\n      <td>CASSSTAQETQYF</td>\n      <td>TRBV11-2*01</td>\n      <td>TRBJ2-5*01</td>\n      <td>HomoSapiens</td>\n      <td>HLA-DQA1*05:01</td>\n      <td>HLA-DQB1*02:01</td>\n      <td>MHCII</td>\n      <td>PQQPFPQPEQPFP</td>\n      <td>...</td>\n      <td>Wheat</td>\n      <td>PMID:33927715</td>\n      <td>{\"frequency\": \"\", \"identification\": \"tetramer-...</td>\n      <td>{\"cell.subset\": \"CD4+\", \"clone.id\": \"\", \"donor...</td>\n      <td>{\"cdr3\": \"CASSSTAQETQYF\", \"cdr3_old\": \"CASSSTA...</td>\n      <td>0</td>\n      <td>sort</td>\n      <td>singlecell</td>\n      <td>no</td>\n      <td>no</td>\n    </tr>\n  </tbody>\n</table>\n<p>92771 rows × 21 columns</p>\n</div>"
     },
     "execution_count": 4,
     "metadata": {},
     "output_type": "execute_result"
    }
   ],
   "source": [
    "df"
   ]
  },
  {
   "cell_type": "code",
   "execution_count": 5,
   "id": "056e8220",
   "metadata": {
    "ExecuteTime": {
     "end_time": "2024-04-28T00:53:07.151081Z",
     "start_time": "2024-04-28T00:53:07.120646Z"
    }
   },
   "outputs": [],
   "source": [
    "df.drop(['reference.id','method','meta','cdr3fix','web.method','web.method.seq','web.cdr3fix.nc','web.cdr3fix.unmp'], axis=1, inplace=True)"
   ]
  },
  {
   "cell_type": "code",
   "execution_count": 6,
   "id": "4938c805",
   "metadata": {
    "ExecuteTime": {
     "end_time": "2024-04-28T00:53:07.167039Z",
     "start_time": "2024-04-28T00:53:07.153077Z"
    }
   },
   "outputs": [
    {
     "data": {
      "text/plain": "   complex.id gene                  cdr3       v.segm      j.segm  \\\n0           1  TRA         CIVRAPGRADMRF  TRAV26-1*01   TRAJ43*01   \n1           1  TRB  CASSYLPGQGDHYSNQPQHF    TRBV13*01  TRBJ1-5*01   \n2           0  TRB   CASSFEAGQGFFSNQPQHF    TRBV13*01  TRBJ1-5*01   \n3           2  TRA        CAVPSGAGSYQLTF    TRAV20*01   TRAJ28*01   \n4           2  TRB   CASSFEPGQGFYSNQPQHF    TRBV13*01  TRBJ1-5*01   \n\n       species     mhc.a mhc.b mhc.class antigen.epitope antigen.gene  \\\n0  HomoSapiens  HLA-B*08   B2M      MHCI        FLKEKGGL          Nef   \n1  HomoSapiens  HLA-B*08   B2M      MHCI        FLKEKGGL          Nef   \n2  HomoSapiens  HLA-B*08   B2M      MHCI        FLKEKGGL          Nef   \n3  HomoSapiens  HLA-B*08   B2M      MHCI        FLKEKGGL          Nef   \n4  HomoSapiens  HLA-B*08   B2M      MHCI        FLKEKGGL          Nef   \n\n  antigen.species  vdjdb.score  \n0           HIV-1            2  \n1           HIV-1            2  \n2           HIV-1            2  \n3           HIV-1            2  \n4           HIV-1            2  ",
      "text/html": "<div>\n<style scoped>\n    .dataframe tbody tr th:only-of-type {\n        vertical-align: middle;\n    }\n\n    .dataframe tbody tr th {\n        vertical-align: top;\n    }\n\n    .dataframe thead th {\n        text-align: right;\n    }\n</style>\n<table border=\"1\" class=\"dataframe\">\n  <thead>\n    <tr style=\"text-align: right;\">\n      <th></th>\n      <th>complex.id</th>\n      <th>gene</th>\n      <th>cdr3</th>\n      <th>v.segm</th>\n      <th>j.segm</th>\n      <th>species</th>\n      <th>mhc.a</th>\n      <th>mhc.b</th>\n      <th>mhc.class</th>\n      <th>antigen.epitope</th>\n      <th>antigen.gene</th>\n      <th>antigen.species</th>\n      <th>vdjdb.score</th>\n    </tr>\n  </thead>\n  <tbody>\n    <tr>\n      <th>0</th>\n      <td>1</td>\n      <td>TRA</td>\n      <td>CIVRAPGRADMRF</td>\n      <td>TRAV26-1*01</td>\n      <td>TRAJ43*01</td>\n      <td>HomoSapiens</td>\n      <td>HLA-B*08</td>\n      <td>B2M</td>\n      <td>MHCI</td>\n      <td>FLKEKGGL</td>\n      <td>Nef</td>\n      <td>HIV-1</td>\n      <td>2</td>\n    </tr>\n    <tr>\n      <th>1</th>\n      <td>1</td>\n      <td>TRB</td>\n      <td>CASSYLPGQGDHYSNQPQHF</td>\n      <td>TRBV13*01</td>\n      <td>TRBJ1-5*01</td>\n      <td>HomoSapiens</td>\n      <td>HLA-B*08</td>\n      <td>B2M</td>\n      <td>MHCI</td>\n      <td>FLKEKGGL</td>\n      <td>Nef</td>\n      <td>HIV-1</td>\n      <td>2</td>\n    </tr>\n    <tr>\n      <th>2</th>\n      <td>0</td>\n      <td>TRB</td>\n      <td>CASSFEAGQGFFSNQPQHF</td>\n      <td>TRBV13*01</td>\n      <td>TRBJ1-5*01</td>\n      <td>HomoSapiens</td>\n      <td>HLA-B*08</td>\n      <td>B2M</td>\n      <td>MHCI</td>\n      <td>FLKEKGGL</td>\n      <td>Nef</td>\n      <td>HIV-1</td>\n      <td>2</td>\n    </tr>\n    <tr>\n      <th>3</th>\n      <td>2</td>\n      <td>TRA</td>\n      <td>CAVPSGAGSYQLTF</td>\n      <td>TRAV20*01</td>\n      <td>TRAJ28*01</td>\n      <td>HomoSapiens</td>\n      <td>HLA-B*08</td>\n      <td>B2M</td>\n      <td>MHCI</td>\n      <td>FLKEKGGL</td>\n      <td>Nef</td>\n      <td>HIV-1</td>\n      <td>2</td>\n    </tr>\n    <tr>\n      <th>4</th>\n      <td>2</td>\n      <td>TRB</td>\n      <td>CASSFEPGQGFYSNQPQHF</td>\n      <td>TRBV13*01</td>\n      <td>TRBJ1-5*01</td>\n      <td>HomoSapiens</td>\n      <td>HLA-B*08</td>\n      <td>B2M</td>\n      <td>MHCI</td>\n      <td>FLKEKGGL</td>\n      <td>Nef</td>\n      <td>HIV-1</td>\n      <td>2</td>\n    </tr>\n  </tbody>\n</table>\n</div>"
     },
     "execution_count": 6,
     "metadata": {},
     "output_type": "execute_result"
    }
   ],
   "source": [
    "df.head()"
   ]
  },
  {
   "cell_type": "code",
   "execution_count": 7,
   "id": "2f7612a1",
   "metadata": {
    "ExecuteTime": {
     "end_time": "2024-04-28T00:53:07.230383Z",
     "start_time": "2024-04-28T00:53:07.169034Z"
    }
   },
   "outputs": [
    {
     "name": "stdout",
     "output_type": "stream",
     "text": [
      "Missing values in each column:\n",
      " complex.id            0\n",
      "gene                  0\n",
      "cdr3                  0\n",
      "v.segm              101\n",
      "j.segm             1145\n",
      "species               0\n",
      "mhc.a                 0\n",
      "mhc.b                 0\n",
      "mhc.class             0\n",
      "antigen.epitope       0\n",
      "antigen.gene         62\n",
      "antigen.species       0\n",
      "vdjdb.score           0\n",
      "dtype: int64\n"
     ]
    }
   ],
   "source": [
    "# Check for missing values in each column\n",
    "missing_values = df.isnull().sum()\n",
    "print(\"Missing values in each column:\\n\", missing_values)"
   ]
  },
  {
   "cell_type": "code",
   "execution_count": 8,
   "id": "c4a50095",
   "metadata": {
    "ExecuteTime": {
     "end_time": "2024-04-28T00:53:07.277262Z",
     "start_time": "2024-04-28T00:53:07.231384Z"
    }
   },
   "outputs": [],
   "source": [
    "# Drop rows with any missing values\n",
    "df.dropna(subset=['v.segm','j.segm','antigen.gene'], inplace=True)"
   ]
  },
  {
   "cell_type": "code",
   "execution_count": 9,
   "id": "1b28e037",
   "metadata": {
    "ExecuteTime": {
     "end_time": "2024-04-28T00:53:07.325170Z",
     "start_time": "2024-04-28T00:53:07.279256Z"
    }
   },
   "outputs": [
    {
     "data": {
      "text/plain": "complex.id         91550\ngene               91550\ncdr3               91550\nv.segm             91550\nj.segm             91550\nspecies            91550\nmhc.a              91550\nmhc.b              91550\nmhc.class          91550\nantigen.epitope    91550\nantigen.gene       91550\nantigen.species    91550\nvdjdb.score        91550\ndtype: int64"
     },
     "execution_count": 9,
     "metadata": {},
     "output_type": "execute_result"
    }
   ],
   "source": [
    "df.count()"
   ]
  },
  {
   "cell_type": "code",
   "execution_count": 10,
   "id": "b66ce4b8",
   "metadata": {
    "ExecuteTime": {
     "end_time": "2024-04-28T00:53:07.372555Z",
     "start_time": "2024-04-28T00:53:07.327161Z"
    }
   },
   "outputs": [
    {
     "data": {
      "text/plain": "complex.id         0\ngene               0\ncdr3               0\nv.segm             0\nj.segm             0\nspecies            0\nmhc.a              0\nmhc.b              0\nmhc.class          0\nantigen.epitope    0\nantigen.gene       0\nantigen.species    0\nvdjdb.score        0\ndtype: int64"
     },
     "execution_count": 10,
     "metadata": {},
     "output_type": "execute_result"
    }
   ],
   "source": [
    "# Check for missing values in each column\n",
    "cleaned_data = df.isnull().sum()\n",
    "cleaned_data"
   ]
  },
  {
   "cell_type": "code",
   "execution_count": 11,
   "id": "437e1824",
   "metadata": {
    "ExecuteTime": {
     "end_time": "2024-04-28T00:53:07.483776Z",
     "start_time": "2024-04-28T00:53:07.373554Z"
    }
   },
   "outputs": [
    {
     "name": "stdout",
     "output_type": "stream",
     "text": [
      "Number of duplicate rows: 4216\n"
     ]
    }
   ],
   "source": [
    "# Check for duplicate rows\n",
    "duplicates = df.duplicated().sum()\n",
    "print(f\"Number of duplicate rows: {duplicates}\")"
   ]
  },
  {
   "cell_type": "code",
   "execution_count": 12,
   "id": "950253cc",
   "metadata": {
    "ExecuteTime": {
     "end_time": "2024-04-28T00:53:07.609016Z",
     "start_time": "2024-04-28T00:53:07.486770Z"
    }
   },
   "outputs": [],
   "source": [
    "# Dropping all duplicate rows\n",
    "df.drop_duplicates(inplace=True)"
   ]
  },
  {
   "cell_type": "code",
   "execution_count": 13,
   "id": "473f31bb",
   "metadata": {
    "ExecuteTime": {
     "end_time": "2024-04-28T00:53:07.718272Z",
     "start_time": "2024-04-28T00:53:07.611010Z"
    }
   },
   "outputs": [
    {
     "name": "stdout",
     "output_type": "stream",
     "text": [
      "Number of duplicate rows: 0\n"
     ]
    }
   ],
   "source": [
    "# Checking for duplicate rows\n",
    "duplicates = df.duplicated().sum()\n",
    "print(f\"Number of duplicate rows: {duplicates}\")"
   ]
  },
  {
   "cell_type": "code",
   "execution_count": 14,
   "id": "06dacd5e",
   "metadata": {
    "ExecuteTime": {
     "end_time": "2024-04-28T00:53:07.749700Z",
     "start_time": "2024-04-28T00:53:07.720266Z"
    }
   },
   "outputs": [
    {
     "data": {
      "text/plain": "(HomoSapiens      80909\n MusMusculus       5068\n MacacaMulatta     1357\n Name: species, dtype: int64,\n TRB    50949\n TRA    36385\n Name: gene, dtype: int64,\n MHCI     83254\n MHCII     4080\n Name: mhc.class, dtype: int64)"
     },
     "execution_count": 14,
     "metadata": {},
     "output_type": "execute_result"
    }
   ],
   "source": [
    "# Calculate the counts for 'species', 'genes', and 'mhc.class'\n",
    "species_counts = df['species'].value_counts()\n",
    "genes_counts = df['gene'].value_counts()\n",
    "mhc_class_counts = df['mhc.class'].value_counts()\n",
    "\n",
    "species_counts, genes_counts, mhc_class_counts"
   ]
  },
  {
   "cell_type": "code",
   "execution_count": 14,
   "id": "ef602250",
   "metadata": {
    "ExecuteTime": {
     "end_time": "2024-04-28T00:53:07.765657Z",
     "start_time": "2024-04-28T00:53:07.750699Z"
    }
   },
   "outputs": [],
   "source": []
  },
  {
   "cell_type": "code",
   "execution_count": 15,
   "id": "bafc591f",
   "metadata": {
    "ExecuteTime": {
     "end_time": "2024-04-28T00:53:07.796574Z",
     "start_time": "2024-04-28T00:53:07.767652Z"
    }
   },
   "outputs": [],
   "source": [
    "epitope_counts = df['antigen.epitope'].value_counts()\n",
    "\n",
    "epitopes_to_keep = epitope_counts[epitope_counts >= 10].index\n",
    "    \n",
    "# Filter the DataFrame to only include rows with these epitopes\n",
    "df = df[df['antigen.epitope'].isin(epitopes_to_keep)]"
   ]
  },
  {
   "cell_type": "code",
   "execution_count": 16,
   "id": "87808866",
   "metadata": {
    "ExecuteTime": {
     "end_time": "2024-04-28T00:53:07.827535Z",
     "start_time": "2024-04-28T00:53:07.797573Z"
    }
   },
   "outputs": [
    {
     "data": {
      "text/plain": "       complex.id gene                  cdr3       v.segm      j.segm  \\\n0               1  TRA         CIVRAPGRADMRF  TRAV26-1*01   TRAJ43*01   \n1               1  TRB  CASSYLPGQGDHYSNQPQHF    TRBV13*01  TRBJ1-5*01   \n2               0  TRB   CASSFEAGQGFFSNQPQHF    TRBV13*01  TRBJ1-5*01   \n3               2  TRA        CAVPSGAGSYQLTF    TRAV20*01   TRAJ28*01   \n4               2  TRB   CASSFEPGQGFYSNQPQHF    TRBV13*01  TRBJ1-5*01   \n...           ...  ...                   ...          ...         ...   \n92766       30592  TRB       CASSPGQGGDNEQFF   TRBV7-3*01  TRBJ2-1*01   \n92767       30593  TRA          CAPQGATNKLIF  TRAV12-2*01   TRAJ32*01   \n92768       30593  TRB       CASSLGAGGQETQYF   TRBV5-1*01  TRBJ2-5*01   \n92769       30594  TRA        CLVGGSGGYNKLIF     TRAV4*01    TRAJ4*01   \n92770       30594  TRB         CASSSTAQETQYF  TRBV11-2*01  TRBJ2-5*01   \n\n           species           mhc.a           mhc.b mhc.class antigen.epitope  \\\n0      HomoSapiens        HLA-B*08             B2M      MHCI        FLKEKGGL   \n1      HomoSapiens        HLA-B*08             B2M      MHCI        FLKEKGGL   \n2      HomoSapiens        HLA-B*08             B2M      MHCI        FLKEKGGL   \n3      HomoSapiens        HLA-B*08             B2M      MHCI        FLKEKGGL   \n4      HomoSapiens        HLA-B*08             B2M      MHCI        FLKEKGGL   \n...            ...             ...             ...       ...             ...   \n92766  HomoSapiens  HLA-DQA1*05:01  HLA-DQB1*02:01     MHCII   PQQPFPQPEQPFP   \n92767  HomoSapiens  HLA-DQA1*05:01  HLA-DQB1*02:01     MHCII   PQQPFPQPEQPFP   \n92768  HomoSapiens  HLA-DQA1*05:01  HLA-DQB1*02:01     MHCII   PQQPFPQPEQPFP   \n92769  HomoSapiens  HLA-DQA1*05:01  HLA-DQB1*02:01     MHCII   PQQPFPQPEQPFP   \n92770  HomoSapiens  HLA-DQA1*05:01  HLA-DQB1*02:01     MHCII   PQQPFPQPEQPFP   \n\n      antigen.gene antigen.species  vdjdb.score  \n0              Nef           HIV-1            2  \n1              Nef           HIV-1            2  \n2              Nef           HIV-1            2  \n3              Nef           HIV-1            2  \n4              Nef           HIV-1            2  \n...            ...             ...          ...  \n92766       Gluten           Wheat            0  \n92767       Gluten           Wheat            2  \n92768       Gluten           Wheat            2  \n92769       Gluten           Wheat            0  \n92770       Gluten           Wheat            0  \n\n[84483 rows x 13 columns]",
      "text/html": "<div>\n<style scoped>\n    .dataframe tbody tr th:only-of-type {\n        vertical-align: middle;\n    }\n\n    .dataframe tbody tr th {\n        vertical-align: top;\n    }\n\n    .dataframe thead th {\n        text-align: right;\n    }\n</style>\n<table border=\"1\" class=\"dataframe\">\n  <thead>\n    <tr style=\"text-align: right;\">\n      <th></th>\n      <th>complex.id</th>\n      <th>gene</th>\n      <th>cdr3</th>\n      <th>v.segm</th>\n      <th>j.segm</th>\n      <th>species</th>\n      <th>mhc.a</th>\n      <th>mhc.b</th>\n      <th>mhc.class</th>\n      <th>antigen.epitope</th>\n      <th>antigen.gene</th>\n      <th>antigen.species</th>\n      <th>vdjdb.score</th>\n    </tr>\n  </thead>\n  <tbody>\n    <tr>\n      <th>0</th>\n      <td>1</td>\n      <td>TRA</td>\n      <td>CIVRAPGRADMRF</td>\n      <td>TRAV26-1*01</td>\n      <td>TRAJ43*01</td>\n      <td>HomoSapiens</td>\n      <td>HLA-B*08</td>\n      <td>B2M</td>\n      <td>MHCI</td>\n      <td>FLKEKGGL</td>\n      <td>Nef</td>\n      <td>HIV-1</td>\n      <td>2</td>\n    </tr>\n    <tr>\n      <th>1</th>\n      <td>1</td>\n      <td>TRB</td>\n      <td>CASSYLPGQGDHYSNQPQHF</td>\n      <td>TRBV13*01</td>\n      <td>TRBJ1-5*01</td>\n      <td>HomoSapiens</td>\n      <td>HLA-B*08</td>\n      <td>B2M</td>\n      <td>MHCI</td>\n      <td>FLKEKGGL</td>\n      <td>Nef</td>\n      <td>HIV-1</td>\n      <td>2</td>\n    </tr>\n    <tr>\n      <th>2</th>\n      <td>0</td>\n      <td>TRB</td>\n      <td>CASSFEAGQGFFSNQPQHF</td>\n      <td>TRBV13*01</td>\n      <td>TRBJ1-5*01</td>\n      <td>HomoSapiens</td>\n      <td>HLA-B*08</td>\n      <td>B2M</td>\n      <td>MHCI</td>\n      <td>FLKEKGGL</td>\n      <td>Nef</td>\n      <td>HIV-1</td>\n      <td>2</td>\n    </tr>\n    <tr>\n      <th>3</th>\n      <td>2</td>\n      <td>TRA</td>\n      <td>CAVPSGAGSYQLTF</td>\n      <td>TRAV20*01</td>\n      <td>TRAJ28*01</td>\n      <td>HomoSapiens</td>\n      <td>HLA-B*08</td>\n      <td>B2M</td>\n      <td>MHCI</td>\n      <td>FLKEKGGL</td>\n      <td>Nef</td>\n      <td>HIV-1</td>\n      <td>2</td>\n    </tr>\n    <tr>\n      <th>4</th>\n      <td>2</td>\n      <td>TRB</td>\n      <td>CASSFEPGQGFYSNQPQHF</td>\n      <td>TRBV13*01</td>\n      <td>TRBJ1-5*01</td>\n      <td>HomoSapiens</td>\n      <td>HLA-B*08</td>\n      <td>B2M</td>\n      <td>MHCI</td>\n      <td>FLKEKGGL</td>\n      <td>Nef</td>\n      <td>HIV-1</td>\n      <td>2</td>\n    </tr>\n    <tr>\n      <th>...</th>\n      <td>...</td>\n      <td>...</td>\n      <td>...</td>\n      <td>...</td>\n      <td>...</td>\n      <td>...</td>\n      <td>...</td>\n      <td>...</td>\n      <td>...</td>\n      <td>...</td>\n      <td>...</td>\n      <td>...</td>\n      <td>...</td>\n    </tr>\n    <tr>\n      <th>92766</th>\n      <td>30592</td>\n      <td>TRB</td>\n      <td>CASSPGQGGDNEQFF</td>\n      <td>TRBV7-3*01</td>\n      <td>TRBJ2-1*01</td>\n      <td>HomoSapiens</td>\n      <td>HLA-DQA1*05:01</td>\n      <td>HLA-DQB1*02:01</td>\n      <td>MHCII</td>\n      <td>PQQPFPQPEQPFP</td>\n      <td>Gluten</td>\n      <td>Wheat</td>\n      <td>0</td>\n    </tr>\n    <tr>\n      <th>92767</th>\n      <td>30593</td>\n      <td>TRA</td>\n      <td>CAPQGATNKLIF</td>\n      <td>TRAV12-2*01</td>\n      <td>TRAJ32*01</td>\n      <td>HomoSapiens</td>\n      <td>HLA-DQA1*05:01</td>\n      <td>HLA-DQB1*02:01</td>\n      <td>MHCII</td>\n      <td>PQQPFPQPEQPFP</td>\n      <td>Gluten</td>\n      <td>Wheat</td>\n      <td>2</td>\n    </tr>\n    <tr>\n      <th>92768</th>\n      <td>30593</td>\n      <td>TRB</td>\n      <td>CASSLGAGGQETQYF</td>\n      <td>TRBV5-1*01</td>\n      <td>TRBJ2-5*01</td>\n      <td>HomoSapiens</td>\n      <td>HLA-DQA1*05:01</td>\n      <td>HLA-DQB1*02:01</td>\n      <td>MHCII</td>\n      <td>PQQPFPQPEQPFP</td>\n      <td>Gluten</td>\n      <td>Wheat</td>\n      <td>2</td>\n    </tr>\n    <tr>\n      <th>92769</th>\n      <td>30594</td>\n      <td>TRA</td>\n      <td>CLVGGSGGYNKLIF</td>\n      <td>TRAV4*01</td>\n      <td>TRAJ4*01</td>\n      <td>HomoSapiens</td>\n      <td>HLA-DQA1*05:01</td>\n      <td>HLA-DQB1*02:01</td>\n      <td>MHCII</td>\n      <td>PQQPFPQPEQPFP</td>\n      <td>Gluten</td>\n      <td>Wheat</td>\n      <td>0</td>\n    </tr>\n    <tr>\n      <th>92770</th>\n      <td>30594</td>\n      <td>TRB</td>\n      <td>CASSSTAQETQYF</td>\n      <td>TRBV11-2*01</td>\n      <td>TRBJ2-5*01</td>\n      <td>HomoSapiens</td>\n      <td>HLA-DQA1*05:01</td>\n      <td>HLA-DQB1*02:01</td>\n      <td>MHCII</td>\n      <td>PQQPFPQPEQPFP</td>\n      <td>Gluten</td>\n      <td>Wheat</td>\n      <td>0</td>\n    </tr>\n  </tbody>\n</table>\n<p>84483 rows × 13 columns</p>\n</div>"
     },
     "execution_count": 16,
     "metadata": {},
     "output_type": "execute_result"
    }
   ],
   "source": [
    "df"
   ]
  },
  {
   "cell_type": "code",
   "execution_count": 17,
   "id": "40f9b3bd",
   "metadata": {
    "ExecuteTime": {
     "end_time": "2024-04-28T00:53:07.842973Z",
     "start_time": "2024-04-28T00:53:07.829492Z"
    }
   },
   "outputs": [
    {
     "name": "stdout",
     "output_type": "stream",
     "text": [
      "complex.id          int64\n",
      "gene               object\n",
      "cdr3               object\n",
      "v.segm             object\n",
      "j.segm             object\n",
      "species            object\n",
      "mhc.a              object\n",
      "mhc.b              object\n",
      "mhc.class          object\n",
      "antigen.epitope    object\n",
      "antigen.gene       object\n",
      "antigen.species    object\n",
      "vdjdb.score         int64\n",
      "dtype: object\n"
     ]
    }
   ],
   "source": [
    "print(df.dtypes)"
   ]
  },
  {
   "cell_type": "code",
   "execution_count": 18,
   "id": "60f47082",
   "metadata": {
    "ExecuteTime": {
     "end_time": "2024-04-28T00:53:08.361355Z",
     "start_time": "2024-04-28T00:53:08.323937Z"
    }
   },
   "outputs": [
    {
     "data": {
      "text/plain": "(HomoSapiens      78184\n MusMusculus       4942\n MacacaMulatta     1357\n Name: species, dtype: int64,\n TRB    49259\n TRA    35224\n Name: gene, dtype: int64,\n MHCI     80663\n MHCII     3820\n Name: mhc.class, dtype: int64)"
     },
     "execution_count": 18,
     "metadata": {},
     "output_type": "execute_result"
    }
   ],
   "source": [
    "# Calculate the counts for 'species', 'genes', and 'mhc.class'\n",
    "species_counts = df['species'].value_counts()\n",
    "genes_counts = df['gene'].value_counts()\n",
    "mhc_class_counts = df['mhc.class'].value_counts()\n",
    "\n",
    "species_counts, genes_counts, mhc_class_counts"
   ]
  },
  {
   "cell_type": "code",
   "execution_count": 18,
   "id": "22e7f156",
   "metadata": {
    "ExecuteTime": {
     "end_time": "2024-04-28T00:53:08.630794Z",
     "start_time": "2024-04-28T00:53:08.627777Z"
    }
   },
   "outputs": [],
   "source": []
  },
  {
   "cell_type": "code",
   "execution_count": 19,
   "id": "82d694a2",
   "metadata": {
    "ExecuteTime": {
     "end_time": "2024-04-28T00:53:09.154606Z",
     "start_time": "2024-04-28T00:53:08.895640Z"
    }
   },
   "outputs": [
    {
     "name": "stderr",
     "output_type": "stream",
     "text": [
      "D:\\Program Files (x86)\\python39\\lib\\site-packages\\pandas\\core\\indexing.py:1667: SettingWithCopyWarning: \n",
      "A value is trying to be set on a copy of a slice from a DataFrame.\n",
      "Try using .loc[row_indexer,col_indexer] = value instead\n",
      "\n",
      "See the caveats in the documentation: https://pandas.pydata.org/pandas-docs/stable/user_guide/indexing.html#returning-a-view-versus-a-copy\n",
      "  self.obj[key] = value\n"
     ]
    },
    {
     "name": "stdout",
     "output_type": "stream",
     "text": [
      "count    84483.000000\n",
      "mean        14.091734\n",
      "std          1.878803\n",
      "min          4.000000\n",
      "25%         13.000000\n",
      "50%         14.000000\n",
      "75%         15.000000\n",
      "max         38.000000\n",
      "Name: cdr3_length, dtype: float64\n"
     ]
    },
    {
     "data": {
      "text/plain": "<Figure size 640x480 with 1 Axes>",
      "image/png": "[encoded data removed]"
     },
     "metadata": {},
     "output_type": "display_data"
    }
   ],
   "source": [
    "import pandas as pd\n",
    "\n",
    "# Calculate the length of each sequence in the cdr3 column\n",
    "df.loc[:,'cdr3_length'] = df['cdr3'].apply(len)\n",
    "\n",
    "# Statistical summary to check for unusual lengths\n",
    "print(df['cdr3_length'].describe())\n",
    "\n",
    "# You can also use a box plot to visualize the distribution of sequence lengths\n",
    "import seaborn as sns\n",
    "import matplotlib.pyplot as plt\n",
    "\n",
    "sns.boxplot(x=df['cdr3_length'])\n",
    "plt.title('Distribution of CDR3 Sequence Lengths')\n",
    "plt.show()"
   ]
  },
  {
   "cell_type": "code",
   "execution_count": 20,
   "id": "aeffe286",
   "metadata": {
    "ExecuteTime": {
     "end_time": "2024-04-28T00:53:09.265866Z",
     "start_time": "2024-04-28T00:53:09.227443Z"
    }
   },
   "outputs": [
    {
     "name": "stdout",
     "output_type": "stream",
     "text": [
      "4         1\n",
      "5         3\n",
      "6         6\n",
      "7        18\n",
      "8       106\n",
      "9       219\n",
      "10     1240\n",
      "11     4741\n",
      "12     9264\n",
      "13    17589\n",
      "14    16637\n",
      "15    17626\n",
      "16     8833\n",
      "17     5141\n",
      "18     1860\n",
      "19      762\n",
      "20      263\n",
      "21       94\n",
      "22       39\n",
      "23       15\n",
      "24        9\n",
      "25        6\n",
      "26        3\n",
      "27        1\n",
      "29        1\n",
      "31        1\n",
      "33        1\n",
      "34        1\n",
      "35        1\n",
      "37        1\n",
      "38        1\n",
      "Name: cdr3_length, dtype: int64\n"
     ]
    },
    {
     "name": "stderr",
     "output_type": "stream",
     "text": [
      "D:\\Program Files (x86)\\python39\\lib\\site-packages\\pandas\\core\\indexing.py:1773: SettingWithCopyWarning: \n",
      "A value is trying to be set on a copy of a slice from a DataFrame.\n",
      "Try using .loc[row_indexer,col_indexer] = value instead\n",
      "\n",
      "See the caveats in the documentation: https://pandas.pydata.org/pandas-docs/stable/user_guide/indexing.html#returning-a-view-versus-a-copy\n",
      "  self._setitem_single_column(ilocs[0], value, pi)\n"
     ]
    }
   ],
   "source": [
    "# Calculate the length of each CDR3 sequence\n",
    "df.loc[:,'cdr3_length'] = df['cdr3'].apply(len)\n",
    "\n",
    "# Count the occurrences of each sequence length\n",
    "length_counts = df['cdr3_length'].value_counts()\n",
    "\n",
    "# Sort the counts by sequence length\n",
    "length_counts_sorted = length_counts.sort_index()\n",
    "\n",
    "# Display the sorted counts\n",
    "print(length_counts_sorted)"
   ]
  },
  {
   "cell_type": "code",
   "execution_count": 21,
   "id": "a6b55997",
   "metadata": {
    "ExecuteTime": {
     "end_time": "2024-04-28T00:53:09.421969Z",
     "start_time": "2024-04-28T00:53:09.383072Z"
    }
   },
   "outputs": [
    {
     "data": {
      "text/plain": "       complex.id gene                  cdr3       v.segm      j.segm  \\\n0               1  TRA         CIVRAPGRADMRF  TRAV26-1*01   TRAJ43*01   \n1               1  TRB  CASSYLPGQGDHYSNQPQHF    TRBV13*01  TRBJ1-5*01   \n2               0  TRB   CASSFEAGQGFFSNQPQHF    TRBV13*01  TRBJ1-5*01   \n3               2  TRA        CAVPSGAGSYQLTF    TRAV20*01   TRAJ28*01   \n4               2  TRB   CASSFEPGQGFYSNQPQHF    TRBV13*01  TRBJ1-5*01   \n...           ...  ...                   ...          ...         ...   \n92766       30592  TRB       CASSPGQGGDNEQFF   TRBV7-3*01  TRBJ2-1*01   \n92767       30593  TRA          CAPQGATNKLIF  TRAV12-2*01   TRAJ32*01   \n92768       30593  TRB       CASSLGAGGQETQYF   TRBV5-1*01  TRBJ2-5*01   \n92769       30594  TRA        CLVGGSGGYNKLIF     TRAV4*01    TRAJ4*01   \n92770       30594  TRB         CASSSTAQETQYF  TRBV11-2*01  TRBJ2-5*01   \n\n           species           mhc.a           mhc.b mhc.class antigen.epitope  \\\n0      HomoSapiens        HLA-B*08             B2M      MHCI        FLKEKGGL   \n1      HomoSapiens        HLA-B*08             B2M      MHCI        FLKEKGGL   \n2      HomoSapiens        HLA-B*08             B2M      MHCI        FLKEKGGL   \n3      HomoSapiens        HLA-B*08             B2M      MHCI        FLKEKGGL   \n4      HomoSapiens        HLA-B*08             B2M      MHCI        FLKEKGGL   \n...            ...             ...             ...       ...             ...   \n92766  HomoSapiens  HLA-DQA1*05:01  HLA-DQB1*02:01     MHCII   PQQPFPQPEQPFP   \n92767  HomoSapiens  HLA-DQA1*05:01  HLA-DQB1*02:01     MHCII   PQQPFPQPEQPFP   \n92768  HomoSapiens  HLA-DQA1*05:01  HLA-DQB1*02:01     MHCII   PQQPFPQPEQPFP   \n92769  HomoSapiens  HLA-DQA1*05:01  HLA-DQB1*02:01     MHCII   PQQPFPQPEQPFP   \n92770  HomoSapiens  HLA-DQA1*05:01  HLA-DQB1*02:01     MHCII   PQQPFPQPEQPFP   \n\n      antigen.gene antigen.species  vdjdb.score  cdr3_length  \n0              Nef           HIV-1            2           13  \n1              Nef           HIV-1            2           20  \n2              Nef           HIV-1            2           19  \n3              Nef           HIV-1            2           14  \n4              Nef           HIV-1            2           19  \n...            ...             ...          ...          ...  \n92766       Gluten           Wheat            0           15  \n92767       Gluten           Wheat            2           12  \n92768       Gluten           Wheat            2           15  \n92769       Gluten           Wheat            0           14  \n92770       Gluten           Wheat            0           13  \n\n[83956 rows x 14 columns]",
      "text/html": "<div>\n<style scoped>\n    .dataframe tbody tr th:only-of-type {\n        vertical-align: middle;\n    }\n\n    .dataframe tbody tr th {\n        vertical-align: top;\n    }\n\n    .dataframe thead th {\n        text-align: right;\n    }\n</style>\n<table border=\"1\" class=\"dataframe\">\n  <thead>\n    <tr style=\"text-align: right;\">\n      <th></th>\n      <th>complex.id</th>\n      <th>gene</th>\n      <th>cdr3</th>\n      <th>v.segm</th>\n      <th>j.segm</th>\n      <th>species</th>\n      <th>mhc.a</th>\n      <th>mhc.b</th>\n      <th>mhc.class</th>\n      <th>antigen.epitope</th>\n      <th>antigen.gene</th>\n      <th>antigen.species</th>\n      <th>vdjdb.score</th>\n      <th>cdr3_length</th>\n    </tr>\n  </thead>\n  <tbody>\n    <tr>\n      <th>0</th>\n      <td>1</td>\n      <td>TRA</td>\n      <td>CIVRAPGRADMRF</td>\n      <td>TRAV26-1*01</td>\n      <td>TRAJ43*01</td>\n      <td>HomoSapiens</td>\n      <td>HLA-B*08</td>\n      <td>B2M</td>\n      <td>MHCI</td>\n      <td>FLKEKGGL</td>\n      <td>Nef</td>\n      <td>HIV-1</td>\n      <td>2</td>\n      <td>13</td>\n    </tr>\n    <tr>\n      <th>1</th>\n      <td>1</td>\n      <td>TRB</td>\n      <td>CASSYLPGQGDHYSNQPQHF</td>\n      <td>TRBV13*01</td>\n      <td>TRBJ1-5*01</td>\n      <td>HomoSapiens</td>\n      <td>HLA-B*08</td>\n      <td>B2M</td>\n      <td>MHCI</td>\n      <td>FLKEKGGL</td>\n      <td>Nef</td>\n      <td>HIV-1</td>\n      <td>2</td>\n      <td>20</td>\n    </tr>\n    <tr>\n      <th>2</th>\n      <td>0</td>\n      <td>TRB</td>\n      <td>CASSFEAGQGFFSNQPQHF</td>\n      <td>TRBV13*01</td>\n      <td>TRBJ1-5*01</td>\n      <td>HomoSapiens</td>\n      <td>HLA-B*08</td>\n      <td>B2M</td>\n      <td>MHCI</td>\n      <td>FLKEKGGL</td>\n      <td>Nef</td>\n      <td>HIV-1</td>\n      <td>2</td>\n      <td>19</td>\n    </tr>\n    <tr>\n      <th>3</th>\n      <td>2</td>\n      <td>TRA</td>\n      <td>CAVPSGAGSYQLTF</td>\n      <td>TRAV20*01</td>\n      <td>TRAJ28*01</td>\n      <td>HomoSapiens</td>\n      <td>HLA-B*08</td>\n      <td>B2M</td>\n      <td>MHCI</td>\n      <td>FLKEKGGL</td>\n      <td>Nef</td>\n      <td>HIV-1</td>\n      <td>2</td>\n      <td>14</td>\n    </tr>\n    <tr>\n      <th>4</th>\n      <td>2</td>\n      <td>TRB</td>\n      <td>CASSFEPGQGFYSNQPQHF</td>\n      <td>TRBV13*01</td>\n      <td>TRBJ1-5*01</td>\n      <td>HomoSapiens</td>\n      <td>HLA-B*08</td>\n      <td>B2M</td>\n      <td>MHCI</td>\n      <td>FLKEKGGL</td>\n      <td>Nef</td>\n      <td>HIV-1</td>\n      <td>2</td>\n      <td>19</td>\n    </tr>\n    <tr>\n      <th>...</th>\n      <td>...</td>\n      <td>...</td>\n      <td>...</td>\n      <td>...</td>\n      <td>...</td>\n      <td>...</td>\n      <td>...</td>\n      <td>...</td>\n      <td>...</td>\n      <td>...</td>\n      <td>...</td>\n      <td>...</td>\n      <td>...</td>\n      <td>...</td>\n    </tr>\n    <tr>\n      <th>92766</th>\n      <td>30592</td>\n      <td>TRB</td>\n      <td>CASSPGQGGDNEQFF</td>\n      <td>TRBV7-3*01</td>\n      <td>TRBJ2-1*01</td>\n      <td>HomoSapiens</td>\n      <td>HLA-DQA1*05:01</td>\n      <td>HLA-DQB1*02:01</td>\n      <td>MHCII</td>\n      <td>PQQPFPQPEQPFP</td>\n      <td>Gluten</td>\n      <td>Wheat</td>\n      <td>0</td>\n      <td>15</td>\n    </tr>\n    <tr>\n      <th>92767</th>\n      <td>30593</td>\n      <td>TRA</td>\n      <td>CAPQGATNKLIF</td>\n      <td>TRAV12-2*01</td>\n      <td>TRAJ32*01</td>\n      <td>HomoSapiens</td>\n      <td>HLA-DQA1*05:01</td>\n      <td>HLA-DQB1*02:01</td>\n      <td>MHCII</td>\n      <td>PQQPFPQPEQPFP</td>\n      <td>Gluten</td>\n      <td>Wheat</td>\n      <td>2</td>\n      <td>12</td>\n    </tr>\n    <tr>\n      <th>92768</th>\n      <td>30593</td>\n      <td>TRB</td>\n      <td>CASSLGAGGQETQYF</td>\n      <td>TRBV5-1*01</td>\n      <td>TRBJ2-5*01</td>\n      <td>HomoSapiens</td>\n      <td>HLA-DQA1*05:01</td>\n      <td>HLA-DQB1*02:01</td>\n      <td>MHCII</td>\n      <td>PQQPFPQPEQPFP</td>\n      <td>Gluten</td>\n      <td>Wheat</td>\n      <td>2</td>\n      <td>15</td>\n    </tr>\n    <tr>\n      <th>92769</th>\n      <td>30594</td>\n      <td>TRA</td>\n      <td>CLVGGSGGYNKLIF</td>\n      <td>TRAV4*01</td>\n      <td>TRAJ4*01</td>\n      <td>HomoSapiens</td>\n      <td>HLA-DQA1*05:01</td>\n      <td>HLA-DQB1*02:01</td>\n      <td>MHCII</td>\n      <td>PQQPFPQPEQPFP</td>\n      <td>Gluten</td>\n      <td>Wheat</td>\n      <td>0</td>\n      <td>14</td>\n    </tr>\n    <tr>\n      <th>92770</th>\n      <td>30594</td>\n      <td>TRB</td>\n      <td>CASSSTAQETQYF</td>\n      <td>TRBV11-2*01</td>\n      <td>TRBJ2-5*01</td>\n      <td>HomoSapiens</td>\n      <td>HLA-DQA1*05:01</td>\n      <td>HLA-DQB1*02:01</td>\n      <td>MHCII</td>\n      <td>PQQPFPQPEQPFP</td>\n      <td>Gluten</td>\n      <td>Wheat</td>\n      <td>0</td>\n      <td>13</td>\n    </tr>\n  </tbody>\n</table>\n<p>83956 rows × 14 columns</p>\n</div>"
     },
     "execution_count": 21,
     "metadata": {},
     "output_type": "execute_result"
    }
   ],
   "source": [
    "df = df[(df['cdr3_length'] >= 10) & (df['cdr3_length'] <= 20)]\n",
    "df"
   ]
  },
  {
   "cell_type": "code",
   "execution_count": 22,
   "id": "87c6d541",
   "metadata": {
    "ExecuteTime": {
     "end_time": "2024-04-28T00:53:09.657950Z",
     "start_time": "2024-04-28T00:53:09.638004Z"
    }
   },
   "outputs": [
    {
     "name": "stdout",
     "output_type": "stream",
     "text": [
      "Number of distinct antigen species: 30\n",
      "Counts for each antigen species:\n",
      "CMV                  36853\n",
      "InfluenzaA           14473\n",
      "EBV                  10939\n",
      "SARS-CoV-2            7736\n",
      "HomoSapiens           3613\n",
      "HIV-1                 2983\n",
      "HCV                   2118\n",
      "SIV                   1356\n",
      "MCMV                  1338\n",
      "YFV                    738\n",
      "Wheat                  295\n",
      "HTLV-1                 216\n",
      "PlasmodiumBerghei      192\n",
      "DENV1                  175\n",
      "DENV3/4                168\n",
      "HIV                    149\n",
      "LCMV                   134\n",
      "RSV                    121\n",
      "HSV-2                  109\n",
      "DENV2                   60\n",
      "HCoV-HKU1               57\n",
      "VSV                     29\n",
      "HPV                     27\n",
      "TriticumAestivum        23\n",
      "M.tuberculosis          16\n",
      "AdV                     12\n",
      "GallusGallus            12\n",
      "MCPyV                   10\n",
      "synthetic                2\n",
      "Homo sapiens             2\n",
      "Name: antigen.species, dtype: int64\n"
     ]
    }
   ],
   "source": [
    "# Count the number of unique species\n",
    "unique_species_count = df['antigen.species'].nunique()\n",
    "print(\"Number of distinct antigen species:\", unique_species_count)\n",
    "\n",
    "# Count the occurrences of each species\n",
    "species_counts = df['antigen.species'].value_counts()\n",
    "print(\"Counts for each antigen species:\")\n",
    "print(species_counts)"
   ]
  },
  {
   "cell_type": "code",
   "execution_count": 23,
   "id": "bfda8a28",
   "metadata": {
    "ExecuteTime": {
     "end_time": "2024-04-28T00:53:09.912306Z",
     "start_time": "2024-04-28T00:53:09.866430Z"
    }
   },
   "outputs": [
    {
     "data": {
      "text/plain": "       complex.id gene                  cdr3       v.segm      j.segm  \\\n0               1  TRA         CIVRAPGRADMRF  TRAV26-1*01   TRAJ43*01   \n1               1  TRB  CASSYLPGQGDHYSNQPQHF    TRBV13*01  TRBJ1-5*01   \n2               0  TRB   CASSFEAGQGFFSNQPQHF    TRBV13*01  TRBJ1-5*01   \n3               2  TRA        CAVPSGAGSYQLTF    TRAV20*01   TRAJ28*01   \n4               2  TRB   CASSFEPGQGFYSNQPQHF    TRBV13*01  TRBJ1-5*01   \n...           ...  ...                   ...          ...         ...   \n92352       30540  TRB       CASSDRGTGLNGYTF   TRBV6-4*01  TRBJ1-2*01   \n92353       30541  TRA       CAGLNYGGSQGNLIF    TRAV35*01   TRAJ42*01   \n92354       30541  TRB         CASGPGGMTEAFF   TRBV5-5*01  TRBJ1-1*01   \n92355           0  TRA       CAGQNYGGSQGNLIF    TRAV35*01   TRAJ42*01   \n92364           0  TRB      CASSQEGGGDGQPPHF   TRBV4-1*01  TRBJ1-5*01   \n\n           species          mhc.a          mhc.b mhc.class antigen.epitope  \\\n0      HomoSapiens       HLA-B*08            B2M      MHCI        FLKEKGGL   \n1      HomoSapiens       HLA-B*08            B2M      MHCI        FLKEKGGL   \n2      HomoSapiens       HLA-B*08            B2M      MHCI        FLKEKGGL   \n3      HomoSapiens       HLA-B*08            B2M      MHCI        FLKEKGGL   \n4      HomoSapiens       HLA-B*08            B2M      MHCI        FLKEKGGL   \n...            ...            ...            ...       ...             ...   \n92352  HomoSapiens  HLA-DPA*01:03  HLA-DPB*04:01     MHCII  TFEYVSQPFLMDLE   \n92353  HomoSapiens  HLA-DPA*01:03  HLA-DPB*04:01     MHCII  TFEYVSQPFLMDLE   \n92354  HomoSapiens  HLA-DPA*01:03  HLA-DPB*04:01     MHCII  TFEYVSQPFLMDLE   \n92355  HomoSapiens  HLA-DPA*01:03  HLA-DPB*04:01     MHCII  TFEYVSQPFLMDLE   \n92364  HomoSapiens    HLA-B*42:01            B2M      MHCI       TPQDLNTML   \n\n      antigen.gene antigen.species  vdjdb.score  cdr3_length  \n0              Nef           HIV-1            2           13  \n1              Nef           HIV-1            2           20  \n2              Nef           HIV-1            2           19  \n3              Nef           HIV-1            2           14  \n4              Nef           HIV-1            2           19  \n...            ...             ...          ...          ...  \n92352        Spike      SARS-CoV-2            0           15  \n92353        Spike      SARS-CoV-2            0           15  \n92354        Spike      SARS-CoV-2            0           13  \n92355        Spike      SARS-CoV-2            0           15  \n92364          Gag           HIV-1            0           16  \n\n[81409 rows x 14 columns]",
      "text/html": "<div>\n<style scoped>\n    .dataframe tbody tr th:only-of-type {\n        vertical-align: middle;\n    }\n\n    .dataframe tbody tr th {\n        vertical-align: top;\n    }\n\n    .dataframe thead th {\n        text-align: right;\n    }\n</style>\n<table border=\"1\" class=\"dataframe\">\n  <thead>\n    <tr style=\"text-align: right;\">\n      <th></th>\n      <th>complex.id</th>\n      <th>gene</th>\n      <th>cdr3</th>\n      <th>v.segm</th>\n      <th>j.segm</th>\n      <th>species</th>\n      <th>mhc.a</th>\n      <th>mhc.b</th>\n      <th>mhc.class</th>\n      <th>antigen.epitope</th>\n      <th>antigen.gene</th>\n      <th>antigen.species</th>\n      <th>vdjdb.score</th>\n      <th>cdr3_length</th>\n    </tr>\n  </thead>\n  <tbody>\n    <tr>\n      <th>0</th>\n      <td>1</td>\n      <td>TRA</td>\n      <td>CIVRAPGRADMRF</td>\n      <td>TRAV26-1*01</td>\n      <td>TRAJ43*01</td>\n      <td>HomoSapiens</td>\n      <td>HLA-B*08</td>\n      <td>B2M</td>\n      <td>MHCI</td>\n      <td>FLKEKGGL</td>\n      <td>Nef</td>\n      <td>HIV-1</td>\n      <td>2</td>\n      <td>13</td>\n    </tr>\n    <tr>\n      <th>1</th>\n      <td>1</td>\n      <td>TRB</td>\n      <td>CASSYLPGQGDHYSNQPQHF</td>\n      <td>TRBV13*01</td>\n      <td>TRBJ1-5*01</td>\n      <td>HomoSapiens</td>\n      <td>HLA-B*08</td>\n      <td>B2M</td>\n      <td>MHCI</td>\n      <td>FLKEKGGL</td>\n      <td>Nef</td>\n      <td>HIV-1</td>\n      <td>2</td>\n      <td>20</td>\n    </tr>\n    <tr>\n      <th>2</th>\n      <td>0</td>\n      <td>TRB</td>\n      <td>CASSFEAGQGFFSNQPQHF</td>\n      <td>TRBV13*01</td>\n      <td>TRBJ1-5*01</td>\n      <td>HomoSapiens</td>\n      <td>HLA-B*08</td>\n      <td>B2M</td>\n      <td>MHCI</td>\n      <td>FLKEKGGL</td>\n      <td>Nef</td>\n      <td>HIV-1</td>\n      <td>2</td>\n      <td>19</td>\n    </tr>\n    <tr>\n      <th>3</th>\n      <td>2</td>\n      <td>TRA</td>\n      <td>CAVPSGAGSYQLTF</td>\n      <td>TRAV20*01</td>\n      <td>TRAJ28*01</td>\n      <td>HomoSapiens</td>\n      <td>HLA-B*08</td>\n      <td>B2M</td>\n      <td>MHCI</td>\n      <td>FLKEKGGL</td>\n      <td>Nef</td>\n      <td>HIV-1</td>\n      <td>2</td>\n      <td>14</td>\n    </tr>\n    <tr>\n      <th>4</th>\n      <td>2</td>\n      <td>TRB</td>\n      <td>CASSFEPGQGFYSNQPQHF</td>\n      <td>TRBV13*01</td>\n      <td>TRBJ1-5*01</td>\n      <td>HomoSapiens</td>\n      <td>HLA-B*08</td>\n      <td>B2M</td>\n      <td>MHCI</td>\n      <td>FLKEKGGL</td>\n      <td>Nef</td>\n      <td>HIV-1</td>\n      <td>2</td>\n      <td>19</td>\n    </tr>\n    <tr>\n      <th>...</th>\n      <td>...</td>\n      <td>...</td>\n      <td>...</td>\n      <td>...</td>\n      <td>...</td>\n      <td>...</td>\n      <td>...</td>\n      <td>...</td>\n      <td>...</td>\n      <td>...</td>\n      <td>...</td>\n      <td>...</td>\n      <td>...</td>\n      <td>...</td>\n    </tr>\n    <tr>\n      <th>92352</th>\n      <td>30540</td>\n      <td>TRB</td>\n      <td>CASSDRGTGLNGYTF</td>\n      <td>TRBV6-4*01</td>\n      <td>TRBJ1-2*01</td>\n      <td>HomoSapiens</td>\n      <td>HLA-DPA*01:03</td>\n      <td>HLA-DPB*04:01</td>\n      <td>MHCII</td>\n      <td>TFEYVSQPFLMDLE</td>\n      <td>Spike</td>\n      <td>SARS-CoV-2</td>\n      <td>0</td>\n      <td>15</td>\n    </tr>\n    <tr>\n      <th>92353</th>\n      <td>30541</td>\n      <td>TRA</td>\n      <td>CAGLNYGGSQGNLIF</td>\n      <td>TRAV35*01</td>\n      <td>TRAJ42*01</td>\n      <td>HomoSapiens</td>\n      <td>HLA-DPA*01:03</td>\n      <td>HLA-DPB*04:01</td>\n      <td>MHCII</td>\n      <td>TFEYVSQPFLMDLE</td>\n      <td>Spike</td>\n      <td>SARS-CoV-2</td>\n      <td>0</td>\n      <td>15</td>\n    </tr>\n    <tr>\n      <th>92354</th>\n      <td>30541</td>\n      <td>TRB</td>\n      <td>CASGPGGMTEAFF</td>\n      <td>TRBV5-5*01</td>\n      <td>TRBJ1-1*01</td>\n      <td>HomoSapiens</td>\n      <td>HLA-DPA*01:03</td>\n      <td>HLA-DPB*04:01</td>\n      <td>MHCII</td>\n      <td>TFEYVSQPFLMDLE</td>\n      <td>Spike</td>\n      <td>SARS-CoV-2</td>\n      <td>0</td>\n      <td>13</td>\n    </tr>\n    <tr>\n      <th>92355</th>\n      <td>0</td>\n      <td>TRA</td>\n      <td>CAGQNYGGSQGNLIF</td>\n      <td>TRAV35*01</td>\n      <td>TRAJ42*01</td>\n      <td>HomoSapiens</td>\n      <td>HLA-DPA*01:03</td>\n      <td>HLA-DPB*04:01</td>\n      <td>MHCII</td>\n      <td>TFEYVSQPFLMDLE</td>\n      <td>Spike</td>\n      <td>SARS-CoV-2</td>\n      <td>0</td>\n      <td>15</td>\n    </tr>\n    <tr>\n      <th>92364</th>\n      <td>0</td>\n      <td>TRB</td>\n      <td>CASSQEGGGDGQPPHF</td>\n      <td>TRBV4-1*01</td>\n      <td>TRBJ1-5*01</td>\n      <td>HomoSapiens</td>\n      <td>HLA-B*42:01</td>\n      <td>B2M</td>\n      <td>MHCI</td>\n      <td>TPQDLNTML</td>\n      <td>Gag</td>\n      <td>HIV-1</td>\n      <td>0</td>\n      <td>16</td>\n    </tr>\n  </tbody>\n</table>\n<p>81409 rows × 14 columns</p>\n</div>"
     },
     "execution_count": 23,
     "metadata": {},
     "output_type": "execute_result"
    }
   ],
   "source": [
    "# Get a boolean series where each species with a count greater than 1000 is True\n",
    "species_above_threshold = df['antigen.species'].value_counts() > 1000\n",
    "\n",
    "# Convert it to a list of species\n",
    "species_to_include = species_above_threshold[species_above_threshold].index.tolist()\n",
    "\n",
    "# Filter the DataFrame\n",
    "df = df[df['antigen.species'].isin(species_to_include)]\n",
    "df"
   ]
  },
  {
   "cell_type": "code",
   "execution_count": 24,
   "id": "5bea7477",
   "metadata": {
    "ExecuteTime": {
     "end_time": "2024-04-28T00:53:10.115856Z",
     "start_time": "2024-04-28T00:53:10.090890Z"
    }
   },
   "outputs": [
    {
     "name": "stdout",
     "output_type": "stream",
     "text": [
      "Number of distinct antigen genes: 96\n",
      "Counts for each antigen genes:\n",
      "IE1          27619\n",
      "M             9541\n",
      "pp65          8723\n",
      "EBNA4         4964\n",
      "Spike         3916\n",
      "             ...  \n",
      "NY-ESO-4         2\n",
      "NY-ESO-3         2\n",
      "NY-ESO-2         2\n",
      "synthetic        2\n",
      "NY-ESO-5         2\n",
      "Name: antigen.gene, Length: 96, dtype: int64\n"
     ]
    }
   ],
   "source": [
    "# Count the number of unique species\n",
    "unique_gene_count = df['antigen.gene'].nunique()\n",
    "print(\"Number of distinct antigen genes:\", unique_gene_count)\n",
    "\n",
    "# Count the occurrences of each species\n",
    "genes_counts = df['antigen.gene'].value_counts()\n",
    "print(\"Counts for each antigen genes:\")\n",
    "print(genes_counts)"
   ]
  },
  {
   "cell_type": "code",
   "execution_count": 25,
   "id": "01c6c732",
   "metadata": {
    "ExecuteTime": {
     "end_time": "2024-04-28T00:53:10.351759Z",
     "start_time": "2024-04-28T00:53:10.310342Z"
    }
   },
   "outputs": [
    {
     "data": {
      "text/plain": "       complex.id gene                  cdr3       v.segm      j.segm  \\\n0               1  TRA         CIVRAPGRADMRF  TRAV26-1*01   TRAJ43*01   \n1               1  TRB  CASSYLPGQGDHYSNQPQHF    TRBV13*01  TRBJ1-5*01   \n2               0  TRB   CASSFEAGQGFFSNQPQHF    TRBV13*01  TRBJ1-5*01   \n3               2  TRA        CAVPSGAGSYQLTF    TRAV20*01   TRAJ28*01   \n4               2  TRB   CASSFEPGQGFYSNQPQHF    TRBV13*01  TRBJ1-5*01   \n...           ...  ...                   ...          ...         ...   \n92352       30540  TRB       CASSDRGTGLNGYTF   TRBV6-4*01  TRBJ1-2*01   \n92353       30541  TRA       CAGLNYGGSQGNLIF    TRAV35*01   TRAJ42*01   \n92354       30541  TRB         CASGPGGMTEAFF   TRBV5-5*01  TRBJ1-1*01   \n92355           0  TRA       CAGQNYGGSQGNLIF    TRAV35*01   TRAJ42*01   \n92364           0  TRB      CASSQEGGGDGQPPHF   TRBV4-1*01  TRBJ1-5*01   \n\n           species          mhc.a          mhc.b mhc.class antigen.epitope  \\\n0      HomoSapiens       HLA-B*08            B2M      MHCI        FLKEKGGL   \n1      HomoSapiens       HLA-B*08            B2M      MHCI        FLKEKGGL   \n2      HomoSapiens       HLA-B*08            B2M      MHCI        FLKEKGGL   \n3      HomoSapiens       HLA-B*08            B2M      MHCI        FLKEKGGL   \n4      HomoSapiens       HLA-B*08            B2M      MHCI        FLKEKGGL   \n...            ...            ...            ...       ...             ...   \n92352  HomoSapiens  HLA-DPA*01:03  HLA-DPB*04:01     MHCII  TFEYVSQPFLMDLE   \n92353  HomoSapiens  HLA-DPA*01:03  HLA-DPB*04:01     MHCII  TFEYVSQPFLMDLE   \n92354  HomoSapiens  HLA-DPA*01:03  HLA-DPB*04:01     MHCII  TFEYVSQPFLMDLE   \n92355  HomoSapiens  HLA-DPA*01:03  HLA-DPB*04:01     MHCII  TFEYVSQPFLMDLE   \n92364  HomoSapiens    HLA-B*42:01            B2M      MHCI       TPQDLNTML   \n\n      antigen.gene antigen.species  vdjdb.score  cdr3_length  \n0              Nef           HIV-1            2           13  \n1              Nef           HIV-1            2           20  \n2              Nef           HIV-1            2           19  \n3              Nef           HIV-1            2           14  \n4              Nef           HIV-1            2           19  \n...            ...             ...          ...          ...  \n92352        Spike      SARS-CoV-2            0           15  \n92353        Spike      SARS-CoV-2            0           15  \n92354        Spike      SARS-CoV-2            0           13  \n92355        Spike      SARS-CoV-2            0           15  \n92364          Gag           HIV-1            0           16  \n\n[80017 rows x 14 columns]",
      "text/html": "<div>\n<style scoped>\n    .dataframe tbody tr th:only-of-type {\n        vertical-align: middle;\n    }\n\n    .dataframe tbody tr th {\n        vertical-align: top;\n    }\n\n    .dataframe thead th {\n        text-align: right;\n    }\n</style>\n<table border=\"1\" class=\"dataframe\">\n  <thead>\n    <tr style=\"text-align: right;\">\n      <th></th>\n      <th>complex.id</th>\n      <th>gene</th>\n      <th>cdr3</th>\n      <th>v.segm</th>\n      <th>j.segm</th>\n      <th>species</th>\n      <th>mhc.a</th>\n      <th>mhc.b</th>\n      <th>mhc.class</th>\n      <th>antigen.epitope</th>\n      <th>antigen.gene</th>\n      <th>antigen.species</th>\n      <th>vdjdb.score</th>\n      <th>cdr3_length</th>\n    </tr>\n  </thead>\n  <tbody>\n    <tr>\n      <th>0</th>\n      <td>1</td>\n      <td>TRA</td>\n      <td>CIVRAPGRADMRF</td>\n      <td>TRAV26-1*01</td>\n      <td>TRAJ43*01</td>\n      <td>HomoSapiens</td>\n      <td>HLA-B*08</td>\n      <td>B2M</td>\n      <td>MHCI</td>\n      <td>FLKEKGGL</td>\n      <td>Nef</td>\n      <td>HIV-1</td>\n      <td>2</td>\n      <td>13</td>\n    </tr>\n    <tr>\n      <th>1</th>\n      <td>1</td>\n      <td>TRB</td>\n      <td>CASSYLPGQGDHYSNQPQHF</td>\n      <td>TRBV13*01</td>\n      <td>TRBJ1-5*01</td>\n      <td>HomoSapiens</td>\n      <td>HLA-B*08</td>\n      <td>B2M</td>\n      <td>MHCI</td>\n      <td>FLKEKGGL</td>\n      <td>Nef</td>\n      <td>HIV-1</td>\n      <td>2</td>\n      <td>20</td>\n    </tr>\n    <tr>\n      <th>2</th>\n      <td>0</td>\n      <td>TRB</td>\n      <td>CASSFEAGQGFFSNQPQHF</td>\n      <td>TRBV13*01</td>\n      <td>TRBJ1-5*01</td>\n      <td>HomoSapiens</td>\n      <td>HLA-B*08</td>\n      <td>B2M</td>\n      <td>MHCI</td>\n      <td>FLKEKGGL</td>\n      <td>Nef</td>\n      <td>HIV-1</td>\n      <td>2</td>\n      <td>19</td>\n    </tr>\n    <tr>\n      <th>3</th>\n      <td>2</td>\n      <td>TRA</td>\n      <td>CAVPSGAGSYQLTF</td>\n      <td>TRAV20*01</td>\n      <td>TRAJ28*01</td>\n      <td>HomoSapiens</td>\n      <td>HLA-B*08</td>\n      <td>B2M</td>\n      <td>MHCI</td>\n      <td>FLKEKGGL</td>\n      <td>Nef</td>\n      <td>HIV-1</td>\n      <td>2</td>\n      <td>14</td>\n    </tr>\n    <tr>\n      <th>4</th>\n      <td>2</td>\n      <td>TRB</td>\n      <td>CASSFEPGQGFYSNQPQHF</td>\n      <td>TRBV13*01</td>\n      <td>TRBJ1-5*01</td>\n      <td>HomoSapiens</td>\n      <td>HLA-B*08</td>\n      <td>B2M</td>\n      <td>MHCI</td>\n      <td>FLKEKGGL</td>\n      <td>Nef</td>\n      <td>HIV-1</td>\n      <td>2</td>\n      <td>19</td>\n    </tr>\n    <tr>\n      <th>...</th>\n      <td>...</td>\n      <td>...</td>\n      <td>...</td>\n      <td>...</td>\n      <td>...</td>\n      <td>...</td>\n      <td>...</td>\n      <td>...</td>\n      <td>...</td>\n      <td>...</td>\n      <td>...</td>\n      <td>...</td>\n      <td>...</td>\n      <td>...</td>\n    </tr>\n    <tr>\n      <th>92352</th>\n      <td>30540</td>\n      <td>TRB</td>\n      <td>CASSDRGTGLNGYTF</td>\n      <td>TRBV6-4*01</td>\n      <td>TRBJ1-2*01</td>\n      <td>HomoSapiens</td>\n      <td>HLA-DPA*01:03</td>\n      <td>HLA-DPB*04:01</td>\n      <td>MHCII</td>\n      <td>TFEYVSQPFLMDLE</td>\n      <td>Spike</td>\n      <td>SARS-CoV-2</td>\n      <td>0</td>\n      <td>15</td>\n    </tr>\n    <tr>\n      <th>92353</th>\n      <td>30541</td>\n      <td>TRA</td>\n      <td>CAGLNYGGSQGNLIF</td>\n      <td>TRAV35*01</td>\n      <td>TRAJ42*01</td>\n      <td>HomoSapiens</td>\n      <td>HLA-DPA*01:03</td>\n      <td>HLA-DPB*04:01</td>\n      <td>MHCII</td>\n      <td>TFEYVSQPFLMDLE</td>\n      <td>Spike</td>\n      <td>SARS-CoV-2</td>\n      <td>0</td>\n      <td>15</td>\n    </tr>\n    <tr>\n      <th>92354</th>\n      <td>30541</td>\n      <td>TRB</td>\n      <td>CASGPGGMTEAFF</td>\n      <td>TRBV5-5*01</td>\n      <td>TRBJ1-1*01</td>\n      <td>HomoSapiens</td>\n      <td>HLA-DPA*01:03</td>\n      <td>HLA-DPB*04:01</td>\n      <td>MHCII</td>\n      <td>TFEYVSQPFLMDLE</td>\n      <td>Spike</td>\n      <td>SARS-CoV-2</td>\n      <td>0</td>\n      <td>13</td>\n    </tr>\n    <tr>\n      <th>92355</th>\n      <td>0</td>\n      <td>TRA</td>\n      <td>CAGQNYGGSQGNLIF</td>\n      <td>TRAV35*01</td>\n      <td>TRAJ42*01</td>\n      <td>HomoSapiens</td>\n      <td>HLA-DPA*01:03</td>\n      <td>HLA-DPB*04:01</td>\n      <td>MHCII</td>\n      <td>TFEYVSQPFLMDLE</td>\n      <td>Spike</td>\n      <td>SARS-CoV-2</td>\n      <td>0</td>\n      <td>15</td>\n    </tr>\n    <tr>\n      <th>92364</th>\n      <td>0</td>\n      <td>TRB</td>\n      <td>CASSQEGGGDGQPPHF</td>\n      <td>TRBV4-1*01</td>\n      <td>TRBJ1-5*01</td>\n      <td>HomoSapiens</td>\n      <td>HLA-B*42:01</td>\n      <td>B2M</td>\n      <td>MHCI</td>\n      <td>TPQDLNTML</td>\n      <td>Gag</td>\n      <td>HIV-1</td>\n      <td>0</td>\n      <td>16</td>\n    </tr>\n  </tbody>\n</table>\n<p>80017 rows × 14 columns</p>\n</div>"
     },
     "execution_count": 25,
     "metadata": {},
     "output_type": "execute_result"
    }
   ],
   "source": [
    "# Calculate the counts for each antigen.gene\n",
    "gene_counts = df['antigen.gene'].value_counts()\n",
    "\n",
    "# Find the antigen.gene values with counts of at least 100\n",
    "genes_with_sufficient_count = gene_counts[gene_counts >= 100].index\n",
    "\n",
    "# Filter the DataFrame to only include rows with these antigen.gene values\n",
    "df = df[df['antigen.gene'].isin(genes_with_sufficient_count)]\n",
    "\n",
    "df"
   ]
  },
  {
   "cell_type": "code",
   "execution_count": 26,
   "id": "7e90a143",
   "metadata": {
    "ExecuteTime": {
     "end_time": "2024-04-28T00:53:10.557260Z",
     "start_time": "2024-04-28T00:53:10.523820Z"
    }
   },
   "outputs": [
    {
     "data": {
      "text/plain": "       complex.id gene                  cdr3       v.segm      j.segm  \\\n0               1  TRA         CIVRAPGRADMRF  TRAV26-1*01   TRAJ43*01   \n1               1  TRB  CASSYLPGQGDHYSNQPQHF    TRBV13*01  TRBJ1-5*01   \n3               2  TRA        CAVPSGAGSYQLTF    TRAV20*01   TRAJ28*01   \n4               2  TRB   CASSFEPGQGFYSNQPQHF    TRBV13*01  TRBJ1-5*01   \n6               3  TRB  CASSYEPGQVSHYSNQPQHF    TRBV13*01  TRBJ1-5*01   \n...           ...  ...                   ...          ...         ...   \n92349       30539  TRB     CASSWRQGGSIRESYTF   TRBV5-5*01  TRBJ1-2*01   \n92351       30540  TRA       CAALNYGGSQGNLIF    TRAV35*01   TRAJ42*01   \n92352       30540  TRB       CASSDRGTGLNGYTF   TRBV6-4*01  TRBJ1-2*01   \n92353       30541  TRA       CAGLNYGGSQGNLIF    TRAV35*01   TRAJ42*01   \n92354       30541  TRB         CASGPGGMTEAFF   TRBV5-5*01  TRBJ1-1*01   \n\n           species          mhc.a          mhc.b mhc.class antigen.epitope  \\\n0      HomoSapiens       HLA-B*08            B2M      MHCI        FLKEKGGL   \n1      HomoSapiens       HLA-B*08            B2M      MHCI        FLKEKGGL   \n3      HomoSapiens       HLA-B*08            B2M      MHCI        FLKEKGGL   \n4      HomoSapiens       HLA-B*08            B2M      MHCI        FLKEKGGL   \n6      HomoSapiens       HLA-B*08            B2M      MHCI        FLKEKGGL   \n...            ...            ...            ...       ...             ...   \n92349  HomoSapiens  HLA-DPA*01:03  HLA-DPB*04:01     MHCII  TFEYVSQPFLMDLE   \n92351  HomoSapiens  HLA-DPA*01:03  HLA-DPB*04:01     MHCII  TFEYVSQPFLMDLE   \n92352  HomoSapiens  HLA-DPA*01:03  HLA-DPB*04:01     MHCII  TFEYVSQPFLMDLE   \n92353  HomoSapiens  HLA-DPA*01:03  HLA-DPB*04:01     MHCII  TFEYVSQPFLMDLE   \n92354  HomoSapiens  HLA-DPA*01:03  HLA-DPB*04:01     MHCII  TFEYVSQPFLMDLE   \n\n      antigen.gene antigen.species  vdjdb.score  cdr3_length  \n0              Nef           HIV-1            2           13  \n1              Nef           HIV-1            2           20  \n3              Nef           HIV-1            2           14  \n4              Nef           HIV-1            2           19  \n6              Nef           HIV-1            2           20  \n...            ...             ...          ...          ...  \n92349        Spike      SARS-CoV-2            0           17  \n92351        Spike      SARS-CoV-2            0           15  \n92352        Spike      SARS-CoV-2            0           15  \n92353        Spike      SARS-CoV-2            0           15  \n92354        Spike      SARS-CoV-2            0           13  \n\n[55708 rows x 14 columns]",
      "text/html": "<div>\n<style scoped>\n    .dataframe tbody tr th:only-of-type {\n        vertical-align: middle;\n    }\n\n    .dataframe tbody tr th {\n        vertical-align: top;\n    }\n\n    .dataframe thead th {\n        text-align: right;\n    }\n</style>\n<table border=\"1\" class=\"dataframe\">\n  <thead>\n    <tr style=\"text-align: right;\">\n      <th></th>\n      <th>complex.id</th>\n      <th>gene</th>\n      <th>cdr3</th>\n      <th>v.segm</th>\n      <th>j.segm</th>\n      <th>species</th>\n      <th>mhc.a</th>\n      <th>mhc.b</th>\n      <th>mhc.class</th>\n      <th>antigen.epitope</th>\n      <th>antigen.gene</th>\n      <th>antigen.species</th>\n      <th>vdjdb.score</th>\n      <th>cdr3_length</th>\n    </tr>\n  </thead>\n  <tbody>\n    <tr>\n      <th>0</th>\n      <td>1</td>\n      <td>TRA</td>\n      <td>CIVRAPGRADMRF</td>\n      <td>TRAV26-1*01</td>\n      <td>TRAJ43*01</td>\n      <td>HomoSapiens</td>\n      <td>HLA-B*08</td>\n      <td>B2M</td>\n      <td>MHCI</td>\n      <td>FLKEKGGL</td>\n      <td>Nef</td>\n      <td>HIV-1</td>\n      <td>2</td>\n      <td>13</td>\n    </tr>\n    <tr>\n      <th>1</th>\n      <td>1</td>\n      <td>TRB</td>\n      <td>CASSYLPGQGDHYSNQPQHF</td>\n      <td>TRBV13*01</td>\n      <td>TRBJ1-5*01</td>\n      <td>HomoSapiens</td>\n      <td>HLA-B*08</td>\n      <td>B2M</td>\n      <td>MHCI</td>\n      <td>FLKEKGGL</td>\n      <td>Nef</td>\n      <td>HIV-1</td>\n      <td>2</td>\n      <td>20</td>\n    </tr>\n    <tr>\n      <th>3</th>\n      <td>2</td>\n      <td>TRA</td>\n      <td>CAVPSGAGSYQLTF</td>\n      <td>TRAV20*01</td>\n      <td>TRAJ28*01</td>\n      <td>HomoSapiens</td>\n      <td>HLA-B*08</td>\n      <td>B2M</td>\n      <td>MHCI</td>\n      <td>FLKEKGGL</td>\n      <td>Nef</td>\n      <td>HIV-1</td>\n      <td>2</td>\n      <td>14</td>\n    </tr>\n    <tr>\n      <th>4</th>\n      <td>2</td>\n      <td>TRB</td>\n      <td>CASSFEPGQGFYSNQPQHF</td>\n      <td>TRBV13*01</td>\n      <td>TRBJ1-5*01</td>\n      <td>HomoSapiens</td>\n      <td>HLA-B*08</td>\n      <td>B2M</td>\n      <td>MHCI</td>\n      <td>FLKEKGGL</td>\n      <td>Nef</td>\n      <td>HIV-1</td>\n      <td>2</td>\n      <td>19</td>\n    </tr>\n    <tr>\n      <th>6</th>\n      <td>3</td>\n      <td>TRB</td>\n      <td>CASSYEPGQVSHYSNQPQHF</td>\n      <td>TRBV13*01</td>\n      <td>TRBJ1-5*01</td>\n      <td>HomoSapiens</td>\n      <td>HLA-B*08</td>\n      <td>B2M</td>\n      <td>MHCI</td>\n      <td>FLKEKGGL</td>\n      <td>Nef</td>\n      <td>HIV-1</td>\n      <td>2</td>\n      <td>20</td>\n    </tr>\n    <tr>\n      <th>...</th>\n      <td>...</td>\n      <td>...</td>\n      <td>...</td>\n      <td>...</td>\n      <td>...</td>\n      <td>...</td>\n      <td>...</td>\n      <td>...</td>\n      <td>...</td>\n      <td>...</td>\n      <td>...</td>\n      <td>...</td>\n      <td>...</td>\n      <td>...</td>\n    </tr>\n    <tr>\n      <th>92349</th>\n      <td>30539</td>\n      <td>TRB</td>\n      <td>CASSWRQGGSIRESYTF</td>\n      <td>TRBV5-5*01</td>\n      <td>TRBJ1-2*01</td>\n      <td>HomoSapiens</td>\n      <td>HLA-DPA*01:03</td>\n      <td>HLA-DPB*04:01</td>\n      <td>MHCII</td>\n      <td>TFEYVSQPFLMDLE</td>\n      <td>Spike</td>\n      <td>SARS-CoV-2</td>\n      <td>0</td>\n      <td>17</td>\n    </tr>\n    <tr>\n      <th>92351</th>\n      <td>30540</td>\n      <td>TRA</td>\n      <td>CAALNYGGSQGNLIF</td>\n      <td>TRAV35*01</td>\n      <td>TRAJ42*01</td>\n      <td>HomoSapiens</td>\n      <td>HLA-DPA*01:03</td>\n      <td>HLA-DPB*04:01</td>\n      <td>MHCII</td>\n      <td>TFEYVSQPFLMDLE</td>\n      <td>Spike</td>\n      <td>SARS-CoV-2</td>\n      <td>0</td>\n      <td>15</td>\n    </tr>\n    <tr>\n      <th>92352</th>\n      <td>30540</td>\n      <td>TRB</td>\n      <td>CASSDRGTGLNGYTF</td>\n      <td>TRBV6-4*01</td>\n      <td>TRBJ1-2*01</td>\n      <td>HomoSapiens</td>\n      <td>HLA-DPA*01:03</td>\n      <td>HLA-DPB*04:01</td>\n      <td>MHCII</td>\n      <td>TFEYVSQPFLMDLE</td>\n      <td>Spike</td>\n      <td>SARS-CoV-2</td>\n      <td>0</td>\n      <td>15</td>\n    </tr>\n    <tr>\n      <th>92353</th>\n      <td>30541</td>\n      <td>TRA</td>\n      <td>CAGLNYGGSQGNLIF</td>\n      <td>TRAV35*01</td>\n      <td>TRAJ42*01</td>\n      <td>HomoSapiens</td>\n      <td>HLA-DPA*01:03</td>\n      <td>HLA-DPB*04:01</td>\n      <td>MHCII</td>\n      <td>TFEYVSQPFLMDLE</td>\n      <td>Spike</td>\n      <td>SARS-CoV-2</td>\n      <td>0</td>\n      <td>15</td>\n    </tr>\n    <tr>\n      <th>92354</th>\n      <td>30541</td>\n      <td>TRB</td>\n      <td>CASGPGGMTEAFF</td>\n      <td>TRBV5-5*01</td>\n      <td>TRBJ1-1*01</td>\n      <td>HomoSapiens</td>\n      <td>HLA-DPA*01:03</td>\n      <td>HLA-DPB*04:01</td>\n      <td>MHCII</td>\n      <td>TFEYVSQPFLMDLE</td>\n      <td>Spike</td>\n      <td>SARS-CoV-2</td>\n      <td>0</td>\n      <td>13</td>\n    </tr>\n  </tbody>\n</table>\n<p>55708 rows × 14 columns</p>\n</div>"
     },
     "execution_count": 26,
     "metadata": {},
     "output_type": "execute_result"
    }
   ],
   "source": [
    "df = df[df['complex.id'] != 0]\n",
    "df"
   ]
  },
  {
   "cell_type": "code",
   "execution_count": 27,
   "id": "ac3954ac",
   "metadata": {
    "ExecuteTime": {
     "end_time": "2024-04-28T00:53:10.794661Z",
     "start_time": "2024-04-28T00:53:10.773718Z"
    }
   },
   "outputs": [
    {
     "data": {
      "text/plain": "(HomoSapiens    51535\n MusMusculus     4173\n Name: species, dtype: int64,\n TRB    28195\n TRA    27513\n Name: gene, dtype: int64,\n MHCI     54719\n MHCII      989\n Name: mhc.class, dtype: int64)"
     },
     "execution_count": 27,
     "metadata": {},
     "output_type": "execute_result"
    }
   ],
   "source": [
    "# Calculate the counts for 'species', 'genes', and 'mhc.class'\n",
    "species_counts = df['species'].value_counts()\n",
    "genes_counts = df['gene'].value_counts()\n",
    "mhc_class_counts = df['mhc.class'].value_counts()\n",
    "\n",
    "species_counts, genes_counts, mhc_class_counts"
   ]
  },
  {
   "cell_type": "markdown",
   "id": "16b08719",
   "metadata": {},
   "source": [
    "Filtering the data by keeping rows that have data only on Humans as we want to do our further analysis only on Human Data"
   ]
  },
  {
   "cell_type": "code",
   "execution_count": 28,
   "id": "f959630a",
   "metadata": {
    "ExecuteTime": {
     "end_time": "2024-04-28T00:53:11.125336Z",
     "start_time": "2024-04-28T00:53:11.099404Z"
    }
   },
   "outputs": [
    {
     "data": {
      "text/plain": "       complex.id gene                  cdr3       v.segm      j.segm  \\\n0               1  TRA         CIVRAPGRADMRF  TRAV26-1*01   TRAJ43*01   \n1               1  TRB  CASSYLPGQGDHYSNQPQHF    TRBV13*01  TRBJ1-5*01   \n3               2  TRA        CAVPSGAGSYQLTF    TRAV20*01   TRAJ28*01   \n4               2  TRB   CASSFEPGQGFYSNQPQHF    TRBV13*01  TRBJ1-5*01   \n6               3  TRB  CASSYEPGQVSHYSNQPQHF    TRBV13*01  TRBJ1-5*01   \n...           ...  ...                   ...          ...         ...   \n92349       30539  TRB     CASSWRQGGSIRESYTF   TRBV5-5*01  TRBJ1-2*01   \n92351       30540  TRA       CAALNYGGSQGNLIF    TRAV35*01   TRAJ42*01   \n92352       30540  TRB       CASSDRGTGLNGYTF   TRBV6-4*01  TRBJ1-2*01   \n92353       30541  TRA       CAGLNYGGSQGNLIF    TRAV35*01   TRAJ42*01   \n92354       30541  TRB         CASGPGGMTEAFF   TRBV5-5*01  TRBJ1-1*01   \n\n           species          mhc.a          mhc.b mhc.class antigen.epitope  \\\n0      HomoSapiens       HLA-B*08            B2M      MHCI        FLKEKGGL   \n1      HomoSapiens       HLA-B*08            B2M      MHCI        FLKEKGGL   \n3      HomoSapiens       HLA-B*08            B2M      MHCI        FLKEKGGL   \n4      HomoSapiens       HLA-B*08            B2M      MHCI        FLKEKGGL   \n6      HomoSapiens       HLA-B*08            B2M      MHCI        FLKEKGGL   \n...            ...            ...            ...       ...             ...   \n92349  HomoSapiens  HLA-DPA*01:03  HLA-DPB*04:01     MHCII  TFEYVSQPFLMDLE   \n92351  HomoSapiens  HLA-DPA*01:03  HLA-DPB*04:01     MHCII  TFEYVSQPFLMDLE   \n92352  HomoSapiens  HLA-DPA*01:03  HLA-DPB*04:01     MHCII  TFEYVSQPFLMDLE   \n92353  HomoSapiens  HLA-DPA*01:03  HLA-DPB*04:01     MHCII  TFEYVSQPFLMDLE   \n92354  HomoSapiens  HLA-DPA*01:03  HLA-DPB*04:01     MHCII  TFEYVSQPFLMDLE   \n\n      antigen.gene antigen.species  vdjdb.score  cdr3_length  \n0              Nef           HIV-1            2           13  \n1              Nef           HIV-1            2           20  \n3              Nef           HIV-1            2           14  \n4              Nef           HIV-1            2           19  \n6              Nef           HIV-1            2           20  \n...            ...             ...          ...          ...  \n92349        Spike      SARS-CoV-2            0           17  \n92351        Spike      SARS-CoV-2            0           15  \n92352        Spike      SARS-CoV-2            0           15  \n92353        Spike      SARS-CoV-2            0           15  \n92354        Spike      SARS-CoV-2            0           13  \n\n[51535 rows x 14 columns]",
      "text/html": "<div>\n<style scoped>\n    .dataframe tbody tr th:only-of-type {\n        vertical-align: middle;\n    }\n\n    .dataframe tbody tr th {\n        vertical-align: top;\n    }\n\n    .dataframe thead th {\n        text-align: right;\n    }\n</style>\n<table border=\"1\" class=\"dataframe\">\n  <thead>\n    <tr style=\"text-align: right;\">\n      <th></th>\n      <th>complex.id</th>\n      <th>gene</th>\n      <th>cdr3</th>\n      <th>v.segm</th>\n      <th>j.segm</th>\n      <th>species</th>\n      <th>mhc.a</th>\n      <th>mhc.b</th>\n      <th>mhc.class</th>\n      <th>antigen.epitope</th>\n      <th>antigen.gene</th>\n      <th>antigen.species</th>\n      <th>vdjdb.score</th>\n      <th>cdr3_length</th>\n    </tr>\n  </thead>\n  <tbody>\n    <tr>\n      <th>0</th>\n      <td>1</td>\n      <td>TRA</td>\n      <td>CIVRAPGRADMRF</td>\n      <td>TRAV26-1*01</td>\n      <td>TRAJ43*01</td>\n      <td>HomoSapiens</td>\n      <td>HLA-B*08</td>\n      <td>B2M</td>\n      <td>MHCI</td>\n      <td>FLKEKGGL</td>\n      <td>Nef</td>\n      <td>HIV-1</td>\n      <td>2</td>\n      <td>13</td>\n    </tr>\n    <tr>\n      <th>1</th>\n      <td>1</td>\n      <td>TRB</td>\n      <td>CASSYLPGQGDHYSNQPQHF</td>\n      <td>TRBV13*01</td>\n      <td>TRBJ1-5*01</td>\n      <td>HomoSapiens</td>\n      <td>HLA-B*08</td>\n      <td>B2M</td>\n      <td>MHCI</td>\n      <td>FLKEKGGL</td>\n      <td>Nef</td>\n      <td>HIV-1</td>\n      <td>2</td>\n      <td>20</td>\n    </tr>\n    <tr>\n      <th>3</th>\n      <td>2</td>\n      <td>TRA</td>\n      <td>CAVPSGAGSYQLTF</td>\n      <td>TRAV20*01</td>\n      <td>TRAJ28*01</td>\n      <td>HomoSapiens</td>\n      <td>HLA-B*08</td>\n      <td>B2M</td>\n      <td>MHCI</td>\n      <td>FLKEKGGL</td>\n      <td>Nef</td>\n      <td>HIV-1</td>\n      <td>2</td>\n      <td>14</td>\n    </tr>\n    <tr>\n      <th>4</th>\n      <td>2</td>\n      <td>TRB</td>\n      <td>CASSFEPGQGFYSNQPQHF</td>\n      <td>TRBV13*01</td>\n      <td>TRBJ1-5*01</td>\n      <td>HomoSapiens</td>\n      <td>HLA-B*08</td>\n      <td>B2M</td>\n      <td>MHCI</td>\n      <td>FLKEKGGL</td>\n      <td>Nef</td>\n      <td>HIV-1</td>\n      <td>2</td>\n      <td>19</td>\n    </tr>\n    <tr>\n      <th>6</th>\n      <td>3</td>\n      <td>TRB</td>\n      <td>CASSYEPGQVSHYSNQPQHF</td>\n      <td>TRBV13*01</td>\n      <td>TRBJ1-5*01</td>\n      <td>HomoSapiens</td>\n      <td>HLA-B*08</td>\n      <td>B2M</td>\n      <td>MHCI</td>\n      <td>FLKEKGGL</td>\n      <td>Nef</td>\n      <td>HIV-1</td>\n      <td>2</td>\n      <td>20</td>\n    </tr>\n    <tr>\n      <th>...</th>\n      <td>...</td>\n      <td>...</td>\n      <td>...</td>\n      <td>...</td>\n      <td>...</td>\n      <td>...</td>\n      <td>...</td>\n      <td>...</td>\n      <td>...</td>\n      <td>...</td>\n      <td>...</td>\n      <td>...</td>\n      <td>...</td>\n      <td>...</td>\n    </tr>\n    <tr>\n      <th>92349</th>\n      <td>30539</td>\n      <td>TRB</td>\n      <td>CASSWRQGGSIRESYTF</td>\n      <td>TRBV5-5*01</td>\n      <td>TRBJ1-2*01</td>\n      <td>HomoSapiens</td>\n      <td>HLA-DPA*01:03</td>\n      <td>HLA-DPB*04:01</td>\n      <td>MHCII</td>\n      <td>TFEYVSQPFLMDLE</td>\n      <td>Spike</td>\n      <td>SARS-CoV-2</td>\n      <td>0</td>\n      <td>17</td>\n    </tr>\n    <tr>\n      <th>92351</th>\n      <td>30540</td>\n      <td>TRA</td>\n      <td>CAALNYGGSQGNLIF</td>\n      <td>TRAV35*01</td>\n      <td>TRAJ42*01</td>\n      <td>HomoSapiens</td>\n      <td>HLA-DPA*01:03</td>\n      <td>HLA-DPB*04:01</td>\n      <td>MHCII</td>\n      <td>TFEYVSQPFLMDLE</td>\n      <td>Spike</td>\n      <td>SARS-CoV-2</td>\n      <td>0</td>\n      <td>15</td>\n    </tr>\n    <tr>\n      <th>92352</th>\n      <td>30540</td>\n      <td>TRB</td>\n      <td>CASSDRGTGLNGYTF</td>\n      <td>TRBV6-4*01</td>\n      <td>TRBJ1-2*01</td>\n      <td>HomoSapiens</td>\n      <td>HLA-DPA*01:03</td>\n      <td>HLA-DPB*04:01</td>\n      <td>MHCII</td>\n      <td>TFEYVSQPFLMDLE</td>\n      <td>Spike</td>\n      <td>SARS-CoV-2</td>\n      <td>0</td>\n      <td>15</td>\n    </tr>\n    <tr>\n      <th>92353</th>\n      <td>30541</td>\n      <td>TRA</td>\n      <td>CAGLNYGGSQGNLIF</td>\n      <td>TRAV35*01</td>\n      <td>TRAJ42*01</td>\n      <td>HomoSapiens</td>\n      <td>HLA-DPA*01:03</td>\n      <td>HLA-DPB*04:01</td>\n      <td>MHCII</td>\n      <td>TFEYVSQPFLMDLE</td>\n      <td>Spike</td>\n      <td>SARS-CoV-2</td>\n      <td>0</td>\n      <td>15</td>\n    </tr>\n    <tr>\n      <th>92354</th>\n      <td>30541</td>\n      <td>TRB</td>\n      <td>CASGPGGMTEAFF</td>\n      <td>TRBV5-5*01</td>\n      <td>TRBJ1-1*01</td>\n      <td>HomoSapiens</td>\n      <td>HLA-DPA*01:03</td>\n      <td>HLA-DPB*04:01</td>\n      <td>MHCII</td>\n      <td>TFEYVSQPFLMDLE</td>\n      <td>Spike</td>\n      <td>SARS-CoV-2</td>\n      <td>0</td>\n      <td>13</td>\n    </tr>\n  </tbody>\n</table>\n<p>51535 rows × 14 columns</p>\n</div>"
     },
     "execution_count": 28,
     "metadata": {},
     "output_type": "execute_result"
    }
   ],
   "source": [
    "# Filter the DataFrame for human species\n",
    "df = df[df['species'] == 'HomoSapiens']\n",
    "\n",
    "# The resulting DataFrame 'df' now only contains rows with human species \n",
    "df"
   ]
  },
  {
   "cell_type": "markdown",
   "id": "9bb1992d",
   "metadata": {},
   "source": [
    "We can now drop columns like complex.id, species(since we are only taking human species), and cdr3_length"
   ]
  },
  {
   "cell_type": "code",
   "execution_count": 29,
   "id": "2333929a",
   "metadata": {
    "ExecuteTime": {
     "end_time": "2024-04-28T00:53:11.454539Z",
     "start_time": "2024-04-28T00:53:11.414129Z"
    }
   },
   "outputs": [
    {
     "name": "stderr",
     "output_type": "stream",
     "text": [
      "D:\\Program Files (x86)\\python39\\lib\\site-packages\\pandas\\core\\frame.py:4901: SettingWithCopyWarning: \n",
      "A value is trying to be set on a copy of a slice from a DataFrame\n",
      "\n",
      "See the caveats in the documentation: https://pandas.pydata.org/pandas-docs/stable/user_guide/indexing.html#returning-a-view-versus-a-copy\n",
      "  return super().drop(\n"
     ]
    },
    {
     "data": {
      "text/plain": "      gene                  cdr3       v.segm      j.segm          mhc.a  \\\n0      TRA         CIVRAPGRADMRF  TRAV26-1*01   TRAJ43*01       HLA-B*08   \n1      TRB  CASSYLPGQGDHYSNQPQHF    TRBV13*01  TRBJ1-5*01       HLA-B*08   \n3      TRA        CAVPSGAGSYQLTF    TRAV20*01   TRAJ28*01       HLA-B*08   \n4      TRB   CASSFEPGQGFYSNQPQHF    TRBV13*01  TRBJ1-5*01       HLA-B*08   \n6      TRB  CASSYEPGQVSHYSNQPQHF    TRBV13*01  TRBJ1-5*01       HLA-B*08   \n...    ...                   ...          ...         ...            ...   \n92349  TRB     CASSWRQGGSIRESYTF   TRBV5-5*01  TRBJ1-2*01  HLA-DPA*01:03   \n92351  TRA       CAALNYGGSQGNLIF    TRAV35*01   TRAJ42*01  HLA-DPA*01:03   \n92352  TRB       CASSDRGTGLNGYTF   TRBV6-4*01  TRBJ1-2*01  HLA-DPA*01:03   \n92353  TRA       CAGLNYGGSQGNLIF    TRAV35*01   TRAJ42*01  HLA-DPA*01:03   \n92354  TRB         CASGPGGMTEAFF   TRBV5-5*01  TRBJ1-1*01  HLA-DPA*01:03   \n\n               mhc.b mhc.class antigen.epitope antigen.gene antigen.species  \\\n0                B2M      MHCI        FLKEKGGL          Nef           HIV-1   \n1                B2M      MHCI        FLKEKGGL          Nef           HIV-1   \n3                B2M      MHCI        FLKEKGGL          Nef           HIV-1   \n4                B2M      MHCI        FLKEKGGL          Nef           HIV-1   \n6                B2M      MHCI        FLKEKGGL          Nef           HIV-1   \n...              ...       ...             ...          ...             ...   \n92349  HLA-DPB*04:01     MHCII  TFEYVSQPFLMDLE        Spike      SARS-CoV-2   \n92351  HLA-DPB*04:01     MHCII  TFEYVSQPFLMDLE        Spike      SARS-CoV-2   \n92352  HLA-DPB*04:01     MHCII  TFEYVSQPFLMDLE        Spike      SARS-CoV-2   \n92353  HLA-DPB*04:01     MHCII  TFEYVSQPFLMDLE        Spike      SARS-CoV-2   \n92354  HLA-DPB*04:01     MHCII  TFEYVSQPFLMDLE        Spike      SARS-CoV-2   \n\n       vdjdb.score  \n0                2  \n1                2  \n3                2  \n4                2  \n6                2  \n...            ...  \n92349            0  \n92351            0  \n92352            0  \n92353            0  \n92354            0  \n\n[51535 rows x 11 columns]",
      "text/html": "<div>\n<style scoped>\n    .dataframe tbody tr th:only-of-type {\n        vertical-align: middle;\n    }\n\n    .dataframe tbody tr th {\n        vertical-align: top;\n    }\n\n    .dataframe thead th {\n        text-align: right;\n    }\n</style>\n<table border=\"1\" class=\"dataframe\">\n  <thead>\n    <tr style=\"text-align: right;\">\n      <th></th>\n      <th>gene</th>\n      <th>cdr3</th>\n      <th>v.segm</th>\n      <th>j.segm</th>\n      <th>mhc.a</th>\n      <th>mhc.b</th>\n      <th>mhc.class</th>\n      <th>antigen.epitope</th>\n      <th>antigen.gene</th>\n      <th>antigen.species</th>\n      <th>vdjdb.score</th>\n    </tr>\n  </thead>\n  <tbody>\n    <tr>\n      <th>0</th>\n      <td>TRA</td>\n      <td>CIVRAPGRADMRF</td>\n      <td>TRAV26-1*01</td>\n      <td>TRAJ43*01</td>\n      <td>HLA-B*08</td>\n      <td>B2M</td>\n      <td>MHCI</td>\n      <td>FLKEKGGL</td>\n      <td>Nef</td>\n      <td>HIV-1</td>\n      <td>2</td>\n    </tr>\n    <tr>\n      <th>1</th>\n      <td>TRB</td>\n      <td>CASSYLPGQGDHYSNQPQHF</td>\n      <td>TRBV13*01</td>\n      <td>TRBJ1-5*01</td>\n      <td>HLA-B*08</td>\n      <td>B2M</td>\n      <td>MHCI</td>\n      <td>FLKEKGGL</td>\n      <td>Nef</td>\n      <td>HIV-1</td>\n      <td>2</td>\n    </tr>\n    <tr>\n      <th>3</th>\n      <td>TRA</td>\n      <td>CAVPSGAGSYQLTF</td>\n      <td>TRAV20*01</td>\n      <td>TRAJ28*01</td>\n      <td>HLA-B*08</td>\n      <td>B2M</td>\n      <td>MHCI</td>\n      <td>FLKEKGGL</td>\n      <td>Nef</td>\n      <td>HIV-1</td>\n      <td>2</td>\n    </tr>\n    <tr>\n      <th>4</th>\n      <td>TRB</td>\n      <td>CASSFEPGQGFYSNQPQHF</td>\n      <td>TRBV13*01</td>\n      <td>TRBJ1-5*01</td>\n      <td>HLA-B*08</td>\n      <td>B2M</td>\n      <td>MHCI</td>\n      <td>FLKEKGGL</td>\n      <td>Nef</td>\n      <td>HIV-1</td>\n      <td>2</td>\n    </tr>\n    <tr>\n      <th>6</th>\n      <td>TRB</td>\n      <td>CASSYEPGQVSHYSNQPQHF</td>\n      <td>TRBV13*01</td>\n      <td>TRBJ1-5*01</td>\n      <td>HLA-B*08</td>\n      <td>B2M</td>\n      <td>MHCI</td>\n      <td>FLKEKGGL</td>\n      <td>Nef</td>\n      <td>HIV-1</td>\n      <td>2</td>\n    </tr>\n    <tr>\n      <th>...</th>\n      <td>...</td>\n      <td>...</td>\n      <td>...</td>\n      <td>...</td>\n      <td>...</td>\n      <td>...</td>\n      <td>...</td>\n      <td>...</td>\n      <td>...</td>\n      <td>...</td>\n      <td>...</td>\n    </tr>\n    <tr>\n      <th>92349</th>\n      <td>TRB</td>\n      <td>CASSWRQGGSIRESYTF</td>\n      <td>TRBV5-5*01</td>\n      <td>TRBJ1-2*01</td>\n      <td>HLA-DPA*01:03</td>\n      <td>HLA-DPB*04:01</td>\n      <td>MHCII</td>\n      <td>TFEYVSQPFLMDLE</td>\n      <td>Spike</td>\n      <td>SARS-CoV-2</td>\n      <td>0</td>\n    </tr>\n    <tr>\n      <th>92351</th>\n      <td>TRA</td>\n      <td>CAALNYGGSQGNLIF</td>\n      <td>TRAV35*01</td>\n      <td>TRAJ42*01</td>\n      <td>HLA-DPA*01:03</td>\n      <td>HLA-DPB*04:01</td>\n      <td>MHCII</td>\n      <td>TFEYVSQPFLMDLE</td>\n      <td>Spike</td>\n      <td>SARS-CoV-2</td>\n      <td>0</td>\n    </tr>\n    <tr>\n      <th>92352</th>\n      <td>TRB</td>\n      <td>CASSDRGTGLNGYTF</td>\n      <td>TRBV6-4*01</td>\n      <td>TRBJ1-2*01</td>\n      <td>HLA-DPA*01:03</td>\n      <td>HLA-DPB*04:01</td>\n      <td>MHCII</td>\n      <td>TFEYVSQPFLMDLE</td>\n      <td>Spike</td>\n      <td>SARS-CoV-2</td>\n      <td>0</td>\n    </tr>\n    <tr>\n      <th>92353</th>\n      <td>TRA</td>\n      <td>CAGLNYGGSQGNLIF</td>\n      <td>TRAV35*01</td>\n      <td>TRAJ42*01</td>\n      <td>HLA-DPA*01:03</td>\n      <td>HLA-DPB*04:01</td>\n      <td>MHCII</td>\n      <td>TFEYVSQPFLMDLE</td>\n      <td>Spike</td>\n      <td>SARS-CoV-2</td>\n      <td>0</td>\n    </tr>\n    <tr>\n      <th>92354</th>\n      <td>TRB</td>\n      <td>CASGPGGMTEAFF</td>\n      <td>TRBV5-5*01</td>\n      <td>TRBJ1-1*01</td>\n      <td>HLA-DPA*01:03</td>\n      <td>HLA-DPB*04:01</td>\n      <td>MHCII</td>\n      <td>TFEYVSQPFLMDLE</td>\n      <td>Spike</td>\n      <td>SARS-CoV-2</td>\n      <td>0</td>\n    </tr>\n  </tbody>\n</table>\n<p>51535 rows × 11 columns</p>\n</div>"
     },
     "execution_count": 29,
     "metadata": {},
     "output_type": "execute_result"
    }
   ],
   "source": [
    "df.drop(['complex.id','species','cdr3_length'], axis=1, inplace=True)\n",
    "df"
   ]
  },
  {
   "cell_type": "code",
   "execution_count": 30,
   "id": "abf26679",
   "metadata": {
    "ExecuteTime": {
     "end_time": "2024-04-28T00:53:11.659059Z",
     "start_time": "2024-04-28T00:53:11.640592Z"
    }
   },
   "outputs": [
    {
     "data": {
      "text/plain": "(HLA-A*03:01         28549\n HLA-A*02:01          9464\n HLA-A*11:01          4898\n HLA-B*08:01          2518\n HLA-A*01:01          1586\n HLA-B*07:02          1289\n HLA-DPA*01:03         818\n HLA-A*24:02           450\n HLA-B*57:01           384\n HLA-A*02              282\n HLA-A*68:01           206\n HLA-B*15:01           192\n HLA-A*24:01           153\n HLA-B*40:01           137\n HLA-A*08:01           124\n HLA-DRA*01:01         121\n HLA-A*02:01:48         70\n HLA-B*35:01            48\n HLA-A*11               34\n HLA-B*51:01            34\n HLA-B*44:02            33\n HLA-DRB1*04:05         32\n HLA-B*08               25\n HLA-B*07               18\n HLA-B*35:08            12\n HLA-DRB1*11:01         10\n HLA-B*35:08:01          8\n HLA-B*08:01:29          8\n HLA-DRA*01:02:03        8\n HLA-B*27:05:31          4\n HLA-B*35:42:01          4\n HLA-B*42:01             2\n HLA-B*81:01             2\n HLA-B*07:02:48          2\n HLA-A*02:01:59          2\n HLA-A*02:01:110         2\n HLA-B*51:193            2\n HLA-A*02:01:98          2\n HLA-B*57:06             2\n Name: mhc.a, dtype: int64,\n B2M                  50546\n HLA-DPB*04:01          818\n HLA-DRB1*04:01         121\n HLA-DRA*01:01           42\n HLA-DRB1*01:01:01        6\n HLA-DRB1*04:01:01        2\n Name: mhc.b, dtype: int64)"
     },
     "execution_count": 30,
     "metadata": {},
     "output_type": "execute_result"
    }
   ],
   "source": [
    "# Calculate the counts for 'mhc.a', and 'mhc.b'\n",
    "\n",
    "mhc_a_counts = df['mhc.a'].value_counts()\n",
    "mhc_b_counts = df['mhc.b'].value_counts()\n",
    "\n",
    "mhc_a_counts,mhc_b_counts"
   ]
  },
  {
   "cell_type": "markdown",
   "id": "da598211",
   "metadata": {},
   "source": [
    "Now, we will split the dataframes into two. One for only Human alpha chains and the other one for only Human beta chains and do our further analysis on alpha and beta chains for humans separately"
   ]
  },
  {
   "cell_type": "code",
   "execution_count": 31,
   "id": "1de38fda",
   "metadata": {
    "ExecuteTime": {
     "end_time": "2024-04-28T00:53:11.990807Z",
     "start_time": "2024-04-28T00:53:11.954903Z"
    }
   },
   "outputs": [
    {
     "name": "stdout",
     "output_type": "stream",
     "text": [
      "Alpha Chains (TRA genes):\n",
      "    gene             cdr3           v.segm     j.segm     mhc.a mhc.b  \\\n",
      "0    TRA    CIVRAPGRADMRF      TRAV26-1*01  TRAJ43*01  HLA-B*08   B2M   \n",
      "3    TRA   CAVPSGAGSYQLTF        TRAV20*01  TRAJ28*01  HLA-B*08   B2M   \n",
      "7    TRA    CAYRPPGTYKYIF  TRAV38-2/DV8*01  TRAJ40*01  HLA-B*08   B2M   \n",
      "680  TRA    CAYTVLGNEKLTF      TRAV38-1*01  TRAJ48*01  HLA-A*02   B2M   \n",
      "682  TRA  CAVAGYGGSQGNLIF      TRAV12-2*01  TRAJ42*01  HLA-A*02   B2M   \n",
      "\n",
      "    mhc.class antigen.epitope antigen.gene antigen.species  vdjdb.score  \n",
      "0        MHCI        FLKEKGGL          Nef           HIV-1            2  \n",
      "3        MHCI        FLKEKGGL          Nef           HIV-1            2  \n",
      "7        MHCI        FLKEKGGL          Nef           HIV-1            2  \n",
      "680      MHCI      ELAGIGILTV        MLANA     HomoSapiens            0  \n",
      "682      MHCI      ELAGIGILTV        MLANA     HomoSapiens            1  \n",
      "Beta Chains (TRB genes):\n",
      "    gene                  cdr3     v.segm      j.segm     mhc.a mhc.b  \\\n",
      "1    TRB  CASSYLPGQGDHYSNQPQHF  TRBV13*01  TRBJ1-5*01  HLA-B*08   B2M   \n",
      "4    TRB   CASSFEPGQGFYSNQPQHF  TRBV13*01  TRBJ1-5*01  HLA-B*08   B2M   \n",
      "6    TRB  CASSYEPGQVSHYSNQPQHF  TRBV13*01  TRBJ1-5*01  HLA-B*08   B2M   \n",
      "8    TRB        CASSALASLNEQFF  TRBV14*01  TRBJ2-1*01  HLA-B*08   B2M   \n",
      "681  TRB         CASSFTPYNEQFF  TRBV28*01  TRBJ2-1*01  HLA-A*02   B2M   \n",
      "\n",
      "    mhc.class antigen.epitope antigen.gene antigen.species  vdjdb.score  \n",
      "1        MHCI        FLKEKGGL          Nef           HIV-1            2  \n",
      "4        MHCI        FLKEKGGL          Nef           HIV-1            2  \n",
      "6        MHCI        FLKEKGGL          Nef           HIV-1            2  \n",
      "8        MHCI        FLKEKGGL          Nef           HIV-1            2  \n",
      "681      MHCI      ELAGIGILTV        MLANA     HomoSapiens            0  \n"
     ]
    }
   ],
   "source": [
    "import pandas as pd\n",
    "\n",
    "# Split the DataFrame into two parts: one for TRA genes and one for TRB genes\n",
    "df_alpha = df[df['gene'] == 'TRA']  # Adjust the condition if necessary\n",
    "df_beta = df[df['gene'] == 'TRB']   # Adjust the condition if necessary\n",
    "\n",
    "# Now df_alpha contains only rows where the gene column is 'TRA'\n",
    "# and df_beta contains only rows where the gene column is 'TRB'\n",
    "# Display the first few rows to verify\n",
    "print(\"Alpha Chains (TRA genes):\")\n",
    "print(df_alpha.head())\n",
    "\n",
    "print(\"Beta Chains (TRB genes):\")\n",
    "print(df_beta.head())"
   ]
  },
  {
   "cell_type": "code",
   "execution_count": 32,
   "id": "0cbe898b",
   "metadata": {
    "ExecuteTime": {
     "end_time": "2024-04-28T00:53:12.259735Z",
     "start_time": "2024-04-28T00:53:12.231292Z"
    }
   },
   "outputs": [
    {
     "name": "stderr",
     "output_type": "stream",
     "text": [
      "D:\\Program Files (x86)\\python39\\lib\\site-packages\\pandas\\core\\frame.py:4901: SettingWithCopyWarning: \n",
      "A value is trying to be set on a copy of a slice from a DataFrame\n",
      "\n",
      "See the caveats in the documentation: https://pandas.pydata.org/pandas-docs/stable/user_guide/indexing.html#returning-a-view-versus-a-copy\n",
      "  return super().drop(\n"
     ]
    },
    {
     "data": {
      "text/plain": "(                cdr3           v.segm     j.segm     mhc.a mhc.b mhc.class  \\\n 0      CIVRAPGRADMRF      TRAV26-1*01  TRAJ43*01  HLA-B*08   B2M      MHCI   \n 3     CAVPSGAGSYQLTF        TRAV20*01  TRAJ28*01  HLA-B*08   B2M      MHCI   \n 7      CAYRPPGTYKYIF  TRAV38-2/DV8*01  TRAJ40*01  HLA-B*08   B2M      MHCI   \n 680    CAYTVLGNEKLTF      TRAV38-1*01  TRAJ48*01  HLA-A*02   B2M      MHCI   \n 682  CAVAGYGGSQGNLIF      TRAV12-2*01  TRAJ42*01  HLA-A*02   B2M      MHCI   \n \n     antigen.epitope antigen.gene antigen.species  vdjdb.score  \n 0          FLKEKGGL          Nef           HIV-1            2  \n 3          FLKEKGGL          Nef           HIV-1            2  \n 7          FLKEKGGL          Nef           HIV-1            2  \n 680      ELAGIGILTV        MLANA     HomoSapiens            0  \n 682      ELAGIGILTV        MLANA     HomoSapiens            1  ,\n                      cdr3     v.segm      j.segm     mhc.a mhc.b mhc.class  \\\n 1    CASSYLPGQGDHYSNQPQHF  TRBV13*01  TRBJ1-5*01  HLA-B*08   B2M      MHCI   \n 4     CASSFEPGQGFYSNQPQHF  TRBV13*01  TRBJ1-5*01  HLA-B*08   B2M      MHCI   \n 6    CASSYEPGQVSHYSNQPQHF  TRBV13*01  TRBJ1-5*01  HLA-B*08   B2M      MHCI   \n 8          CASSALASLNEQFF  TRBV14*01  TRBJ2-1*01  HLA-B*08   B2M      MHCI   \n 681         CASSFTPYNEQFF  TRBV28*01  TRBJ2-1*01  HLA-A*02   B2M      MHCI   \n \n     antigen.epitope antigen.gene antigen.species  vdjdb.score  \n 1          FLKEKGGL          Nef           HIV-1            2  \n 4          FLKEKGGL          Nef           HIV-1            2  \n 6          FLKEKGGL          Nef           HIV-1            2  \n 8          FLKEKGGL          Nef           HIV-1            2  \n 681      ELAGIGILTV        MLANA     HomoSapiens            0  )"
     },
     "execution_count": 32,
     "metadata": {},
     "output_type": "execute_result"
    }
   ],
   "source": [
    "df_alpha.drop(['gene'], axis=1, inplace=True)\n",
    "df_beta.drop(['gene'], axis=1, inplace=True)\n",
    "\n",
    "df_alpha.head(), df_beta.head()"
   ]
  },
  {
   "cell_type": "code",
   "execution_count": 33,
   "id": "8b6f0a20",
   "metadata": {
    "ExecuteTime": {
     "end_time": "2024-04-28T00:53:12.560553Z",
     "start_time": "2024-04-28T00:53:12.539092Z"
    }
   },
   "outputs": [
    {
     "name": "stderr",
     "output_type": "stream",
     "text": [
      "D:\\Program Files (x86)\\python39\\lib\\site-packages\\pandas\\core\\frame.py:4901: SettingWithCopyWarning: \n",
      "A value is trying to be set on a copy of a slice from a DataFrame\n",
      "\n",
      "See the caveats in the documentation: https://pandas.pydata.org/pandas-docs/stable/user_guide/indexing.html#returning-a-view-versus-a-copy\n",
      "  return super().drop(\n"
     ]
    },
    {
     "data": {
      "text/plain": "(                cdr3           v.segm     j.segm     mhc.a mhc.b mhc.class  \\\n 0      CIVRAPGRADMRF      TRAV26-1*01  TRAJ43*01  HLA-B*08   B2M      MHCI   \n 3     CAVPSGAGSYQLTF        TRAV20*01  TRAJ28*01  HLA-B*08   B2M      MHCI   \n 7      CAYRPPGTYKYIF  TRAV38-2/DV8*01  TRAJ40*01  HLA-B*08   B2M      MHCI   \n 680    CAYTVLGNEKLTF      TRAV38-1*01  TRAJ48*01  HLA-A*02   B2M      MHCI   \n 682  CAVAGYGGSQGNLIF      TRAV12-2*01  TRAJ42*01  HLA-A*02   B2M      MHCI   \n \n     antigen.epitope antigen.gene antigen.species  \n 0          FLKEKGGL          Nef           HIV-1  \n 3          FLKEKGGL          Nef           HIV-1  \n 7          FLKEKGGL          Nef           HIV-1  \n 680      ELAGIGILTV        MLANA     HomoSapiens  \n 682      ELAGIGILTV        MLANA     HomoSapiens  ,\n                      cdr3     v.segm      j.segm     mhc.a mhc.b mhc.class  \\\n 1    CASSYLPGQGDHYSNQPQHF  TRBV13*01  TRBJ1-5*01  HLA-B*08   B2M      MHCI   \n 4     CASSFEPGQGFYSNQPQHF  TRBV13*01  TRBJ1-5*01  HLA-B*08   B2M      MHCI   \n 6    CASSYEPGQVSHYSNQPQHF  TRBV13*01  TRBJ1-5*01  HLA-B*08   B2M      MHCI   \n 8          CASSALASLNEQFF  TRBV14*01  TRBJ2-1*01  HLA-B*08   B2M      MHCI   \n 681         CASSFTPYNEQFF  TRBV28*01  TRBJ2-1*01  HLA-A*02   B2M      MHCI   \n \n     antigen.epitope antigen.gene antigen.species  \n 1          FLKEKGGL          Nef           HIV-1  \n 4          FLKEKGGL          Nef           HIV-1  \n 6          FLKEKGGL          Nef           HIV-1  \n 8          FLKEKGGL          Nef           HIV-1  \n 681      ELAGIGILTV        MLANA     HomoSapiens  )"
     },
     "execution_count": 33,
     "metadata": {},
     "output_type": "execute_result"
    }
   ],
   "source": [
    "df_alpha.drop(['vdjdb.score'], axis=1, inplace=True)\n",
    "df_beta.drop(['vdjdb.score'], axis=1, inplace=True)\n",
    "df_alpha.head(), df_beta.head()"
   ]
  },
  {
   "cell_type": "code",
   "execution_count": 34,
   "id": "fc1310c7",
   "metadata": {
    "ExecuteTime": {
     "end_time": "2024-04-28T00:53:12.843836Z",
     "start_time": "2024-04-28T00:53:12.822891Z"
    }
   },
   "outputs": [
    {
     "name": "stderr",
     "output_type": "stream",
     "text": [
      "D:\\Program Files (x86)\\python39\\lib\\site-packages\\pandas\\core\\frame.py:5034: SettingWithCopyWarning: \n",
      "A value is trying to be set on a copy of a slice from a DataFrame\n",
      "\n",
      "See the caveats in the documentation: https://pandas.pydata.org/pandas-docs/stable/user_guide/indexing.html#returning-a-view-versus-a-copy\n",
      "  return super().rename(\n"
     ]
    },
    {
     "data": {
      "text/plain": "(                cdr3           v.segm     j.segm     mhc.a mhc.b mhc.class  \\\n 0      CIVRAPGRADMRF      TRAV26-1*01  TRAJ43*01  HLA-B*08   B2M      MHCI   \n 3     CAVPSGAGSYQLTF        TRAV20*01  TRAJ28*01  HLA-B*08   B2M      MHCI   \n 7      CAYRPPGTYKYIF  TRAV38-2/DV8*01  TRAJ40*01  HLA-B*08   B2M      MHCI   \n 680    CAYTVLGNEKLTF      TRAV38-1*01  TRAJ48*01  HLA-A*02   B2M      MHCI   \n 682  CAVAGYGGSQGNLIF      TRAV12-2*01  TRAJ42*01  HLA-A*02   B2M      MHCI   \n \n         epitope   gene      species  \n 0      FLKEKGGL    Nef        HIV-1  \n 3      FLKEKGGL    Nef        HIV-1  \n 7      FLKEKGGL    Nef        HIV-1  \n 680  ELAGIGILTV  MLANA  HomoSapiens  \n 682  ELAGIGILTV  MLANA  HomoSapiens  ,\n                      cdr3     v.segm      j.segm     mhc.a mhc.b mhc.class  \\\n 1    CASSYLPGQGDHYSNQPQHF  TRBV13*01  TRBJ1-5*01  HLA-B*08   B2M      MHCI   \n 4     CASSFEPGQGFYSNQPQHF  TRBV13*01  TRBJ1-5*01  HLA-B*08   B2M      MHCI   \n 6    CASSYEPGQVSHYSNQPQHF  TRBV13*01  TRBJ1-5*01  HLA-B*08   B2M      MHCI   \n 8          CASSALASLNEQFF  TRBV14*01  TRBJ2-1*01  HLA-B*08   B2M      MHCI   \n 681         CASSFTPYNEQFF  TRBV28*01  TRBJ2-1*01  HLA-A*02   B2M      MHCI   \n \n         epitope   gene      species  \n 1      FLKEKGGL    Nef        HIV-1  \n 4      FLKEKGGL    Nef        HIV-1  \n 6      FLKEKGGL    Nef        HIV-1  \n 8      FLKEKGGL    Nef        HIV-1  \n 681  ELAGIGILTV  MLANA  HomoSapiens  )"
     },
     "execution_count": 34,
     "metadata": {},
     "output_type": "execute_result"
    }
   ],
   "source": [
    "import pandas as pd\n",
    "\n",
    "# Rename the columns\n",
    "df_alpha.rename(columns={'antigen.epitope': 'epitope', 'antigen.gene': 'gene', 'antigen.species': 'species'}, inplace=True)\n",
    "df_beta.rename(columns={'antigen.epitope': 'epitope', 'antigen.gene': 'gene', 'antigen.species': 'species'}, inplace=True)\n",
    "\n",
    "# Now the columns are renamed to 'epitope', 'gene', and 'species'\n",
    "df_alpha.head(), df_beta.head()  # Display the first few rows to verify the changes"
   ]
  },
  {
   "cell_type": "markdown",
   "id": "953fb7e8",
   "metadata": {},
   "source": [
    "# MODEL BUILDING AND ANALYSIS ON ALPHA CHAINS:"
   ]
  },
  {
   "cell_type": "markdown",
   "id": "47d0bba8",
   "metadata": {},
   "source": [
    "# ENCODING:"
   ]
  },
  {
   "cell_type": "markdown",
   "id": "4570a559",
   "metadata": {},
   "source": [
    "LABEL ENCODING ON THE 'GENE' AND 'SPECIES' COLUMN"
   ]
  },
  {
   "cell_type": "code",
   "execution_count": 35,
   "id": "02a766d1",
   "metadata": {
    "ExecuteTime": {
     "end_time": "2024-04-28T00:53:13.444404Z",
     "start_time": "2024-04-28T00:53:13.092788Z"
    }
   },
   "outputs": [
    {
     "name": "stderr",
     "output_type": "stream",
     "text": [
      "D:\\Program Files (x86)\\python39\\lib\\site-packages\\pandas\\core\\indexing.py:1667: SettingWithCopyWarning: \n",
      "A value is trying to be set on a copy of a slice from a DataFrame.\n",
      "Try using .loc[row_indexer,col_indexer] = value instead\n",
      "\n",
      "See the caveats in the documentation: https://pandas.pydata.org/pandas-docs/stable/user_guide/indexing.html#returning-a-view-versus-a-copy\n",
      "  self.obj[key] = value\n"
     ]
    },
    {
     "data": {
      "text/plain": "                  cdr3           v.segm     j.segm          mhc.a  \\\n0        CIVRAPGRADMRF      TRAV26-1*01  TRAJ43*01       HLA-B*08   \n3       CAVPSGAGSYQLTF        TRAV20*01  TRAJ28*01       HLA-B*08   \n7        CAYRPPGTYKYIF  TRAV38-2/DV8*01  TRAJ40*01       HLA-B*08   \n680      CAYTVLGNEKLTF      TRAV38-1*01  TRAJ48*01       HLA-A*02   \n682    CAVAGYGGSQGNLIF      TRAV12-2*01  TRAJ42*01       HLA-A*02   \n...                ...              ...        ...            ...   \n92344  CAGQLYGGSQGNLIF        TRAV35*01  TRAJ42*01  HLA-DPA*01:03   \n92346  CAGLNYGGSQGNLIF        TRAV35*01  TRAJ42*01  HLA-DPA*01:03   \n92348  CAGLNYGGSQGNLIF        TRAV35*01  TRAJ42*01  HLA-DPA*01:03   \n92351  CAALNYGGSQGNLIF        TRAV35*01  TRAJ42*01  HLA-DPA*01:03   \n92353  CAGLNYGGSQGNLIF        TRAV35*01  TRAJ42*01  HLA-DPA*01:03   \n\n               mhc.b mhc.class         epitope   gene      species  \\\n0                B2M      MHCI        FLKEKGGL    Nef        HIV-1   \n3                B2M      MHCI        FLKEKGGL    Nef        HIV-1   \n7                B2M      MHCI        FLKEKGGL    Nef        HIV-1   \n680              B2M      MHCI      ELAGIGILTV  MLANA  HomoSapiens   \n682              B2M      MHCI      ELAGIGILTV  MLANA  HomoSapiens   \n...              ...       ...             ...    ...          ...   \n92344  HLA-DPB*04:01     MHCII  TFEYVSQPFLMDLE  Spike   SARS-CoV-2   \n92346  HLA-DPB*04:01     MHCII  TFEYVSQPFLMDLE  Spike   SARS-CoV-2   \n92348  HLA-DPB*04:01     MHCII  TFEYVSQPFLMDLE  Spike   SARS-CoV-2   \n92351  HLA-DPB*04:01     MHCII  TFEYVSQPFLMDLE  Spike   SARS-CoV-2   \n92353  HLA-DPB*04:01     MHCII  TFEYVSQPFLMDLE  Spike   SARS-CoV-2   \n\n       gene_encoded  species_encoded  \n0                17                3  \n3                17                3  \n7                17                3  \n680              11                4  \n682              11                4  \n...             ...              ...  \n92344            24                6  \n92346            24                6  \n92348            24                6  \n92351            24                6  \n92353            24                6  \n\n[25456 rows x 11 columns]",
      "text/html": "<div>\n<style scoped>\n    .dataframe tbody tr th:only-of-type {\n        vertical-align: middle;\n    }\n\n    .dataframe tbody tr th {\n        vertical-align: top;\n    }\n\n    .dataframe thead th {\n        text-align: right;\n    }\n</style>\n<table border=\"1\" class=\"dataframe\">\n  <thead>\n    <tr style=\"text-align: right;\">\n      <th></th>\n      <th>cdr3</th>\n      <th>v.segm</th>\n      <th>j.segm</th>\n      <th>mhc.a</th>\n      <th>mhc.b</th>\n      <th>mhc.class</th>\n      <th>epitope</th>\n      <th>gene</th>\n      <th>species</th>\n      <th>gene_encoded</th>\n      <th>species_encoded</th>\n    </tr>\n  </thead>\n  <tbody>\n    <tr>\n      <th>0</th>\n      <td>CIVRAPGRADMRF</td>\n      <td>TRAV26-1*01</td>\n      <td>TRAJ43*01</td>\n      <td>HLA-B*08</td>\n      <td>B2M</td>\n      <td>MHCI</td>\n      <td>FLKEKGGL</td>\n      <td>Nef</td>\n      <td>HIV-1</td>\n      <td>17</td>\n      <td>3</td>\n    </tr>\n    <tr>\n      <th>3</th>\n      <td>CAVPSGAGSYQLTF</td>\n      <td>TRAV20*01</td>\n      <td>TRAJ28*01</td>\n      <td>HLA-B*08</td>\n      <td>B2M</td>\n      <td>MHCI</td>\n      <td>FLKEKGGL</td>\n      <td>Nef</td>\n      <td>HIV-1</td>\n      <td>17</td>\n      <td>3</td>\n    </tr>\n    <tr>\n      <th>7</th>\n      <td>CAYRPPGTYKYIF</td>\n      <td>TRAV38-2/DV8*01</td>\n      <td>TRAJ40*01</td>\n      <td>HLA-B*08</td>\n      <td>B2M</td>\n      <td>MHCI</td>\n      <td>FLKEKGGL</td>\n      <td>Nef</td>\n      <td>HIV-1</td>\n      <td>17</td>\n      <td>3</td>\n    </tr>\n    <tr>\n      <th>680</th>\n      <td>CAYTVLGNEKLTF</td>\n      <td>TRAV38-1*01</td>\n      <td>TRAJ48*01</td>\n      <td>HLA-A*02</td>\n      <td>B2M</td>\n      <td>MHCI</td>\n      <td>ELAGIGILTV</td>\n      <td>MLANA</td>\n      <td>HomoSapiens</td>\n      <td>11</td>\n      <td>4</td>\n    </tr>\n    <tr>\n      <th>682</th>\n      <td>CAVAGYGGSQGNLIF</td>\n      <td>TRAV12-2*01</td>\n      <td>TRAJ42*01</td>\n      <td>HLA-A*02</td>\n      <td>B2M</td>\n      <td>MHCI</td>\n      <td>ELAGIGILTV</td>\n      <td>MLANA</td>\n      <td>HomoSapiens</td>\n      <td>11</td>\n      <td>4</td>\n    </tr>\n    <tr>\n      <th>...</th>\n      <td>...</td>\n      <td>...</td>\n      <td>...</td>\n      <td>...</td>\n      <td>...</td>\n      <td>...</td>\n      <td>...</td>\n      <td>...</td>\n      <td>...</td>\n      <td>...</td>\n      <td>...</td>\n    </tr>\n    <tr>\n      <th>92344</th>\n      <td>CAGQLYGGSQGNLIF</td>\n      <td>TRAV35*01</td>\n      <td>TRAJ42*01</td>\n      <td>HLA-DPA*01:03</td>\n      <td>HLA-DPB*04:01</td>\n      <td>MHCII</td>\n      <td>TFEYVSQPFLMDLE</td>\n      <td>Spike</td>\n      <td>SARS-CoV-2</td>\n      <td>24</td>\n      <td>6</td>\n    </tr>\n    <tr>\n      <th>92346</th>\n      <td>CAGLNYGGSQGNLIF</td>\n      <td>TRAV35*01</td>\n      <td>TRAJ42*01</td>\n      <td>HLA-DPA*01:03</td>\n      <td>HLA-DPB*04:01</td>\n      <td>MHCII</td>\n      <td>TFEYVSQPFLMDLE</td>\n      <td>Spike</td>\n      <td>SARS-CoV-2</td>\n      <td>24</td>\n      <td>6</td>\n    </tr>\n    <tr>\n      <th>92348</th>\n      <td>CAGLNYGGSQGNLIF</td>\n      <td>TRAV35*01</td>\n      <td>TRAJ42*01</td>\n      <td>HLA-DPA*01:03</td>\n      <td>HLA-DPB*04:01</td>\n      <td>MHCII</td>\n      <td>TFEYVSQPFLMDLE</td>\n      <td>Spike</td>\n      <td>SARS-CoV-2</td>\n      <td>24</td>\n      <td>6</td>\n    </tr>\n    <tr>\n      <th>92351</th>\n      <td>CAALNYGGSQGNLIF</td>\n      <td>TRAV35*01</td>\n      <td>TRAJ42*01</td>\n      <td>HLA-DPA*01:03</td>\n      <td>HLA-DPB*04:01</td>\n      <td>MHCII</td>\n      <td>TFEYVSQPFLMDLE</td>\n      <td>Spike</td>\n      <td>SARS-CoV-2</td>\n      <td>24</td>\n      <td>6</td>\n    </tr>\n    <tr>\n      <th>92353</th>\n      <td>CAGLNYGGSQGNLIF</td>\n      <td>TRAV35*01</td>\n      <td>TRAJ42*01</td>\n      <td>HLA-DPA*01:03</td>\n      <td>HLA-DPB*04:01</td>\n      <td>MHCII</td>\n      <td>TFEYVSQPFLMDLE</td>\n      <td>Spike</td>\n      <td>SARS-CoV-2</td>\n      <td>24</td>\n      <td>6</td>\n    </tr>\n  </tbody>\n</table>\n<p>25456 rows × 11 columns</p>\n</div>"
     },
     "execution_count": 35,
     "metadata": {},
     "output_type": "execute_result"
    }
   ],
   "source": [
    "import pandas as pd\n",
    "from sklearn.preprocessing import LabelEncoder\n",
    "\n",
    "# Initialize the label encoder\n",
    "label_encoder = LabelEncoder()\n",
    "\n",
    "# Fit and transform 'gene' column\n",
    "# Note: It's important to fit a new instance of LabelEncoder for each distinct column.\n",
    "df_alpha.loc[:,'gene_encoded'] = LabelEncoder().fit_transform(df_alpha['gene'])\n",
    "\n",
    "# Fit and transform 'species' column\n",
    "df_alpha.loc[:,'species_encoded'] = LabelEncoder().fit_transform(df_alpha['species'])\n",
    "\n",
    "# Now df contains the new encoded columns: 'gene_encoded' and 'species_encoded'\n",
    "df_alpha"
   ]
  },
  {
   "cell_type": "markdown",
   "id": "81c2b39d",
   "metadata": {},
   "source": [
    "LABEL ENCODING ON THE 'mhc.a' AND 'mhc.b' COLUMN"
   ]
  },
  {
   "cell_type": "code",
   "execution_count": 36,
   "id": "153ca31d",
   "metadata": {
    "ExecuteTime": {
     "end_time": "2024-04-28T00:53:13.489798Z",
     "start_time": "2024-04-28T00:53:13.446909Z"
    }
   },
   "outputs": [
    {
     "name": "stderr",
     "output_type": "stream",
     "text": [
      "D:\\Program Files (x86)\\python39\\lib\\site-packages\\pandas\\core\\indexing.py:1667: SettingWithCopyWarning: \n",
      "A value is trying to be set on a copy of a slice from a DataFrame.\n",
      "Try using .loc[row_indexer,col_indexer] = value instead\n",
      "\n",
      "See the caveats in the documentation: https://pandas.pydata.org/pandas-docs/stable/user_guide/indexing.html#returning-a-view-versus-a-copy\n",
      "  self.obj[key] = value\n"
     ]
    },
    {
     "data": {
      "text/plain": "                  cdr3           v.segm     j.segm          mhc.a  \\\n0        CIVRAPGRADMRF      TRAV26-1*01  TRAJ43*01       HLA-B*08   \n3       CAVPSGAGSYQLTF        TRAV20*01  TRAJ28*01       HLA-B*08   \n7        CAYRPPGTYKYIF  TRAV38-2/DV8*01  TRAJ40*01       HLA-B*08   \n680      CAYTVLGNEKLTF      TRAV38-1*01  TRAJ48*01       HLA-A*02   \n682    CAVAGYGGSQGNLIF      TRAV12-2*01  TRAJ42*01       HLA-A*02   \n...                ...              ...        ...            ...   \n92344  CAGQLYGGSQGNLIF        TRAV35*01  TRAJ42*01  HLA-DPA*01:03   \n92346  CAGLNYGGSQGNLIF        TRAV35*01  TRAJ42*01  HLA-DPA*01:03   \n92348  CAGLNYGGSQGNLIF        TRAV35*01  TRAJ42*01  HLA-DPA*01:03   \n92351  CAALNYGGSQGNLIF        TRAV35*01  TRAJ42*01  HLA-DPA*01:03   \n92353  CAGLNYGGSQGNLIF        TRAV35*01  TRAJ42*01  HLA-DPA*01:03   \n\n               mhc.b mhc.class         epitope   gene      species  \\\n0                B2M      MHCI        FLKEKGGL    Nef        HIV-1   \n3                B2M      MHCI        FLKEKGGL    Nef        HIV-1   \n7                B2M      MHCI        FLKEKGGL    Nef        HIV-1   \n680              B2M      MHCI      ELAGIGILTV  MLANA  HomoSapiens   \n682              B2M      MHCI      ELAGIGILTV  MLANA  HomoSapiens   \n...              ...       ...             ...    ...          ...   \n92344  HLA-DPB*04:01     MHCII  TFEYVSQPFLMDLE  Spike   SARS-CoV-2   \n92346  HLA-DPB*04:01     MHCII  TFEYVSQPFLMDLE  Spike   SARS-CoV-2   \n92348  HLA-DPB*04:01     MHCII  TFEYVSQPFLMDLE  Spike   SARS-CoV-2   \n92351  HLA-DPB*04:01     MHCII  TFEYVSQPFLMDLE  Spike   SARS-CoV-2   \n92353  HLA-DPB*04:01     MHCII  TFEYVSQPFLMDLE  Spike   SARS-CoV-2   \n\n       gene_encoded  species_encoded  mhc.a_encoded  mhc.b_encoded  \n0                17                3             17              0  \n3                17                3             17              0  \n7                17                3             17              0  \n680              11                4              1              0  \n682              11                4              1              0  \n...             ...              ...            ...            ...  \n92344            24                6             34              1  \n92346            24                6             34              1  \n92348            24                6             34              1  \n92351            24                6             34              1  \n92353            24                6             34              1  \n\n[25456 rows x 13 columns]",
      "text/html": "<div>\n<style scoped>\n    .dataframe tbody tr th:only-of-type {\n        vertical-align: middle;\n    }\n\n    .dataframe tbody tr th {\n        vertical-align: top;\n    }\n\n    .dataframe thead th {\n        text-align: right;\n    }\n</style>\n<table border=\"1\" class=\"dataframe\">\n  <thead>\n    <tr style=\"text-align: right;\">\n      <th></th>\n      <th>cdr3</th>\n      <th>v.segm</th>\n      <th>j.segm</th>\n      <th>mhc.a</th>\n      <th>mhc.b</th>\n      <th>mhc.class</th>\n      <th>epitope</th>\n      <th>gene</th>\n      <th>species</th>\n      <th>gene_encoded</th>\n      <th>species_encoded</th>\n      <th>mhc.a_encoded</th>\n      <th>mhc.b_encoded</th>\n    </tr>\n  </thead>\n  <tbody>\n    <tr>\n      <th>0</th>\n      <td>CIVRAPGRADMRF</td>\n      <td>TRAV26-1*01</td>\n      <td>TRAJ43*01</td>\n      <td>HLA-B*08</td>\n      <td>B2M</td>\n      <td>MHCI</td>\n      <td>FLKEKGGL</td>\n      <td>Nef</td>\n      <td>HIV-1</td>\n      <td>17</td>\n      <td>3</td>\n      <td>17</td>\n      <td>0</td>\n    </tr>\n    <tr>\n      <th>3</th>\n      <td>CAVPSGAGSYQLTF</td>\n      <td>TRAV20*01</td>\n      <td>TRAJ28*01</td>\n      <td>HLA-B*08</td>\n      <td>B2M</td>\n      <td>MHCI</td>\n      <td>FLKEKGGL</td>\n      <td>Nef</td>\n      <td>HIV-1</td>\n      <td>17</td>\n      <td>3</td>\n      <td>17</td>\n      <td>0</td>\n    </tr>\n    <tr>\n      <th>7</th>\n      <td>CAYRPPGTYKYIF</td>\n      <td>TRAV38-2/DV8*01</td>\n      <td>TRAJ40*01</td>\n      <td>HLA-B*08</td>\n      <td>B2M</td>\n      <td>MHCI</td>\n      <td>FLKEKGGL</td>\n      <td>Nef</td>\n      <td>HIV-1</td>\n      <td>17</td>\n      <td>3</td>\n      <td>17</td>\n      <td>0</td>\n    </tr>\n    <tr>\n      <th>680</th>\n      <td>CAYTVLGNEKLTF</td>\n      <td>TRAV38-1*01</td>\n      <td>TRAJ48*01</td>\n      <td>HLA-A*02</td>\n      <td>B2M</td>\n      <td>MHCI</td>\n      <td>ELAGIGILTV</td>\n      <td>MLANA</td>\n      <td>HomoSapiens</td>\n      <td>11</td>\n      <td>4</td>\n      <td>1</td>\n      <td>0</td>\n    </tr>\n    <tr>\n      <th>682</th>\n      <td>CAVAGYGGSQGNLIF</td>\n      <td>TRAV12-2*01</td>\n      <td>TRAJ42*01</td>\n      <td>HLA-A*02</td>\n      <td>B2M</td>\n      <td>MHCI</td>\n      <td>ELAGIGILTV</td>\n      <td>MLANA</td>\n      <td>HomoSapiens</td>\n      <td>11</td>\n      <td>4</td>\n      <td>1</td>\n      <td>0</td>\n    </tr>\n    <tr>\n      <th>...</th>\n      <td>...</td>\n      <td>...</td>\n      <td>...</td>\n      <td>...</td>\n      <td>...</td>\n      <td>...</td>\n      <td>...</td>\n      <td>...</td>\n      <td>...</td>\n      <td>...</td>\n      <td>...</td>\n      <td>...</td>\n      <td>...</td>\n    </tr>\n    <tr>\n      <th>92344</th>\n      <td>CAGQLYGGSQGNLIF</td>\n      <td>TRAV35*01</td>\n      <td>TRAJ42*01</td>\n      <td>HLA-DPA*01:03</td>\n      <td>HLA-DPB*04:01</td>\n      <td>MHCII</td>\n      <td>TFEYVSQPFLMDLE</td>\n      <td>Spike</td>\n      <td>SARS-CoV-2</td>\n      <td>24</td>\n      <td>6</td>\n      <td>34</td>\n      <td>1</td>\n    </tr>\n    <tr>\n      <th>92346</th>\n      <td>CAGLNYGGSQGNLIF</td>\n      <td>TRAV35*01</td>\n      <td>TRAJ42*01</td>\n      <td>HLA-DPA*01:03</td>\n      <td>HLA-DPB*04:01</td>\n      <td>MHCII</td>\n      <td>TFEYVSQPFLMDLE</td>\n      <td>Spike</td>\n      <td>SARS-CoV-2</td>\n      <td>24</td>\n      <td>6</td>\n      <td>34</td>\n      <td>1</td>\n    </tr>\n    <tr>\n      <th>92348</th>\n      <td>CAGLNYGGSQGNLIF</td>\n      <td>TRAV35*01</td>\n      <td>TRAJ42*01</td>\n      <td>HLA-DPA*01:03</td>\n      <td>HLA-DPB*04:01</td>\n      <td>MHCII</td>\n      <td>TFEYVSQPFLMDLE</td>\n      <td>Spike</td>\n      <td>SARS-CoV-2</td>\n      <td>24</td>\n      <td>6</td>\n      <td>34</td>\n      <td>1</td>\n    </tr>\n    <tr>\n      <th>92351</th>\n      <td>CAALNYGGSQGNLIF</td>\n      <td>TRAV35*01</td>\n      <td>TRAJ42*01</td>\n      <td>HLA-DPA*01:03</td>\n      <td>HLA-DPB*04:01</td>\n      <td>MHCII</td>\n      <td>TFEYVSQPFLMDLE</td>\n      <td>Spike</td>\n      <td>SARS-CoV-2</td>\n      <td>24</td>\n      <td>6</td>\n      <td>34</td>\n      <td>1</td>\n    </tr>\n    <tr>\n      <th>92353</th>\n      <td>CAGLNYGGSQGNLIF</td>\n      <td>TRAV35*01</td>\n      <td>TRAJ42*01</td>\n      <td>HLA-DPA*01:03</td>\n      <td>HLA-DPB*04:01</td>\n      <td>MHCII</td>\n      <td>TFEYVSQPFLMDLE</td>\n      <td>Spike</td>\n      <td>SARS-CoV-2</td>\n      <td>24</td>\n      <td>6</td>\n      <td>34</td>\n      <td>1</td>\n    </tr>\n  </tbody>\n</table>\n<p>25456 rows × 13 columns</p>\n</div>"
     },
     "execution_count": 36,
     "metadata": {},
     "output_type": "execute_result"
    }
   ],
   "source": [
    "import pandas as pd\n",
    "from sklearn.preprocessing import LabelEncoder\n",
    "\n",
    "# Initialize the label encoder\n",
    "label_encoder = LabelEncoder()\n",
    "\n",
    "# Fit and transform 'gene' column\n",
    "# Note: It's important to fit a new instance of LabelEncoder for each distinct column.\n",
    "df_alpha.loc[:,'mhc.a_encoded'] = LabelEncoder().fit_transform(df_alpha['mhc.a'])\n",
    "\n",
    "# Fit and transform 'species' column\n",
    "df_alpha.loc[:,'mhc.b_encoded'] = LabelEncoder().fit_transform(df_alpha['mhc.b'])\n",
    "\n",
    "# Now df contains the new encoded columns: 'gene_encoded' and 'species_encoded'\n",
    "df_alpha"
   ]
  },
  {
   "cell_type": "markdown",
   "id": "d4f10428",
   "metadata": {},
   "source": [
    "BINARY ENCODING ON THE 'mhc.class' column"
   ]
  },
  {
   "cell_type": "code",
   "execution_count": 37,
   "id": "986400a1",
   "metadata": {
    "ExecuteTime": {
     "end_time": "2024-04-28T00:53:13.521712Z",
     "start_time": "2024-04-28T00:53:13.490796Z"
    }
   },
   "outputs": [
    {
     "name": "stderr",
     "output_type": "stream",
     "text": [
      "C:\\Users\\xujiadong\\AppData\\Local\\Temp\\ipykernel_24692\\513776290.py:2: SettingWithCopyWarning: \n",
      "A value is trying to be set on a copy of a slice from a DataFrame.\n",
      "Try using .loc[row_indexer,col_indexer] = value instead\n",
      "\n",
      "See the caveats in the documentation: https://pandas.pydata.org/pandas-docs/stable/user_guide/indexing.html#returning-a-view-versus-a-copy\n",
      "  df_alpha['mhc.class_encoded'] = df_alpha['mhc.class'].map({'MHCI': 0, 'MHCII': 1})\n"
     ]
    },
    {
     "data": {
      "text/plain": "                  cdr3           v.segm     j.segm          mhc.a  \\\n0        CIVRAPGRADMRF      TRAV26-1*01  TRAJ43*01       HLA-B*08   \n3       CAVPSGAGSYQLTF        TRAV20*01  TRAJ28*01       HLA-B*08   \n7        CAYRPPGTYKYIF  TRAV38-2/DV8*01  TRAJ40*01       HLA-B*08   \n680      CAYTVLGNEKLTF      TRAV38-1*01  TRAJ48*01       HLA-A*02   \n682    CAVAGYGGSQGNLIF      TRAV12-2*01  TRAJ42*01       HLA-A*02   \n...                ...              ...        ...            ...   \n92344  CAGQLYGGSQGNLIF        TRAV35*01  TRAJ42*01  HLA-DPA*01:03   \n92346  CAGLNYGGSQGNLIF        TRAV35*01  TRAJ42*01  HLA-DPA*01:03   \n92348  CAGLNYGGSQGNLIF        TRAV35*01  TRAJ42*01  HLA-DPA*01:03   \n92351  CAALNYGGSQGNLIF        TRAV35*01  TRAJ42*01  HLA-DPA*01:03   \n92353  CAGLNYGGSQGNLIF        TRAV35*01  TRAJ42*01  HLA-DPA*01:03   \n\n               mhc.b mhc.class         epitope   gene      species  \\\n0                B2M      MHCI        FLKEKGGL    Nef        HIV-1   \n3                B2M      MHCI        FLKEKGGL    Nef        HIV-1   \n7                B2M      MHCI        FLKEKGGL    Nef        HIV-1   \n680              B2M      MHCI      ELAGIGILTV  MLANA  HomoSapiens   \n682              B2M      MHCI      ELAGIGILTV  MLANA  HomoSapiens   \n...              ...       ...             ...    ...          ...   \n92344  HLA-DPB*04:01     MHCII  TFEYVSQPFLMDLE  Spike   SARS-CoV-2   \n92346  HLA-DPB*04:01     MHCII  TFEYVSQPFLMDLE  Spike   SARS-CoV-2   \n92348  HLA-DPB*04:01     MHCII  TFEYVSQPFLMDLE  Spike   SARS-CoV-2   \n92351  HLA-DPB*04:01     MHCII  TFEYVSQPFLMDLE  Spike   SARS-CoV-2   \n92353  HLA-DPB*04:01     MHCII  TFEYVSQPFLMDLE  Spike   SARS-CoV-2   \n\n       gene_encoded  species_encoded  mhc.a_encoded  mhc.b_encoded  \\\n0                17                3             17              0   \n3                17                3             17              0   \n7                17                3             17              0   \n680              11                4              1              0   \n682              11                4              1              0   \n...             ...              ...            ...            ...   \n92344            24                6             34              1   \n92346            24                6             34              1   \n92348            24                6             34              1   \n92351            24                6             34              1   \n92353            24                6             34              1   \n\n       mhc.class_encoded  \n0                      0  \n3                      0  \n7                      0  \n680                    0  \n682                    0  \n...                  ...  \n92344                  1  \n92346                  1  \n92348                  1  \n92351                  1  \n92353                  1  \n\n[25456 rows x 14 columns]",
      "text/html": "<div>\n<style scoped>\n    .dataframe tbody tr th:only-of-type {\n        vertical-align: middle;\n    }\n\n    .dataframe tbody tr th {\n        vertical-align: top;\n    }\n\n    .dataframe thead th {\n        text-align: right;\n    }\n</style>\n<table border=\"1\" class=\"dataframe\">\n  <thead>\n    <tr style=\"text-align: right;\">\n      <th></th>\n      <th>cdr3</th>\n      <th>v.segm</th>\n      <th>j.segm</th>\n      <th>mhc.a</th>\n      <th>mhc.b</th>\n      <th>mhc.class</th>\n      <th>epitope</th>\n      <th>gene</th>\n      <th>species</th>\n      <th>gene_encoded</th>\n      <th>species_encoded</th>\n      <th>mhc.a_encoded</th>\n      <th>mhc.b_encoded</th>\n      <th>mhc.class_encoded</th>\n    </tr>\n  </thead>\n  <tbody>\n    <tr>\n      <th>0</th>\n      <td>CIVRAPGRADMRF</td>\n      <td>TRAV26-1*01</td>\n      <td>TRAJ43*01</td>\n      <td>HLA-B*08</td>\n      <td>B2M</td>\n      <td>MHCI</td>\n      <td>FLKEKGGL</td>\n      <td>Nef</td>\n      <td>HIV-1</td>\n      <td>17</td>\n      <td>3</td>\n      <td>17</td>\n      <td>0</td>\n      <td>0</td>\n    </tr>\n    <tr>\n      <th>3</th>\n      <td>CAVPSGAGSYQLTF</td>\n      <td>TRAV20*01</td>\n      <td>TRAJ28*01</td>\n      <td>HLA-B*08</td>\n      <td>B2M</td>\n      <td>MHCI</td>\n      <td>FLKEKGGL</td>\n      <td>Nef</td>\n      <td>HIV-1</td>\n      <td>17</td>\n      <td>3</td>\n      <td>17</td>\n      <td>0</td>\n      <td>0</td>\n    </tr>\n    <tr>\n      <th>7</th>\n      <td>CAYRPPGTYKYIF</td>\n      <td>TRAV38-2/DV8*01</td>\n      <td>TRAJ40*01</td>\n      <td>HLA-B*08</td>\n      <td>B2M</td>\n      <td>MHCI</td>\n      <td>FLKEKGGL</td>\n      <td>Nef</td>\n      <td>HIV-1</td>\n      <td>17</td>\n      <td>3</td>\n      <td>17</td>\n      <td>0</td>\n      <td>0</td>\n    </tr>\n    <tr>\n      <th>680</th>\n      <td>CAYTVLGNEKLTF</td>\n      <td>TRAV38-1*01</td>\n      <td>TRAJ48*01</td>\n      <td>HLA-A*02</td>\n      <td>B2M</td>\n      <td>MHCI</td>\n      <td>ELAGIGILTV</td>\n      <td>MLANA</td>\n      <td>HomoSapiens</td>\n      <td>11</td>\n      <td>4</td>\n      <td>1</td>\n      <td>0</td>\n      <td>0</td>\n    </tr>\n    <tr>\n      <th>682</th>\n      <td>CAVAGYGGSQGNLIF</td>\n      <td>TRAV12-2*01</td>\n      <td>TRAJ42*01</td>\n      <td>HLA-A*02</td>\n      <td>B2M</td>\n      <td>MHCI</td>\n      <td>ELAGIGILTV</td>\n      <td>MLANA</td>\n      <td>HomoSapiens</td>\n      <td>11</td>\n      <td>4</td>\n      <td>1</td>\n      <td>0</td>\n      <td>0</td>\n    </tr>\n    <tr>\n      <th>...</th>\n      <td>...</td>\n      <td>...</td>\n      <td>...</td>\n      <td>...</td>\n      <td>...</td>\n      <td>...</td>\n      <td>...</td>\n      <td>...</td>\n      <td>...</td>\n      <td>...</td>\n      <td>...</td>\n      <td>...</td>\n      <td>...</td>\n      <td>...</td>\n    </tr>\n    <tr>\n      <th>92344</th>\n      <td>CAGQLYGGSQGNLIF</td>\n      <td>TRAV35*01</td>\n      <td>TRAJ42*01</td>\n      <td>HLA-DPA*01:03</td>\n      <td>HLA-DPB*04:01</td>\n      <td>MHCII</td>\n      <td>TFEYVSQPFLMDLE</td>\n      <td>Spike</td>\n      <td>SARS-CoV-2</td>\n      <td>24</td>\n      <td>6</td>\n      <td>34</td>\n      <td>1</td>\n      <td>1</td>\n    </tr>\n    <tr>\n      <th>92346</th>\n      <td>CAGLNYGGSQGNLIF</td>\n      <td>TRAV35*01</td>\n      <td>TRAJ42*01</td>\n      <td>HLA-DPA*01:03</td>\n      <td>HLA-DPB*04:01</td>\n      <td>MHCII</td>\n      <td>TFEYVSQPFLMDLE</td>\n      <td>Spike</td>\n      <td>SARS-CoV-2</td>\n      <td>24</td>\n      <td>6</td>\n      <td>34</td>\n      <td>1</td>\n      <td>1</td>\n    </tr>\n    <tr>\n      <th>92348</th>\n      <td>CAGLNYGGSQGNLIF</td>\n      <td>TRAV35*01</td>\n      <td>TRAJ42*01</td>\n      <td>HLA-DPA*01:03</td>\n      <td>HLA-DPB*04:01</td>\n      <td>MHCII</td>\n      <td>TFEYVSQPFLMDLE</td>\n      <td>Spike</td>\n      <td>SARS-CoV-2</td>\n      <td>24</td>\n      <td>6</td>\n      <td>34</td>\n      <td>1</td>\n      <td>1</td>\n    </tr>\n    <tr>\n      <th>92351</th>\n      <td>CAALNYGGSQGNLIF</td>\n      <td>TRAV35*01</td>\n      <td>TRAJ42*01</td>\n      <td>HLA-DPA*01:03</td>\n      <td>HLA-DPB*04:01</td>\n      <td>MHCII</td>\n      <td>TFEYVSQPFLMDLE</td>\n      <td>Spike</td>\n      <td>SARS-CoV-2</td>\n      <td>24</td>\n      <td>6</td>\n      <td>34</td>\n      <td>1</td>\n      <td>1</td>\n    </tr>\n    <tr>\n      <th>92353</th>\n      <td>CAGLNYGGSQGNLIF</td>\n      <td>TRAV35*01</td>\n      <td>TRAJ42*01</td>\n      <td>HLA-DPA*01:03</td>\n      <td>HLA-DPB*04:01</td>\n      <td>MHCII</td>\n      <td>TFEYVSQPFLMDLE</td>\n      <td>Spike</td>\n      <td>SARS-CoV-2</td>\n      <td>24</td>\n      <td>6</td>\n      <td>34</td>\n      <td>1</td>\n      <td>1</td>\n    </tr>\n  </tbody>\n</table>\n<p>25456 rows × 14 columns</p>\n</div>"
     },
     "execution_count": 37,
     "metadata": {},
     "output_type": "execute_result"
    }
   ],
   "source": [
    "# Assuming 'df_alpha' is your DataFrame and 'mhc.class' is the column to encode\n",
    "df_alpha['mhc.class_encoded'] = df_alpha['mhc.class'].map({'MHCI': 0, 'MHCII': 1})\n",
    "df_alpha"
   ]
  },
  {
   "cell_type": "markdown",
   "id": "c523a493",
   "metadata": {},
   "source": [
    "LABEL ENCODING ON THE 'v.segm' AND 'j.segm' COLUMN"
   ]
  },
  {
   "cell_type": "code",
   "execution_count": 38,
   "id": "218fb265",
   "metadata": {
    "ExecuteTime": {
     "end_time": "2024-04-28T00:53:13.600021Z",
     "start_time": "2024-04-28T00:53:13.568109Z"
    }
   },
   "outputs": [
    {
     "name": "stderr",
     "output_type": "stream",
     "text": [
      "D:\\Program Files (x86)\\python39\\lib\\site-packages\\pandas\\core\\indexing.py:1667: SettingWithCopyWarning: \n",
      "A value is trying to be set on a copy of a slice from a DataFrame.\n",
      "Try using .loc[row_indexer,col_indexer] = value instead\n",
      "\n",
      "See the caveats in the documentation: https://pandas.pydata.org/pandas-docs/stable/user_guide/indexing.html#returning-a-view-versus-a-copy\n",
      "  self.obj[key] = value\n"
     ]
    },
    {
     "data": {
      "text/plain": "                  cdr3           v.segm     j.segm          mhc.a  \\\n0        CIVRAPGRADMRF      TRAV26-1*01  TRAJ43*01       HLA-B*08   \n3       CAVPSGAGSYQLTF        TRAV20*01  TRAJ28*01       HLA-B*08   \n7        CAYRPPGTYKYIF  TRAV38-2/DV8*01  TRAJ40*01       HLA-B*08   \n680      CAYTVLGNEKLTF      TRAV38-1*01  TRAJ48*01       HLA-A*02   \n682    CAVAGYGGSQGNLIF      TRAV12-2*01  TRAJ42*01       HLA-A*02   \n...                ...              ...        ...            ...   \n92344  CAGQLYGGSQGNLIF        TRAV35*01  TRAJ42*01  HLA-DPA*01:03   \n92346  CAGLNYGGSQGNLIF        TRAV35*01  TRAJ42*01  HLA-DPA*01:03   \n92348  CAGLNYGGSQGNLIF        TRAV35*01  TRAJ42*01  HLA-DPA*01:03   \n92351  CAALNYGGSQGNLIF        TRAV35*01  TRAJ42*01  HLA-DPA*01:03   \n92353  CAGLNYGGSQGNLIF        TRAV35*01  TRAJ42*01  HLA-DPA*01:03   \n\n               mhc.b mhc.class         epitope   gene      species  \\\n0                B2M      MHCI        FLKEKGGL    Nef        HIV-1   \n3                B2M      MHCI        FLKEKGGL    Nef        HIV-1   \n7                B2M      MHCI        FLKEKGGL    Nef        HIV-1   \n680              B2M      MHCI      ELAGIGILTV  MLANA  HomoSapiens   \n682              B2M      MHCI      ELAGIGILTV  MLANA  HomoSapiens   \n...              ...       ...             ...    ...          ...   \n92344  HLA-DPB*04:01     MHCII  TFEYVSQPFLMDLE  Spike   SARS-CoV-2   \n92346  HLA-DPB*04:01     MHCII  TFEYVSQPFLMDLE  Spike   SARS-CoV-2   \n92348  HLA-DPB*04:01     MHCII  TFEYVSQPFLMDLE  Spike   SARS-CoV-2   \n92351  HLA-DPB*04:01     MHCII  TFEYVSQPFLMDLE  Spike   SARS-CoV-2   \n92353  HLA-DPB*04:01     MHCII  TFEYVSQPFLMDLE  Spike   SARS-CoV-2   \n\n       gene_encoded  species_encoded  mhc.a_encoded  mhc.b_encoded  \\\n0                17                3             17              0   \n3                17                3             17              0   \n7                17                3             17              0   \n680              11                4              1              0   \n682              11                4              1              0   \n...             ...              ...            ...            ...   \n92344            24                6             34              1   \n92346            24                6             34              1   \n92348            24                6             34              1   \n92351            24                6             34              1   \n92353            24                6             34              1   \n\n       mhc.class_encoded  v.segm_encoded  j.segm_encoded  \n0                      0              21              33  \n3                      0              15              17  \n7                      0              31              30  \n680                    0              30              38  \n682                    0               4              32  \n...                  ...             ...             ...  \n92344                  1              28              32  \n92346                  1              28              32  \n92348                  1              28              32  \n92351                  1              28              32  \n92353                  1              28              32  \n\n[25456 rows x 16 columns]",
      "text/html": "<div>\n<style scoped>\n    .dataframe tbody tr th:only-of-type {\n        vertical-align: middle;\n    }\n\n    .dataframe tbody tr th {\n        vertical-align: top;\n    }\n\n    .dataframe thead th {\n        text-align: right;\n    }\n</style>\n<table border=\"1\" class=\"dataframe\">\n  <thead>\n    <tr style=\"text-align: right;\">\n      <th></th>\n      <th>cdr3</th>\n      <th>v.segm</th>\n      <th>j.segm</th>\n      <th>mhc.a</th>\n      <th>mhc.b</th>\n      <th>mhc.class</th>\n      <th>epitope</th>\n      <th>gene</th>\n      <th>species</th>\n      <th>gene_encoded</th>\n      <th>species_encoded</th>\n      <th>mhc.a_encoded</th>\n      <th>mhc.b_encoded</th>\n      <th>mhc.class_encoded</th>\n      <th>v.segm_encoded</th>\n      <th>j.segm_encoded</th>\n    </tr>\n  </thead>\n  <tbody>\n    <tr>\n      <th>0</th>\n      <td>CIVRAPGRADMRF</td>\n      <td>TRAV26-1*01</td>\n      <td>TRAJ43*01</td>\n      <td>HLA-B*08</td>\n      <td>B2M</td>\n      <td>MHCI</td>\n      <td>FLKEKGGL</td>\n      <td>Nef</td>\n      <td>HIV-1</td>\n      <td>17</td>\n      <td>3</td>\n      <td>17</td>\n      <td>0</td>\n      <td>0</td>\n      <td>21</td>\n      <td>33</td>\n    </tr>\n    <tr>\n      <th>3</th>\n      <td>CAVPSGAGSYQLTF</td>\n      <td>TRAV20*01</td>\n      <td>TRAJ28*01</td>\n      <td>HLA-B*08</td>\n      <td>B2M</td>\n      <td>MHCI</td>\n      <td>FLKEKGGL</td>\n      <td>Nef</td>\n      <td>HIV-1</td>\n      <td>17</td>\n      <td>3</td>\n      <td>17</td>\n      <td>0</td>\n      <td>0</td>\n      <td>15</td>\n      <td>17</td>\n    </tr>\n    <tr>\n      <th>7</th>\n      <td>CAYRPPGTYKYIF</td>\n      <td>TRAV38-2/DV8*01</td>\n      <td>TRAJ40*01</td>\n      <td>HLA-B*08</td>\n      <td>B2M</td>\n      <td>MHCI</td>\n      <td>FLKEKGGL</td>\n      <td>Nef</td>\n      <td>HIV-1</td>\n      <td>17</td>\n      <td>3</td>\n      <td>17</td>\n      <td>0</td>\n      <td>0</td>\n      <td>31</td>\n      <td>30</td>\n    </tr>\n    <tr>\n      <th>680</th>\n      <td>CAYTVLGNEKLTF</td>\n      <td>TRAV38-1*01</td>\n      <td>TRAJ48*01</td>\n      <td>HLA-A*02</td>\n      <td>B2M</td>\n      <td>MHCI</td>\n      <td>ELAGIGILTV</td>\n      <td>MLANA</td>\n      <td>HomoSapiens</td>\n      <td>11</td>\n      <td>4</td>\n      <td>1</td>\n      <td>0</td>\n      <td>0</td>\n      <td>30</td>\n      <td>38</td>\n    </tr>\n    <tr>\n      <th>682</th>\n      <td>CAVAGYGGSQGNLIF</td>\n      <td>TRAV12-2*01</td>\n      <td>TRAJ42*01</td>\n      <td>HLA-A*02</td>\n      <td>B2M</td>\n      <td>MHCI</td>\n      <td>ELAGIGILTV</td>\n      <td>MLANA</td>\n      <td>HomoSapiens</td>\n      <td>11</td>\n      <td>4</td>\n      <td>1</td>\n      <td>0</td>\n      <td>0</td>\n      <td>4</td>\n      <td>32</td>\n    </tr>\n    <tr>\n      <th>...</th>\n      <td>...</td>\n      <td>...</td>\n      <td>...</td>\n      <td>...</td>\n      <td>...</td>\n      <td>...</td>\n      <td>...</td>\n      <td>...</td>\n      <td>...</td>\n      <td>...</td>\n      <td>...</td>\n      <td>...</td>\n      <td>...</td>\n      <td>...</td>\n      <td>...</td>\n      <td>...</td>\n    </tr>\n    <tr>\n      <th>92344</th>\n      <td>CAGQLYGGSQGNLIF</td>\n      <td>TRAV35*01</td>\n      <td>TRAJ42*01</td>\n      <td>HLA-DPA*01:03</td>\n      <td>HLA-DPB*04:01</td>\n      <td>MHCII</td>\n      <td>TFEYVSQPFLMDLE</td>\n      <td>Spike</td>\n      <td>SARS-CoV-2</td>\n      <td>24</td>\n      <td>6</td>\n      <td>34</td>\n      <td>1</td>\n      <td>1</td>\n      <td>28</td>\n      <td>32</td>\n    </tr>\n    <tr>\n      <th>92346</th>\n      <td>CAGLNYGGSQGNLIF</td>\n      <td>TRAV35*01</td>\n      <td>TRAJ42*01</td>\n      <td>HLA-DPA*01:03</td>\n      <td>HLA-DPB*04:01</td>\n      <td>MHCII</td>\n      <td>TFEYVSQPFLMDLE</td>\n      <td>Spike</td>\n      <td>SARS-CoV-2</td>\n      <td>24</td>\n      <td>6</td>\n      <td>34</td>\n      <td>1</td>\n      <td>1</td>\n      <td>28</td>\n      <td>32</td>\n    </tr>\n    <tr>\n      <th>92348</th>\n      <td>CAGLNYGGSQGNLIF</td>\n      <td>TRAV35*01</td>\n      <td>TRAJ42*01</td>\n      <td>HLA-DPA*01:03</td>\n      <td>HLA-DPB*04:01</td>\n      <td>MHCII</td>\n      <td>TFEYVSQPFLMDLE</td>\n      <td>Spike</td>\n      <td>SARS-CoV-2</td>\n      <td>24</td>\n      <td>6</td>\n      <td>34</td>\n      <td>1</td>\n      <td>1</td>\n      <td>28</td>\n      <td>32</td>\n    </tr>\n    <tr>\n      <th>92351</th>\n      <td>CAALNYGGSQGNLIF</td>\n      <td>TRAV35*01</td>\n      <td>TRAJ42*01</td>\n      <td>HLA-DPA*01:03</td>\n      <td>HLA-DPB*04:01</td>\n      <td>MHCII</td>\n      <td>TFEYVSQPFLMDLE</td>\n      <td>Spike</td>\n      <td>SARS-CoV-2</td>\n      <td>24</td>\n      <td>6</td>\n      <td>34</td>\n      <td>1</td>\n      <td>1</td>\n      <td>28</td>\n      <td>32</td>\n    </tr>\n    <tr>\n      <th>92353</th>\n      <td>CAGLNYGGSQGNLIF</td>\n      <td>TRAV35*01</td>\n      <td>TRAJ42*01</td>\n      <td>HLA-DPA*01:03</td>\n      <td>HLA-DPB*04:01</td>\n      <td>MHCII</td>\n      <td>TFEYVSQPFLMDLE</td>\n      <td>Spike</td>\n      <td>SARS-CoV-2</td>\n      <td>24</td>\n      <td>6</td>\n      <td>34</td>\n      <td>1</td>\n      <td>1</td>\n      <td>28</td>\n      <td>32</td>\n    </tr>\n  </tbody>\n</table>\n<p>25456 rows × 16 columns</p>\n</div>"
     },
     "execution_count": 38,
     "metadata": {},
     "output_type": "execute_result"
    }
   ],
   "source": [
    "import pandas as pd\n",
    "from sklearn.preprocessing import LabelEncoder\n",
    "\n",
    "# Initialize the label encoder\n",
    "label_encoder = LabelEncoder()\n",
    "\n",
    "# Fit and transform 'gene' column\n",
    "# Note: It's important to fit a new instance of LabelEncoder for each distinct column.\n",
    "df_alpha.loc[:,'v.segm_encoded'] = LabelEncoder().fit_transform(df_alpha['v.segm'])\n",
    "\n",
    "# Fit and transform 'species' column\n",
    "df_alpha.loc[:,'j.segm_encoded'] = LabelEncoder().fit_transform(df_alpha['j.segm'])\n",
    "\n",
    "# Now df contains the new encoded columns: 'gene_encoded' and 'species_encoded'\n",
    "df_alpha"
   ]
  },
  {
   "cell_type": "markdown",
   "id": "91b6314e",
   "metadata": {},
   "source": [
    "BLOSUM 62 ON THE 'CDR3' COLUMN"
   ]
  },
  {
   "cell_type": "code",
   "execution_count": 39,
   "id": "1b0d3170",
   "metadata": {
    "ExecuteTime": {
     "end_time": "2024-04-28T00:53:15.017614Z",
     "start_time": "2024-04-28T00:53:13.717262Z"
    }
   },
   "outputs": [
    {
     "name": "stdout",
     "output_type": "stream",
     "text": [
      "0        [0.0, -3.0, -3.0, -3.0, 9.0, -3.0, -4.0, -3.0,...\n",
      "3        [0.0, -3.0, -3.0, -3.0, 9.0, -3.0, -4.0, -3.0,...\n",
      "7        [0.0, -3.0, -3.0, -3.0, 9.0, -3.0, -4.0, -3.0,...\n",
      "680      [0.0, -3.0, -3.0, -3.0, 9.0, -3.0, -4.0, -3.0,...\n",
      "682      [0.0, -3.0, -3.0, -3.0, 9.0, -3.0, -4.0, -3.0,...\n",
      "                               ...                        \n",
      "92344    [0.0, -3.0, -3.0, -3.0, 9.0, -3.0, -4.0, -3.0,...\n",
      "92346    [0.0, -3.0, -3.0, -3.0, 9.0, -3.0, -4.0, -3.0,...\n",
      "92348    [0.0, -3.0, -3.0, -3.0, 9.0, -3.0, -4.0, -3.0,...\n",
      "92351    [0.0, -3.0, -3.0, -3.0, 9.0, -3.0, -4.0, -3.0,...\n",
      "92353    [0.0, -3.0, -3.0, -3.0, 9.0, -3.0, -4.0, -3.0,...\n",
      "Name: cdr3, Length: 25456, dtype: object\n"
     ]
    }
   ],
   "source": [
    "import pandas as pd\n",
    "import numpy as np\n",
    "from Bio.Align import substitution_matrices\n",
    "\n",
    "\n",
    "# Load the BLOSUM62 matrix\n",
    "blosum62 = substitution_matrices.load(\"BLOSUM62\")\n",
    "\n",
    "# Define the encoding function\n",
    "def encode_sequence_with_blosum62(sequence, blosum62_matrix):\n",
    "    # Initialize an empty list to store the encoded sequence\n",
    "    encoded_sequence = []\n",
    "    # Iterate over each amino acid in the sequence\n",
    "    for aa in sequence:\n",
    "        # If the amino acid is in the BLOSUM62 matrix, retrieve its encoding\n",
    "        # If not (e.g., a gap or special character), use a vector of zeros\n",
    "        encoded_sequence.append(blosum62_matrix.get(aa, np.zeros((1, len(blosum62_matrix)))))\n",
    "    # Convert the list of encoded amino acids into a numpy array\n",
    "    return np.concatenate(encoded_sequence)\n",
    "\n",
    "# Apply the function to each cdr3 sequence in the DataFrame\n",
    "cdr3_encoded = df_alpha['cdr3'].apply(lambda x: encode_sequence_with_blosum62(x, blosum62))\n",
    "\n",
    "# Each row in 'cdr3_blosum62_encoded' will now be a flat array of BLOSUM62 scores\n",
    "print(cdr3_encoded)"
   ]
  },
  {
   "cell_type": "code",
   "execution_count": 40,
   "id": "28df7851",
   "metadata": {
    "ExecuteTime": {
     "end_time": "2024-04-28T00:53:19.007924Z",
     "start_time": "2024-04-28T00:53:15.019609Z"
    }
   },
   "outputs": [],
   "source": [
    "import numpy as np\n",
    "from sklearn.manifold import MDS\n",
    "from tqdm import tqdm\n",
    "\n",
    "blosum62 = substitution_matrices.load('BLOSUM62')\n",
    "AAstring = 'ACDEFGHIKLMNPQRSTVWY'\n",
    "AAstringList = list(AAstring)\n",
    "blosum62n = {}\n",
    "for kk in blosum62.keys():\n",
    "    a1 = kk[0]\n",
    "    a2 = kk[1]\n",
    "    vv = blosum62[kk]\n",
    "    if vv > 4:\n",
    "        vv = 4\n",
    "    blosum62n[(a1, a2)] = vv\n",
    "    if a1 != a2:\n",
    "        blosum62n[(a2, a1)] = vv\n",
    "bl62 = {'A': [4, -1, -2, -2, 0, -1, -1, 0, -2, -1, -1, -1, -1, -2, -1, 1, 0, -3, -2, 0],\n",
    "        'R': [-1, 4, 0, -2, -3, 1, 0, -2, 0, -3, -2, 2, -1, -3, -2, -1, -1, -3, -2, -3],\n",
    "        'N': [-2, 0, 4, 1, -3, 0, 0, 0, 1, -3, -3, 0, -2, -3, -2, 1, 0, -4, -2, -3],\n",
    "        'D': [-2, -2, 1, 4, -3, 0, 2, -1, -1, -3, -4, -1, -3, -3, -1, 0, -1, -4, -3, -3],\n",
    "        'C': [0, -3, -3, -3, 4, -3, -4, -3, -3, -1, -1, -3, -1, -2, -3, -1, -1, -2, -2, -1],\n",
    "        'Q': [-1, 1, 0, 0, -3, 4, 2, -2, 0, -3, -2, 1, 0, -3, -1, 0, -1, -2, -1, -2],\n",
    "        'E': [-1, 0, 0, 2, -4, 2, 4, -2, 0, -3, -3, 1, -2, -3, -1, 0, -1, -3, -2, -2],\n",
    "        'G': [0, -2, 0, -1, -3, -2, -2, 4, -2, -4, -4, -2, -3, -3, -2, 0, -2, -2, -3, -3],\n",
    "        'H': [-2, 0, 1, -1, -3, 0, 0, -2, 4, -3, -3, -1, -2, -1, -2, -1, -2, -2, 2, -3],\n",
    "        'I': [-1, -3, -3, -3, -1, -3, -3, -4, -3, 4, 2, -3, 1, 0, -3, -2, -1, -3, -1, 3],\n",
    "        'L': [-1, -2, -3, -4, -1, -2, -3, -4, -3, 2, 4, -2, 2, 0, -3, -2, -1, -2, -1, 1],\n",
    "        'K': [-1, 2, 0, -1, -3, 1, 1, -2, -1, -3, -2, 4, -1, -3, -1, 0, -1, -3, -2, -2],\n",
    "        'M': [-1, -1, -2, -3, -1, 0, -2, -3, -2, 1, 2, -1, 4, 0, -2, -1, -1, -1, -1, 1],\n",
    "        'F': [-2, -3, -3, -3, -2, -3, -3, -3, -1, 0, 0, -3, 0, 4, -4, -2, -2, 1, 3, -1],\n",
    "        'P': [-1, -2, -2, -1, -3, -1, -1, -2, -2, -3, -3, -1, -2, -4, 4, -1, -1, -4, -3, -2],\n",
    "        'S': [1, -1, 1, 0, -1, 0, 0, 0, -1, -2, -2, 0, -1, -2, -1, 4, 1, -3, -2, -2],\n",
    "        'T': [0, -1, 0, -1, -1, -1, -1, -2, -2, -1, -1, -1, -1, -2, -1, 1, 4, -2, -2, 0],\n",
    "        'W': [-3, -3, -4, -4, -2, -2, -3, -2, -2, -3, -2, -3, -1, 1, -4, -3, -2, 4, 2, -3],\n",
    "        'Y': [-2, -2, -2, -3, -2, -1, -2, -3, 2, -1, -1, -2, -1, 3, -3, -2, -2, 2, 4, -1],\n",
    "        'V': [0, -3, -3, -3, -1, -2, -2, -3, -3, 3, 1, -2, 1, -1, -2, -2, 0, -3, -1, 4]}\n",
    "bl62c = np.array([np.array(x) for x in list(bl62.values())])\n",
    "bl62c = 4 - bl62c\n",
    "embedding = MDS(n_components=13, n_init=100, max_iter=1000, eps=0.00001, dissimilarity='precomputed')\n",
    "X = embedding.fit_transform(bl62c)\n",
    "bl62np = {}\n",
    "vkk = list(bl62.keys())\n",
    "for ii in range(20):\n",
    "    kk = vkk[ii]\n",
    "    bl62np[kk] = np.array(list(X[ii,]) + [0] * 17)\n",
    "AAencodingDict = {}\n",
    "for ii in range(len(AAstringList)):\n",
    "    aa = AAstringList[ii]\n",
    "    CODE = [0] * (ii) + [1] + [0] * (20 - ii)\n",
    "    AAencodingDict[aa] = np.array(CODE)\n",
    "Ndim = 16  ## optimized for isometric embedding\n",
    "n0 = Ndim * 6\n",
    "# M0=np.concatenate((np.concatenate((ZERO,M1),axis=1),np.concatenate((M1, ZERO),axis=1)))\n",
    "ZERO = np.zeros((Ndim, Ndim))\n",
    "II = np.eye(Ndim)\n",
    "M0 = np.concatenate((np.concatenate((ZERO, ZERO, II), axis=1), np.concatenate((II, ZERO, ZERO), axis=1),\n",
    "                     np.concatenate((ZERO, II, ZERO), axis=1)))\n",
    "## Construct 6-th order cyclic group\n",
    "ZERO45 = np.zeros((Ndim * 3, Ndim * 3))\n",
    "M6 = np.concatenate((np.concatenate((ZERO45, M0), axis=1), np.concatenate((M0, ZERO45), axis=1)))\n",
    "X = np.array([[-0.31230882, -0.53572156, -0.01949946, -0.12211268, -0.70947917,\n",
    "               -0.42211092, 0.02783931, 0.02637933, -0.41760305, 0.21809875,\n",
    "               0.53532768, 0.04833016, 0.07877711, 0.50464914, -0.26972087,\n",
    "               -0.52416842],\n",
    "              [0.29672002, 0.29005364, 0.18176298, -0.05103382, -0.34686519,\n",
    "               0.58024228, -0.49282931, 0.62304281, -0.09575202, 0.30115555,\n",
    "               0.09913529, 0.1577466, -0.94391939, -0.10505925, 0.05482389,\n",
    "               0.38409897],\n",
    "              [-0.42212537, 0.12225749, 0.16279646, 0.60099009, 0.19734216,\n",
    "               0.42819919, -0.33562418, 0.17036334, 0.4234109, 0.46681561,\n",
    "               -0.50347222, -0.37936876, 0.1494825, 0.32176759, 0.28584684,\n",
    "               0.68469861],\n",
    "              [0.18599294, -0.44017825, -0.4476952, 0.34340976, 0.44603553,\n",
    "               0.40974629, -0.60045935, -0.09056728, 0.22147919, -0.33029418,\n",
    "               0.55635594, -0.54149972, 0.05459062, 0.57334159, -0.06227118,\n",
    "               0.65299872],\n",
    "              [-0.19010428, 0.64418792, -0.85286762, 0.21380295, 0.37639516,\n",
    "               -0.67753593, 0.38751609, 0.55746524, 0.01443766, 0.1776535,\n",
    "               0.62853954, -0.15048523, 0.55100206, -0.21426656, 0.3644061,\n",
    "               -0.0018255],\n",
    "              [0.7350723, 0.10111267, 0.55640019, -0.18226966, 0.51658102,\n",
    "               -0.19321508, -0.46599027, -0.02989911, 0.4036196, -0.11978213,\n",
    "               -0.29837524, -0.30232765, -0.36738065, -0.1379793, 0.04362871,\n",
    "               0.33553714],\n",
    "              [0.41134047, 0.13512443, 0.62492322, -0.10120261, -0.03093491,\n",
    "               0.23751917, -0.68338694, 0.05124762, 0.41533821, 0.46669353,\n",
    "               0.31467277, -0.02427587, 0.15361135, 0.70595112, -0.27952632,\n",
    "               0.32408931],\n",
    "              [-0.33041265, -0.43860065, -0.5509376, -0.04380843, -0.35160935,\n",
    "               0.25134855, 0.53409314, 0.54850824, 0.59490287, 0.32669345,\n",
    "               -0.45355268, -0.56317041, -0.55416297, 0.18117841, -0.71600849,\n",
    "               -0.08989825],\n",
    "              [-0.40366849, 0.10978974, 0.0280101, -0.46667987, -0.45607028,\n",
    "               0.54114052, -0.77552923, -0.10720425, 0.55252091, -0.34397153,\n",
    "               -0.59813694, 0.15567728, 0.03071009, -0.02176143, 0.34442719,\n",
    "               0.14681541],\n",
    "              [0.19280422, 0.35777863, 0.06139255, 0.20081699, -0.30546596,\n",
    "               -0.56901549, -0.15290953, -0.31181573, -0.74523217, 0.22296016,\n",
    "               -0.39143832, -0.16474685, 0.58064427, -0.77386654, 0.19713107,\n",
    "               -0.49477418],\n",
    "              [-0.16133903, 0.22112761, -0.53162136, 0.34764073, -0.08522381,\n",
    "               -0.2510216, 0.04699411, -0.25702389, -0.8739765, -0.24171728,\n",
    "               -0.24370533, 0.42193635, 0.41056913, -0.60378211, -0.65756832,\n",
    "               0.0845203],\n",
    "              [-0.34792144, 0.18450939, 0.77038332, 0.63868511, -0.06221681,\n",
    "               0.11930421, 0.04895523, -0.22463059, -0.03268844, -0.58941354,\n",
    "               0.11640045, 0.32384901, -0.42952779, 0.58119471, 0.07288662,\n",
    "               0.26669673],\n",
    "              [0.01834555, -0.16367754, 0.34900298, 0.45087949, 0.47073855,\n",
    "               -0.37377404, 0.0606911, 0.2455703, -0.55182937, -0.20261009,\n",
    "               0.28325423, -0.04741146, 0.30565238, -0.62090653, 0.17528413,\n",
    "               -0.60434975],\n",
    "              [-0.55464981, 0.50918784, -0.21371646, -0.63996967, -0.37656862,\n",
    "               0.27852662, 0.3287838, -0.56800869, 0.23260763, -0.20653106,\n",
    "               0.63261439, -0.22666691, 0.00726302, -0.60125196, 0.07139961,\n",
    "               -0.35086639],\n",
    "              [0.94039731, -0.25999326, 0.43922549, -0.485738, -0.20492235,\n",
    "               -0.26005626, 0.68776626, 0.57826888, -0.05973995, -0.1193658,\n",
    "               -0.12102433, -0.22091354, 0.43427913, 0.71447886, 0.32745991,\n",
    "               0.03466398],\n",
    "              [-0.13194625, -0.12262688, 0.18029209, 0.16555524, 0.39594125,\n",
    "               -0.58110665, 0.16161717, 0.0839783, 0.0911945, 0.34546976,\n",
    "               -0.29415349, 0.29891936, -0.60834721, 0.5943593, -0.29473819,\n",
    "               0.4864154],\n",
    "              [0.40850093, -0.4638894, -0.39732987, -0.01972861, 0.51189582,\n",
    "               0.10176704, 0.37528519, -0.41479418, -0.1932531, 0.54732221,\n",
    "               -0.11876511, 0.32843973, -0.259283, 0.59500132, 0.35168375,\n",
    "               -0.21733727],\n",
    "              [-0.50627723, -0.1973602, -0.02339884, -0.66846048, 0.62696606,\n",
    "               0.60049717, 0.69143364, -0.48053591, 0.17812208, -0.58481821,\n",
    "               -0.23551415, -0.06229112, 0.20993116, -0.72485884, 0.34375662,\n",
    "               -0.23539168],\n",
    "              [-0.51388312, -0.2788953, 0.00859533, -0.5247195, -0.18021544,\n",
    "               0.28372911, 0.10791359, 0.13033494, 0.34294013, -0.70310089,\n",
    "               -0.13245433, 0.48661081, 0.08451644, -0.69990992, 0.0408274,\n",
    "               -0.47204888],\n",
    "              [0.68546275, 0.22581365, -0.32571833, 0.34394298, -0.43232367,\n",
    "               -0.5041842, 0.04784017, -0.53067936, -0.50049908, 0.36874221,\n",
    "               0.22429186, 0.4616482, 0.11159174, -0.26827959, -0.39372848,\n",
    "               -0.40987423]])\n",
    "bl62np = {}\n",
    "vkk = list(bl62.keys())\n",
    "for ii in range(20):\n",
    "    kk = vkk[ii]\n",
    "    bl62np[kk] = np.array(list(X[ii,]) + [0] * Ndim * 5)\n",
    "def EncodingCDR3(s, M, n0):\n",
    "    sL=list(s)\n",
    "    x=np.array([0]*n0)\n",
    "    for ii in range(len(sL)):\n",
    "        x = np.dot(M, (x+bl62np[sL[ii]]))\n",
    "    return x\n",
    "\n",
    "def GIANA_encoder_pd(df, chains=['alpha','beta'],ST=3):\n",
    "    if chains== ['alpha', 'beta']:\n",
    "        cdr3_alpha = df_alpha['cdr3'].tolist()\n",
    "        cdr3_beta = df_beta['cdr3'].tolist()\n",
    "        cdr3_alpha_encoded = [EncodingCDR3(seq[ST:-2], M6, n0) for seq in cdr3_alpha]\n",
    "        cdr3_beta_encoded = [EncodingCDR3(seq[ST:-2], M6, n0) for seq in cdr3_beta]\n",
    "        cdr3_alpha_array = np.array(cdr3_alpha_encoded)\n",
    "        cdr3_beta_array = np.array(cdr3_beta_encoded)\n",
    "        cdr3_output=np.concatenate((cdr3_alpha_array, cdr3_beta_array), axis=1).tolist()\n",
    "        df.loc[:, 'encoded_cdr3'] = cdr3_output\n",
    "    elif chains== ['alpha']:\n",
    "        cdr3_alpha = df_alpha['cdr3'].tolist()\n",
    "        cdr3_alpha_encoded = [EncodingCDR3(seq[ST:-2], M6, n0) for seq in tqdm(cdr3_alpha)]\n",
    "        df.loc[:, 'encoded_cdr3'] = cdr3_alpha_encoded\n",
    "    elif chains== ['beta']:\n",
    "        cdr3_beta = df_beta['cdr3'].tolist()\n",
    "        cdr3_beta_encoded = [EncodingCDR3(seq[ST:-2], M6, n0) for seq in tqdm(cdr3_beta)]\n",
    "        df.loc[:, 'encoded_cdr3'] = cdr3_beta_encoded\n",
    "    return df\n",
    "# from encoders.GIANA_encoder import GIANA_encoder_pd\n",
    "# human = GIADA_encoder_pd(human, chains=['alpha', 'beta'])\n",
    "# it will add a new column 'encoded_cdr3' to the dataframe, which contains the encoded cdr3 sequences."
   ]
  },
  {
   "cell_type": "code",
   "execution_count": 41,
   "id": "d6da96bd",
   "metadata": {
    "ExecuteTime": {
     "end_time": "2024-04-28T00:53:34.259773Z",
     "start_time": "2024-04-28T00:53:19.008920Z"
    }
   },
   "outputs": [
    {
     "name": "stderr",
     "output_type": "stream",
     "text": [
      "100%|██████████| 25456/25456 [00:15<00:00, 1672.00it/s]\n",
      "D:\\Program Files (x86)\\python39\\lib\\site-packages\\pandas\\core\\indexing.py:1667: SettingWithCopyWarning: \n",
      "A value is trying to be set on a copy of a slice from a DataFrame.\n",
      "Try using .loc[row_indexer,col_indexer] = value instead\n",
      "\n",
      "See the caveats in the documentation: https://pandas.pydata.org/pandas-docs/stable/user_guide/indexing.html#returning-a-view-versus-a-copy\n",
      "  self.obj[key] = value\n"
     ]
    }
   ],
   "source": [
    "df_alpha = GIANA_encoder_pd(df_alpha,chains=['alpha'])"
   ]
  },
  {
   "cell_type": "code",
   "execution_count": 42,
   "id": "a0142c0f",
   "metadata": {
    "ExecuteTime": {
     "end_time": "2024-04-28T00:53:34.291690Z",
     "start_time": "2024-04-28T00:53:34.262767Z"
    }
   },
   "outputs": [
    {
     "data": {
      "text/plain": "                cdr3           v.segm     j.segm     mhc.a mhc.b mhc.class  \\\n0      CIVRAPGRADMRF      TRAV26-1*01  TRAJ43*01  HLA-B*08   B2M      MHCI   \n3     CAVPSGAGSYQLTF        TRAV20*01  TRAJ28*01  HLA-B*08   B2M      MHCI   \n7      CAYRPPGTYKYIF  TRAV38-2/DV8*01  TRAJ40*01  HLA-B*08   B2M      MHCI   \n680    CAYTVLGNEKLTF      TRAV38-1*01  TRAJ48*01  HLA-A*02   B2M      MHCI   \n682  CAVAGYGGSQGNLIF      TRAV12-2*01  TRAJ42*01  HLA-A*02   B2M      MHCI   \n\n        epitope   gene      species  gene_encoded  species_encoded  \\\n0      FLKEKGGL    Nef        HIV-1            17                3   \n3      FLKEKGGL    Nef        HIV-1            17                3   \n7      FLKEKGGL    Nef        HIV-1            17                3   \n680  ELAGIGILTV  MLANA  HomoSapiens            11                4   \n682  ELAGIGILTV  MLANA  HomoSapiens            11                4   \n\n     mhc.a_encoded  mhc.b_encoded  mhc.class_encoded  v.segm_encoded  \\\n0               17              0                  0              21   \n3               17              0                  0              15   \n7               17              0                  0              31   \n680              1              0                  0              30   \n682              1              0                  0               4   \n\n     j.segm_encoded                                       encoded_cdr3  \n0                33  [0.94039731, -0.25999326, 0.43922549, -0.48573...  \n3                17  [-0.31230882, -0.53572156, -0.01949946, -0.122...  \n7                30  [0.94039731, -0.25999326, 0.43922549, -0.48573...  \n680              38  [-0.16133903, 0.22112761, -0.53162136, 0.34764...  \n682              32  [-0.33041265, -0.43860065, -0.5509376, -0.0438...  ",
      "text/html": "<div>\n<style scoped>\n    .dataframe tbody tr th:only-of-type {\n        vertical-align: middle;\n    }\n\n    .dataframe tbody tr th {\n        vertical-align: top;\n    }\n\n    .dataframe thead th {\n        text-align: right;\n    }\n</style>\n<table border=\"1\" class=\"dataframe\">\n  <thead>\n    <tr style=\"text-align: right;\">\n      <th></th>\n      <th>cdr3</th>\n      <th>v.segm</th>\n      <th>j.segm</th>\n      <th>mhc.a</th>\n      <th>mhc.b</th>\n      <th>mhc.class</th>\n      <th>epitope</th>\n      <th>gene</th>\n      <th>species</th>\n      <th>gene_encoded</th>\n      <th>species_encoded</th>\n      <th>mhc.a_encoded</th>\n      <th>mhc.b_encoded</th>\n      <th>mhc.class_encoded</th>\n      <th>v.segm_encoded</th>\n      <th>j.segm_encoded</th>\n      <th>encoded_cdr3</th>\n    </tr>\n  </thead>\n  <tbody>\n    <tr>\n      <th>0</th>\n      <td>CIVRAPGRADMRF</td>\n      <td>TRAV26-1*01</td>\n      <td>TRAJ43*01</td>\n      <td>HLA-B*08</td>\n      <td>B2M</td>\n      <td>MHCI</td>\n      <td>FLKEKGGL</td>\n      <td>Nef</td>\n      <td>HIV-1</td>\n      <td>17</td>\n      <td>3</td>\n      <td>17</td>\n      <td>0</td>\n      <td>0</td>\n      <td>21</td>\n      <td>33</td>\n      <td>[0.94039731, -0.25999326, 0.43922549, -0.48573...</td>\n    </tr>\n    <tr>\n      <th>3</th>\n      <td>CAVPSGAGSYQLTF</td>\n      <td>TRAV20*01</td>\n      <td>TRAJ28*01</td>\n      <td>HLA-B*08</td>\n      <td>B2M</td>\n      <td>MHCI</td>\n      <td>FLKEKGGL</td>\n      <td>Nef</td>\n      <td>HIV-1</td>\n      <td>17</td>\n      <td>3</td>\n      <td>17</td>\n      <td>0</td>\n      <td>0</td>\n      <td>15</td>\n      <td>17</td>\n      <td>[-0.31230882, -0.53572156, -0.01949946, -0.122...</td>\n    </tr>\n    <tr>\n      <th>7</th>\n      <td>CAYRPPGTYKYIF</td>\n      <td>TRAV38-2/DV8*01</td>\n      <td>TRAJ40*01</td>\n      <td>HLA-B*08</td>\n      <td>B2M</td>\n      <td>MHCI</td>\n      <td>FLKEKGGL</td>\n      <td>Nef</td>\n      <td>HIV-1</td>\n      <td>17</td>\n      <td>3</td>\n      <td>17</td>\n      <td>0</td>\n      <td>0</td>\n      <td>31</td>\n      <td>30</td>\n      <td>[0.94039731, -0.25999326, 0.43922549, -0.48573...</td>\n    </tr>\n    <tr>\n      <th>680</th>\n      <td>CAYTVLGNEKLTF</td>\n      <td>TRAV38-1*01</td>\n      <td>TRAJ48*01</td>\n      <td>HLA-A*02</td>\n      <td>B2M</td>\n      <td>MHCI</td>\n      <td>ELAGIGILTV</td>\n      <td>MLANA</td>\n      <td>HomoSapiens</td>\n      <td>11</td>\n      <td>4</td>\n      <td>1</td>\n      <td>0</td>\n      <td>0</td>\n      <td>30</td>\n      <td>38</td>\n      <td>[-0.16133903, 0.22112761, -0.53162136, 0.34764...</td>\n    </tr>\n    <tr>\n      <th>682</th>\n      <td>CAVAGYGGSQGNLIF</td>\n      <td>TRAV12-2*01</td>\n      <td>TRAJ42*01</td>\n      <td>HLA-A*02</td>\n      <td>B2M</td>\n      <td>MHCI</td>\n      <td>ELAGIGILTV</td>\n      <td>MLANA</td>\n      <td>HomoSapiens</td>\n      <td>11</td>\n      <td>4</td>\n      <td>1</td>\n      <td>0</td>\n      <td>0</td>\n      <td>4</td>\n      <td>32</td>\n      <td>[-0.33041265, -0.43860065, -0.5509376, -0.0438...</td>\n    </tr>\n  </tbody>\n</table>\n</div>"
     },
     "execution_count": 42,
     "metadata": {},
     "output_type": "execute_result"
    }
   ],
   "source": [
    "df_alpha.head()"
   ]
  },
  {
   "cell_type": "code",
   "execution_count": 42,
   "id": "9b898be3",
   "metadata": {
    "ExecuteTime": {
     "end_time": "2024-04-28T00:53:34.307162Z",
     "start_time": "2024-04-28T00:53:34.292689Z"
    }
   },
   "outputs": [],
   "source": []
  },
  {
   "cell_type": "code",
   "execution_count": 43,
   "id": "1a40f372",
   "metadata": {
    "ExecuteTime": {
     "end_time": "2024-04-28T00:53:34.339077Z",
     "start_time": "2024-04-28T00:53:34.308161Z"
    }
   },
   "outputs": [
    {
     "name": "stderr",
     "output_type": "stream",
     "text": [
      "C:\\Users\\xujiadong\\AppData\\Local\\Temp\\ipykernel_24692\\1380192099.py:7: SettingWithCopyWarning: \n",
      "A value is trying to be set on a copy of a slice from a DataFrame.\n",
      "Try using .loc[row_indexer,col_indexer] = value instead\n",
      "\n",
      "See the caveats in the documentation: https://pandas.pydata.org/pandas-docs/stable/user_guide/indexing.html#returning-a-view-versus-a-copy\n",
      "  df_alpha['epitope_encoded'] = label_encoder.fit_transform(df_alpha['epitope'])\n"
     ]
    },
    {
     "data": {
      "text/plain": "                  cdr3           v.segm     j.segm          mhc.a  \\\n0        CIVRAPGRADMRF      TRAV26-1*01  TRAJ43*01       HLA-B*08   \n3       CAVPSGAGSYQLTF        TRAV20*01  TRAJ28*01       HLA-B*08   \n7        CAYRPPGTYKYIF  TRAV38-2/DV8*01  TRAJ40*01       HLA-B*08   \n680      CAYTVLGNEKLTF      TRAV38-1*01  TRAJ48*01       HLA-A*02   \n682    CAVAGYGGSQGNLIF      TRAV12-2*01  TRAJ42*01       HLA-A*02   \n...                ...              ...        ...            ...   \n92344  CAGQLYGGSQGNLIF        TRAV35*01  TRAJ42*01  HLA-DPA*01:03   \n92346  CAGLNYGGSQGNLIF        TRAV35*01  TRAJ42*01  HLA-DPA*01:03   \n92348  CAGLNYGGSQGNLIF        TRAV35*01  TRAJ42*01  HLA-DPA*01:03   \n92351  CAALNYGGSQGNLIF        TRAV35*01  TRAJ42*01  HLA-DPA*01:03   \n92353  CAGLNYGGSQGNLIF        TRAV35*01  TRAJ42*01  HLA-DPA*01:03   \n\n               mhc.b mhc.class         epitope   gene      species  \\\n0                B2M      MHCI        FLKEKGGL    Nef        HIV-1   \n3                B2M      MHCI        FLKEKGGL    Nef        HIV-1   \n7                B2M      MHCI        FLKEKGGL    Nef        HIV-1   \n680              B2M      MHCI      ELAGIGILTV  MLANA  HomoSapiens   \n682              B2M      MHCI      ELAGIGILTV  MLANA  HomoSapiens   \n...              ...       ...             ...    ...          ...   \n92344  HLA-DPB*04:01     MHCII  TFEYVSQPFLMDLE  Spike   SARS-CoV-2   \n92346  HLA-DPB*04:01     MHCII  TFEYVSQPFLMDLE  Spike   SARS-CoV-2   \n92348  HLA-DPB*04:01     MHCII  TFEYVSQPFLMDLE  Spike   SARS-CoV-2   \n92351  HLA-DPB*04:01     MHCII  TFEYVSQPFLMDLE  Spike   SARS-CoV-2   \n92353  HLA-DPB*04:01     MHCII  TFEYVSQPFLMDLE  Spike   SARS-CoV-2   \n\n       gene_encoded  species_encoded  mhc.a_encoded  mhc.b_encoded  \\\n0                17                3             17              0   \n3                17                3             17              0   \n7                17                3             17              0   \n680              11                4              1              0   \n682              11                4              1              0   \n...             ...              ...            ...            ...   \n92344            24                6             34              1   \n92346            24                6             34              1   \n92348            24                6             34              1   \n92351            24                6             34              1   \n92353            24                6             34              1   \n\n       mhc.class_encoded  v.segm_encoded  j.segm_encoded  \\\n0                      0              21              33   \n3                      0              15              17   \n7                      0              31              30   \n680                    0              30              38   \n682                    0               4              32   \n...                  ...             ...             ...   \n92344                  1              28              32   \n92346                  1              28              32   \n92348                  1              28              32   \n92351                  1              28              32   \n92353                  1              28              32   \n\n                                            encoded_cdr3  epitope_encoded  \n0      [0.94039731, -0.25999326, 0.43922549, -0.48573...               21  \n3      [-0.31230882, -0.53572156, -0.01949946, -0.122...               21  \n7      [0.94039731, -0.25999326, 0.43922549, -0.48573...               21  \n680    [-0.16133903, 0.22112761, -0.53162136, 0.34764...               14  \n682    [-0.33041265, -0.43860065, -0.5509376, -0.0438...               14  \n...                                                  ...              ...  \n92344  [-0.33041265, -0.43860065, -0.5509376, -0.0438...              112  \n92346  [-0.33041265, -0.43860065, -0.5509376, -0.0438...              112  \n92348  [-0.33041265, -0.43860065, -0.5509376, -0.0438...              112  \n92351  [-0.33041265, -0.43860065, -0.5509376, -0.0438...              112  \n92353  [-0.33041265, -0.43860065, -0.5509376, -0.0438...              112  \n\n[25456 rows x 18 columns]",
      "text/html": "<div>\n<style scoped>\n    .dataframe tbody tr th:only-of-type {\n        vertical-align: middle;\n    }\n\n    .dataframe tbody tr th {\n        vertical-align: top;\n    }\n\n    .dataframe thead th {\n        text-align: right;\n    }\n</style>\n<table border=\"1\" class=\"dataframe\">\n  <thead>\n    <tr style=\"text-align: right;\">\n      <th></th>\n      <th>cdr3</th>\n      <th>v.segm</th>\n      <th>j.segm</th>\n      <th>mhc.a</th>\n      <th>mhc.b</th>\n      <th>mhc.class</th>\n      <th>epitope</th>\n      <th>gene</th>\n      <th>species</th>\n      <th>gene_encoded</th>\n      <th>species_encoded</th>\n      <th>mhc.a_encoded</th>\n      <th>mhc.b_encoded</th>\n      <th>mhc.class_encoded</th>\n      <th>v.segm_encoded</th>\n      <th>j.segm_encoded</th>\n      <th>encoded_cdr3</th>\n      <th>epitope_encoded</th>\n    </tr>\n  </thead>\n  <tbody>\n    <tr>\n      <th>0</th>\n      <td>CIVRAPGRADMRF</td>\n      <td>TRAV26-1*01</td>\n      <td>TRAJ43*01</td>\n      <td>HLA-B*08</td>\n      <td>B2M</td>\n      <td>MHCI</td>\n      <td>FLKEKGGL</td>\n      <td>Nef</td>\n      <td>HIV-1</td>\n      <td>17</td>\n      <td>3</td>\n      <td>17</td>\n      <td>0</td>\n      <td>0</td>\n      <td>21</td>\n      <td>33</td>\n      <td>[0.94039731, -0.25999326, 0.43922549, -0.48573...</td>\n      <td>21</td>\n    </tr>\n    <tr>\n      <th>3</th>\n      <td>CAVPSGAGSYQLTF</td>\n      <td>TRAV20*01</td>\n      <td>TRAJ28*01</td>\n      <td>HLA-B*08</td>\n      <td>B2M</td>\n      <td>MHCI</td>\n      <td>FLKEKGGL</td>\n      <td>Nef</td>\n      <td>HIV-1</td>\n      <td>17</td>\n      <td>3</td>\n      <td>17</td>\n      <td>0</td>\n      <td>0</td>\n      <td>15</td>\n      <td>17</td>\n      <td>[-0.31230882, -0.53572156, -0.01949946, -0.122...</td>\n      <td>21</td>\n    </tr>\n    <tr>\n      <th>7</th>\n      <td>CAYRPPGTYKYIF</td>\n      <td>TRAV38-2/DV8*01</td>\n      <td>TRAJ40*01</td>\n      <td>HLA-B*08</td>\n      <td>B2M</td>\n      <td>MHCI</td>\n      <td>FLKEKGGL</td>\n      <td>Nef</td>\n      <td>HIV-1</td>\n      <td>17</td>\n      <td>3</td>\n      <td>17</td>\n      <td>0</td>\n      <td>0</td>\n      <td>31</td>\n      <td>30</td>\n      <td>[0.94039731, -0.25999326, 0.43922549, -0.48573...</td>\n      <td>21</td>\n    </tr>\n    <tr>\n      <th>680</th>\n      <td>CAYTVLGNEKLTF</td>\n      <td>TRAV38-1*01</td>\n      <td>TRAJ48*01</td>\n      <td>HLA-A*02</td>\n      <td>B2M</td>\n      <td>MHCI</td>\n      <td>ELAGIGILTV</td>\n      <td>MLANA</td>\n      <td>HomoSapiens</td>\n      <td>11</td>\n      <td>4</td>\n      <td>1</td>\n      <td>0</td>\n      <td>0</td>\n      <td>30</td>\n      <td>38</td>\n      <td>[-0.16133903, 0.22112761, -0.53162136, 0.34764...</td>\n      <td>14</td>\n    </tr>\n    <tr>\n      <th>682</th>\n      <td>CAVAGYGGSQGNLIF</td>\n      <td>TRAV12-2*01</td>\n      <td>TRAJ42*01</td>\n      <td>HLA-A*02</td>\n      <td>B2M</td>\n      <td>MHCI</td>\n      <td>ELAGIGILTV</td>\n      <td>MLANA</td>\n      <td>HomoSapiens</td>\n      <td>11</td>\n      <td>4</td>\n      <td>1</td>\n      <td>0</td>\n      <td>0</td>\n      <td>4</td>\n      <td>32</td>\n      <td>[-0.33041265, -0.43860065, -0.5509376, -0.0438...</td>\n      <td>14</td>\n    </tr>\n    <tr>\n      <th>...</th>\n      <td>...</td>\n      <td>...</td>\n      <td>...</td>\n      <td>...</td>\n      <td>...</td>\n      <td>...</td>\n      <td>...</td>\n      <td>...</td>\n      <td>...</td>\n      <td>...</td>\n      <td>...</td>\n      <td>...</td>\n      <td>...</td>\n      <td>...</td>\n      <td>...</td>\n      <td>...</td>\n      <td>...</td>\n      <td>...</td>\n    </tr>\n    <tr>\n      <th>92344</th>\n      <td>CAGQLYGGSQGNLIF</td>\n      <td>TRAV35*01</td>\n      <td>TRAJ42*01</td>\n      <td>HLA-DPA*01:03</td>\n      <td>HLA-DPB*04:01</td>\n      <td>MHCII</td>\n      <td>TFEYVSQPFLMDLE</td>\n      <td>Spike</td>\n      <td>SARS-CoV-2</td>\n      <td>24</td>\n      <td>6</td>\n      <td>34</td>\n      <td>1</td>\n      <td>1</td>\n      <td>28</td>\n      <td>32</td>\n      <td>[-0.33041265, -0.43860065, -0.5509376, -0.0438...</td>\n      <td>112</td>\n    </tr>\n    <tr>\n      <th>92346</th>\n      <td>CAGLNYGGSQGNLIF</td>\n      <td>TRAV35*01</td>\n      <td>TRAJ42*01</td>\n      <td>HLA-DPA*01:03</td>\n      <td>HLA-DPB*04:01</td>\n      <td>MHCII</td>\n      <td>TFEYVSQPFLMDLE</td>\n      <td>Spike</td>\n      <td>SARS-CoV-2</td>\n      <td>24</td>\n      <td>6</td>\n      <td>34</td>\n      <td>1</td>\n      <td>1</td>\n      <td>28</td>\n      <td>32</td>\n      <td>[-0.33041265, -0.43860065, -0.5509376, -0.0438...</td>\n      <td>112</td>\n    </tr>\n    <tr>\n      <th>92348</th>\n      <td>CAGLNYGGSQGNLIF</td>\n      <td>TRAV35*01</td>\n      <td>TRAJ42*01</td>\n      <td>HLA-DPA*01:03</td>\n      <td>HLA-DPB*04:01</td>\n      <td>MHCII</td>\n      <td>TFEYVSQPFLMDLE</td>\n      <td>Spike</td>\n      <td>SARS-CoV-2</td>\n      <td>24</td>\n      <td>6</td>\n      <td>34</td>\n      <td>1</td>\n      <td>1</td>\n      <td>28</td>\n      <td>32</td>\n      <td>[-0.33041265, -0.43860065, -0.5509376, -0.0438...</td>\n      <td>112</td>\n    </tr>\n    <tr>\n      <th>92351</th>\n      <td>CAALNYGGSQGNLIF</td>\n      <td>TRAV35*01</td>\n      <td>TRAJ42*01</td>\n      <td>HLA-DPA*01:03</td>\n      <td>HLA-DPB*04:01</td>\n      <td>MHCII</td>\n      <td>TFEYVSQPFLMDLE</td>\n      <td>Spike</td>\n      <td>SARS-CoV-2</td>\n      <td>24</td>\n      <td>6</td>\n      <td>34</td>\n      <td>1</td>\n      <td>1</td>\n      <td>28</td>\n      <td>32</td>\n      <td>[-0.33041265, -0.43860065, -0.5509376, -0.0438...</td>\n      <td>112</td>\n    </tr>\n    <tr>\n      <th>92353</th>\n      <td>CAGLNYGGSQGNLIF</td>\n      <td>TRAV35*01</td>\n      <td>TRAJ42*01</td>\n      <td>HLA-DPA*01:03</td>\n      <td>HLA-DPB*04:01</td>\n      <td>MHCII</td>\n      <td>TFEYVSQPFLMDLE</td>\n      <td>Spike</td>\n      <td>SARS-CoV-2</td>\n      <td>24</td>\n      <td>6</td>\n      <td>34</td>\n      <td>1</td>\n      <td>1</td>\n      <td>28</td>\n      <td>32</td>\n      <td>[-0.33041265, -0.43860065, -0.5509376, -0.0438...</td>\n      <td>112</td>\n    </tr>\n  </tbody>\n</table>\n<p>25456 rows × 18 columns</p>\n</div>"
     },
     "execution_count": 43,
     "metadata": {},
     "output_type": "execute_result"
    }
   ],
   "source": [
    "from sklearn.preprocessing import LabelEncoder\n",
    "\n",
    "# Initialize the label encoder\n",
    "label_encoder = LabelEncoder()\n",
    "\n",
    "# Encode the 'epitope' column\n",
    "df_alpha['epitope_encoded'] = label_encoder.fit_transform(df_alpha['epitope'])\n",
    "\n",
    "# The 'epitope_encoded' column now contains numerical labels for the epitope classes\n",
    "df_alpha"
   ]
  },
  {
   "cell_type": "code",
   "execution_count": 44,
   "id": "4a278bb6",
   "metadata": {
    "ExecuteTime": {
     "end_time": "2024-04-28T00:53:34.355034Z",
     "start_time": "2024-04-28T00:53:34.340075Z"
    }
   },
   "outputs": [
    {
     "name": "stderr",
     "output_type": "stream",
     "text": [
      "D:\\Program Files (x86)\\python39\\lib\\site-packages\\pandas\\core\\frame.py:4901: SettingWithCopyWarning: \n",
      "A value is trying to be set on a copy of a slice from a DataFrame\n",
      "\n",
      "See the caveats in the documentation: https://pandas.pydata.org/pandas-docs/stable/user_guide/indexing.html#returning-a-view-versus-a-copy\n",
      "  return super().drop(\n"
     ]
    }
   ],
   "source": [
    "df_alpha.drop(['cdr3','epitope','v.segm','j.segm','mhc.a','mhc.b','mhc.class','gene'], axis=1, inplace=True)"
   ]
  },
  {
   "cell_type": "code",
   "execution_count": 45,
   "id": "2f35319e",
   "metadata": {
    "ExecuteTime": {
     "end_time": "2024-04-28T00:53:34.385954Z",
     "start_time": "2024-04-28T00:53:34.356032Z"
    }
   },
   "outputs": [
    {
     "data": {
      "text/plain": "       gene_encoded  species_encoded  mhc.a_encoded  mhc.b_encoded  \\\n0                17                3             17              0   \n3                17                3             17              0   \n7                17                3             17              0   \n680              11                4              1              0   \n682              11                4              1              0   \n...             ...              ...            ...            ...   \n92344            24                6             34              1   \n92346            24                6             34              1   \n92348            24                6             34              1   \n92351            24                6             34              1   \n92353            24                6             34              1   \n\n       mhc.class_encoded  v.segm_encoded  j.segm_encoded  \\\n0                      0              21              33   \n3                      0              15              17   \n7                      0              31              30   \n680                    0              30              38   \n682                    0               4              32   \n...                  ...             ...             ...   \n92344                  1              28              32   \n92346                  1              28              32   \n92348                  1              28              32   \n92351                  1              28              32   \n92353                  1              28              32   \n\n                                            encoded_cdr3  epitope_encoded  \n0      [0.94039731, -0.25999326, 0.43922549, -0.48573...               21  \n3      [-0.31230882, -0.53572156, -0.01949946, -0.122...               21  \n7      [0.94039731, -0.25999326, 0.43922549, -0.48573...               21  \n680    [-0.16133903, 0.22112761, -0.53162136, 0.34764...               14  \n682    [-0.33041265, -0.43860065, -0.5509376, -0.0438...               14  \n...                                                  ...              ...  \n92344  [-0.33041265, -0.43860065, -0.5509376, -0.0438...              112  \n92346  [-0.33041265, -0.43860065, -0.5509376, -0.0438...              112  \n92348  [-0.33041265, -0.43860065, -0.5509376, -0.0438...              112  \n92351  [-0.33041265, -0.43860065, -0.5509376, -0.0438...              112  \n92353  [-0.33041265, -0.43860065, -0.5509376, -0.0438...              112  \n\n[25456 rows x 9 columns]",
      "text/html": "<div>\n<style scoped>\n    .dataframe tbody tr th:only-of-type {\n        vertical-align: middle;\n    }\n\n    .dataframe tbody tr th {\n        vertical-align: top;\n    }\n\n    .dataframe thead th {\n        text-align: right;\n    }\n</style>\n<table border=\"1\" class=\"dataframe\">\n  <thead>\n    <tr style=\"text-align: right;\">\n      <th></th>\n      <th>gene_encoded</th>\n      <th>species_encoded</th>\n      <th>mhc.a_encoded</th>\n      <th>mhc.b_encoded</th>\n      <th>mhc.class_encoded</th>\n      <th>v.segm_encoded</th>\n      <th>j.segm_encoded</th>\n      <th>encoded_cdr3</th>\n      <th>epitope_encoded</th>\n    </tr>\n  </thead>\n  <tbody>\n    <tr>\n      <th>0</th>\n      <td>17</td>\n      <td>3</td>\n      <td>17</td>\n      <td>0</td>\n      <td>0</td>\n      <td>21</td>\n      <td>33</td>\n      <td>[0.94039731, -0.25999326, 0.43922549, -0.48573...</td>\n      <td>21</td>\n    </tr>\n    <tr>\n      <th>3</th>\n      <td>17</td>\n      <td>3</td>\n      <td>17</td>\n      <td>0</td>\n      <td>0</td>\n      <td>15</td>\n      <td>17</td>\n      <td>[-0.31230882, -0.53572156, -0.01949946, -0.122...</td>\n      <td>21</td>\n    </tr>\n    <tr>\n      <th>7</th>\n      <td>17</td>\n      <td>3</td>\n      <td>17</td>\n      <td>0</td>\n      <td>0</td>\n      <td>31</td>\n      <td>30</td>\n      <td>[0.94039731, -0.25999326, 0.43922549, -0.48573...</td>\n      <td>21</td>\n    </tr>\n    <tr>\n      <th>680</th>\n      <td>11</td>\n      <td>4</td>\n      <td>1</td>\n      <td>0</td>\n      <td>0</td>\n      <td>30</td>\n      <td>38</td>\n      <td>[-0.16133903, 0.22112761, -0.53162136, 0.34764...</td>\n      <td>14</td>\n    </tr>\n    <tr>\n      <th>682</th>\n      <td>11</td>\n      <td>4</td>\n      <td>1</td>\n      <td>0</td>\n      <td>0</td>\n      <td>4</td>\n      <td>32</td>\n      <td>[-0.33041265, -0.43860065, -0.5509376, -0.0438...</td>\n      <td>14</td>\n    </tr>\n    <tr>\n      <th>...</th>\n      <td>...</td>\n      <td>...</td>\n      <td>...</td>\n      <td>...</td>\n      <td>...</td>\n      <td>...</td>\n      <td>...</td>\n      <td>...</td>\n      <td>...</td>\n    </tr>\n    <tr>\n      <th>92344</th>\n      <td>24</td>\n      <td>6</td>\n      <td>34</td>\n      <td>1</td>\n      <td>1</td>\n      <td>28</td>\n      <td>32</td>\n      <td>[-0.33041265, -0.43860065, -0.5509376, -0.0438...</td>\n      <td>112</td>\n    </tr>\n    <tr>\n      <th>92346</th>\n      <td>24</td>\n      <td>6</td>\n      <td>34</td>\n      <td>1</td>\n      <td>1</td>\n      <td>28</td>\n      <td>32</td>\n      <td>[-0.33041265, -0.43860065, -0.5509376, -0.0438...</td>\n      <td>112</td>\n    </tr>\n    <tr>\n      <th>92348</th>\n      <td>24</td>\n      <td>6</td>\n      <td>34</td>\n      <td>1</td>\n      <td>1</td>\n      <td>28</td>\n      <td>32</td>\n      <td>[-0.33041265, -0.43860065, -0.5509376, -0.0438...</td>\n      <td>112</td>\n    </tr>\n    <tr>\n      <th>92351</th>\n      <td>24</td>\n      <td>6</td>\n      <td>34</td>\n      <td>1</td>\n      <td>1</td>\n      <td>28</td>\n      <td>32</td>\n      <td>[-0.33041265, -0.43860065, -0.5509376, -0.0438...</td>\n      <td>112</td>\n    </tr>\n    <tr>\n      <th>92353</th>\n      <td>24</td>\n      <td>6</td>\n      <td>34</td>\n      <td>1</td>\n      <td>1</td>\n      <td>28</td>\n      <td>32</td>\n      <td>[-0.33041265, -0.43860065, -0.5509376, -0.0438...</td>\n      <td>112</td>\n    </tr>\n  </tbody>\n</table>\n<p>25456 rows × 9 columns</p>\n</div>"
     },
     "execution_count": 45,
     "metadata": {},
     "output_type": "execute_result"
    }
   ],
   "source": [
    "df_alpha.drop(['species'], axis=1, inplace=True)\n",
    "df_alpha"
   ]
  },
  {
   "cell_type": "code",
   "execution_count": 46,
   "id": "03755c67",
   "metadata": {
    "ExecuteTime": {
     "end_time": "2024-04-28T00:53:49.502926Z",
     "start_time": "2024-04-28T00:53:34.386952Z"
    }
   },
   "outputs": [
    {
     "data": {
      "text/plain": "D:\\Program Files (x86)\\dsmp-2024-group4\\df_alpha.csv",
      "text/html": "<a href='df_alpha.csv' target='_blank'>df_alpha.csv</a><br>"
     },
     "metadata": {},
     "output_type": "display_data"
    }
   ],
   "source": [
    "# Save the dataframes to a CSV file\n",
    "df_alpha.to_csv('df_alpha.csv', index=False)\n",
    "\n",
    "from IPython.display import FileLink\n",
    "\n",
    "# Display download links for the CSV files\n",
    "display(FileLink('df_alpha.csv'))"
   ]
  },
  {
   "cell_type": "code",
   "execution_count": 47,
   "id": "ec77c0f8",
   "metadata": {
    "ExecuteTime": {
     "end_time": "2024-04-28T00:53:49.518883Z",
     "start_time": "2024-04-28T00:53:49.504921Z"
    }
   },
   "outputs": [
    {
     "data": {
      "text/plain": "gene_encoded          int32\nspecies_encoded       int32\nmhc.a_encoded         int32\nmhc.b_encoded         int32\nmhc.class_encoded     int64\nv.segm_encoded        int32\nj.segm_encoded        int32\nencoded_cdr3         object\nepitope_encoded       int32\ndtype: object"
     },
     "execution_count": 47,
     "metadata": {},
     "output_type": "execute_result"
    }
   ],
   "source": [
    "# Check the data types for all features\n",
    "df_alpha_dtypes = df_alpha.dtypes\n",
    "df_alpha_dtypes"
   ]
  },
  {
   "cell_type": "code",
   "execution_count": 3,
   "id": "18fbb294",
   "metadata": {
    "ExecuteTime": {
     "end_time": "2024-04-28T01:11:04.525254Z",
     "start_time": "2024-04-28T01:11:04.170608Z"
    }
   },
   "outputs": [],
   "source": [
    "\n",
    "df_alpha= pd.read_csv('df_alpha.csv')\n"
   ]
  },
  {
   "cell_type": "code",
   "execution_count": 4,
   "id": "298c2bc4",
   "metadata": {
    "ExecuteTime": {
     "end_time": "2024-04-28T01:11:07.516037Z",
     "start_time": "2024-04-28T01:11:06.279137Z"
    }
   },
   "outputs": [],
   "source": [
    "# change the data type of the 'encoded_cdr3' column to np.array\n",
    "def convert_to_array(s):\n",
    "    s = s.strip('[]')\n",
    "    return np.fromstring(s, sep=' ')\n",
    "df_alpha['encoded_cdr3'] = df_alpha['encoded_cdr3'].apply(convert_to_array)\n"
   ]
  },
  {
   "cell_type": "code",
   "execution_count": 5,
   "id": "f21dc849",
   "metadata": {
    "ExecuteTime": {
     "end_time": "2024-04-28T01:11:08.652725Z",
     "start_time": "2024-04-28T01:11:08.296118Z"
    }
   },
   "outputs": [],
   "source": [
    "# normalize the data\n",
    "from sklearn.preprocessing import MinMaxScaler\n",
    "# Normalise the features separately\n",
    "# gene_encoded, species_encoded, mhc.a_encoded, mhc.b_encoded, mhc.class_encoded, v.segm_encoded, j.segm_encoded\n",
    "scaler = MinMaxScaler()\n",
    "df_alpha['gene_encoded'] = scaler.fit_transform(df_alpha['gene_encoded'].values.reshape(-1, 1))\n",
    "df_alpha['species_encoded'] = scaler.fit_transform(df_alpha['species_encoded'].values.reshape(-1, 1))\n",
    "df_alpha['mhc.a_encoded'] = scaler.fit_transform(df_alpha['mhc.a_encoded'].values.reshape(-1, 1))\n",
    "df_alpha['mhc.b_encoded'] = scaler.fit_transform(df_alpha['mhc.b_encoded'].values.reshape(-1, 1))\n",
    "df_alpha['mhc.class_encoded'] = scaler.fit_transform(df_alpha['mhc.class_encoded'].values.reshape(-1, 1))\n",
    "df_alpha['v.segm_encoded'] = scaler.fit_transform(df_alpha['v.segm_encoded'].values.reshape(-1, 1))\n",
    "df_alpha['j.segm_encoded'] = scaler.fit_transform(df_alpha['j.segm_encoded'].values.reshape(-1, 1))\n",
    "\n",
    "\n"
   ]
  },
  {
   "cell_type": "code",
   "outputs": [],
   "source": [
    "# Merge all other features with encoded_cdr3 into a single vector\n",
    "# gene_encoded, species_encoded, mhc.a_encoded, mhc.b_encoded, mhc.class_encoded, v.segm_encoded, j.segm_encoded\n",
    "df_alpha_feature = df_alpha.apply(lambda x: np.concatenate([x['encoded_cdr3'], np.array([x['gene_encoded'], x['species_encoded'], x['mhc.a_encoded'], x['mhc.b_encoded'], x['mhc.class_encoded'], x['v.segm_encoded'], x['j.segm_encoded']])]), axis=1)\n"
   ],
   "metadata": {
    "ExecuteTime": {
     "end_time": "2024-04-28T01:11:10.750996Z",
     "start_time": "2024-04-28T01:11:09.493140Z"
    }
   },
   "id": "235821cc",
   "execution_count": 6
  },
  {
   "cell_type": "code",
   "execution_count": 8,
   "id": "c5d035f3",
   "metadata": {
    "ExecuteTime": {
     "end_time": "2024-04-28T01:12:35.526826Z",
     "start_time": "2024-04-28T01:12:35.502891Z"
    }
   },
   "outputs": [],
   "source": [
    "from sklearn.model_selection import train_test_split\n",
    "epitopes=df_alpha['epitope_encoded']\n",
    "X_train, X_test, y_train, y_test = train_test_split(df_alpha_feature, epitopes, test_size=0.2, random_state=42)\n"
   ]
  },
  {
   "cell_type": "code",
   "outputs": [
    {
     "name": "stdout",
     "output_type": "stream",
     "text": [
      "Accuracy: 0.8750981932443048\n"
     ]
    }
   ],
   "source": [
    "# logistic regression\n",
    "from sklearn.linear_model import LogisticRegression\n",
    "from sklearn.metrics import accuracy_score\n",
    "model = LogisticRegression(max_iter=1000)\n",
    "model.fit(X_train.tolist(), y_train.tolist())\n",
    "y_pred = model.predict(X_test.tolist())\n",
    "accuracy = accuracy_score(y_test.tolist(), y_pred)\n",
    "print(f\"Accuracy: {accuracy}\")\n"
   ],
   "metadata": {
    "collapsed": false,
    "ExecuteTime": {
     "end_time": "2024-04-28T01:14:02.450439Z",
     "start_time": "2024-04-28T01:12:36.272593Z"
    }
   },
   "id": "30b8badd020b5b65",
   "execution_count": 9
  },
  {
   "cell_type": "code",
   "outputs": [],
   "source": [],
   "metadata": {
    "collapsed": false
   },
   "id": "6633855db826af9b"
  }
 ],
 "metadata": {
  "kernelspec": {
   "display_name": "Python 3 (ipykernel)",
   "language": "python",
   "name": "python3"
  },
  "language_info": {
   "codemirror_mode": {
    "name": "ipython",
    "version": 3
   },
   "file_extension": ".py",
   "mimetype": "text/x-python",
   "name": "python",
   "nbconvert_exporter": "python",
   "pygments_lexer": "ipython3",
   "version": "3.11.5"
  }
 },
 "nbformat": 4,
 "nbformat_minor": 5
}
