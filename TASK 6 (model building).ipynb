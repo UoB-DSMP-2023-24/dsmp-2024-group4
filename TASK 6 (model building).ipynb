{
 "cells": [
  {
   "cell_type": "code",
   "execution_count": 1,
   "id": "ca5e1425",
   "metadata": {
    "ExecuteTime": {
     "end_time": "2024-04-27T19:48:11.058987Z",
     "start_time": "2024-04-27T19:48:11.040039Z"
    }
   },
   "outputs": [],
   "source": [
    "import pandas as pd\n",
    "import numpy as np\n",
    "import matplotlib.pyplot as plt\n",
    "import seaborn as sns\n",
    "import os"
   ]
  },
  {
   "cell_type": "code",
   "execution_count": 2,
   "id": "414f4a0b",
   "metadata": {
    "ExecuteTime": {
     "end_time": "2024-04-27T19:48:14.150799Z",
     "start_time": "2024-04-27T19:48:12.252017Z"
    }
   },
   "outputs": [],
   "source": [
    "# df= pd.read_csv('/Users/shalomifernandes/Desktop/UOB/TB2/DSMP/vdjdb.csv')\n",
    "df = pd.read_csv('pre-processing final/vdjdb.csv')"
   ]
  },
  {
   "cell_type": "code",
   "execution_count": 3,
   "id": "d1ea81af",
   "metadata": {
    "ExecuteTime": {
     "end_time": "2024-04-27T19:48:14.939323Z",
     "start_time": "2024-04-27T19:48:14.792200Z"
    }
   },
   "outputs": [
    {
     "data": {
      "text/plain": "       complex.id gene                  cdr3       v.segm      j.segm  \\\n0               1  TRA         CIVRAPGRADMRF  TRAV26-1*01   TRAJ43*01   \n1               1  TRB  CASSYLPGQGDHYSNQPQHF    TRBV13*01  TRBJ1-5*01   \n2               0  TRB   CASSFEAGQGFFSNQPQHF    TRBV13*01  TRBJ1-5*01   \n3               2  TRA        CAVPSGAGSYQLTF    TRAV20*01   TRAJ28*01   \n4               2  TRB   CASSFEPGQGFYSNQPQHF    TRBV13*01  TRBJ1-5*01   \n...           ...  ...                   ...          ...         ...   \n92766       30592  TRB       CASSPGQGGDNEQFF   TRBV7-3*01  TRBJ2-1*01   \n92767       30593  TRA          CAPQGATNKLIF  TRAV12-2*01   TRAJ32*01   \n92768       30593  TRB       CASSLGAGGQETQYF   TRBV5-1*01  TRBJ2-5*01   \n92769       30594  TRA        CLVGGSGGYNKLIF     TRAV4*01    TRAJ4*01   \n92770       30594  TRB         CASSSTAQETQYF  TRBV11-2*01  TRBJ2-5*01   \n\n           species           mhc.a           mhc.b mhc.class antigen.epitope  \\\n0      HomoSapiens        HLA-B*08             B2M      MHCI        FLKEKGGL   \n1      HomoSapiens        HLA-B*08             B2M      MHCI        FLKEKGGL   \n2      HomoSapiens        HLA-B*08             B2M      MHCI        FLKEKGGL   \n3      HomoSapiens        HLA-B*08             B2M      MHCI        FLKEKGGL   \n4      HomoSapiens        HLA-B*08             B2M      MHCI        FLKEKGGL   \n...            ...             ...             ...       ...             ...   \n92766  HomoSapiens  HLA-DQA1*05:01  HLA-DQB1*02:01     MHCII   PQQPFPQPEQPFP   \n92767  HomoSapiens  HLA-DQA1*05:01  HLA-DQB1*02:01     MHCII   PQQPFPQPEQPFP   \n92768  HomoSapiens  HLA-DQA1*05:01  HLA-DQB1*02:01     MHCII   PQQPFPQPEQPFP   \n92769  HomoSapiens  HLA-DQA1*05:01  HLA-DQB1*02:01     MHCII   PQQPFPQPEQPFP   \n92770  HomoSapiens  HLA-DQA1*05:01  HLA-DQB1*02:01     MHCII   PQQPFPQPEQPFP   \n\n       ... antigen.species   reference.id  \\\n0      ...           HIV-1  PMID:15596521   \n1      ...           HIV-1  PMID:15596521   \n2      ...           HIV-1  PMID:15596521   \n3      ...           HIV-1  PMID:15596521   \n4      ...           HIV-1  PMID:15596521   \n...    ...             ...            ...   \n92766  ...           Wheat  PMID:33927715   \n92767  ...           Wheat  PMID:33927715   \n92768  ...           Wheat  PMID:33927715   \n92769  ...           Wheat  PMID:33927715   \n92770  ...           Wheat  PMID:33927715   \n\n                                                  method  \\\n0      {\"frequency\": \"\", \"identification\": \"tetramer-...   \n1      {\"frequency\": \"\", \"identification\": \"tetramer-...   \n2      {\"frequency\": \"\", \"identification\": \"tetramer-...   \n3      {\"frequency\": \"\", \"identification\": \"tetramer-...   \n4      {\"frequency\": \"\", \"identification\": \"tetramer-...   \n...                                                  ...   \n92766  {\"frequency\": \"\", \"identification\": \"tetramer-...   \n92767  {\"frequency\": \"\", \"identification\": \"tetramer-...   \n92768  {\"frequency\": \"\", \"identification\": \"tetramer-...   \n92769  {\"frequency\": \"\", \"identification\": \"tetramer-...   \n92770  {\"frequency\": \"\", \"identification\": \"tetramer-...   \n\n                                                    meta  \\\n0      {\"cell.subset\": \"CD8+\", \"clone.id\": \"\", \"donor...   \n1      {\"cell.subset\": \"CD8+\", \"clone.id\": \"\", \"donor...   \n2      {\"cell.subset\": \"CD8+\", \"clone.id\": \"\", \"donor...   \n3      {\"cell.subset\": \"CD8+\", \"clone.id\": \"\", \"donor...   \n4      {\"cell.subset\": \"CD8+\", \"clone.id\": \"\", \"donor...   \n...                                                  ...   \n92766  {\"cell.subset\": \"CD4+\", \"clone.id\": \"\", \"donor...   \n92767  {\"cell.subset\": \"CD4+\", \"clone.id\": \"\", \"donor...   \n92768  {\"cell.subset\": \"CD4+\", \"clone.id\": \"\", \"donor...   \n92769  {\"cell.subset\": \"CD4+\", \"clone.id\": \"\", \"donor...   \n92770  {\"cell.subset\": \"CD4+\", \"clone.id\": \"\", \"donor...   \n\n                                                 cdr3fix vdjdb.score  \\\n0      {\"cdr3\": \"CIVRAPGRADMRF\", \"cdr3_old\": \"CIVRAPG...           2   \n1      {\"cdr3\": \"CASSYLPGQGDHYSNQPQHF\", \"cdr3_old\": \"...           2   \n2      {\"cdr3\": \"CASSFEAGQGFFSNQPQHF\", \"cdr3_old\": \"C...           2   \n3      {\"cdr3\": \"CAVPSGAGSYQLTF\", \"cdr3_old\": \"CAVPSG...           2   \n4      {\"cdr3\": \"CASSFEPGQGFYSNQPQHF\", \"cdr3_old\": \"C...           2   \n...                                                  ...         ...   \n92766  {\"cdr3\": \"CASSPGQGGDNEQFF\", \"cdr3_old\": \"CASSP...           0   \n92767  {\"cdr3\": \"CAPQGATNKLIF\", \"cdr3_old\": \"CAPQGATN...           2   \n92768  {\"cdr3\": \"CASSLGAGGQETQYF\", \"cdr3_old\": \"CASSL...           2   \n92769  {\"cdr3\": \"CLVGGSGGYNKLIF\", \"cdr3_old\": \"CLVGGS...           0   \n92770  {\"cdr3\": \"CASSSTAQETQYF\", \"cdr3_old\": \"CASSSTA...           0   \n\n       web.method web.method.seq web.cdr3fix.nc web.cdr3fix.unmp  \n0            sort         sanger             no               no  \n1            sort         sanger             no               no  \n2            sort         sanger             no               no  \n3            sort         sanger             no               no  \n4            sort         sanger             no               no  \n...           ...            ...            ...              ...  \n92766        sort     singlecell             no               no  \n92767        sort     singlecell             no               no  \n92768        sort     singlecell             no               no  \n92769        sort     singlecell             no               no  \n92770        sort     singlecell             no               no  \n\n[92771 rows x 21 columns]",
      "text/html": "<div>\n<style scoped>\n    .dataframe tbody tr th:only-of-type {\n        vertical-align: middle;\n    }\n\n    .dataframe tbody tr th {\n        vertical-align: top;\n    }\n\n    .dataframe thead th {\n        text-align: right;\n    }\n</style>\n<table border=\"1\" class=\"dataframe\">\n  <thead>\n    <tr style=\"text-align: right;\">\n      <th></th>\n      <th>complex.id</th>\n      <th>gene</th>\n      <th>cdr3</th>\n      <th>v.segm</th>\n      <th>j.segm</th>\n      <th>species</th>\n      <th>mhc.a</th>\n      <th>mhc.b</th>\n      <th>mhc.class</th>\n      <th>antigen.epitope</th>\n      <th>...</th>\n      <th>antigen.species</th>\n      <th>reference.id</th>\n      <th>method</th>\n      <th>meta</th>\n      <th>cdr3fix</th>\n      <th>vdjdb.score</th>\n      <th>web.method</th>\n      <th>web.method.seq</th>\n      <th>web.cdr3fix.nc</th>\n      <th>web.cdr3fix.unmp</th>\n    </tr>\n  </thead>\n  <tbody>\n    <tr>\n      <th>0</th>\n      <td>1</td>\n      <td>TRA</td>\n      <td>CIVRAPGRADMRF</td>\n      <td>TRAV26-1*01</td>\n      <td>TRAJ43*01</td>\n      <td>HomoSapiens</td>\n      <td>HLA-B*08</td>\n      <td>B2M</td>\n      <td>MHCI</td>\n      <td>FLKEKGGL</td>\n      <td>...</td>\n      <td>HIV-1</td>\n      <td>PMID:15596521</td>\n      <td>{\"frequency\": \"\", \"identification\": \"tetramer-...</td>\n      <td>{\"cell.subset\": \"CD8+\", \"clone.id\": \"\", \"donor...</td>\n      <td>{\"cdr3\": \"CIVRAPGRADMRF\", \"cdr3_old\": \"CIVRAPG...</td>\n      <td>2</td>\n      <td>sort</td>\n      <td>sanger</td>\n      <td>no</td>\n      <td>no</td>\n    </tr>\n    <tr>\n      <th>1</th>\n      <td>1</td>\n      <td>TRB</td>\n      <td>CASSYLPGQGDHYSNQPQHF</td>\n      <td>TRBV13*01</td>\n      <td>TRBJ1-5*01</td>\n      <td>HomoSapiens</td>\n      <td>HLA-B*08</td>\n      <td>B2M</td>\n      <td>MHCI</td>\n      <td>FLKEKGGL</td>\n      <td>...</td>\n      <td>HIV-1</td>\n      <td>PMID:15596521</td>\n      <td>{\"frequency\": \"\", \"identification\": \"tetramer-...</td>\n      <td>{\"cell.subset\": \"CD8+\", \"clone.id\": \"\", \"donor...</td>\n      <td>{\"cdr3\": \"CASSYLPGQGDHYSNQPQHF\", \"cdr3_old\": \"...</td>\n      <td>2</td>\n      <td>sort</td>\n      <td>sanger</td>\n      <td>no</td>\n      <td>no</td>\n    </tr>\n    <tr>\n      <th>2</th>\n      <td>0</td>\n      <td>TRB</td>\n      <td>CASSFEAGQGFFSNQPQHF</td>\n      <td>TRBV13*01</td>\n      <td>TRBJ1-5*01</td>\n      <td>HomoSapiens</td>\n      <td>HLA-B*08</td>\n      <td>B2M</td>\n      <td>MHCI</td>\n      <td>FLKEKGGL</td>\n      <td>...</td>\n      <td>HIV-1</td>\n      <td>PMID:15596521</td>\n      <td>{\"frequency\": \"\", \"identification\": \"tetramer-...</td>\n      <td>{\"cell.subset\": \"CD8+\", \"clone.id\": \"\", \"donor...</td>\n      <td>{\"cdr3\": \"CASSFEAGQGFFSNQPQHF\", \"cdr3_old\": \"C...</td>\n      <td>2</td>\n      <td>sort</td>\n      <td>sanger</td>\n      <td>no</td>\n      <td>no</td>\n    </tr>\n    <tr>\n      <th>3</th>\n      <td>2</td>\n      <td>TRA</td>\n      <td>CAVPSGAGSYQLTF</td>\n      <td>TRAV20*01</td>\n      <td>TRAJ28*01</td>\n      <td>HomoSapiens</td>\n      <td>HLA-B*08</td>\n      <td>B2M</td>\n      <td>MHCI</td>\n      <td>FLKEKGGL</td>\n      <td>...</td>\n      <td>HIV-1</td>\n      <td>PMID:15596521</td>\n      <td>{\"frequency\": \"\", \"identification\": \"tetramer-...</td>\n      <td>{\"cell.subset\": \"CD8+\", \"clone.id\": \"\", \"donor...</td>\n      <td>{\"cdr3\": \"CAVPSGAGSYQLTF\", \"cdr3_old\": \"CAVPSG...</td>\n      <td>2</td>\n      <td>sort</td>\n      <td>sanger</td>\n      <td>no</td>\n      <td>no</td>\n    </tr>\n    <tr>\n      <th>4</th>\n      <td>2</td>\n      <td>TRB</td>\n      <td>CASSFEPGQGFYSNQPQHF</td>\n      <td>TRBV13*01</td>\n      <td>TRBJ1-5*01</td>\n      <td>HomoSapiens</td>\n      <td>HLA-B*08</td>\n      <td>B2M</td>\n      <td>MHCI</td>\n      <td>FLKEKGGL</td>\n      <td>...</td>\n      <td>HIV-1</td>\n      <td>PMID:15596521</td>\n      <td>{\"frequency\": \"\", \"identification\": \"tetramer-...</td>\n      <td>{\"cell.subset\": \"CD8+\", \"clone.id\": \"\", \"donor...</td>\n      <td>{\"cdr3\": \"CASSFEPGQGFYSNQPQHF\", \"cdr3_old\": \"C...</td>\n      <td>2</td>\n      <td>sort</td>\n      <td>sanger</td>\n      <td>no</td>\n      <td>no</td>\n    </tr>\n    <tr>\n      <th>...</th>\n      <td>...</td>\n      <td>...</td>\n      <td>...</td>\n      <td>...</td>\n      <td>...</td>\n      <td>...</td>\n      <td>...</td>\n      <td>...</td>\n      <td>...</td>\n      <td>...</td>\n      <td>...</td>\n      <td>...</td>\n      <td>...</td>\n      <td>...</td>\n      <td>...</td>\n      <td>...</td>\n      <td>...</td>\n      <td>...</td>\n      <td>...</td>\n      <td>...</td>\n      <td>...</td>\n    </tr>\n    <tr>\n      <th>92766</th>\n      <td>30592</td>\n      <td>TRB</td>\n      <td>CASSPGQGGDNEQFF</td>\n      <td>TRBV7-3*01</td>\n      <td>TRBJ2-1*01</td>\n      <td>HomoSapiens</td>\n      <td>HLA-DQA1*05:01</td>\n      <td>HLA-DQB1*02:01</td>\n      <td>MHCII</td>\n      <td>PQQPFPQPEQPFP</td>\n      <td>...</td>\n      <td>Wheat</td>\n      <td>PMID:33927715</td>\n      <td>{\"frequency\": \"\", \"identification\": \"tetramer-...</td>\n      <td>{\"cell.subset\": \"CD4+\", \"clone.id\": \"\", \"donor...</td>\n      <td>{\"cdr3\": \"CASSPGQGGDNEQFF\", \"cdr3_old\": \"CASSP...</td>\n      <td>0</td>\n      <td>sort</td>\n      <td>singlecell</td>\n      <td>no</td>\n      <td>no</td>\n    </tr>\n    <tr>\n      <th>92767</th>\n      <td>30593</td>\n      <td>TRA</td>\n      <td>CAPQGATNKLIF</td>\n      <td>TRAV12-2*01</td>\n      <td>TRAJ32*01</td>\n      <td>HomoSapiens</td>\n      <td>HLA-DQA1*05:01</td>\n      <td>HLA-DQB1*02:01</td>\n      <td>MHCII</td>\n      <td>PQQPFPQPEQPFP</td>\n      <td>...</td>\n      <td>Wheat</td>\n      <td>PMID:33927715</td>\n      <td>{\"frequency\": \"\", \"identification\": \"tetramer-...</td>\n      <td>{\"cell.subset\": \"CD4+\", \"clone.id\": \"\", \"donor...</td>\n      <td>{\"cdr3\": \"CAPQGATNKLIF\", \"cdr3_old\": \"CAPQGATN...</td>\n      <td>2</td>\n      <td>sort</td>\n      <td>singlecell</td>\n      <td>no</td>\n      <td>no</td>\n    </tr>\n    <tr>\n      <th>92768</th>\n      <td>30593</td>\n      <td>TRB</td>\n      <td>CASSLGAGGQETQYF</td>\n      <td>TRBV5-1*01</td>\n      <td>TRBJ2-5*01</td>\n      <td>HomoSapiens</td>\n      <td>HLA-DQA1*05:01</td>\n      <td>HLA-DQB1*02:01</td>\n      <td>MHCII</td>\n      <td>PQQPFPQPEQPFP</td>\n      <td>...</td>\n      <td>Wheat</td>\n      <td>PMID:33927715</td>\n      <td>{\"frequency\": \"\", \"identification\": \"tetramer-...</td>\n      <td>{\"cell.subset\": \"CD4+\", \"clone.id\": \"\", \"donor...</td>\n      <td>{\"cdr3\": \"CASSLGAGGQETQYF\", \"cdr3_old\": \"CASSL...</td>\n      <td>2</td>\n      <td>sort</td>\n      <td>singlecell</td>\n      <td>no</td>\n      <td>no</td>\n    </tr>\n    <tr>\n      <th>92769</th>\n      <td>30594</td>\n      <td>TRA</td>\n      <td>CLVGGSGGYNKLIF</td>\n      <td>TRAV4*01</td>\n      <td>TRAJ4*01</td>\n      <td>HomoSapiens</td>\n      <td>HLA-DQA1*05:01</td>\n      <td>HLA-DQB1*02:01</td>\n      <td>MHCII</td>\n      <td>PQQPFPQPEQPFP</td>\n      <td>...</td>\n      <td>Wheat</td>\n      <td>PMID:33927715</td>\n      <td>{\"frequency\": \"\", \"identification\": \"tetramer-...</td>\n      <td>{\"cell.subset\": \"CD4+\", \"clone.id\": \"\", \"donor...</td>\n      <td>{\"cdr3\": \"CLVGGSGGYNKLIF\", \"cdr3_old\": \"CLVGGS...</td>\n      <td>0</td>\n      <td>sort</td>\n      <td>singlecell</td>\n      <td>no</td>\n      <td>no</td>\n    </tr>\n    <tr>\n      <th>92770</th>\n      <td>30594</td>\n      <td>TRB</td>\n      <td>CASSSTAQETQYF</td>\n      <td>TRBV11-2*01</td>\n      <td>TRBJ2-5*01</td>\n      <td>HomoSapiens</td>\n      <td>HLA-DQA1*05:01</td>\n      <td>HLA-DQB1*02:01</td>\n      <td>MHCII</td>\n      <td>PQQPFPQPEQPFP</td>\n      <td>...</td>\n      <td>Wheat</td>\n      <td>PMID:33927715</td>\n      <td>{\"frequency\": \"\", \"identification\": \"tetramer-...</td>\n      <td>{\"cell.subset\": \"CD4+\", \"clone.id\": \"\", \"donor...</td>\n      <td>{\"cdr3\": \"CASSSTAQETQYF\", \"cdr3_old\": \"CASSSTA...</td>\n      <td>0</td>\n      <td>sort</td>\n      <td>singlecell</td>\n      <td>no</td>\n      <td>no</td>\n    </tr>\n  </tbody>\n</table>\n<p>92771 rows × 21 columns</p>\n</div>"
     },
     "execution_count": 3,
     "metadata": {},
     "output_type": "execute_result"
    }
   ],
   "source": [
    "df"
   ]
  },
  {
   "cell_type": "code",
   "execution_count": 4,
   "id": "056e8220",
   "metadata": {
    "ExecuteTime": {
     "end_time": "2024-04-27T19:48:16.812148Z",
     "start_time": "2024-04-27T19:48:16.771259Z"
    }
   },
   "outputs": [],
   "source": [
    "df.drop(['reference.id','method','meta','cdr3fix','web.method','web.method.seq','web.cdr3fix.nc','web.cdr3fix.unmp'], axis=1, inplace=True)"
   ]
  },
  {
   "cell_type": "code",
   "execution_count": 5,
   "id": "4938c805",
   "metadata": {
    "ExecuteTime": {
     "end_time": "2024-04-27T19:48:17.718385Z",
     "start_time": "2024-04-27T19:48:17.690456Z"
    }
   },
   "outputs": [
    {
     "data": {
      "text/plain": "   complex.id gene                  cdr3       v.segm      j.segm  \\\n0           1  TRA         CIVRAPGRADMRF  TRAV26-1*01   TRAJ43*01   \n1           1  TRB  CASSYLPGQGDHYSNQPQHF    TRBV13*01  TRBJ1-5*01   \n2           0  TRB   CASSFEAGQGFFSNQPQHF    TRBV13*01  TRBJ1-5*01   \n3           2  TRA        CAVPSGAGSYQLTF    TRAV20*01   TRAJ28*01   \n4           2  TRB   CASSFEPGQGFYSNQPQHF    TRBV13*01  TRBJ1-5*01   \n\n       species     mhc.a mhc.b mhc.class antigen.epitope antigen.gene  \\\n0  HomoSapiens  HLA-B*08   B2M      MHCI        FLKEKGGL          Nef   \n1  HomoSapiens  HLA-B*08   B2M      MHCI        FLKEKGGL          Nef   \n2  HomoSapiens  HLA-B*08   B2M      MHCI        FLKEKGGL          Nef   \n3  HomoSapiens  HLA-B*08   B2M      MHCI        FLKEKGGL          Nef   \n4  HomoSapiens  HLA-B*08   B2M      MHCI        FLKEKGGL          Nef   \n\n  antigen.species  vdjdb.score  \n0           HIV-1            2  \n1           HIV-1            2  \n2           HIV-1            2  \n3           HIV-1            2  \n4           HIV-1            2  ",
      "text/html": "<div>\n<style scoped>\n    .dataframe tbody tr th:only-of-type {\n        vertical-align: middle;\n    }\n\n    .dataframe tbody tr th {\n        vertical-align: top;\n    }\n\n    .dataframe thead th {\n        text-align: right;\n    }\n</style>\n<table border=\"1\" class=\"dataframe\">\n  <thead>\n    <tr style=\"text-align: right;\">\n      <th></th>\n      <th>complex.id</th>\n      <th>gene</th>\n      <th>cdr3</th>\n      <th>v.segm</th>\n      <th>j.segm</th>\n      <th>species</th>\n      <th>mhc.a</th>\n      <th>mhc.b</th>\n      <th>mhc.class</th>\n      <th>antigen.epitope</th>\n      <th>antigen.gene</th>\n      <th>antigen.species</th>\n      <th>vdjdb.score</th>\n    </tr>\n  </thead>\n  <tbody>\n    <tr>\n      <th>0</th>\n      <td>1</td>\n      <td>TRA</td>\n      <td>CIVRAPGRADMRF</td>\n      <td>TRAV26-1*01</td>\n      <td>TRAJ43*01</td>\n      <td>HomoSapiens</td>\n      <td>HLA-B*08</td>\n      <td>B2M</td>\n      <td>MHCI</td>\n      <td>FLKEKGGL</td>\n      <td>Nef</td>\n      <td>HIV-1</td>\n      <td>2</td>\n    </tr>\n    <tr>\n      <th>1</th>\n      <td>1</td>\n      <td>TRB</td>\n      <td>CASSYLPGQGDHYSNQPQHF</td>\n      <td>TRBV13*01</td>\n      <td>TRBJ1-5*01</td>\n      <td>HomoSapiens</td>\n      <td>HLA-B*08</td>\n      <td>B2M</td>\n      <td>MHCI</td>\n      <td>FLKEKGGL</td>\n      <td>Nef</td>\n      <td>HIV-1</td>\n      <td>2</td>\n    </tr>\n    <tr>\n      <th>2</th>\n      <td>0</td>\n      <td>TRB</td>\n      <td>CASSFEAGQGFFSNQPQHF</td>\n      <td>TRBV13*01</td>\n      <td>TRBJ1-5*01</td>\n      <td>HomoSapiens</td>\n      <td>HLA-B*08</td>\n      <td>B2M</td>\n      <td>MHCI</td>\n      <td>FLKEKGGL</td>\n      <td>Nef</td>\n      <td>HIV-1</td>\n      <td>2</td>\n    </tr>\n    <tr>\n      <th>3</th>\n      <td>2</td>\n      <td>TRA</td>\n      <td>CAVPSGAGSYQLTF</td>\n      <td>TRAV20*01</td>\n      <td>TRAJ28*01</td>\n      <td>HomoSapiens</td>\n      <td>HLA-B*08</td>\n      <td>B2M</td>\n      <td>MHCI</td>\n      <td>FLKEKGGL</td>\n      <td>Nef</td>\n      <td>HIV-1</td>\n      <td>2</td>\n    </tr>\n    <tr>\n      <th>4</th>\n      <td>2</td>\n      <td>TRB</td>\n      <td>CASSFEPGQGFYSNQPQHF</td>\n      <td>TRBV13*01</td>\n      <td>TRBJ1-5*01</td>\n      <td>HomoSapiens</td>\n      <td>HLA-B*08</td>\n      <td>B2M</td>\n      <td>MHCI</td>\n      <td>FLKEKGGL</td>\n      <td>Nef</td>\n      <td>HIV-1</td>\n      <td>2</td>\n    </tr>\n  </tbody>\n</table>\n</div>"
     },
     "execution_count": 5,
     "metadata": {},
     "output_type": "execute_result"
    }
   ],
   "source": [
    "df.head()"
   ]
  },
  {
   "cell_type": "code",
   "execution_count": 6,
   "id": "2f7612a1",
   "metadata": {
    "ExecuteTime": {
     "end_time": "2024-04-27T19:48:19.144820Z",
     "start_time": "2024-04-27T19:48:19.061042Z"
    }
   },
   "outputs": [
    {
     "name": "stdout",
     "output_type": "stream",
     "text": [
      "Missing values in each column:\n",
      " complex.id            0\n",
      "gene                  0\n",
      "cdr3                  0\n",
      "v.segm              101\n",
      "j.segm             1145\n",
      "species               0\n",
      "mhc.a                 0\n",
      "mhc.b                 0\n",
      "mhc.class             0\n",
      "antigen.epitope       0\n",
      "antigen.gene         62\n",
      "antigen.species       0\n",
      "vdjdb.score           0\n",
      "dtype: int64\n"
     ]
    }
   ],
   "source": [
    "# Check for missing values in each column\n",
    "missing_values = df.isnull().sum()\n",
    "print(\"Missing values in each column:\\n\", missing_values)"
   ]
  },
  {
   "cell_type": "code",
   "execution_count": 7,
   "id": "c4a50095",
   "metadata": {
    "ExecuteTime": {
     "end_time": "2024-04-27T19:48:21.284494Z",
     "start_time": "2024-04-27T19:48:21.213169Z"
    }
   },
   "outputs": [],
   "source": [
    "# Drop rows with any missing values\n",
    "df.dropna(subset=['v.segm','j.segm','antigen.gene'], inplace=True)"
   ]
  },
  {
   "cell_type": "code",
   "execution_count": 8,
   "id": "1b28e037",
   "metadata": {
    "ExecuteTime": {
     "end_time": "2024-04-27T19:48:22.724883Z",
     "start_time": "2024-04-27T19:48:22.638598Z"
    }
   },
   "outputs": [
    {
     "data": {
      "text/plain": "complex.id         91550\ngene               91550\ncdr3               91550\nv.segm             91550\nj.segm             91550\nspecies            91550\nmhc.a              91550\nmhc.b              91550\nmhc.class          91550\nantigen.epitope    91550\nantigen.gene       91550\nantigen.species    91550\nvdjdb.score        91550\ndtype: int64"
     },
     "execution_count": 8,
     "metadata": {},
     "output_type": "execute_result"
    }
   ],
   "source": [
    "df.count()"
   ]
  },
  {
   "cell_type": "code",
   "execution_count": 9,
   "id": "b66ce4b8",
   "metadata": {
    "ExecuteTime": {
     "end_time": "2024-04-27T19:48:24.448123Z",
     "start_time": "2024-04-27T19:48:24.372322Z"
    }
   },
   "outputs": [
    {
     "data": {
      "text/plain": "complex.id         0\ngene               0\ncdr3               0\nv.segm             0\nj.segm             0\nspecies            0\nmhc.a              0\nmhc.b              0\nmhc.class          0\nantigen.epitope    0\nantigen.gene       0\nantigen.species    0\nvdjdb.score        0\ndtype: int64"
     },
     "execution_count": 9,
     "metadata": {},
     "output_type": "execute_result"
    }
   ],
   "source": [
    "# Check for missing values in each column\n",
    "cleaned_data = df.isnull().sum()\n",
    "cleaned_data"
   ]
  },
  {
   "cell_type": "code",
   "execution_count": 10,
   "id": "437e1824",
   "metadata": {
    "ExecuteTime": {
     "end_time": "2024-04-27T19:48:27.560850Z",
     "start_time": "2024-04-27T19:48:27.396774Z"
    }
   },
   "outputs": [
    {
     "name": "stdout",
     "output_type": "stream",
     "text": [
      "Number of duplicate rows: 4216\n"
     ]
    }
   ],
   "source": [
    "# Check for duplicate rows\n",
    "duplicates = df.duplicated().sum()\n",
    "print(f\"Number of duplicate rows: {duplicates}\")"
   ]
  },
  {
   "cell_type": "code",
   "execution_count": 11,
   "id": "950253cc",
   "metadata": {
    "ExecuteTime": {
     "end_time": "2024-04-27T19:48:29.674945Z",
     "start_time": "2024-04-27T19:48:29.479442Z"
    }
   },
   "outputs": [],
   "source": [
    "# Dropping all duplicate rows\n",
    "df.drop_duplicates(inplace=True)"
   ]
  },
  {
   "cell_type": "code",
   "execution_count": 12,
   "id": "473f31bb",
   "metadata": {
    "ExecuteTime": {
     "end_time": "2024-04-27T19:48:32.889007Z",
     "start_time": "2024-04-27T19:48:32.718946Z"
    }
   },
   "outputs": [
    {
     "name": "stdout",
     "output_type": "stream",
     "text": [
      "Number of duplicate rows: 0\n"
     ]
    }
   ],
   "source": [
    "# Checking for duplicate rows\n",
    "duplicates = df.duplicated().sum()\n",
    "print(f\"Number of duplicate rows: {duplicates}\")"
   ]
  },
  {
   "cell_type": "code",
   "execution_count": 13,
   "id": "9842b386",
   "metadata": {
    "ExecuteTime": {
     "end_time": "2024-04-27T19:48:35.387712Z",
     "start_time": "2024-04-27T19:48:35.345820Z"
    }
   },
   "outputs": [
    {
     "data": {
      "text/plain": "(HomoSapiens      80909\n MusMusculus       5068\n MacacaMulatta     1357\n Name: species, dtype: int64,\n TRB    50949\n TRA    36385\n Name: gene, dtype: int64,\n MHCI     83254\n MHCII     4080\n Name: mhc.class, dtype: int64)"
     },
     "execution_count": 13,
     "metadata": {},
     "output_type": "execute_result"
    }
   ],
   "source": [
    "# Calculate the counts for 'species', 'genes', and 'mhc.class'\n",
    "species_counts = df['species'].value_counts()\n",
    "genes_counts = df['gene'].value_counts()\n",
    "mhc_class_counts = df['mhc.class'].value_counts()\n",
    "\n",
    "species_counts, genes_counts, mhc_class_counts"
   ]
  },
  {
   "cell_type": "code",
   "execution_count": 13,
   "id": "35fd96d7",
   "metadata": {
    "ExecuteTime": {
     "end_time": "2024-04-27T19:43:58.216549Z",
     "start_time": "2024-04-27T19:43:58.203066Z"
    }
   },
   "outputs": [],
   "source": []
  },
  {
   "cell_type": "code",
   "execution_count": 14,
   "id": "bafc591f",
   "metadata": {
    "ExecuteTime": {
     "end_time": "2024-04-27T19:43:58.264421Z",
     "start_time": "2024-04-27T19:43:58.218544Z"
    }
   },
   "outputs": [],
   "source": [
    "epitope_counts = df['antigen.epitope'].value_counts()\n",
    "\n",
    "epitopes_to_keep = epitope_counts[epitope_counts >= 10].index\n",
    "    \n",
    "# Filter the DataFrame to only include rows with these epitopes\n",
    "df = df[df['antigen.epitope'].isin(epitopes_to_keep)]"
   ]
  },
  {
   "cell_type": "code",
   "execution_count": 15,
   "id": "87808866",
   "metadata": {
    "ExecuteTime": {
     "end_time": "2024-04-27T19:43:58.296344Z",
     "start_time": "2024-04-27T19:43:58.266416Z"
    }
   },
   "outputs": [
    {
     "data": {
      "text/plain": "       complex.id gene                  cdr3       v.segm      j.segm  \\\n0               1  TRA         CIVRAPGRADMRF  TRAV26-1*01   TRAJ43*01   \n1               1  TRB  CASSYLPGQGDHYSNQPQHF    TRBV13*01  TRBJ1-5*01   \n2               0  TRB   CASSFEAGQGFFSNQPQHF    TRBV13*01  TRBJ1-5*01   \n3               2  TRA        CAVPSGAGSYQLTF    TRAV20*01   TRAJ28*01   \n4               2  TRB   CASSFEPGQGFYSNQPQHF    TRBV13*01  TRBJ1-5*01   \n...           ...  ...                   ...          ...         ...   \n92766       30592  TRB       CASSPGQGGDNEQFF   TRBV7-3*01  TRBJ2-1*01   \n92767       30593  TRA          CAPQGATNKLIF  TRAV12-2*01   TRAJ32*01   \n92768       30593  TRB       CASSLGAGGQETQYF   TRBV5-1*01  TRBJ2-5*01   \n92769       30594  TRA        CLVGGSGGYNKLIF     TRAV4*01    TRAJ4*01   \n92770       30594  TRB         CASSSTAQETQYF  TRBV11-2*01  TRBJ2-5*01   \n\n           species           mhc.a           mhc.b mhc.class antigen.epitope  \\\n0      HomoSapiens        HLA-B*08             B2M      MHCI        FLKEKGGL   \n1      HomoSapiens        HLA-B*08             B2M      MHCI        FLKEKGGL   \n2      HomoSapiens        HLA-B*08             B2M      MHCI        FLKEKGGL   \n3      HomoSapiens        HLA-B*08             B2M      MHCI        FLKEKGGL   \n4      HomoSapiens        HLA-B*08             B2M      MHCI        FLKEKGGL   \n...            ...             ...             ...       ...             ...   \n92766  HomoSapiens  HLA-DQA1*05:01  HLA-DQB1*02:01     MHCII   PQQPFPQPEQPFP   \n92767  HomoSapiens  HLA-DQA1*05:01  HLA-DQB1*02:01     MHCII   PQQPFPQPEQPFP   \n92768  HomoSapiens  HLA-DQA1*05:01  HLA-DQB1*02:01     MHCII   PQQPFPQPEQPFP   \n92769  HomoSapiens  HLA-DQA1*05:01  HLA-DQB1*02:01     MHCII   PQQPFPQPEQPFP   \n92770  HomoSapiens  HLA-DQA1*05:01  HLA-DQB1*02:01     MHCII   PQQPFPQPEQPFP   \n\n      antigen.gene antigen.species  vdjdb.score  \n0              Nef           HIV-1            2  \n1              Nef           HIV-1            2  \n2              Nef           HIV-1            2  \n3              Nef           HIV-1            2  \n4              Nef           HIV-1            2  \n...            ...             ...          ...  \n92766       Gluten           Wheat            0  \n92767       Gluten           Wheat            2  \n92768       Gluten           Wheat            2  \n92769       Gluten           Wheat            0  \n92770       Gluten           Wheat            0  \n\n[84483 rows x 13 columns]",
      "text/html": "<div>\n<style scoped>\n    .dataframe tbody tr th:only-of-type {\n        vertical-align: middle;\n    }\n\n    .dataframe tbody tr th {\n        vertical-align: top;\n    }\n\n    .dataframe thead th {\n        text-align: right;\n    }\n</style>\n<table border=\"1\" class=\"dataframe\">\n  <thead>\n    <tr style=\"text-align: right;\">\n      <th></th>\n      <th>complex.id</th>\n      <th>gene</th>\n      <th>cdr3</th>\n      <th>v.segm</th>\n      <th>j.segm</th>\n      <th>species</th>\n      <th>mhc.a</th>\n      <th>mhc.b</th>\n      <th>mhc.class</th>\n      <th>antigen.epitope</th>\n      <th>antigen.gene</th>\n      <th>antigen.species</th>\n      <th>vdjdb.score</th>\n    </tr>\n  </thead>\n  <tbody>\n    <tr>\n      <th>0</th>\n      <td>1</td>\n      <td>TRA</td>\n      <td>CIVRAPGRADMRF</td>\n      <td>TRAV26-1*01</td>\n      <td>TRAJ43*01</td>\n      <td>HomoSapiens</td>\n      <td>HLA-B*08</td>\n      <td>B2M</td>\n      <td>MHCI</td>\n      <td>FLKEKGGL</td>\n      <td>Nef</td>\n      <td>HIV-1</td>\n      <td>2</td>\n    </tr>\n    <tr>\n      <th>1</th>\n      <td>1</td>\n      <td>TRB</td>\n      <td>CASSYLPGQGDHYSNQPQHF</td>\n      <td>TRBV13*01</td>\n      <td>TRBJ1-5*01</td>\n      <td>HomoSapiens</td>\n      <td>HLA-B*08</td>\n      <td>B2M</td>\n      <td>MHCI</td>\n      <td>FLKEKGGL</td>\n      <td>Nef</td>\n      <td>HIV-1</td>\n      <td>2</td>\n    </tr>\n    <tr>\n      <th>2</th>\n      <td>0</td>\n      <td>TRB</td>\n      <td>CASSFEAGQGFFSNQPQHF</td>\n      <td>TRBV13*01</td>\n      <td>TRBJ1-5*01</td>\n      <td>HomoSapiens</td>\n      <td>HLA-B*08</td>\n      <td>B2M</td>\n      <td>MHCI</td>\n      <td>FLKEKGGL</td>\n      <td>Nef</td>\n      <td>HIV-1</td>\n      <td>2</td>\n    </tr>\n    <tr>\n      <th>3</th>\n      <td>2</td>\n      <td>TRA</td>\n      <td>CAVPSGAGSYQLTF</td>\n      <td>TRAV20*01</td>\n      <td>TRAJ28*01</td>\n      <td>HomoSapiens</td>\n      <td>HLA-B*08</td>\n      <td>B2M</td>\n      <td>MHCI</td>\n      <td>FLKEKGGL</td>\n      <td>Nef</td>\n      <td>HIV-1</td>\n      <td>2</td>\n    </tr>\n    <tr>\n      <th>4</th>\n      <td>2</td>\n      <td>TRB</td>\n      <td>CASSFEPGQGFYSNQPQHF</td>\n      <td>TRBV13*01</td>\n      <td>TRBJ1-5*01</td>\n      <td>HomoSapiens</td>\n      <td>HLA-B*08</td>\n      <td>B2M</td>\n      <td>MHCI</td>\n      <td>FLKEKGGL</td>\n      <td>Nef</td>\n      <td>HIV-1</td>\n      <td>2</td>\n    </tr>\n    <tr>\n      <th>...</th>\n      <td>...</td>\n      <td>...</td>\n      <td>...</td>\n      <td>...</td>\n      <td>...</td>\n      <td>...</td>\n      <td>...</td>\n      <td>...</td>\n      <td>...</td>\n      <td>...</td>\n      <td>...</td>\n      <td>...</td>\n      <td>...</td>\n    </tr>\n    <tr>\n      <th>92766</th>\n      <td>30592</td>\n      <td>TRB</td>\n      <td>CASSPGQGGDNEQFF</td>\n      <td>TRBV7-3*01</td>\n      <td>TRBJ2-1*01</td>\n      <td>HomoSapiens</td>\n      <td>HLA-DQA1*05:01</td>\n      <td>HLA-DQB1*02:01</td>\n      <td>MHCII</td>\n      <td>PQQPFPQPEQPFP</td>\n      <td>Gluten</td>\n      <td>Wheat</td>\n      <td>0</td>\n    </tr>\n    <tr>\n      <th>92767</th>\n      <td>30593</td>\n      <td>TRA</td>\n      <td>CAPQGATNKLIF</td>\n      <td>TRAV12-2*01</td>\n      <td>TRAJ32*01</td>\n      <td>HomoSapiens</td>\n      <td>HLA-DQA1*05:01</td>\n      <td>HLA-DQB1*02:01</td>\n      <td>MHCII</td>\n      <td>PQQPFPQPEQPFP</td>\n      <td>Gluten</td>\n      <td>Wheat</td>\n      <td>2</td>\n    </tr>\n    <tr>\n      <th>92768</th>\n      <td>30593</td>\n      <td>TRB</td>\n      <td>CASSLGAGGQETQYF</td>\n      <td>TRBV5-1*01</td>\n      <td>TRBJ2-5*01</td>\n      <td>HomoSapiens</td>\n      <td>HLA-DQA1*05:01</td>\n      <td>HLA-DQB1*02:01</td>\n      <td>MHCII</td>\n      <td>PQQPFPQPEQPFP</td>\n      <td>Gluten</td>\n      <td>Wheat</td>\n      <td>2</td>\n    </tr>\n    <tr>\n      <th>92769</th>\n      <td>30594</td>\n      <td>TRA</td>\n      <td>CLVGGSGGYNKLIF</td>\n      <td>TRAV4*01</td>\n      <td>TRAJ4*01</td>\n      <td>HomoSapiens</td>\n      <td>HLA-DQA1*05:01</td>\n      <td>HLA-DQB1*02:01</td>\n      <td>MHCII</td>\n      <td>PQQPFPQPEQPFP</td>\n      <td>Gluten</td>\n      <td>Wheat</td>\n      <td>0</td>\n    </tr>\n    <tr>\n      <th>92770</th>\n      <td>30594</td>\n      <td>TRB</td>\n      <td>CASSSTAQETQYF</td>\n      <td>TRBV11-2*01</td>\n      <td>TRBJ2-5*01</td>\n      <td>HomoSapiens</td>\n      <td>HLA-DQA1*05:01</td>\n      <td>HLA-DQB1*02:01</td>\n      <td>MHCII</td>\n      <td>PQQPFPQPEQPFP</td>\n      <td>Gluten</td>\n      <td>Wheat</td>\n      <td>0</td>\n    </tr>\n  </tbody>\n</table>\n<p>84483 rows × 13 columns</p>\n</div>"
     },
     "execution_count": 15,
     "metadata": {},
     "output_type": "execute_result"
    }
   ],
   "source": [
    "df"
   ]
  },
  {
   "cell_type": "code",
   "execution_count": 16,
   "id": "40f9b3bd",
   "metadata": {
    "ExecuteTime": {
     "end_time": "2024-04-27T19:43:58.311898Z",
     "start_time": "2024-04-27T19:43:58.298337Z"
    }
   },
   "outputs": [
    {
     "name": "stdout",
     "output_type": "stream",
     "text": [
      "complex.id          int64\n",
      "gene               object\n",
      "cdr3               object\n",
      "v.segm             object\n",
      "j.segm             object\n",
      "species            object\n",
      "mhc.a              object\n",
      "mhc.b              object\n",
      "mhc.class          object\n",
      "antigen.epitope    object\n",
      "antigen.gene       object\n",
      "antigen.species    object\n",
      "vdjdb.score         int64\n",
      "dtype: object\n"
     ]
    }
   ],
   "source": [
    "print(df.dtypes)"
   ]
  },
  {
   "cell_type": "code",
   "execution_count": 17,
   "id": "60f47082",
   "metadata": {
    "ExecuteTime": {
     "end_time": "2024-04-27T19:43:58.341818Z",
     "start_time": "2024-04-27T19:43:58.313894Z"
    }
   },
   "outputs": [
    {
     "data": {
      "text/plain": "(HomoSapiens      78184\n MusMusculus       4942\n MacacaMulatta     1357\n Name: species, dtype: int64,\n TRB    49259\n TRA    35224\n Name: gene, dtype: int64,\n MHCI     80663\n MHCII     3820\n Name: mhc.class, dtype: int64)"
     },
     "execution_count": 17,
     "metadata": {},
     "output_type": "execute_result"
    }
   ],
   "source": [
    "# Calculate the counts for 'species', 'genes', and 'mhc.class'\n",
    "species_counts = df['species'].value_counts()\n",
    "genes_counts = df['gene'].value_counts()\n",
    "mhc_class_counts = df['mhc.class'].value_counts()\n",
    "\n",
    "species_counts, genes_counts, mhc_class_counts"
   ]
  },
  {
   "cell_type": "code",
   "execution_count": 17,
   "id": "22e7f156",
   "metadata": {
    "ExecuteTime": {
     "end_time": "2024-04-27T19:43:58.356778Z",
     "start_time": "2024-04-27T19:43:58.343812Z"
    }
   },
   "outputs": [],
   "source": []
  },
  {
   "cell_type": "code",
   "execution_count": 18,
   "id": "82d694a2",
   "metadata": {
    "ExecuteTime": {
     "end_time": "2024-04-27T19:43:58.703409Z",
     "start_time": "2024-04-27T19:43:58.358773Z"
    }
   },
   "outputs": [
    {
     "name": "stdout",
     "output_type": "stream",
     "text": [
      "count    84483.000000\n",
      "mean        14.091734\n",
      "std          1.878803\n",
      "min          4.000000\n",
      "25%         13.000000\n",
      "50%         14.000000\n",
      "75%         15.000000\n",
      "max         38.000000\n",
      "Name: cdr3_length, dtype: float64\n"
     ]
    },
    {
     "name": "stderr",
     "output_type": "stream",
     "text": [
      "D:\\Program Files (x86)\\python39\\lib\\site-packages\\pandas\\core\\indexing.py:1667: SettingWithCopyWarning: \n",
      "A value is trying to be set on a copy of a slice from a DataFrame.\n",
      "Try using .loc[row_indexer,col_indexer] = value instead\n",
      "\n",
      "See the caveats in the documentation: https://pandas.pydata.org/pandas-docs/stable/user_guide/indexing.html#returning-a-view-versus-a-copy\n",
      "  self.obj[key] = value\n"
     ]
    },
    {
     "data": {
      "text/plain": "<Figure size 640x480 with 1 Axes>",
      "image/png": "[encoded data removed]"
     },
     "metadata": {},
     "output_type": "display_data"
    }
   ],
   "source": [
    "import pandas as pd\n",
    "\n",
    "# Calculate the length of each sequence in the cdr3 column\n",
    "df.loc[:,'cdr3_length'] = df['cdr3'].apply(len)\n",
    "\n",
    "# Statistical summary to check for unusual lengths\n",
    "print(df['cdr3_length'].describe())\n",
    "\n",
    "# You can also use a box plot to visualize the distribution of sequence lengths\n",
    "import seaborn as sns\n",
    "import matplotlib.pyplot as plt\n",
    "\n",
    "sns.boxplot(x=df['cdr3_length'])\n",
    "plt.title('Distribution of CDR3 Sequence Lengths')\n",
    "plt.show()"
   ]
  },
  {
   "cell_type": "code",
   "execution_count": 19,
   "id": "aeffe286",
   "metadata": {
    "ExecuteTime": {
     "end_time": "2024-04-27T19:43:58.764763Z",
     "start_time": "2024-04-27T19:43:58.706401Z"
    }
   },
   "outputs": [
    {
     "name": "stdout",
     "output_type": "stream",
     "text": [
      "4         1\n",
      "5         3\n",
      "6         6\n",
      "7        18\n",
      "8       106\n",
      "9       219\n",
      "10     1240\n",
      "11     4741\n",
      "12     9264\n",
      "13    17589\n",
      "14    16637\n",
      "15    17626\n",
      "16     8833\n",
      "17     5141\n",
      "18     1860\n",
      "19      762\n",
      "20      263\n",
      "21       94\n",
      "22       39\n",
      "23       15\n",
      "24        9\n",
      "25        6\n",
      "26        3\n",
      "27        1\n",
      "29        1\n",
      "31        1\n",
      "33        1\n",
      "34        1\n",
      "35        1\n",
      "37        1\n",
      "38        1\n",
      "Name: cdr3_length, dtype: int64\n"
     ]
    },
    {
     "name": "stderr",
     "output_type": "stream",
     "text": [
      "D:\\Program Files (x86)\\python39\\lib\\site-packages\\pandas\\core\\indexing.py:1773: SettingWithCopyWarning: \n",
      "A value is trying to be set on a copy of a slice from a DataFrame.\n",
      "Try using .loc[row_indexer,col_indexer] = value instead\n",
      "\n",
      "See the caveats in the documentation: https://pandas.pydata.org/pandas-docs/stable/user_guide/indexing.html#returning-a-view-versus-a-copy\n",
      "  self._setitem_single_column(ilocs[0], value, pi)\n"
     ]
    }
   ],
   "source": [
    "# Calculate the length of each CDR3 sequence\n",
    "df.loc[:,'cdr3_length'] = df['cdr3'].apply(len)\n",
    "\n",
    "# Count the occurrences of each sequence length\n",
    "length_counts = df['cdr3_length'].value_counts()\n",
    "\n",
    "# Sort the counts by sequence length\n",
    "length_counts_sorted = length_counts.sort_index()\n",
    "\n",
    "# Display the sorted counts\n",
    "print(length_counts_sorted)"
   ]
  },
  {
   "cell_type": "code",
   "execution_count": 20,
   "id": "a6b55997",
   "metadata": {
    "ExecuteTime": {
     "end_time": "2024-04-27T19:43:58.826115Z",
     "start_time": "2024-04-27T19:43:58.766757Z"
    }
   },
   "outputs": [
    {
     "data": {
      "text/plain": "       complex.id gene                  cdr3       v.segm      j.segm  \\\n0               1  TRA         CIVRAPGRADMRF  TRAV26-1*01   TRAJ43*01   \n1               1  TRB  CASSYLPGQGDHYSNQPQHF    TRBV13*01  TRBJ1-5*01   \n2               0  TRB   CASSFEAGQGFFSNQPQHF    TRBV13*01  TRBJ1-5*01   \n3               2  TRA        CAVPSGAGSYQLTF    TRAV20*01   TRAJ28*01   \n4               2  TRB   CASSFEPGQGFYSNQPQHF    TRBV13*01  TRBJ1-5*01   \n...           ...  ...                   ...          ...         ...   \n92766       30592  TRB       CASSPGQGGDNEQFF   TRBV7-3*01  TRBJ2-1*01   \n92767       30593  TRA          CAPQGATNKLIF  TRAV12-2*01   TRAJ32*01   \n92768       30593  TRB       CASSLGAGGQETQYF   TRBV5-1*01  TRBJ2-5*01   \n92769       30594  TRA        CLVGGSGGYNKLIF     TRAV4*01    TRAJ4*01   \n92770       30594  TRB         CASSSTAQETQYF  TRBV11-2*01  TRBJ2-5*01   \n\n           species           mhc.a           mhc.b mhc.class antigen.epitope  \\\n0      HomoSapiens        HLA-B*08             B2M      MHCI        FLKEKGGL   \n1      HomoSapiens        HLA-B*08             B2M      MHCI        FLKEKGGL   \n2      HomoSapiens        HLA-B*08             B2M      MHCI        FLKEKGGL   \n3      HomoSapiens        HLA-B*08             B2M      MHCI        FLKEKGGL   \n4      HomoSapiens        HLA-B*08             B2M      MHCI        FLKEKGGL   \n...            ...             ...             ...       ...             ...   \n92766  HomoSapiens  HLA-DQA1*05:01  HLA-DQB1*02:01     MHCII   PQQPFPQPEQPFP   \n92767  HomoSapiens  HLA-DQA1*05:01  HLA-DQB1*02:01     MHCII   PQQPFPQPEQPFP   \n92768  HomoSapiens  HLA-DQA1*05:01  HLA-DQB1*02:01     MHCII   PQQPFPQPEQPFP   \n92769  HomoSapiens  HLA-DQA1*05:01  HLA-DQB1*02:01     MHCII   PQQPFPQPEQPFP   \n92770  HomoSapiens  HLA-DQA1*05:01  HLA-DQB1*02:01     MHCII   PQQPFPQPEQPFP   \n\n      antigen.gene antigen.species  vdjdb.score  cdr3_length  \n0              Nef           HIV-1            2           13  \n1              Nef           HIV-1            2           20  \n2              Nef           HIV-1            2           19  \n3              Nef           HIV-1            2           14  \n4              Nef           HIV-1            2           19  \n...            ...             ...          ...          ...  \n92766       Gluten           Wheat            0           15  \n92767       Gluten           Wheat            2           12  \n92768       Gluten           Wheat            2           15  \n92769       Gluten           Wheat            0           14  \n92770       Gluten           Wheat            0           13  \n\n[83956 rows x 14 columns]",
      "text/html": "<div>\n<style scoped>\n    .dataframe tbody tr th:only-of-type {\n        vertical-align: middle;\n    }\n\n    .dataframe tbody tr th {\n        vertical-align: top;\n    }\n\n    .dataframe thead th {\n        text-align: right;\n    }\n</style>\n<table border=\"1\" class=\"dataframe\">\n  <thead>\n    <tr style=\"text-align: right;\">\n      <th></th>\n      <th>complex.id</th>\n      <th>gene</th>\n      <th>cdr3</th>\n      <th>v.segm</th>\n      <th>j.segm</th>\n      <th>species</th>\n      <th>mhc.a</th>\n      <th>mhc.b</th>\n      <th>mhc.class</th>\n      <th>antigen.epitope</th>\n      <th>antigen.gene</th>\n      <th>antigen.species</th>\n      <th>vdjdb.score</th>\n      <th>cdr3_length</th>\n    </tr>\n  </thead>\n  <tbody>\n    <tr>\n      <th>0</th>\n      <td>1</td>\n      <td>TRA</td>\n      <td>CIVRAPGRADMRF</td>\n      <td>TRAV26-1*01</td>\n      <td>TRAJ43*01</td>\n      <td>HomoSapiens</td>\n      <td>HLA-B*08</td>\n      <td>B2M</td>\n      <td>MHCI</td>\n      <td>FLKEKGGL</td>\n      <td>Nef</td>\n      <td>HIV-1</td>\n      <td>2</td>\n      <td>13</td>\n    </tr>\n    <tr>\n      <th>1</th>\n      <td>1</td>\n      <td>TRB</td>\n      <td>CASSYLPGQGDHYSNQPQHF</td>\n      <td>TRBV13*01</td>\n      <td>TRBJ1-5*01</td>\n      <td>HomoSapiens</td>\n      <td>HLA-B*08</td>\n      <td>B2M</td>\n      <td>MHCI</td>\n      <td>FLKEKGGL</td>\n      <td>Nef</td>\n      <td>HIV-1</td>\n      <td>2</td>\n      <td>20</td>\n    </tr>\n    <tr>\n      <th>2</th>\n      <td>0</td>\n      <td>TRB</td>\n      <td>CASSFEAGQGFFSNQPQHF</td>\n      <td>TRBV13*01</td>\n      <td>TRBJ1-5*01</td>\n      <td>HomoSapiens</td>\n      <td>HLA-B*08</td>\n      <td>B2M</td>\n      <td>MHCI</td>\n      <td>FLKEKGGL</td>\n      <td>Nef</td>\n      <td>HIV-1</td>\n      <td>2</td>\n      <td>19</td>\n    </tr>\n    <tr>\n      <th>3</th>\n      <td>2</td>\n      <td>TRA</td>\n      <td>CAVPSGAGSYQLTF</td>\n      <td>TRAV20*01</td>\n      <td>TRAJ28*01</td>\n      <td>HomoSapiens</td>\n      <td>HLA-B*08</td>\n      <td>B2M</td>\n      <td>MHCI</td>\n      <td>FLKEKGGL</td>\n      <td>Nef</td>\n      <td>HIV-1</td>\n      <td>2</td>\n      <td>14</td>\n    </tr>\n    <tr>\n      <th>4</th>\n      <td>2</td>\n      <td>TRB</td>\n      <td>CASSFEPGQGFYSNQPQHF</td>\n      <td>TRBV13*01</td>\n      <td>TRBJ1-5*01</td>\n      <td>HomoSapiens</td>\n      <td>HLA-B*08</td>\n      <td>B2M</td>\n      <td>MHCI</td>\n      <td>FLKEKGGL</td>\n      <td>Nef</td>\n      <td>HIV-1</td>\n      <td>2</td>\n      <td>19</td>\n    </tr>\n    <tr>\n      <th>...</th>\n      <td>...</td>\n      <td>...</td>\n      <td>...</td>\n      <td>...</td>\n      <td>...</td>\n      <td>...</td>\n      <td>...</td>\n      <td>...</td>\n      <td>...</td>\n      <td>...</td>\n      <td>...</td>\n      <td>...</td>\n      <td>...</td>\n      <td>...</td>\n    </tr>\n    <tr>\n      <th>92766</th>\n      <td>30592</td>\n      <td>TRB</td>\n      <td>CASSPGQGGDNEQFF</td>\n      <td>TRBV7-3*01</td>\n      <td>TRBJ2-1*01</td>\n      <td>HomoSapiens</td>\n      <td>HLA-DQA1*05:01</td>\n      <td>HLA-DQB1*02:01</td>\n      <td>MHCII</td>\n      <td>PQQPFPQPEQPFP</td>\n      <td>Gluten</td>\n      <td>Wheat</td>\n      <td>0</td>\n      <td>15</td>\n    </tr>\n    <tr>\n      <th>92767</th>\n      <td>30593</td>\n      <td>TRA</td>\n      <td>CAPQGATNKLIF</td>\n      <td>TRAV12-2*01</td>\n      <td>TRAJ32*01</td>\n      <td>HomoSapiens</td>\n      <td>HLA-DQA1*05:01</td>\n      <td>HLA-DQB1*02:01</td>\n      <td>MHCII</td>\n      <td>PQQPFPQPEQPFP</td>\n      <td>Gluten</td>\n      <td>Wheat</td>\n      <td>2</td>\n      <td>12</td>\n    </tr>\n    <tr>\n      <th>92768</th>\n      <td>30593</td>\n      <td>TRB</td>\n      <td>CASSLGAGGQETQYF</td>\n      <td>TRBV5-1*01</td>\n      <td>TRBJ2-5*01</td>\n      <td>HomoSapiens</td>\n      <td>HLA-DQA1*05:01</td>\n      <td>HLA-DQB1*02:01</td>\n      <td>MHCII</td>\n      <td>PQQPFPQPEQPFP</td>\n      <td>Gluten</td>\n      <td>Wheat</td>\n      <td>2</td>\n      <td>15</td>\n    </tr>\n    <tr>\n      <th>92769</th>\n      <td>30594</td>\n      <td>TRA</td>\n      <td>CLVGGSGGYNKLIF</td>\n      <td>TRAV4*01</td>\n      <td>TRAJ4*01</td>\n      <td>HomoSapiens</td>\n      <td>HLA-DQA1*05:01</td>\n      <td>HLA-DQB1*02:01</td>\n      <td>MHCII</td>\n      <td>PQQPFPQPEQPFP</td>\n      <td>Gluten</td>\n      <td>Wheat</td>\n      <td>0</td>\n      <td>14</td>\n    </tr>\n    <tr>\n      <th>92770</th>\n      <td>30594</td>\n      <td>TRB</td>\n      <td>CASSSTAQETQYF</td>\n      <td>TRBV11-2*01</td>\n      <td>TRBJ2-5*01</td>\n      <td>HomoSapiens</td>\n      <td>HLA-DQA1*05:01</td>\n      <td>HLA-DQB1*02:01</td>\n      <td>MHCII</td>\n      <td>PQQPFPQPEQPFP</td>\n      <td>Gluten</td>\n      <td>Wheat</td>\n      <td>0</td>\n      <td>13</td>\n    </tr>\n  </tbody>\n</table>\n<p>83956 rows × 14 columns</p>\n</div>"
     },
     "execution_count": 20,
     "metadata": {},
     "output_type": "execute_result"
    }
   ],
   "source": [
    "df = df[(df['cdr3_length'] >= 10) & (df['cdr3_length'] <= 20)]\n",
    "df"
   ]
  },
  {
   "cell_type": "code",
   "execution_count": 21,
   "id": "87c6d541",
   "metadata": {
    "ExecuteTime": {
     "end_time": "2024-04-27T19:43:58.857033Z",
     "start_time": "2024-04-27T19:43:58.829108Z"
    }
   },
   "outputs": [
    {
     "name": "stdout",
     "output_type": "stream",
     "text": [
      "Number of distinct antigen species: 30\n",
      "Counts for each antigen species:\n",
      "CMV                  36853\n",
      "InfluenzaA           14473\n",
      "EBV                  10939\n",
      "SARS-CoV-2            7736\n",
      "HomoSapiens           3613\n",
      "HIV-1                 2983\n",
      "HCV                   2118\n",
      "SIV                   1356\n",
      "MCMV                  1338\n",
      "YFV                    738\n",
      "Wheat                  295\n",
      "HTLV-1                 216\n",
      "PlasmodiumBerghei      192\n",
      "DENV1                  175\n",
      "DENV3/4                168\n",
      "HIV                    149\n",
      "LCMV                   134\n",
      "RSV                    121\n",
      "HSV-2                  109\n",
      "DENV2                   60\n",
      "HCoV-HKU1               57\n",
      "VSV                     29\n",
      "HPV                     27\n",
      "TriticumAestivum        23\n",
      "M.tuberculosis          16\n",
      "AdV                     12\n",
      "GallusGallus            12\n",
      "MCPyV                   10\n",
      "synthetic                2\n",
      "Homo sapiens             2\n",
      "Name: antigen.species, dtype: int64\n"
     ]
    }
   ],
   "source": [
    "# Count the number of unique species\n",
    "unique_species_count = df['antigen.species'].nunique()\n",
    "print(\"Number of distinct antigen species:\", unique_species_count)\n",
    "\n",
    "# Count the occurrences of each species\n",
    "species_counts = df['antigen.species'].value_counts()\n",
    "print(\"Counts for each antigen species:\")\n",
    "print(species_counts)"
   ]
  },
  {
   "cell_type": "code",
   "execution_count": 22,
   "id": "bfda8a28",
   "metadata": {
    "ExecuteTime": {
     "end_time": "2024-04-27T19:43:58.904910Z",
     "start_time": "2024-04-27T19:43:58.859027Z"
    }
   },
   "outputs": [
    {
     "data": {
      "text/plain": "       complex.id gene                  cdr3       v.segm      j.segm  \\\n0               1  TRA         CIVRAPGRADMRF  TRAV26-1*01   TRAJ43*01   \n1               1  TRB  CASSYLPGQGDHYSNQPQHF    TRBV13*01  TRBJ1-5*01   \n2               0  TRB   CASSFEAGQGFFSNQPQHF    TRBV13*01  TRBJ1-5*01   \n3               2  TRA        CAVPSGAGSYQLTF    TRAV20*01   TRAJ28*01   \n4               2  TRB   CASSFEPGQGFYSNQPQHF    TRBV13*01  TRBJ1-5*01   \n...           ...  ...                   ...          ...         ...   \n92352       30540  TRB       CASSDRGTGLNGYTF   TRBV6-4*01  TRBJ1-2*01   \n92353       30541  TRA       CAGLNYGGSQGNLIF    TRAV35*01   TRAJ42*01   \n92354       30541  TRB         CASGPGGMTEAFF   TRBV5-5*01  TRBJ1-1*01   \n92355           0  TRA       CAGQNYGGSQGNLIF    TRAV35*01   TRAJ42*01   \n92364           0  TRB      CASSQEGGGDGQPPHF   TRBV4-1*01  TRBJ1-5*01   \n\n           species          mhc.a          mhc.b mhc.class antigen.epitope  \\\n0      HomoSapiens       HLA-B*08            B2M      MHCI        FLKEKGGL   \n1      HomoSapiens       HLA-B*08            B2M      MHCI        FLKEKGGL   \n2      HomoSapiens       HLA-B*08            B2M      MHCI        FLKEKGGL   \n3      HomoSapiens       HLA-B*08            B2M      MHCI        FLKEKGGL   \n4      HomoSapiens       HLA-B*08            B2M      MHCI        FLKEKGGL   \n...            ...            ...            ...       ...             ...   \n92352  HomoSapiens  HLA-DPA*01:03  HLA-DPB*04:01     MHCII  TFEYVSQPFLMDLE   \n92353  HomoSapiens  HLA-DPA*01:03  HLA-DPB*04:01     MHCII  TFEYVSQPFLMDLE   \n92354  HomoSapiens  HLA-DPA*01:03  HLA-DPB*04:01     MHCII  TFEYVSQPFLMDLE   \n92355  HomoSapiens  HLA-DPA*01:03  HLA-DPB*04:01     MHCII  TFEYVSQPFLMDLE   \n92364  HomoSapiens    HLA-B*42:01            B2M      MHCI       TPQDLNTML   \n\n      antigen.gene antigen.species  vdjdb.score  cdr3_length  \n0              Nef           HIV-1            2           13  \n1              Nef           HIV-1            2           20  \n2              Nef           HIV-1            2           19  \n3              Nef           HIV-1            2           14  \n4              Nef           HIV-1            2           19  \n...            ...             ...          ...          ...  \n92352        Spike      SARS-CoV-2            0           15  \n92353        Spike      SARS-CoV-2            0           15  \n92354        Spike      SARS-CoV-2            0           13  \n92355        Spike      SARS-CoV-2            0           15  \n92364          Gag           HIV-1            0           16  \n\n[81409 rows x 14 columns]",
      "text/html": "<div>\n<style scoped>\n    .dataframe tbody tr th:only-of-type {\n        vertical-align: middle;\n    }\n\n    .dataframe tbody tr th {\n        vertical-align: top;\n    }\n\n    .dataframe thead th {\n        text-align: right;\n    }\n</style>\n<table border=\"1\" class=\"dataframe\">\n  <thead>\n    <tr style=\"text-align: right;\">\n      <th></th>\n      <th>complex.id</th>\n      <th>gene</th>\n      <th>cdr3</th>\n      <th>v.segm</th>\n      <th>j.segm</th>\n      <th>species</th>\n      <th>mhc.a</th>\n      <th>mhc.b</th>\n      <th>mhc.class</th>\n      <th>antigen.epitope</th>\n      <th>antigen.gene</th>\n      <th>antigen.species</th>\n      <th>vdjdb.score</th>\n      <th>cdr3_length</th>\n    </tr>\n  </thead>\n  <tbody>\n    <tr>\n      <th>0</th>\n      <td>1</td>\n      <td>TRA</td>\n      <td>CIVRAPGRADMRF</td>\n      <td>TRAV26-1*01</td>\n      <td>TRAJ43*01</td>\n      <td>HomoSapiens</td>\n      <td>HLA-B*08</td>\n      <td>B2M</td>\n      <td>MHCI</td>\n      <td>FLKEKGGL</td>\n      <td>Nef</td>\n      <td>HIV-1</td>\n      <td>2</td>\n      <td>13</td>\n    </tr>\n    <tr>\n      <th>1</th>\n      <td>1</td>\n      <td>TRB</td>\n      <td>CASSYLPGQGDHYSNQPQHF</td>\n      <td>TRBV13*01</td>\n      <td>TRBJ1-5*01</td>\n      <td>HomoSapiens</td>\n      <td>HLA-B*08</td>\n      <td>B2M</td>\n      <td>MHCI</td>\n      <td>FLKEKGGL</td>\n      <td>Nef</td>\n      <td>HIV-1</td>\n      <td>2</td>\n      <td>20</td>\n    </tr>\n    <tr>\n      <th>2</th>\n      <td>0</td>\n      <td>TRB</td>\n      <td>CASSFEAGQGFFSNQPQHF</td>\n      <td>TRBV13*01</td>\n      <td>TRBJ1-5*01</td>\n      <td>HomoSapiens</td>\n      <td>HLA-B*08</td>\n      <td>B2M</td>\n      <td>MHCI</td>\n      <td>FLKEKGGL</td>\n      <td>Nef</td>\n      <td>HIV-1</td>\n      <td>2</td>\n      <td>19</td>\n    </tr>\n    <tr>\n      <th>3</th>\n      <td>2</td>\n      <td>TRA</td>\n      <td>CAVPSGAGSYQLTF</td>\n      <td>TRAV20*01</td>\n      <td>TRAJ28*01</td>\n      <td>HomoSapiens</td>\n      <td>HLA-B*08</td>\n      <td>B2M</td>\n      <td>MHCI</td>\n      <td>FLKEKGGL</td>\n      <td>Nef</td>\n      <td>HIV-1</td>\n      <td>2</td>\n      <td>14</td>\n    </tr>\n    <tr>\n      <th>4</th>\n      <td>2</td>\n      <td>TRB</td>\n      <td>CASSFEPGQGFYSNQPQHF</td>\n      <td>TRBV13*01</td>\n      <td>TRBJ1-5*01</td>\n      <td>HomoSapiens</td>\n      <td>HLA-B*08</td>\n      <td>B2M</td>\n      <td>MHCI</td>\n      <td>FLKEKGGL</td>\n      <td>Nef</td>\n      <td>HIV-1</td>\n      <td>2</td>\n      <td>19</td>\n    </tr>\n    <tr>\n      <th>...</th>\n      <td>...</td>\n      <td>...</td>\n      <td>...</td>\n      <td>...</td>\n      <td>...</td>\n      <td>...</td>\n      <td>...</td>\n      <td>...</td>\n      <td>...</td>\n      <td>...</td>\n      <td>...</td>\n      <td>...</td>\n      <td>...</td>\n      <td>...</td>\n    </tr>\n    <tr>\n      <th>92352</th>\n      <td>30540</td>\n      <td>TRB</td>\n      <td>CASSDRGTGLNGYTF</td>\n      <td>TRBV6-4*01</td>\n      <td>TRBJ1-2*01</td>\n      <td>HomoSapiens</td>\n      <td>HLA-DPA*01:03</td>\n      <td>HLA-DPB*04:01</td>\n      <td>MHCII</td>\n      <td>TFEYVSQPFLMDLE</td>\n      <td>Spike</td>\n      <td>SARS-CoV-2</td>\n      <td>0</td>\n      <td>15</td>\n    </tr>\n    <tr>\n      <th>92353</th>\n      <td>30541</td>\n      <td>TRA</td>\n      <td>CAGLNYGGSQGNLIF</td>\n      <td>TRAV35*01</td>\n      <td>TRAJ42*01</td>\n      <td>HomoSapiens</td>\n      <td>HLA-DPA*01:03</td>\n      <td>HLA-DPB*04:01</td>\n      <td>MHCII</td>\n      <td>TFEYVSQPFLMDLE</td>\n      <td>Spike</td>\n      <td>SARS-CoV-2</td>\n      <td>0</td>\n      <td>15</td>\n    </tr>\n    <tr>\n      <th>92354</th>\n      <td>30541</td>\n      <td>TRB</td>\n      <td>CASGPGGMTEAFF</td>\n      <td>TRBV5-5*01</td>\n      <td>TRBJ1-1*01</td>\n      <td>HomoSapiens</td>\n      <td>HLA-DPA*01:03</td>\n      <td>HLA-DPB*04:01</td>\n      <td>MHCII</td>\n      <td>TFEYVSQPFLMDLE</td>\n      <td>Spike</td>\n      <td>SARS-CoV-2</td>\n      <td>0</td>\n      <td>13</td>\n    </tr>\n    <tr>\n      <th>92355</th>\n      <td>0</td>\n      <td>TRA</td>\n      <td>CAGQNYGGSQGNLIF</td>\n      <td>TRAV35*01</td>\n      <td>TRAJ42*01</td>\n      <td>HomoSapiens</td>\n      <td>HLA-DPA*01:03</td>\n      <td>HLA-DPB*04:01</td>\n      <td>MHCII</td>\n      <td>TFEYVSQPFLMDLE</td>\n      <td>Spike</td>\n      <td>SARS-CoV-2</td>\n      <td>0</td>\n      <td>15</td>\n    </tr>\n    <tr>\n      <th>92364</th>\n      <td>0</td>\n      <td>TRB</td>\n      <td>CASSQEGGGDGQPPHF</td>\n      <td>TRBV4-1*01</td>\n      <td>TRBJ1-5*01</td>\n      <td>HomoSapiens</td>\n      <td>HLA-B*42:01</td>\n      <td>B2M</td>\n      <td>MHCI</td>\n      <td>TPQDLNTML</td>\n      <td>Gag</td>\n      <td>HIV-1</td>\n      <td>0</td>\n      <td>16</td>\n    </tr>\n  </tbody>\n</table>\n<p>81409 rows × 14 columns</p>\n</div>"
     },
     "execution_count": 22,
     "metadata": {},
     "output_type": "execute_result"
    }
   ],
   "source": [
    "# Get a boolean series where each species with a count greater than 1000 is True\n",
    "species_above_threshold = df['antigen.species'].value_counts() > 1000\n",
    "\n",
    "# Convert it to a list of species\n",
    "species_to_include = species_above_threshold[species_above_threshold].index.tolist()\n",
    "\n",
    "# Filter the DataFrame\n",
    "df = df[df['antigen.species'].isin(species_to_include)]\n",
    "df"
   ]
  },
  {
   "cell_type": "code",
   "execution_count": 23,
   "id": "5bea7477",
   "metadata": {
    "ExecuteTime": {
     "end_time": "2024-04-27T19:43:58.936336Z",
     "start_time": "2024-04-27T19:43:58.906902Z"
    }
   },
   "outputs": [
    {
     "name": "stdout",
     "output_type": "stream",
     "text": [
      "Number of distinct antigen genes: 96\n",
      "Counts for each antigen genes:\n",
      "IE1          27619\n",
      "M             9541\n",
      "pp65          8723\n",
      "EBNA4         4964\n",
      "Spike         3916\n",
      "             ...  \n",
      "NY-ESO-4         2\n",
      "NY-ESO-3         2\n",
      "NY-ESO-2         2\n",
      "synthetic        2\n",
      "NY-ESO-5         2\n",
      "Name: antigen.gene, Length: 96, dtype: int64\n"
     ]
    }
   ],
   "source": [
    "# Count the number of unique species\n",
    "unique_gene_count = df['antigen.gene'].nunique()\n",
    "print(\"Number of distinct antigen genes:\", unique_gene_count)\n",
    "\n",
    "# Count the occurrences of each species\n",
    "genes_counts = df['antigen.gene'].value_counts()\n",
    "print(\"Counts for each antigen genes:\")\n",
    "print(genes_counts)"
   ]
  },
  {
   "cell_type": "code",
   "execution_count": 24,
   "id": "01c6c732",
   "metadata": {
    "ExecuteTime": {
     "end_time": "2024-04-27T19:43:59.000169Z",
     "start_time": "2024-04-27T19:43:58.938332Z"
    }
   },
   "outputs": [
    {
     "data": {
      "text/plain": "       complex.id gene                  cdr3       v.segm      j.segm  \\\n0               1  TRA         CIVRAPGRADMRF  TRAV26-1*01   TRAJ43*01   \n1               1  TRB  CASSYLPGQGDHYSNQPQHF    TRBV13*01  TRBJ1-5*01   \n2               0  TRB   CASSFEAGQGFFSNQPQHF    TRBV13*01  TRBJ1-5*01   \n3               2  TRA        CAVPSGAGSYQLTF    TRAV20*01   TRAJ28*01   \n4               2  TRB   CASSFEPGQGFYSNQPQHF    TRBV13*01  TRBJ1-5*01   \n...           ...  ...                   ...          ...         ...   \n92352       30540  TRB       CASSDRGTGLNGYTF   TRBV6-4*01  TRBJ1-2*01   \n92353       30541  TRA       CAGLNYGGSQGNLIF    TRAV35*01   TRAJ42*01   \n92354       30541  TRB         CASGPGGMTEAFF   TRBV5-5*01  TRBJ1-1*01   \n92355           0  TRA       CAGQNYGGSQGNLIF    TRAV35*01   TRAJ42*01   \n92364           0  TRB      CASSQEGGGDGQPPHF   TRBV4-1*01  TRBJ1-5*01   \n\n           species          mhc.a          mhc.b mhc.class antigen.epitope  \\\n0      HomoSapiens       HLA-B*08            B2M      MHCI        FLKEKGGL   \n1      HomoSapiens       HLA-B*08            B2M      MHCI        FLKEKGGL   \n2      HomoSapiens       HLA-B*08            B2M      MHCI        FLKEKGGL   \n3      HomoSapiens       HLA-B*08            B2M      MHCI        FLKEKGGL   \n4      HomoSapiens       HLA-B*08            B2M      MHCI        FLKEKGGL   \n...            ...            ...            ...       ...             ...   \n92352  HomoSapiens  HLA-DPA*01:03  HLA-DPB*04:01     MHCII  TFEYVSQPFLMDLE   \n92353  HomoSapiens  HLA-DPA*01:03  HLA-DPB*04:01     MHCII  TFEYVSQPFLMDLE   \n92354  HomoSapiens  HLA-DPA*01:03  HLA-DPB*04:01     MHCII  TFEYVSQPFLMDLE   \n92355  HomoSapiens  HLA-DPA*01:03  HLA-DPB*04:01     MHCII  TFEYVSQPFLMDLE   \n92364  HomoSapiens    HLA-B*42:01            B2M      MHCI       TPQDLNTML   \n\n      antigen.gene antigen.species  vdjdb.score  cdr3_length  \n0              Nef           HIV-1            2           13  \n1              Nef           HIV-1            2           20  \n2              Nef           HIV-1            2           19  \n3              Nef           HIV-1            2           14  \n4              Nef           HIV-1            2           19  \n...            ...             ...          ...          ...  \n92352        Spike      SARS-CoV-2            0           15  \n92353        Spike      SARS-CoV-2            0           15  \n92354        Spike      SARS-CoV-2            0           13  \n92355        Spike      SARS-CoV-2            0           15  \n92364          Gag           HIV-1            0           16  \n\n[80017 rows x 14 columns]",
      "text/html": "<div>\n<style scoped>\n    .dataframe tbody tr th:only-of-type {\n        vertical-align: middle;\n    }\n\n    .dataframe tbody tr th {\n        vertical-align: top;\n    }\n\n    .dataframe thead th {\n        text-align: right;\n    }\n</style>\n<table border=\"1\" class=\"dataframe\">\n  <thead>\n    <tr style=\"text-align: right;\">\n      <th></th>\n      <th>complex.id</th>\n      <th>gene</th>\n      <th>cdr3</th>\n      <th>v.segm</th>\n      <th>j.segm</th>\n      <th>species</th>\n      <th>mhc.a</th>\n      <th>mhc.b</th>\n      <th>mhc.class</th>\n      <th>antigen.epitope</th>\n      <th>antigen.gene</th>\n      <th>antigen.species</th>\n      <th>vdjdb.score</th>\n      <th>cdr3_length</th>\n    </tr>\n  </thead>\n  <tbody>\n    <tr>\n      <th>0</th>\n      <td>1</td>\n      <td>TRA</td>\n      <td>CIVRAPGRADMRF</td>\n      <td>TRAV26-1*01</td>\n      <td>TRAJ43*01</td>\n      <td>HomoSapiens</td>\n      <td>HLA-B*08</td>\n      <td>B2M</td>\n      <td>MHCI</td>\n      <td>FLKEKGGL</td>\n      <td>Nef</td>\n      <td>HIV-1</td>\n      <td>2</td>\n      <td>13</td>\n    </tr>\n    <tr>\n      <th>1</th>\n      <td>1</td>\n      <td>TRB</td>\n      <td>CASSYLPGQGDHYSNQPQHF</td>\n      <td>TRBV13*01</td>\n      <td>TRBJ1-5*01</td>\n      <td>HomoSapiens</td>\n      <td>HLA-B*08</td>\n      <td>B2M</td>\n      <td>MHCI</td>\n      <td>FLKEKGGL</td>\n      <td>Nef</td>\n      <td>HIV-1</td>\n      <td>2</td>\n      <td>20</td>\n    </tr>\n    <tr>\n      <th>2</th>\n      <td>0</td>\n      <td>TRB</td>\n      <td>CASSFEAGQGFFSNQPQHF</td>\n      <td>TRBV13*01</td>\n      <td>TRBJ1-5*01</td>\n      <td>HomoSapiens</td>\n      <td>HLA-B*08</td>\n      <td>B2M</td>\n      <td>MHCI</td>\n      <td>FLKEKGGL</td>\n      <td>Nef</td>\n      <td>HIV-1</td>\n      <td>2</td>\n      <td>19</td>\n    </tr>\n    <tr>\n      <th>3</th>\n      <td>2</td>\n      <td>TRA</td>\n      <td>CAVPSGAGSYQLTF</td>\n      <td>TRAV20*01</td>\n      <td>TRAJ28*01</td>\n      <td>HomoSapiens</td>\n      <td>HLA-B*08</td>\n      <td>B2M</td>\n      <td>MHCI</td>\n      <td>FLKEKGGL</td>\n      <td>Nef</td>\n      <td>HIV-1</td>\n      <td>2</td>\n      <td>14</td>\n    </tr>\n    <tr>\n      <th>4</th>\n      <td>2</td>\n      <td>TRB</td>\n      <td>CASSFEPGQGFYSNQPQHF</td>\n      <td>TRBV13*01</td>\n      <td>TRBJ1-5*01</td>\n      <td>HomoSapiens</td>\n      <td>HLA-B*08</td>\n      <td>B2M</td>\n      <td>MHCI</td>\n      <td>FLKEKGGL</td>\n      <td>Nef</td>\n      <td>HIV-1</td>\n      <td>2</td>\n      <td>19</td>\n    </tr>\n    <tr>\n      <th>...</th>\n      <td>...</td>\n      <td>...</td>\n      <td>...</td>\n      <td>...</td>\n      <td>...</td>\n      <td>...</td>\n      <td>...</td>\n      <td>...</td>\n      <td>...</td>\n      <td>...</td>\n      <td>...</td>\n      <td>...</td>\n      <td>...</td>\n      <td>...</td>\n    </tr>\n    <tr>\n      <th>92352</th>\n      <td>30540</td>\n      <td>TRB</td>\n      <td>CASSDRGTGLNGYTF</td>\n      <td>TRBV6-4*01</td>\n      <td>TRBJ1-2*01</td>\n      <td>HomoSapiens</td>\n      <td>HLA-DPA*01:03</td>\n      <td>HLA-DPB*04:01</td>\n      <td>MHCII</td>\n      <td>TFEYVSQPFLMDLE</td>\n      <td>Spike</td>\n      <td>SARS-CoV-2</td>\n      <td>0</td>\n      <td>15</td>\n    </tr>\n    <tr>\n      <th>92353</th>\n      <td>30541</td>\n      <td>TRA</td>\n      <td>CAGLNYGGSQGNLIF</td>\n      <td>TRAV35*01</td>\n      <td>TRAJ42*01</td>\n      <td>HomoSapiens</td>\n      <td>HLA-DPA*01:03</td>\n      <td>HLA-DPB*04:01</td>\n      <td>MHCII</td>\n      <td>TFEYVSQPFLMDLE</td>\n      <td>Spike</td>\n      <td>SARS-CoV-2</td>\n      <td>0</td>\n      <td>15</td>\n    </tr>\n    <tr>\n      <th>92354</th>\n      <td>30541</td>\n      <td>TRB</td>\n      <td>CASGPGGMTEAFF</td>\n      <td>TRBV5-5*01</td>\n      <td>TRBJ1-1*01</td>\n      <td>HomoSapiens</td>\n      <td>HLA-DPA*01:03</td>\n      <td>HLA-DPB*04:01</td>\n      <td>MHCII</td>\n      <td>TFEYVSQPFLMDLE</td>\n      <td>Spike</td>\n      <td>SARS-CoV-2</td>\n      <td>0</td>\n      <td>13</td>\n    </tr>\n    <tr>\n      <th>92355</th>\n      <td>0</td>\n      <td>TRA</td>\n      <td>CAGQNYGGSQGNLIF</td>\n      <td>TRAV35*01</td>\n      <td>TRAJ42*01</td>\n      <td>HomoSapiens</td>\n      <td>HLA-DPA*01:03</td>\n      <td>HLA-DPB*04:01</td>\n      <td>MHCII</td>\n      <td>TFEYVSQPFLMDLE</td>\n      <td>Spike</td>\n      <td>SARS-CoV-2</td>\n      <td>0</td>\n      <td>15</td>\n    </tr>\n    <tr>\n      <th>92364</th>\n      <td>0</td>\n      <td>TRB</td>\n      <td>CASSQEGGGDGQPPHF</td>\n      <td>TRBV4-1*01</td>\n      <td>TRBJ1-5*01</td>\n      <td>HomoSapiens</td>\n      <td>HLA-B*42:01</td>\n      <td>B2M</td>\n      <td>MHCI</td>\n      <td>TPQDLNTML</td>\n      <td>Gag</td>\n      <td>HIV-1</td>\n      <td>0</td>\n      <td>16</td>\n    </tr>\n  </tbody>\n</table>\n<p>80017 rows × 14 columns</p>\n</div>"
     },
     "execution_count": 24,
     "metadata": {},
     "output_type": "execute_result"
    }
   ],
   "source": [
    "# Calculate the counts for each antigen.gene\n",
    "gene_counts = df['antigen.gene'].value_counts()\n",
    "\n",
    "# Find the antigen.gene values with counts of at least 100\n",
    "genes_with_sufficient_count = gene_counts[gene_counts >= 100].index\n",
    "\n",
    "# Filter the DataFrame to only include rows with these antigen.gene values\n",
    "df = df[df['antigen.gene'].isin(genes_with_sufficient_count)]\n",
    "\n",
    "df"
   ]
  },
  {
   "cell_type": "code",
   "execution_count": 25,
   "id": "65b549f8",
   "metadata": {
    "ExecuteTime": {
     "end_time": "2024-04-27T19:43:59.046577Z",
     "start_time": "2024-04-27T19:43:59.002164Z"
    }
   },
   "outputs": [
    {
     "data": {
      "text/plain": "       complex.id gene                  cdr3       v.segm      j.segm  \\\n0               1  TRA         CIVRAPGRADMRF  TRAV26-1*01   TRAJ43*01   \n1               1  TRB  CASSYLPGQGDHYSNQPQHF    TRBV13*01  TRBJ1-5*01   \n3               2  TRA        CAVPSGAGSYQLTF    TRAV20*01   TRAJ28*01   \n4               2  TRB   CASSFEPGQGFYSNQPQHF    TRBV13*01  TRBJ1-5*01   \n6               3  TRB  CASSYEPGQVSHYSNQPQHF    TRBV13*01  TRBJ1-5*01   \n...           ...  ...                   ...          ...         ...   \n92349       30539  TRB     CASSWRQGGSIRESYTF   TRBV5-5*01  TRBJ1-2*01   \n92351       30540  TRA       CAALNYGGSQGNLIF    TRAV35*01   TRAJ42*01   \n92352       30540  TRB       CASSDRGTGLNGYTF   TRBV6-4*01  TRBJ1-2*01   \n92353       30541  TRA       CAGLNYGGSQGNLIF    TRAV35*01   TRAJ42*01   \n92354       30541  TRB         CASGPGGMTEAFF   TRBV5-5*01  TRBJ1-1*01   \n\n           species          mhc.a          mhc.b mhc.class antigen.epitope  \\\n0      HomoSapiens       HLA-B*08            B2M      MHCI        FLKEKGGL   \n1      HomoSapiens       HLA-B*08            B2M      MHCI        FLKEKGGL   \n3      HomoSapiens       HLA-B*08            B2M      MHCI        FLKEKGGL   \n4      HomoSapiens       HLA-B*08            B2M      MHCI        FLKEKGGL   \n6      HomoSapiens       HLA-B*08            B2M      MHCI        FLKEKGGL   \n...            ...            ...            ...       ...             ...   \n92349  HomoSapiens  HLA-DPA*01:03  HLA-DPB*04:01     MHCII  TFEYVSQPFLMDLE   \n92351  HomoSapiens  HLA-DPA*01:03  HLA-DPB*04:01     MHCII  TFEYVSQPFLMDLE   \n92352  HomoSapiens  HLA-DPA*01:03  HLA-DPB*04:01     MHCII  TFEYVSQPFLMDLE   \n92353  HomoSapiens  HLA-DPA*01:03  HLA-DPB*04:01     MHCII  TFEYVSQPFLMDLE   \n92354  HomoSapiens  HLA-DPA*01:03  HLA-DPB*04:01     MHCII  TFEYVSQPFLMDLE   \n\n      antigen.gene antigen.species  vdjdb.score  cdr3_length  \n0              Nef           HIV-1            2           13  \n1              Nef           HIV-1            2           20  \n3              Nef           HIV-1            2           14  \n4              Nef           HIV-1            2           19  \n6              Nef           HIV-1            2           20  \n...            ...             ...          ...          ...  \n92349        Spike      SARS-CoV-2            0           17  \n92351        Spike      SARS-CoV-2            0           15  \n92352        Spike      SARS-CoV-2            0           15  \n92353        Spike      SARS-CoV-2            0           15  \n92354        Spike      SARS-CoV-2            0           13  \n\n[55708 rows x 14 columns]",
      "text/html": "<div>\n<style scoped>\n    .dataframe tbody tr th:only-of-type {\n        vertical-align: middle;\n    }\n\n    .dataframe tbody tr th {\n        vertical-align: top;\n    }\n\n    .dataframe thead th {\n        text-align: right;\n    }\n</style>\n<table border=\"1\" class=\"dataframe\">\n  <thead>\n    <tr style=\"text-align: right;\">\n      <th></th>\n      <th>complex.id</th>\n      <th>gene</th>\n      <th>cdr3</th>\n      <th>v.segm</th>\n      <th>j.segm</th>\n      <th>species</th>\n      <th>mhc.a</th>\n      <th>mhc.b</th>\n      <th>mhc.class</th>\n      <th>antigen.epitope</th>\n      <th>antigen.gene</th>\n      <th>antigen.species</th>\n      <th>vdjdb.score</th>\n      <th>cdr3_length</th>\n    </tr>\n  </thead>\n  <tbody>\n    <tr>\n      <th>0</th>\n      <td>1</td>\n      <td>TRA</td>\n      <td>CIVRAPGRADMRF</td>\n      <td>TRAV26-1*01</td>\n      <td>TRAJ43*01</td>\n      <td>HomoSapiens</td>\n      <td>HLA-B*08</td>\n      <td>B2M</td>\n      <td>MHCI</td>\n      <td>FLKEKGGL</td>\n      <td>Nef</td>\n      <td>HIV-1</td>\n      <td>2</td>\n      <td>13</td>\n    </tr>\n    <tr>\n      <th>1</th>\n      <td>1</td>\n      <td>TRB</td>\n      <td>CASSYLPGQGDHYSNQPQHF</td>\n      <td>TRBV13*01</td>\n      <td>TRBJ1-5*01</td>\n      <td>HomoSapiens</td>\n      <td>HLA-B*08</td>\n      <td>B2M</td>\n      <td>MHCI</td>\n      <td>FLKEKGGL</td>\n      <td>Nef</td>\n      <td>HIV-1</td>\n      <td>2</td>\n      <td>20</td>\n    </tr>\n    <tr>\n      <th>3</th>\n      <td>2</td>\n      <td>TRA</td>\n      <td>CAVPSGAGSYQLTF</td>\n      <td>TRAV20*01</td>\n      <td>TRAJ28*01</td>\n      <td>HomoSapiens</td>\n      <td>HLA-B*08</td>\n      <td>B2M</td>\n      <td>MHCI</td>\n      <td>FLKEKGGL</td>\n      <td>Nef</td>\n      <td>HIV-1</td>\n      <td>2</td>\n      <td>14</td>\n    </tr>\n    <tr>\n      <th>4</th>\n      <td>2</td>\n      <td>TRB</td>\n      <td>CASSFEPGQGFYSNQPQHF</td>\n      <td>TRBV13*01</td>\n      <td>TRBJ1-5*01</td>\n      <td>HomoSapiens</td>\n      <td>HLA-B*08</td>\n      <td>B2M</td>\n      <td>MHCI</td>\n      <td>FLKEKGGL</td>\n      <td>Nef</td>\n      <td>HIV-1</td>\n      <td>2</td>\n      <td>19</td>\n    </tr>\n    <tr>\n      <th>6</th>\n      <td>3</td>\n      <td>TRB</td>\n      <td>CASSYEPGQVSHYSNQPQHF</td>\n      <td>TRBV13*01</td>\n      <td>TRBJ1-5*01</td>\n      <td>HomoSapiens</td>\n      <td>HLA-B*08</td>\n      <td>B2M</td>\n      <td>MHCI</td>\n      <td>FLKEKGGL</td>\n      <td>Nef</td>\n      <td>HIV-1</td>\n      <td>2</td>\n      <td>20</td>\n    </tr>\n    <tr>\n      <th>...</th>\n      <td>...</td>\n      <td>...</td>\n      <td>...</td>\n      <td>...</td>\n      <td>...</td>\n      <td>...</td>\n      <td>...</td>\n      <td>...</td>\n      <td>...</td>\n      <td>...</td>\n      <td>...</td>\n      <td>...</td>\n      <td>...</td>\n      <td>...</td>\n    </tr>\n    <tr>\n      <th>92349</th>\n      <td>30539</td>\n      <td>TRB</td>\n      <td>CASSWRQGGSIRESYTF</td>\n      <td>TRBV5-5*01</td>\n      <td>TRBJ1-2*01</td>\n      <td>HomoSapiens</td>\n      <td>HLA-DPA*01:03</td>\n      <td>HLA-DPB*04:01</td>\n      <td>MHCII</td>\n      <td>TFEYVSQPFLMDLE</td>\n      <td>Spike</td>\n      <td>SARS-CoV-2</td>\n      <td>0</td>\n      <td>17</td>\n    </tr>\n    <tr>\n      <th>92351</th>\n      <td>30540</td>\n      <td>TRA</td>\n      <td>CAALNYGGSQGNLIF</td>\n      <td>TRAV35*01</td>\n      <td>TRAJ42*01</td>\n      <td>HomoSapiens</td>\n      <td>HLA-DPA*01:03</td>\n      <td>HLA-DPB*04:01</td>\n      <td>MHCII</td>\n      <td>TFEYVSQPFLMDLE</td>\n      <td>Spike</td>\n      <td>SARS-CoV-2</td>\n      <td>0</td>\n      <td>15</td>\n    </tr>\n    <tr>\n      <th>92352</th>\n      <td>30540</td>\n      <td>TRB</td>\n      <td>CASSDRGTGLNGYTF</td>\n      <td>TRBV6-4*01</td>\n      <td>TRBJ1-2*01</td>\n      <td>HomoSapiens</td>\n      <td>HLA-DPA*01:03</td>\n      <td>HLA-DPB*04:01</td>\n      <td>MHCII</td>\n      <td>TFEYVSQPFLMDLE</td>\n      <td>Spike</td>\n      <td>SARS-CoV-2</td>\n      <td>0</td>\n      <td>15</td>\n    </tr>\n    <tr>\n      <th>92353</th>\n      <td>30541</td>\n      <td>TRA</td>\n      <td>CAGLNYGGSQGNLIF</td>\n      <td>TRAV35*01</td>\n      <td>TRAJ42*01</td>\n      <td>HomoSapiens</td>\n      <td>HLA-DPA*01:03</td>\n      <td>HLA-DPB*04:01</td>\n      <td>MHCII</td>\n      <td>TFEYVSQPFLMDLE</td>\n      <td>Spike</td>\n      <td>SARS-CoV-2</td>\n      <td>0</td>\n      <td>15</td>\n    </tr>\n    <tr>\n      <th>92354</th>\n      <td>30541</td>\n      <td>TRB</td>\n      <td>CASGPGGMTEAFF</td>\n      <td>TRBV5-5*01</td>\n      <td>TRBJ1-1*01</td>\n      <td>HomoSapiens</td>\n      <td>HLA-DPA*01:03</td>\n      <td>HLA-DPB*04:01</td>\n      <td>MHCII</td>\n      <td>TFEYVSQPFLMDLE</td>\n      <td>Spike</td>\n      <td>SARS-CoV-2</td>\n      <td>0</td>\n      <td>13</td>\n    </tr>\n  </tbody>\n</table>\n<p>55708 rows × 14 columns</p>\n</div>"
     },
     "execution_count": 25,
     "metadata": {},
     "output_type": "execute_result"
    }
   ],
   "source": [
    "df = df[df['complex.id'] != 0]\n",
    "df"
   ]
  },
  {
   "cell_type": "code",
   "execution_count": 26,
   "id": "3053c807",
   "metadata": {
    "ExecuteTime": {
     "end_time": "2024-04-27T19:43:59.076497Z",
     "start_time": "2024-04-27T19:43:59.048572Z"
    }
   },
   "outputs": [
    {
     "data": {
      "text/plain": "(HomoSapiens    51535\n MusMusculus     4173\n Name: species, dtype: int64,\n TRB    28195\n TRA    27513\n Name: gene, dtype: int64,\n MHCI     54719\n MHCII      989\n Name: mhc.class, dtype: int64)"
     },
     "execution_count": 26,
     "metadata": {},
     "output_type": "execute_result"
    }
   ],
   "source": [
    "# Calculate the counts for 'species', 'genes', and 'mhc.class'\n",
    "species_counts = df['species'].value_counts()\n",
    "genes_counts = df['gene'].value_counts()\n",
    "mhc_class_counts = df['mhc.class'].value_counts()\n",
    "\n",
    "species_counts, genes_counts, mhc_class_counts"
   ]
  },
  {
   "cell_type": "markdown",
   "id": "6776cd39",
   "metadata": {},
   "source": [
    "Filtering the data by keeping rows that have data only on Humans as we want to do our further analysis only on Human Data"
   ]
  },
  {
   "cell_type": "code",
   "execution_count": 27,
   "id": "f33f1937",
   "metadata": {
    "ExecuteTime": {
     "end_time": "2024-04-27T19:43:59.122890Z",
     "start_time": "2024-04-27T19:43:59.083478Z"
    }
   },
   "outputs": [
    {
     "data": {
      "text/plain": "       complex.id gene                  cdr3       v.segm      j.segm  \\\n0               1  TRA         CIVRAPGRADMRF  TRAV26-1*01   TRAJ43*01   \n1               1  TRB  CASSYLPGQGDHYSNQPQHF    TRBV13*01  TRBJ1-5*01   \n3               2  TRA        CAVPSGAGSYQLTF    TRAV20*01   TRAJ28*01   \n4               2  TRB   CASSFEPGQGFYSNQPQHF    TRBV13*01  TRBJ1-5*01   \n6               3  TRB  CASSYEPGQVSHYSNQPQHF    TRBV13*01  TRBJ1-5*01   \n...           ...  ...                   ...          ...         ...   \n92349       30539  TRB     CASSWRQGGSIRESYTF   TRBV5-5*01  TRBJ1-2*01   \n92351       30540  TRA       CAALNYGGSQGNLIF    TRAV35*01   TRAJ42*01   \n92352       30540  TRB       CASSDRGTGLNGYTF   TRBV6-4*01  TRBJ1-2*01   \n92353       30541  TRA       CAGLNYGGSQGNLIF    TRAV35*01   TRAJ42*01   \n92354       30541  TRB         CASGPGGMTEAFF   TRBV5-5*01  TRBJ1-1*01   \n\n           species          mhc.a          mhc.b mhc.class antigen.epitope  \\\n0      HomoSapiens       HLA-B*08            B2M      MHCI        FLKEKGGL   \n1      HomoSapiens       HLA-B*08            B2M      MHCI        FLKEKGGL   \n3      HomoSapiens       HLA-B*08            B2M      MHCI        FLKEKGGL   \n4      HomoSapiens       HLA-B*08            B2M      MHCI        FLKEKGGL   \n6      HomoSapiens       HLA-B*08            B2M      MHCI        FLKEKGGL   \n...            ...            ...            ...       ...             ...   \n92349  HomoSapiens  HLA-DPA*01:03  HLA-DPB*04:01     MHCII  TFEYVSQPFLMDLE   \n92351  HomoSapiens  HLA-DPA*01:03  HLA-DPB*04:01     MHCII  TFEYVSQPFLMDLE   \n92352  HomoSapiens  HLA-DPA*01:03  HLA-DPB*04:01     MHCII  TFEYVSQPFLMDLE   \n92353  HomoSapiens  HLA-DPA*01:03  HLA-DPB*04:01     MHCII  TFEYVSQPFLMDLE   \n92354  HomoSapiens  HLA-DPA*01:03  HLA-DPB*04:01     MHCII  TFEYVSQPFLMDLE   \n\n      antigen.gene antigen.species  vdjdb.score  cdr3_length  \n0              Nef           HIV-1            2           13  \n1              Nef           HIV-1            2           20  \n3              Nef           HIV-1            2           14  \n4              Nef           HIV-1            2           19  \n6              Nef           HIV-1            2           20  \n...            ...             ...          ...          ...  \n92349        Spike      SARS-CoV-2            0           17  \n92351        Spike      SARS-CoV-2            0           15  \n92352        Spike      SARS-CoV-2            0           15  \n92353        Spike      SARS-CoV-2            0           15  \n92354        Spike      SARS-CoV-2            0           13  \n\n[51535 rows x 14 columns]",
      "text/html": "<div>\n<style scoped>\n    .dataframe tbody tr th:only-of-type {\n        vertical-align: middle;\n    }\n\n    .dataframe tbody tr th {\n        vertical-align: top;\n    }\n\n    .dataframe thead th {\n        text-align: right;\n    }\n</style>\n<table border=\"1\" class=\"dataframe\">\n  <thead>\n    <tr style=\"text-align: right;\">\n      <th></th>\n      <th>complex.id</th>\n      <th>gene</th>\n      <th>cdr3</th>\n      <th>v.segm</th>\n      <th>j.segm</th>\n      <th>species</th>\n      <th>mhc.a</th>\n      <th>mhc.b</th>\n      <th>mhc.class</th>\n      <th>antigen.epitope</th>\n      <th>antigen.gene</th>\n      <th>antigen.species</th>\n      <th>vdjdb.score</th>\n      <th>cdr3_length</th>\n    </tr>\n  </thead>\n  <tbody>\n    <tr>\n      <th>0</th>\n      <td>1</td>\n      <td>TRA</td>\n      <td>CIVRAPGRADMRF</td>\n      <td>TRAV26-1*01</td>\n      <td>TRAJ43*01</td>\n      <td>HomoSapiens</td>\n      <td>HLA-B*08</td>\n      <td>B2M</td>\n      <td>MHCI</td>\n      <td>FLKEKGGL</td>\n      <td>Nef</td>\n      <td>HIV-1</td>\n      <td>2</td>\n      <td>13</td>\n    </tr>\n    <tr>\n      <th>1</th>\n      <td>1</td>\n      <td>TRB</td>\n      <td>CASSYLPGQGDHYSNQPQHF</td>\n      <td>TRBV13*01</td>\n      <td>TRBJ1-5*01</td>\n      <td>HomoSapiens</td>\n      <td>HLA-B*08</td>\n      <td>B2M</td>\n      <td>MHCI</td>\n      <td>FLKEKGGL</td>\n      <td>Nef</td>\n      <td>HIV-1</td>\n      <td>2</td>\n      <td>20</td>\n    </tr>\n    <tr>\n      <th>3</th>\n      <td>2</td>\n      <td>TRA</td>\n      <td>CAVPSGAGSYQLTF</td>\n      <td>TRAV20*01</td>\n      <td>TRAJ28*01</td>\n      <td>HomoSapiens</td>\n      <td>HLA-B*08</td>\n      <td>B2M</td>\n      <td>MHCI</td>\n      <td>FLKEKGGL</td>\n      <td>Nef</td>\n      <td>HIV-1</td>\n      <td>2</td>\n      <td>14</td>\n    </tr>\n    <tr>\n      <th>4</th>\n      <td>2</td>\n      <td>TRB</td>\n      <td>CASSFEPGQGFYSNQPQHF</td>\n      <td>TRBV13*01</td>\n      <td>TRBJ1-5*01</td>\n      <td>HomoSapiens</td>\n      <td>HLA-B*08</td>\n      <td>B2M</td>\n      <td>MHCI</td>\n      <td>FLKEKGGL</td>\n      <td>Nef</td>\n      <td>HIV-1</td>\n      <td>2</td>\n      <td>19</td>\n    </tr>\n    <tr>\n      <th>6</th>\n      <td>3</td>\n      <td>TRB</td>\n      <td>CASSYEPGQVSHYSNQPQHF</td>\n      <td>TRBV13*01</td>\n      <td>TRBJ1-5*01</td>\n      <td>HomoSapiens</td>\n      <td>HLA-B*08</td>\n      <td>B2M</td>\n      <td>MHCI</td>\n      <td>FLKEKGGL</td>\n      <td>Nef</td>\n      <td>HIV-1</td>\n      <td>2</td>\n      <td>20</td>\n    </tr>\n    <tr>\n      <th>...</th>\n      <td>...</td>\n      <td>...</td>\n      <td>...</td>\n      <td>...</td>\n      <td>...</td>\n      <td>...</td>\n      <td>...</td>\n      <td>...</td>\n      <td>...</td>\n      <td>...</td>\n      <td>...</td>\n      <td>...</td>\n      <td>...</td>\n      <td>...</td>\n    </tr>\n    <tr>\n      <th>92349</th>\n      <td>30539</td>\n      <td>TRB</td>\n      <td>CASSWRQGGSIRESYTF</td>\n      <td>TRBV5-5*01</td>\n      <td>TRBJ1-2*01</td>\n      <td>HomoSapiens</td>\n      <td>HLA-DPA*01:03</td>\n      <td>HLA-DPB*04:01</td>\n      <td>MHCII</td>\n      <td>TFEYVSQPFLMDLE</td>\n      <td>Spike</td>\n      <td>SARS-CoV-2</td>\n      <td>0</td>\n      <td>17</td>\n    </tr>\n    <tr>\n      <th>92351</th>\n      <td>30540</td>\n      <td>TRA</td>\n      <td>CAALNYGGSQGNLIF</td>\n      <td>TRAV35*01</td>\n      <td>TRAJ42*01</td>\n      <td>HomoSapiens</td>\n      <td>HLA-DPA*01:03</td>\n      <td>HLA-DPB*04:01</td>\n      <td>MHCII</td>\n      <td>TFEYVSQPFLMDLE</td>\n      <td>Spike</td>\n      <td>SARS-CoV-2</td>\n      <td>0</td>\n      <td>15</td>\n    </tr>\n    <tr>\n      <th>92352</th>\n      <td>30540</td>\n      <td>TRB</td>\n      <td>CASSDRGTGLNGYTF</td>\n      <td>TRBV6-4*01</td>\n      <td>TRBJ1-2*01</td>\n      <td>HomoSapiens</td>\n      <td>HLA-DPA*01:03</td>\n      <td>HLA-DPB*04:01</td>\n      <td>MHCII</td>\n      <td>TFEYVSQPFLMDLE</td>\n      <td>Spike</td>\n      <td>SARS-CoV-2</td>\n      <td>0</td>\n      <td>15</td>\n    </tr>\n    <tr>\n      <th>92353</th>\n      <td>30541</td>\n      <td>TRA</td>\n      <td>CAGLNYGGSQGNLIF</td>\n      <td>TRAV35*01</td>\n      <td>TRAJ42*01</td>\n      <td>HomoSapiens</td>\n      <td>HLA-DPA*01:03</td>\n      <td>HLA-DPB*04:01</td>\n      <td>MHCII</td>\n      <td>TFEYVSQPFLMDLE</td>\n      <td>Spike</td>\n      <td>SARS-CoV-2</td>\n      <td>0</td>\n      <td>15</td>\n    </tr>\n    <tr>\n      <th>92354</th>\n      <td>30541</td>\n      <td>TRB</td>\n      <td>CASGPGGMTEAFF</td>\n      <td>TRBV5-5*01</td>\n      <td>TRBJ1-1*01</td>\n      <td>HomoSapiens</td>\n      <td>HLA-DPA*01:03</td>\n      <td>HLA-DPB*04:01</td>\n      <td>MHCII</td>\n      <td>TFEYVSQPFLMDLE</td>\n      <td>Spike</td>\n      <td>SARS-CoV-2</td>\n      <td>0</td>\n      <td>13</td>\n    </tr>\n  </tbody>\n</table>\n<p>51535 rows × 14 columns</p>\n</div>"
     },
     "execution_count": 27,
     "metadata": {},
     "output_type": "execute_result"
    }
   ],
   "source": [
    "# Filter the DataFrame for human species\n",
    "df = df[df['species'] == 'HomoSapiens']\n",
    "\n",
    "# The resulting DataFrame 'df' now only contains rows with human species \n",
    "df"
   ]
  },
  {
   "cell_type": "markdown",
   "id": "59269007",
   "metadata": {},
   "source": [
    "We can now drop columns like complex.id, species(since we are only taking human species), and cdr3_length"
   ]
  },
  {
   "cell_type": "code",
   "execution_count": 28,
   "id": "816d3916",
   "metadata": {
    "ExecuteTime": {
     "end_time": "2024-04-27T19:43:59.170762Z",
     "start_time": "2024-04-27T19:43:59.124884Z"
    }
   },
   "outputs": [
    {
     "name": "stderr",
     "output_type": "stream",
     "text": [
      "D:\\Program Files (x86)\\python39\\lib\\site-packages\\pandas\\core\\frame.py:4901: SettingWithCopyWarning: \n",
      "A value is trying to be set on a copy of a slice from a DataFrame\n",
      "\n",
      "See the caveats in the documentation: https://pandas.pydata.org/pandas-docs/stable/user_guide/indexing.html#returning-a-view-versus-a-copy\n",
      "  return super().drop(\n"
     ]
    },
    {
     "data": {
      "text/plain": "      gene                  cdr3       v.segm      j.segm          mhc.a  \\\n0      TRA         CIVRAPGRADMRF  TRAV26-1*01   TRAJ43*01       HLA-B*08   \n1      TRB  CASSYLPGQGDHYSNQPQHF    TRBV13*01  TRBJ1-5*01       HLA-B*08   \n3      TRA        CAVPSGAGSYQLTF    TRAV20*01   TRAJ28*01       HLA-B*08   \n4      TRB   CASSFEPGQGFYSNQPQHF    TRBV13*01  TRBJ1-5*01       HLA-B*08   \n6      TRB  CASSYEPGQVSHYSNQPQHF    TRBV13*01  TRBJ1-5*01       HLA-B*08   \n...    ...                   ...          ...         ...            ...   \n92349  TRB     CASSWRQGGSIRESYTF   TRBV5-5*01  TRBJ1-2*01  HLA-DPA*01:03   \n92351  TRA       CAALNYGGSQGNLIF    TRAV35*01   TRAJ42*01  HLA-DPA*01:03   \n92352  TRB       CASSDRGTGLNGYTF   TRBV6-4*01  TRBJ1-2*01  HLA-DPA*01:03   \n92353  TRA       CAGLNYGGSQGNLIF    TRAV35*01   TRAJ42*01  HLA-DPA*01:03   \n92354  TRB         CASGPGGMTEAFF   TRBV5-5*01  TRBJ1-1*01  HLA-DPA*01:03   \n\n               mhc.b mhc.class antigen.epitope antigen.gene antigen.species  \\\n0                B2M      MHCI        FLKEKGGL          Nef           HIV-1   \n1                B2M      MHCI        FLKEKGGL          Nef           HIV-1   \n3                B2M      MHCI        FLKEKGGL          Nef           HIV-1   \n4                B2M      MHCI        FLKEKGGL          Nef           HIV-1   \n6                B2M      MHCI        FLKEKGGL          Nef           HIV-1   \n...              ...       ...             ...          ...             ...   \n92349  HLA-DPB*04:01     MHCII  TFEYVSQPFLMDLE        Spike      SARS-CoV-2   \n92351  HLA-DPB*04:01     MHCII  TFEYVSQPFLMDLE        Spike      SARS-CoV-2   \n92352  HLA-DPB*04:01     MHCII  TFEYVSQPFLMDLE        Spike      SARS-CoV-2   \n92353  HLA-DPB*04:01     MHCII  TFEYVSQPFLMDLE        Spike      SARS-CoV-2   \n92354  HLA-DPB*04:01     MHCII  TFEYVSQPFLMDLE        Spike      SARS-CoV-2   \n\n       vdjdb.score  \n0                2  \n1                2  \n3                2  \n4                2  \n6                2  \n...            ...  \n92349            0  \n92351            0  \n92352            0  \n92353            0  \n92354            0  \n\n[51535 rows x 11 columns]",
      "text/html": "<div>\n<style scoped>\n    .dataframe tbody tr th:only-of-type {\n        vertical-align: middle;\n    }\n\n    .dataframe tbody tr th {\n        vertical-align: top;\n    }\n\n    .dataframe thead th {\n        text-align: right;\n    }\n</style>\n<table border=\"1\" class=\"dataframe\">\n  <thead>\n    <tr style=\"text-align: right;\">\n      <th></th>\n      <th>gene</th>\n      <th>cdr3</th>\n      <th>v.segm</th>\n      <th>j.segm</th>\n      <th>mhc.a</th>\n      <th>mhc.b</th>\n      <th>mhc.class</th>\n      <th>antigen.epitope</th>\n      <th>antigen.gene</th>\n      <th>antigen.species</th>\n      <th>vdjdb.score</th>\n    </tr>\n  </thead>\n  <tbody>\n    <tr>\n      <th>0</th>\n      <td>TRA</td>\n      <td>CIVRAPGRADMRF</td>\n      <td>TRAV26-1*01</td>\n      <td>TRAJ43*01</td>\n      <td>HLA-B*08</td>\n      <td>B2M</td>\n      <td>MHCI</td>\n      <td>FLKEKGGL</td>\n      <td>Nef</td>\n      <td>HIV-1</td>\n      <td>2</td>\n    </tr>\n    <tr>\n      <th>1</th>\n      <td>TRB</td>\n      <td>CASSYLPGQGDHYSNQPQHF</td>\n      <td>TRBV13*01</td>\n      <td>TRBJ1-5*01</td>\n      <td>HLA-B*08</td>\n      <td>B2M</td>\n      <td>MHCI</td>\n      <td>FLKEKGGL</td>\n      <td>Nef</td>\n      <td>HIV-1</td>\n      <td>2</td>\n    </tr>\n    <tr>\n      <th>3</th>\n      <td>TRA</td>\n      <td>CAVPSGAGSYQLTF</td>\n      <td>TRAV20*01</td>\n      <td>TRAJ28*01</td>\n      <td>HLA-B*08</td>\n      <td>B2M</td>\n      <td>MHCI</td>\n      <td>FLKEKGGL</td>\n      <td>Nef</td>\n      <td>HIV-1</td>\n      <td>2</td>\n    </tr>\n    <tr>\n      <th>4</th>\n      <td>TRB</td>\n      <td>CASSFEPGQGFYSNQPQHF</td>\n      <td>TRBV13*01</td>\n      <td>TRBJ1-5*01</td>\n      <td>HLA-B*08</td>\n      <td>B2M</td>\n      <td>MHCI</td>\n      <td>FLKEKGGL</td>\n      <td>Nef</td>\n      <td>HIV-1</td>\n      <td>2</td>\n    </tr>\n    <tr>\n      <th>6</th>\n      <td>TRB</td>\n      <td>CASSYEPGQVSHYSNQPQHF</td>\n      <td>TRBV13*01</td>\n      <td>TRBJ1-5*01</td>\n      <td>HLA-B*08</td>\n      <td>B2M</td>\n      <td>MHCI</td>\n      <td>FLKEKGGL</td>\n      <td>Nef</td>\n      <td>HIV-1</td>\n      <td>2</td>\n    </tr>\n    <tr>\n      <th>...</th>\n      <td>...</td>\n      <td>...</td>\n      <td>...</td>\n      <td>...</td>\n      <td>...</td>\n      <td>...</td>\n      <td>...</td>\n      <td>...</td>\n      <td>...</td>\n      <td>...</td>\n      <td>...</td>\n    </tr>\n    <tr>\n      <th>92349</th>\n      <td>TRB</td>\n      <td>CASSWRQGGSIRESYTF</td>\n      <td>TRBV5-5*01</td>\n      <td>TRBJ1-2*01</td>\n      <td>HLA-DPA*01:03</td>\n      <td>HLA-DPB*04:01</td>\n      <td>MHCII</td>\n      <td>TFEYVSQPFLMDLE</td>\n      <td>Spike</td>\n      <td>SARS-CoV-2</td>\n      <td>0</td>\n    </tr>\n    <tr>\n      <th>92351</th>\n      <td>TRA</td>\n      <td>CAALNYGGSQGNLIF</td>\n      <td>TRAV35*01</td>\n      <td>TRAJ42*01</td>\n      <td>HLA-DPA*01:03</td>\n      <td>HLA-DPB*04:01</td>\n      <td>MHCII</td>\n      <td>TFEYVSQPFLMDLE</td>\n      <td>Spike</td>\n      <td>SARS-CoV-2</td>\n      <td>0</td>\n    </tr>\n    <tr>\n      <th>92352</th>\n      <td>TRB</td>\n      <td>CASSDRGTGLNGYTF</td>\n      <td>TRBV6-4*01</td>\n      <td>TRBJ1-2*01</td>\n      <td>HLA-DPA*01:03</td>\n      <td>HLA-DPB*04:01</td>\n      <td>MHCII</td>\n      <td>TFEYVSQPFLMDLE</td>\n      <td>Spike</td>\n      <td>SARS-CoV-2</td>\n      <td>0</td>\n    </tr>\n    <tr>\n      <th>92353</th>\n      <td>TRA</td>\n      <td>CAGLNYGGSQGNLIF</td>\n      <td>TRAV35*01</td>\n      <td>TRAJ42*01</td>\n      <td>HLA-DPA*01:03</td>\n      <td>HLA-DPB*04:01</td>\n      <td>MHCII</td>\n      <td>TFEYVSQPFLMDLE</td>\n      <td>Spike</td>\n      <td>SARS-CoV-2</td>\n      <td>0</td>\n    </tr>\n    <tr>\n      <th>92354</th>\n      <td>TRB</td>\n      <td>CASGPGGMTEAFF</td>\n      <td>TRBV5-5*01</td>\n      <td>TRBJ1-1*01</td>\n      <td>HLA-DPA*01:03</td>\n      <td>HLA-DPB*04:01</td>\n      <td>MHCII</td>\n      <td>TFEYVSQPFLMDLE</td>\n      <td>Spike</td>\n      <td>SARS-CoV-2</td>\n      <td>0</td>\n    </tr>\n  </tbody>\n</table>\n<p>51535 rows × 11 columns</p>\n</div>"
     },
     "execution_count": 28,
     "metadata": {},
     "output_type": "execute_result"
    }
   ],
   "source": [
    "df.drop(['complex.id','species','cdr3_length'], axis=1, inplace=True)\n",
    "df"
   ]
  },
  {
   "cell_type": "code",
   "execution_count": 29,
   "id": "a7085d99",
   "metadata": {
    "ExecuteTime": {
     "end_time": "2024-04-27T19:43:59.202679Z",
     "start_time": "2024-04-27T19:43:59.172757Z"
    }
   },
   "outputs": [
    {
     "data": {
      "text/plain": "(HLA-A*03:01         28549\n HLA-A*02:01          9464\n HLA-A*11:01          4898\n HLA-B*08:01          2518\n HLA-A*01:01          1586\n HLA-B*07:02          1289\n HLA-DPA*01:03         818\n HLA-A*24:02           450\n HLA-B*57:01           384\n HLA-A*02              282\n HLA-A*68:01           206\n HLA-B*15:01           192\n HLA-A*24:01           153\n HLA-B*40:01           137\n HLA-A*08:01           124\n HLA-DRA*01:01         121\n HLA-A*02:01:48         70\n HLA-B*35:01            48\n HLA-A*11               34\n HLA-B*51:01            34\n HLA-B*44:02            33\n HLA-DRB1*04:05         32\n HLA-B*08               25\n HLA-B*07               18\n HLA-B*35:08            12\n HLA-DRB1*11:01         10\n HLA-B*35:08:01          8\n HLA-B*08:01:29          8\n HLA-DRA*01:02:03        8\n HLA-B*27:05:31          4\n HLA-B*35:42:01          4\n HLA-B*42:01             2\n HLA-B*81:01             2\n HLA-B*07:02:48          2\n HLA-A*02:01:59          2\n HLA-A*02:01:110         2\n HLA-B*51:193            2\n HLA-A*02:01:98          2\n HLA-B*57:06             2\n Name: mhc.a, dtype: int64,\n B2M                  50546\n HLA-DPB*04:01          818\n HLA-DRB1*04:01         121\n HLA-DRA*01:01           42\n HLA-DRB1*01:01:01        6\n HLA-DRB1*04:01:01        2\n Name: mhc.b, dtype: int64)"
     },
     "execution_count": 29,
     "metadata": {},
     "output_type": "execute_result"
    }
   ],
   "source": [
    "# Calculate the counts for 'mhc.a', and 'mhc.b'\n",
    "\n",
    "mhc_a_counts = df['mhc.a'].value_counts()\n",
    "mhc_b_counts = df['mhc.b'].value_counts()\n",
    "\n",
    "mhc_a_counts,mhc_b_counts"
   ]
  },
  {
   "cell_type": "markdown",
   "id": "a5ea2eeb",
   "metadata": {},
   "source": [
    "Now, we will split the dataframes into two. One for only Human alpha chains and the other one for only Human beta chains and do our further analysis on alpha and beta chains for humans separately"
   ]
  },
  {
   "cell_type": "code",
   "execution_count": 30,
   "id": "cd5db9a5",
   "metadata": {
    "ExecuteTime": {
     "end_time": "2024-04-27T19:43:59.250075Z",
     "start_time": "2024-04-27T19:43:59.204673Z"
    }
   },
   "outputs": [
    {
     "name": "stdout",
     "output_type": "stream",
     "text": [
      "Alpha Chains (TRA genes):\n",
      "    gene             cdr3           v.segm     j.segm     mhc.a mhc.b  \\\n",
      "0    TRA    CIVRAPGRADMRF      TRAV26-1*01  TRAJ43*01  HLA-B*08   B2M   \n",
      "3    TRA   CAVPSGAGSYQLTF        TRAV20*01  TRAJ28*01  HLA-B*08   B2M   \n",
      "7    TRA    CAYRPPGTYKYIF  TRAV38-2/DV8*01  TRAJ40*01  HLA-B*08   B2M   \n",
      "680  TRA    CAYTVLGNEKLTF      TRAV38-1*01  TRAJ48*01  HLA-A*02   B2M   \n",
      "682  TRA  CAVAGYGGSQGNLIF      TRAV12-2*01  TRAJ42*01  HLA-A*02   B2M   \n",
      "\n",
      "    mhc.class antigen.epitope antigen.gene antigen.species  vdjdb.score  \n",
      "0        MHCI        FLKEKGGL          Nef           HIV-1            2  \n",
      "3        MHCI        FLKEKGGL          Nef           HIV-1            2  \n",
      "7        MHCI        FLKEKGGL          Nef           HIV-1            2  \n",
      "680      MHCI      ELAGIGILTV        MLANA     HomoSapiens            0  \n",
      "682      MHCI      ELAGIGILTV        MLANA     HomoSapiens            1  \n",
      "Beta Chains (TRB genes):\n",
      "    gene                  cdr3     v.segm      j.segm     mhc.a mhc.b  \\\n",
      "1    TRB  CASSYLPGQGDHYSNQPQHF  TRBV13*01  TRBJ1-5*01  HLA-B*08   B2M   \n",
      "4    TRB   CASSFEPGQGFYSNQPQHF  TRBV13*01  TRBJ1-5*01  HLA-B*08   B2M   \n",
      "6    TRB  CASSYEPGQVSHYSNQPQHF  TRBV13*01  TRBJ1-5*01  HLA-B*08   B2M   \n",
      "8    TRB        CASSALASLNEQFF  TRBV14*01  TRBJ2-1*01  HLA-B*08   B2M   \n",
      "681  TRB         CASSFTPYNEQFF  TRBV28*01  TRBJ2-1*01  HLA-A*02   B2M   \n",
      "\n",
      "    mhc.class antigen.epitope antigen.gene antigen.species  vdjdb.score  \n",
      "1        MHCI        FLKEKGGL          Nef           HIV-1            2  \n",
      "4        MHCI        FLKEKGGL          Nef           HIV-1            2  \n",
      "6        MHCI        FLKEKGGL          Nef           HIV-1            2  \n",
      "8        MHCI        FLKEKGGL          Nef           HIV-1            2  \n",
      "681      MHCI      ELAGIGILTV        MLANA     HomoSapiens            0  \n"
     ]
    }
   ],
   "source": [
    "import pandas as pd\n",
    "\n",
    "# Split the DataFrame into two parts: one for TRA genes and one for TRB genes\n",
    "df_alpha = df[df['gene'] == 'TRA']  # Adjust the condition if necessary\n",
    "df_beta = df[df['gene'] == 'TRB']   # Adjust the condition if necessary\n",
    "\n",
    "# Now df_alpha contains only rows where the gene column is 'TRA'\n",
    "# and df_beta contains only rows where the gene column is 'TRB'\n",
    "# Display the first few rows to verify\n",
    "print(\"Alpha Chains (TRA genes):\")\n",
    "print(df_alpha.head())\n",
    "\n",
    "print(\"Beta Chains (TRB genes):\")\n",
    "print(df_beta.head())"
   ]
  },
  {
   "cell_type": "code",
   "execution_count": 31,
   "id": "30d69ee8",
   "metadata": {
    "ExecuteTime": {
     "end_time": "2024-04-27T19:43:59.295955Z",
     "start_time": "2024-04-27T19:43:59.253067Z"
    }
   },
   "outputs": [
    {
     "name": "stderr",
     "output_type": "stream",
     "text": [
      "D:\\Program Files (x86)\\python39\\lib\\site-packages\\pandas\\core\\frame.py:4901: SettingWithCopyWarning: \n",
      "A value is trying to be set on a copy of a slice from a DataFrame\n",
      "\n",
      "See the caveats in the documentation: https://pandas.pydata.org/pandas-docs/stable/user_guide/indexing.html#returning-a-view-versus-a-copy\n",
      "  return super().drop(\n"
     ]
    },
    {
     "data": {
      "text/plain": "(                cdr3           v.segm     j.segm     mhc.a mhc.b mhc.class  \\\n 0      CIVRAPGRADMRF      TRAV26-1*01  TRAJ43*01  HLA-B*08   B2M      MHCI   \n 3     CAVPSGAGSYQLTF        TRAV20*01  TRAJ28*01  HLA-B*08   B2M      MHCI   \n 7      CAYRPPGTYKYIF  TRAV38-2/DV8*01  TRAJ40*01  HLA-B*08   B2M      MHCI   \n 680    CAYTVLGNEKLTF      TRAV38-1*01  TRAJ48*01  HLA-A*02   B2M      MHCI   \n 682  CAVAGYGGSQGNLIF      TRAV12-2*01  TRAJ42*01  HLA-A*02   B2M      MHCI   \n \n     antigen.epitope antigen.gene antigen.species  vdjdb.score  \n 0          FLKEKGGL          Nef           HIV-1            2  \n 3          FLKEKGGL          Nef           HIV-1            2  \n 7          FLKEKGGL          Nef           HIV-1            2  \n 680      ELAGIGILTV        MLANA     HomoSapiens            0  \n 682      ELAGIGILTV        MLANA     HomoSapiens            1  ,\n                      cdr3     v.segm      j.segm     mhc.a mhc.b mhc.class  \\\n 1    CASSYLPGQGDHYSNQPQHF  TRBV13*01  TRBJ1-5*01  HLA-B*08   B2M      MHCI   \n 4     CASSFEPGQGFYSNQPQHF  TRBV13*01  TRBJ1-5*01  HLA-B*08   B2M      MHCI   \n 6    CASSYEPGQVSHYSNQPQHF  TRBV13*01  TRBJ1-5*01  HLA-B*08   B2M      MHCI   \n 8          CASSALASLNEQFF  TRBV14*01  TRBJ2-1*01  HLA-B*08   B2M      MHCI   \n 681         CASSFTPYNEQFF  TRBV28*01  TRBJ2-1*01  HLA-A*02   B2M      MHCI   \n \n     antigen.epitope antigen.gene antigen.species  vdjdb.score  \n 1          FLKEKGGL          Nef           HIV-1            2  \n 4          FLKEKGGL          Nef           HIV-1            2  \n 6          FLKEKGGL          Nef           HIV-1            2  \n 8          FLKEKGGL          Nef           HIV-1            2  \n 681      ELAGIGILTV        MLANA     HomoSapiens            0  )"
     },
     "execution_count": 31,
     "metadata": {},
     "output_type": "execute_result"
    }
   ],
   "source": [
    "df_alpha.drop(['gene'], axis=1, inplace=True)\n",
    "df_beta.drop(['gene'], axis=1, inplace=True)\n",
    "\n",
    "df_alpha.head(), df_beta.head()"
   ]
  },
  {
   "cell_type": "code",
   "execution_count": 32,
   "id": "2cdb7fc7",
   "metadata": {
    "ExecuteTime": {
     "end_time": "2024-04-27T19:43:59.326387Z",
     "start_time": "2024-04-27T19:43:59.297950Z"
    }
   },
   "outputs": [
    {
     "name": "stderr",
     "output_type": "stream",
     "text": [
      "D:\\Program Files (x86)\\python39\\lib\\site-packages\\pandas\\core\\frame.py:4901: SettingWithCopyWarning: \n",
      "A value is trying to be set on a copy of a slice from a DataFrame\n",
      "\n",
      "See the caveats in the documentation: https://pandas.pydata.org/pandas-docs/stable/user_guide/indexing.html#returning-a-view-versus-a-copy\n",
      "  return super().drop(\n"
     ]
    },
    {
     "data": {
      "text/plain": "(                cdr3           v.segm     j.segm     mhc.a mhc.b mhc.class  \\\n 0      CIVRAPGRADMRF      TRAV26-1*01  TRAJ43*01  HLA-B*08   B2M      MHCI   \n 3     CAVPSGAGSYQLTF        TRAV20*01  TRAJ28*01  HLA-B*08   B2M      MHCI   \n 7      CAYRPPGTYKYIF  TRAV38-2/DV8*01  TRAJ40*01  HLA-B*08   B2M      MHCI   \n 680    CAYTVLGNEKLTF      TRAV38-1*01  TRAJ48*01  HLA-A*02   B2M      MHCI   \n 682  CAVAGYGGSQGNLIF      TRAV12-2*01  TRAJ42*01  HLA-A*02   B2M      MHCI   \n \n     antigen.epitope antigen.gene antigen.species  \n 0          FLKEKGGL          Nef           HIV-1  \n 3          FLKEKGGL          Nef           HIV-1  \n 7          FLKEKGGL          Nef           HIV-1  \n 680      ELAGIGILTV        MLANA     HomoSapiens  \n 682      ELAGIGILTV        MLANA     HomoSapiens  ,\n                      cdr3     v.segm      j.segm     mhc.a mhc.b mhc.class  \\\n 1    CASSYLPGQGDHYSNQPQHF  TRBV13*01  TRBJ1-5*01  HLA-B*08   B2M      MHCI   \n 4     CASSFEPGQGFYSNQPQHF  TRBV13*01  TRBJ1-5*01  HLA-B*08   B2M      MHCI   \n 6    CASSYEPGQVSHYSNQPQHF  TRBV13*01  TRBJ1-5*01  HLA-B*08   B2M      MHCI   \n 8          CASSALASLNEQFF  TRBV14*01  TRBJ2-1*01  HLA-B*08   B2M      MHCI   \n 681         CASSFTPYNEQFF  TRBV28*01  TRBJ2-1*01  HLA-A*02   B2M      MHCI   \n \n     antigen.epitope antigen.gene antigen.species  \n 1          FLKEKGGL          Nef           HIV-1  \n 4          FLKEKGGL          Nef           HIV-1  \n 6          FLKEKGGL          Nef           HIV-1  \n 8          FLKEKGGL          Nef           HIV-1  \n 681      ELAGIGILTV        MLANA     HomoSapiens  )"
     },
     "execution_count": 32,
     "metadata": {},
     "output_type": "execute_result"
    }
   ],
   "source": [
    "df_alpha.drop(['vdjdb.score'], axis=1, inplace=True)\n",
    "df_beta.drop(['vdjdb.score'], axis=1, inplace=True)\n",
    "df_alpha.head(), df_beta.head()"
   ]
  },
  {
   "cell_type": "code",
   "execution_count": 33,
   "id": "ea8d6f12",
   "metadata": {
    "ExecuteTime": {
     "end_time": "2024-04-27T19:43:59.357304Z",
     "start_time": "2024-04-27T19:43:59.329380Z"
    }
   },
   "outputs": [
    {
     "name": "stderr",
     "output_type": "stream",
     "text": [
      "D:\\Program Files (x86)\\python39\\lib\\site-packages\\pandas\\core\\frame.py:5034: SettingWithCopyWarning: \n",
      "A value is trying to be set on a copy of a slice from a DataFrame\n",
      "\n",
      "See the caveats in the documentation: https://pandas.pydata.org/pandas-docs/stable/user_guide/indexing.html#returning-a-view-versus-a-copy\n",
      "  return super().rename(\n"
     ]
    },
    {
     "data": {
      "text/plain": "(                cdr3           v.segm     j.segm     mhc.a mhc.b mhc.class  \\\n 0      CIVRAPGRADMRF      TRAV26-1*01  TRAJ43*01  HLA-B*08   B2M      MHCI   \n 3     CAVPSGAGSYQLTF        TRAV20*01  TRAJ28*01  HLA-B*08   B2M      MHCI   \n 7      CAYRPPGTYKYIF  TRAV38-2/DV8*01  TRAJ40*01  HLA-B*08   B2M      MHCI   \n 680    CAYTVLGNEKLTF      TRAV38-1*01  TRAJ48*01  HLA-A*02   B2M      MHCI   \n 682  CAVAGYGGSQGNLIF      TRAV12-2*01  TRAJ42*01  HLA-A*02   B2M      MHCI   \n \n         epitope   gene      species  \n 0      FLKEKGGL    Nef        HIV-1  \n 3      FLKEKGGL    Nef        HIV-1  \n 7      FLKEKGGL    Nef        HIV-1  \n 680  ELAGIGILTV  MLANA  HomoSapiens  \n 682  ELAGIGILTV  MLANA  HomoSapiens  ,\n                      cdr3     v.segm      j.segm     mhc.a mhc.b mhc.class  \\\n 1    CASSYLPGQGDHYSNQPQHF  TRBV13*01  TRBJ1-5*01  HLA-B*08   B2M      MHCI   \n 4     CASSFEPGQGFYSNQPQHF  TRBV13*01  TRBJ1-5*01  HLA-B*08   B2M      MHCI   \n 6    CASSYEPGQVSHYSNQPQHF  TRBV13*01  TRBJ1-5*01  HLA-B*08   B2M      MHCI   \n 8          CASSALASLNEQFF  TRBV14*01  TRBJ2-1*01  HLA-B*08   B2M      MHCI   \n 681         CASSFTPYNEQFF  TRBV28*01  TRBJ2-1*01  HLA-A*02   B2M      MHCI   \n \n         epitope   gene      species  \n 1      FLKEKGGL    Nef        HIV-1  \n 4      FLKEKGGL    Nef        HIV-1  \n 6      FLKEKGGL    Nef        HIV-1  \n 8      FLKEKGGL    Nef        HIV-1  \n 681  ELAGIGILTV  MLANA  HomoSapiens  )"
     },
     "execution_count": 33,
     "metadata": {},
     "output_type": "execute_result"
    }
   ],
   "source": [
    "import pandas as pd\n",
    "\n",
    "# Rename the columns\n",
    "df_alpha.rename(columns={'antigen.epitope': 'epitope', 'antigen.gene': 'gene', 'antigen.species': 'species'}, inplace=True)\n",
    "df_beta.rename(columns={'antigen.epitope': 'epitope', 'antigen.gene': 'gene', 'antigen.species': 'species'}, inplace=True)\n",
    "\n",
    "# Now the columns are renamed to 'epitope', 'gene', and 'species'\n",
    "df_alpha.head(), df_beta.head()  # Display the first few rows to verify the changes"
   ]
  },
  {
   "cell_type": "markdown",
   "id": "ce17d38a",
   "metadata": {},
   "source": [
    "# MODEL BUILDING AND ANALYSIS ON ALPHA CHAINS:"
   ]
  },
  {
   "cell_type": "markdown",
   "id": "18fa5c4d",
   "metadata": {},
   "source": [
    "# ENCODING:"
   ]
  },
  {
   "cell_type": "markdown",
   "id": "256073c1",
   "metadata": {},
   "source": [
    "LABEL ENCODING ON THE 'GENE' AND 'SPECIES' COLUMN"
   ]
  },
  {
   "cell_type": "code",
   "execution_count": 34,
   "id": "3187abb8",
   "metadata": {
    "ExecuteTime": {
     "end_time": "2024-04-27T19:43:59.733379Z",
     "start_time": "2024-04-27T19:43:59.359299Z"
    }
   },
   "outputs": [
    {
     "name": "stderr",
     "output_type": "stream",
     "text": [
      "D:\\Program Files (x86)\\python39\\lib\\site-packages\\pandas\\core\\indexing.py:1667: SettingWithCopyWarning: \n",
      "A value is trying to be set on a copy of a slice from a DataFrame.\n",
      "Try using .loc[row_indexer,col_indexer] = value instead\n",
      "\n",
      "See the caveats in the documentation: https://pandas.pydata.org/pandas-docs/stable/user_guide/indexing.html#returning-a-view-versus-a-copy\n",
      "  self.obj[key] = value\n"
     ]
    },
    {
     "data": {
      "text/plain": "                  cdr3           v.segm     j.segm          mhc.a  \\\n0        CIVRAPGRADMRF      TRAV26-1*01  TRAJ43*01       HLA-B*08   \n3       CAVPSGAGSYQLTF        TRAV20*01  TRAJ28*01       HLA-B*08   \n7        CAYRPPGTYKYIF  TRAV38-2/DV8*01  TRAJ40*01       HLA-B*08   \n680      CAYTVLGNEKLTF      TRAV38-1*01  TRAJ48*01       HLA-A*02   \n682    CAVAGYGGSQGNLIF      TRAV12-2*01  TRAJ42*01       HLA-A*02   \n...                ...              ...        ...            ...   \n92344  CAGQLYGGSQGNLIF        TRAV35*01  TRAJ42*01  HLA-DPA*01:03   \n92346  CAGLNYGGSQGNLIF        TRAV35*01  TRAJ42*01  HLA-DPA*01:03   \n92348  CAGLNYGGSQGNLIF        TRAV35*01  TRAJ42*01  HLA-DPA*01:03   \n92351  CAALNYGGSQGNLIF        TRAV35*01  TRAJ42*01  HLA-DPA*01:03   \n92353  CAGLNYGGSQGNLIF        TRAV35*01  TRAJ42*01  HLA-DPA*01:03   \n\n               mhc.b mhc.class         epitope   gene      species  \\\n0                B2M      MHCI        FLKEKGGL    Nef        HIV-1   \n3                B2M      MHCI        FLKEKGGL    Nef        HIV-1   \n7                B2M      MHCI        FLKEKGGL    Nef        HIV-1   \n680              B2M      MHCI      ELAGIGILTV  MLANA  HomoSapiens   \n682              B2M      MHCI      ELAGIGILTV  MLANA  HomoSapiens   \n...              ...       ...             ...    ...          ...   \n92344  HLA-DPB*04:01     MHCII  TFEYVSQPFLMDLE  Spike   SARS-CoV-2   \n92346  HLA-DPB*04:01     MHCII  TFEYVSQPFLMDLE  Spike   SARS-CoV-2   \n92348  HLA-DPB*04:01     MHCII  TFEYVSQPFLMDLE  Spike   SARS-CoV-2   \n92351  HLA-DPB*04:01     MHCII  TFEYVSQPFLMDLE  Spike   SARS-CoV-2   \n92353  HLA-DPB*04:01     MHCII  TFEYVSQPFLMDLE  Spike   SARS-CoV-2   \n\n       gene_encoded  species_encoded  \n0                17                3  \n3                17                3  \n7                17                3  \n680              11                4  \n682              11                4  \n...             ...              ...  \n92344            24                6  \n92346            24                6  \n92348            24                6  \n92351            24                6  \n92353            24                6  \n\n[25456 rows x 11 columns]",
      "text/html": "<div>\n<style scoped>\n    .dataframe tbody tr th:only-of-type {\n        vertical-align: middle;\n    }\n\n    .dataframe tbody tr th {\n        vertical-align: top;\n    }\n\n    .dataframe thead th {\n        text-align: right;\n    }\n</style>\n<table border=\"1\" class=\"dataframe\">\n  <thead>\n    <tr style=\"text-align: right;\">\n      <th></th>\n      <th>cdr3</th>\n      <th>v.segm</th>\n      <th>j.segm</th>\n      <th>mhc.a</th>\n      <th>mhc.b</th>\n      <th>mhc.class</th>\n      <th>epitope</th>\n      <th>gene</th>\n      <th>species</th>\n      <th>gene_encoded</th>\n      <th>species_encoded</th>\n    </tr>\n  </thead>\n  <tbody>\n    <tr>\n      <th>0</th>\n      <td>CIVRAPGRADMRF</td>\n      <td>TRAV26-1*01</td>\n      <td>TRAJ43*01</td>\n      <td>HLA-B*08</td>\n      <td>B2M</td>\n      <td>MHCI</td>\n      <td>FLKEKGGL</td>\n      <td>Nef</td>\n      <td>HIV-1</td>\n      <td>17</td>\n      <td>3</td>\n    </tr>\n    <tr>\n      <th>3</th>\n      <td>CAVPSGAGSYQLTF</td>\n      <td>TRAV20*01</td>\n      <td>TRAJ28*01</td>\n      <td>HLA-B*08</td>\n      <td>B2M</td>\n      <td>MHCI</td>\n      <td>FLKEKGGL</td>\n      <td>Nef</td>\n      <td>HIV-1</td>\n      <td>17</td>\n      <td>3</td>\n    </tr>\n    <tr>\n      <th>7</th>\n      <td>CAYRPPGTYKYIF</td>\n      <td>TRAV38-2/DV8*01</td>\n      <td>TRAJ40*01</td>\n      <td>HLA-B*08</td>\n      <td>B2M</td>\n      <td>MHCI</td>\n      <td>FLKEKGGL</td>\n      <td>Nef</td>\n      <td>HIV-1</td>\n      <td>17</td>\n      <td>3</td>\n    </tr>\n    <tr>\n      <th>680</th>\n      <td>CAYTVLGNEKLTF</td>\n      <td>TRAV38-1*01</td>\n      <td>TRAJ48*01</td>\n      <td>HLA-A*02</td>\n      <td>B2M</td>\n      <td>MHCI</td>\n      <td>ELAGIGILTV</td>\n      <td>MLANA</td>\n      <td>HomoSapiens</td>\n      <td>11</td>\n      <td>4</td>\n    </tr>\n    <tr>\n      <th>682</th>\n      <td>CAVAGYGGSQGNLIF</td>\n      <td>TRAV12-2*01</td>\n      <td>TRAJ42*01</td>\n      <td>HLA-A*02</td>\n      <td>B2M</td>\n      <td>MHCI</td>\n      <td>ELAGIGILTV</td>\n      <td>MLANA</td>\n      <td>HomoSapiens</td>\n      <td>11</td>\n      <td>4</td>\n    </tr>\n    <tr>\n      <th>...</th>\n      <td>...</td>\n      <td>...</td>\n      <td>...</td>\n      <td>...</td>\n      <td>...</td>\n      <td>...</td>\n      <td>...</td>\n      <td>...</td>\n      <td>...</td>\n      <td>...</td>\n      <td>...</td>\n    </tr>\n    <tr>\n      <th>92344</th>\n      <td>CAGQLYGGSQGNLIF</td>\n      <td>TRAV35*01</td>\n      <td>TRAJ42*01</td>\n      <td>HLA-DPA*01:03</td>\n      <td>HLA-DPB*04:01</td>\n      <td>MHCII</td>\n      <td>TFEYVSQPFLMDLE</td>\n      <td>Spike</td>\n      <td>SARS-CoV-2</td>\n      <td>24</td>\n      <td>6</td>\n    </tr>\n    <tr>\n      <th>92346</th>\n      <td>CAGLNYGGSQGNLIF</td>\n      <td>TRAV35*01</td>\n      <td>TRAJ42*01</td>\n      <td>HLA-DPA*01:03</td>\n      <td>HLA-DPB*04:01</td>\n      <td>MHCII</td>\n      <td>TFEYVSQPFLMDLE</td>\n      <td>Spike</td>\n      <td>SARS-CoV-2</td>\n      <td>24</td>\n      <td>6</td>\n    </tr>\n    <tr>\n      <th>92348</th>\n      <td>CAGLNYGGSQGNLIF</td>\n      <td>TRAV35*01</td>\n      <td>TRAJ42*01</td>\n      <td>HLA-DPA*01:03</td>\n      <td>HLA-DPB*04:01</td>\n      <td>MHCII</td>\n      <td>TFEYVSQPFLMDLE</td>\n      <td>Spike</td>\n      <td>SARS-CoV-2</td>\n      <td>24</td>\n      <td>6</td>\n    </tr>\n    <tr>\n      <th>92351</th>\n      <td>CAALNYGGSQGNLIF</td>\n      <td>TRAV35*01</td>\n      <td>TRAJ42*01</td>\n      <td>HLA-DPA*01:03</td>\n      <td>HLA-DPB*04:01</td>\n      <td>MHCII</td>\n      <td>TFEYVSQPFLMDLE</td>\n      <td>Spike</td>\n      <td>SARS-CoV-2</td>\n      <td>24</td>\n      <td>6</td>\n    </tr>\n    <tr>\n      <th>92353</th>\n      <td>CAGLNYGGSQGNLIF</td>\n      <td>TRAV35*01</td>\n      <td>TRAJ42*01</td>\n      <td>HLA-DPA*01:03</td>\n      <td>HLA-DPB*04:01</td>\n      <td>MHCII</td>\n      <td>TFEYVSQPFLMDLE</td>\n      <td>Spike</td>\n      <td>SARS-CoV-2</td>\n      <td>24</td>\n      <td>6</td>\n    </tr>\n  </tbody>\n</table>\n<p>25456 rows × 11 columns</p>\n</div>"
     },
     "execution_count": 34,
     "metadata": {},
     "output_type": "execute_result"
    }
   ],
   "source": [
    "import pandas as pd\n",
    "from sklearn.preprocessing import LabelEncoder\n",
    "\n",
    "# Initialize the label encoder\n",
    "label_encoder = LabelEncoder()\n",
    "\n",
    "# Fit and transform 'gene' column\n",
    "# Note: It's important to fit a new instance of LabelEncoder for each distinct column.\n",
    "df_alpha.loc[:,'gene_encoded'] = LabelEncoder().fit_transform(df_alpha['gene'])\n",
    "\n",
    "# Fit and transform 'species' column\n",
    "df_alpha.loc[:,'species_encoded'] = LabelEncoder().fit_transform(df_alpha['species'])\n",
    "\n",
    "# Now df contains the new encoded columns: 'gene_encoded' and 'species_encoded'\n",
    "df_alpha"
   ]
  },
  {
   "cell_type": "markdown",
   "id": "08f3c295",
   "metadata": {},
   "source": [
    "LABEL ENCODING ON THE 'mhc.a' AND 'mhc.b' COLUMN"
   ]
  },
  {
   "cell_type": "code",
   "execution_count": 35,
   "id": "83d809e7",
   "metadata": {
    "ExecuteTime": {
     "end_time": "2024-04-27T19:43:59.780254Z",
     "start_time": "2024-04-27T19:43:59.735374Z"
    }
   },
   "outputs": [
    {
     "name": "stderr",
     "output_type": "stream",
     "text": [
      "D:\\Program Files (x86)\\python39\\lib\\site-packages\\pandas\\core\\indexing.py:1667: SettingWithCopyWarning: \n",
      "A value is trying to be set on a copy of a slice from a DataFrame.\n",
      "Try using .loc[row_indexer,col_indexer] = value instead\n",
      "\n",
      "See the caveats in the documentation: https://pandas.pydata.org/pandas-docs/stable/user_guide/indexing.html#returning-a-view-versus-a-copy\n",
      "  self.obj[key] = value\n"
     ]
    },
    {
     "data": {
      "text/plain": "                  cdr3           v.segm     j.segm          mhc.a  \\\n0        CIVRAPGRADMRF      TRAV26-1*01  TRAJ43*01       HLA-B*08   \n3       CAVPSGAGSYQLTF        TRAV20*01  TRAJ28*01       HLA-B*08   \n7        CAYRPPGTYKYIF  TRAV38-2/DV8*01  TRAJ40*01       HLA-B*08   \n680      CAYTVLGNEKLTF      TRAV38-1*01  TRAJ48*01       HLA-A*02   \n682    CAVAGYGGSQGNLIF      TRAV12-2*01  TRAJ42*01       HLA-A*02   \n...                ...              ...        ...            ...   \n92344  CAGQLYGGSQGNLIF        TRAV35*01  TRAJ42*01  HLA-DPA*01:03   \n92346  CAGLNYGGSQGNLIF        TRAV35*01  TRAJ42*01  HLA-DPA*01:03   \n92348  CAGLNYGGSQGNLIF        TRAV35*01  TRAJ42*01  HLA-DPA*01:03   \n92351  CAALNYGGSQGNLIF        TRAV35*01  TRAJ42*01  HLA-DPA*01:03   \n92353  CAGLNYGGSQGNLIF        TRAV35*01  TRAJ42*01  HLA-DPA*01:03   \n\n               mhc.b mhc.class         epitope   gene      species  \\\n0                B2M      MHCI        FLKEKGGL    Nef        HIV-1   \n3                B2M      MHCI        FLKEKGGL    Nef        HIV-1   \n7                B2M      MHCI        FLKEKGGL    Nef        HIV-1   \n680              B2M      MHCI      ELAGIGILTV  MLANA  HomoSapiens   \n682              B2M      MHCI      ELAGIGILTV  MLANA  HomoSapiens   \n...              ...       ...             ...    ...          ...   \n92344  HLA-DPB*04:01     MHCII  TFEYVSQPFLMDLE  Spike   SARS-CoV-2   \n92346  HLA-DPB*04:01     MHCII  TFEYVSQPFLMDLE  Spike   SARS-CoV-2   \n92348  HLA-DPB*04:01     MHCII  TFEYVSQPFLMDLE  Spike   SARS-CoV-2   \n92351  HLA-DPB*04:01     MHCII  TFEYVSQPFLMDLE  Spike   SARS-CoV-2   \n92353  HLA-DPB*04:01     MHCII  TFEYVSQPFLMDLE  Spike   SARS-CoV-2   \n\n       gene_encoded  species_encoded  mhc.a_encoded  mhc.b_encoded  \n0                17                3             17              0  \n3                17                3             17              0  \n7                17                3             17              0  \n680              11                4              1              0  \n682              11                4              1              0  \n...             ...              ...            ...            ...  \n92344            24                6             34              1  \n92346            24                6             34              1  \n92348            24                6             34              1  \n92351            24                6             34              1  \n92353            24                6             34              1  \n\n[25456 rows x 13 columns]",
      "text/html": "<div>\n<style scoped>\n    .dataframe tbody tr th:only-of-type {\n        vertical-align: middle;\n    }\n\n    .dataframe tbody tr th {\n        vertical-align: top;\n    }\n\n    .dataframe thead th {\n        text-align: right;\n    }\n</style>\n<table border=\"1\" class=\"dataframe\">\n  <thead>\n    <tr style=\"text-align: right;\">\n      <th></th>\n      <th>cdr3</th>\n      <th>v.segm</th>\n      <th>j.segm</th>\n      <th>mhc.a</th>\n      <th>mhc.b</th>\n      <th>mhc.class</th>\n      <th>epitope</th>\n      <th>gene</th>\n      <th>species</th>\n      <th>gene_encoded</th>\n      <th>species_encoded</th>\n      <th>mhc.a_encoded</th>\n      <th>mhc.b_encoded</th>\n    </tr>\n  </thead>\n  <tbody>\n    <tr>\n      <th>0</th>\n      <td>CIVRAPGRADMRF</td>\n      <td>TRAV26-1*01</td>\n      <td>TRAJ43*01</td>\n      <td>HLA-B*08</td>\n      <td>B2M</td>\n      <td>MHCI</td>\n      <td>FLKEKGGL</td>\n      <td>Nef</td>\n      <td>HIV-1</td>\n      <td>17</td>\n      <td>3</td>\n      <td>17</td>\n      <td>0</td>\n    </tr>\n    <tr>\n      <th>3</th>\n      <td>CAVPSGAGSYQLTF</td>\n      <td>TRAV20*01</td>\n      <td>TRAJ28*01</td>\n      <td>HLA-B*08</td>\n      <td>B2M</td>\n      <td>MHCI</td>\n      <td>FLKEKGGL</td>\n      <td>Nef</td>\n      <td>HIV-1</td>\n      <td>17</td>\n      <td>3</td>\n      <td>17</td>\n      <td>0</td>\n    </tr>\n    <tr>\n      <th>7</th>\n      <td>CAYRPPGTYKYIF</td>\n      <td>TRAV38-2/DV8*01</td>\n      <td>TRAJ40*01</td>\n      <td>HLA-B*08</td>\n      <td>B2M</td>\n      <td>MHCI</td>\n      <td>FLKEKGGL</td>\n      <td>Nef</td>\n      <td>HIV-1</td>\n      <td>17</td>\n      <td>3</td>\n      <td>17</td>\n      <td>0</td>\n    </tr>\n    <tr>\n      <th>680</th>\n      <td>CAYTVLGNEKLTF</td>\n      <td>TRAV38-1*01</td>\n      <td>TRAJ48*01</td>\n      <td>HLA-A*02</td>\n      <td>B2M</td>\n      <td>MHCI</td>\n      <td>ELAGIGILTV</td>\n      <td>MLANA</td>\n      <td>HomoSapiens</td>\n      <td>11</td>\n      <td>4</td>\n      <td>1</td>\n      <td>0</td>\n    </tr>\n    <tr>\n      <th>682</th>\n      <td>CAVAGYGGSQGNLIF</td>\n      <td>TRAV12-2*01</td>\n      <td>TRAJ42*01</td>\n      <td>HLA-A*02</td>\n      <td>B2M</td>\n      <td>MHCI</td>\n      <td>ELAGIGILTV</td>\n      <td>MLANA</td>\n      <td>HomoSapiens</td>\n      <td>11</td>\n      <td>4</td>\n      <td>1</td>\n      <td>0</td>\n    </tr>\n    <tr>\n      <th>...</th>\n      <td>...</td>\n      <td>...</td>\n      <td>...</td>\n      <td>...</td>\n      <td>...</td>\n      <td>...</td>\n      <td>...</td>\n      <td>...</td>\n      <td>...</td>\n      <td>...</td>\n      <td>...</td>\n      <td>...</td>\n      <td>...</td>\n    </tr>\n    <tr>\n      <th>92344</th>\n      <td>CAGQLYGGSQGNLIF</td>\n      <td>TRAV35*01</td>\n      <td>TRAJ42*01</td>\n      <td>HLA-DPA*01:03</td>\n      <td>HLA-DPB*04:01</td>\n      <td>MHCII</td>\n      <td>TFEYVSQPFLMDLE</td>\n      <td>Spike</td>\n      <td>SARS-CoV-2</td>\n      <td>24</td>\n      <td>6</td>\n      <td>34</td>\n      <td>1</td>\n    </tr>\n    <tr>\n      <th>92346</th>\n      <td>CAGLNYGGSQGNLIF</td>\n      <td>TRAV35*01</td>\n      <td>TRAJ42*01</td>\n      <td>HLA-DPA*01:03</td>\n      <td>HLA-DPB*04:01</td>\n      <td>MHCII</td>\n      <td>TFEYVSQPFLMDLE</td>\n      <td>Spike</td>\n      <td>SARS-CoV-2</td>\n      <td>24</td>\n      <td>6</td>\n      <td>34</td>\n      <td>1</td>\n    </tr>\n    <tr>\n      <th>92348</th>\n      <td>CAGLNYGGSQGNLIF</td>\n      <td>TRAV35*01</td>\n      <td>TRAJ42*01</td>\n      <td>HLA-DPA*01:03</td>\n      <td>HLA-DPB*04:01</td>\n      <td>MHCII</td>\n      <td>TFEYVSQPFLMDLE</td>\n      <td>Spike</td>\n      <td>SARS-CoV-2</td>\n      <td>24</td>\n      <td>6</td>\n      <td>34</td>\n      <td>1</td>\n    </tr>\n    <tr>\n      <th>92351</th>\n      <td>CAALNYGGSQGNLIF</td>\n      <td>TRAV35*01</td>\n      <td>TRAJ42*01</td>\n      <td>HLA-DPA*01:03</td>\n      <td>HLA-DPB*04:01</td>\n      <td>MHCII</td>\n      <td>TFEYVSQPFLMDLE</td>\n      <td>Spike</td>\n      <td>SARS-CoV-2</td>\n      <td>24</td>\n      <td>6</td>\n      <td>34</td>\n      <td>1</td>\n    </tr>\n    <tr>\n      <th>92353</th>\n      <td>CAGLNYGGSQGNLIF</td>\n      <td>TRAV35*01</td>\n      <td>TRAJ42*01</td>\n      <td>HLA-DPA*01:03</td>\n      <td>HLA-DPB*04:01</td>\n      <td>MHCII</td>\n      <td>TFEYVSQPFLMDLE</td>\n      <td>Spike</td>\n      <td>SARS-CoV-2</td>\n      <td>24</td>\n      <td>6</td>\n      <td>34</td>\n      <td>1</td>\n    </tr>\n  </tbody>\n</table>\n<p>25456 rows × 13 columns</p>\n</div>"
     },
     "execution_count": 35,
     "metadata": {},
     "output_type": "execute_result"
    }
   ],
   "source": [
    "import pandas as pd\n",
    "from sklearn.preprocessing import LabelEncoder\n",
    "\n",
    "# Initialize the label encoder\n",
    "label_encoder = LabelEncoder()\n",
    "\n",
    "# Fit and transform 'gene' column\n",
    "# Note: It's important to fit a new instance of LabelEncoder for each distinct column.\n",
    "df_alpha.loc[:,'mhc.a_encoded'] = LabelEncoder().fit_transform(df_alpha['mhc.a'])\n",
    "\n",
    "# Fit and transform 'species' column\n",
    "df_alpha.loc[:,'mhc.b_encoded'] = LabelEncoder().fit_transform(df_alpha['mhc.b'])\n",
    "\n",
    "# Now df contains the new encoded columns: 'gene_encoded' and 'species_encoded'\n",
    "df_alpha"
   ]
  },
  {
   "cell_type": "markdown",
   "id": "bb7184f0",
   "metadata": {},
   "source": [
    "BINARY ENCODING ON THE 'mhc.class' column"
   ]
  },
  {
   "cell_type": "code",
   "execution_count": 36,
   "id": "03afc71f",
   "metadata": {
    "ExecuteTime": {
     "end_time": "2024-04-27T19:43:59.811685Z",
     "start_time": "2024-04-27T19:43:59.782248Z"
    }
   },
   "outputs": [
    {
     "name": "stderr",
     "output_type": "stream",
     "text": [
      "C:\\Users\\xujiadong\\AppData\\Local\\Temp\\ipykernel_23252\\513776290.py:2: SettingWithCopyWarning: \n",
      "A value is trying to be set on a copy of a slice from a DataFrame.\n",
      "Try using .loc[row_indexer,col_indexer] = value instead\n",
      "\n",
      "See the caveats in the documentation: https://pandas.pydata.org/pandas-docs/stable/user_guide/indexing.html#returning-a-view-versus-a-copy\n",
      "  df_alpha['mhc.class_encoded'] = df_alpha['mhc.class'].map({'MHCI': 0, 'MHCII': 1})\n"
     ]
    },
    {
     "data": {
      "text/plain": "                  cdr3           v.segm     j.segm          mhc.a  \\\n0        CIVRAPGRADMRF      TRAV26-1*01  TRAJ43*01       HLA-B*08   \n3       CAVPSGAGSYQLTF        TRAV20*01  TRAJ28*01       HLA-B*08   \n7        CAYRPPGTYKYIF  TRAV38-2/DV8*01  TRAJ40*01       HLA-B*08   \n680      CAYTVLGNEKLTF      TRAV38-1*01  TRAJ48*01       HLA-A*02   \n682    CAVAGYGGSQGNLIF      TRAV12-2*01  TRAJ42*01       HLA-A*02   \n...                ...              ...        ...            ...   \n92344  CAGQLYGGSQGNLIF        TRAV35*01  TRAJ42*01  HLA-DPA*01:03   \n92346  CAGLNYGGSQGNLIF        TRAV35*01  TRAJ42*01  HLA-DPA*01:03   \n92348  CAGLNYGGSQGNLIF        TRAV35*01  TRAJ42*01  HLA-DPA*01:03   \n92351  CAALNYGGSQGNLIF        TRAV35*01  TRAJ42*01  HLA-DPA*01:03   \n92353  CAGLNYGGSQGNLIF        TRAV35*01  TRAJ42*01  HLA-DPA*01:03   \n\n               mhc.b mhc.class         epitope   gene      species  \\\n0                B2M      MHCI        FLKEKGGL    Nef        HIV-1   \n3                B2M      MHCI        FLKEKGGL    Nef        HIV-1   \n7                B2M      MHCI        FLKEKGGL    Nef        HIV-1   \n680              B2M      MHCI      ELAGIGILTV  MLANA  HomoSapiens   \n682              B2M      MHCI      ELAGIGILTV  MLANA  HomoSapiens   \n...              ...       ...             ...    ...          ...   \n92344  HLA-DPB*04:01     MHCII  TFEYVSQPFLMDLE  Spike   SARS-CoV-2   \n92346  HLA-DPB*04:01     MHCII  TFEYVSQPFLMDLE  Spike   SARS-CoV-2   \n92348  HLA-DPB*04:01     MHCII  TFEYVSQPFLMDLE  Spike   SARS-CoV-2   \n92351  HLA-DPB*04:01     MHCII  TFEYVSQPFLMDLE  Spike   SARS-CoV-2   \n92353  HLA-DPB*04:01     MHCII  TFEYVSQPFLMDLE  Spike   SARS-CoV-2   \n\n       gene_encoded  species_encoded  mhc.a_encoded  mhc.b_encoded  \\\n0                17                3             17              0   \n3                17                3             17              0   \n7                17                3             17              0   \n680              11                4              1              0   \n682              11                4              1              0   \n...             ...              ...            ...            ...   \n92344            24                6             34              1   \n92346            24                6             34              1   \n92348            24                6             34              1   \n92351            24                6             34              1   \n92353            24                6             34              1   \n\n       mhc.class_encoded  \n0                      0  \n3                      0  \n7                      0  \n680                    0  \n682                    0  \n...                  ...  \n92344                  1  \n92346                  1  \n92348                  1  \n92351                  1  \n92353                  1  \n\n[25456 rows x 14 columns]",
      "text/html": "<div>\n<style scoped>\n    .dataframe tbody tr th:only-of-type {\n        vertical-align: middle;\n    }\n\n    .dataframe tbody tr th {\n        vertical-align: top;\n    }\n\n    .dataframe thead th {\n        text-align: right;\n    }\n</style>\n<table border=\"1\" class=\"dataframe\">\n  <thead>\n    <tr style=\"text-align: right;\">\n      <th></th>\n      <th>cdr3</th>\n      <th>v.segm</th>\n      <th>j.segm</th>\n      <th>mhc.a</th>\n      <th>mhc.b</th>\n      <th>mhc.class</th>\n      <th>epitope</th>\n      <th>gene</th>\n      <th>species</th>\n      <th>gene_encoded</th>\n      <th>species_encoded</th>\n      <th>mhc.a_encoded</th>\n      <th>mhc.b_encoded</th>\n      <th>mhc.class_encoded</th>\n    </tr>\n  </thead>\n  <tbody>\n    <tr>\n      <th>0</th>\n      <td>CIVRAPGRADMRF</td>\n      <td>TRAV26-1*01</td>\n      <td>TRAJ43*01</td>\n      <td>HLA-B*08</td>\n      <td>B2M</td>\n      <td>MHCI</td>\n      <td>FLKEKGGL</td>\n      <td>Nef</td>\n      <td>HIV-1</td>\n      <td>17</td>\n      <td>3</td>\n      <td>17</td>\n      <td>0</td>\n      <td>0</td>\n    </tr>\n    <tr>\n      <th>3</th>\n      <td>CAVPSGAGSYQLTF</td>\n      <td>TRAV20*01</td>\n      <td>TRAJ28*01</td>\n      <td>HLA-B*08</td>\n      <td>B2M</td>\n      <td>MHCI</td>\n      <td>FLKEKGGL</td>\n      <td>Nef</td>\n      <td>HIV-1</td>\n      <td>17</td>\n      <td>3</td>\n      <td>17</td>\n      <td>0</td>\n      <td>0</td>\n    </tr>\n    <tr>\n      <th>7</th>\n      <td>CAYRPPGTYKYIF</td>\n      <td>TRAV38-2/DV8*01</td>\n      <td>TRAJ40*01</td>\n      <td>HLA-B*08</td>\n      <td>B2M</td>\n      <td>MHCI</td>\n      <td>FLKEKGGL</td>\n      <td>Nef</td>\n      <td>HIV-1</td>\n      <td>17</td>\n      <td>3</td>\n      <td>17</td>\n      <td>0</td>\n      <td>0</td>\n    </tr>\n    <tr>\n      <th>680</th>\n      <td>CAYTVLGNEKLTF</td>\n      <td>TRAV38-1*01</td>\n      <td>TRAJ48*01</td>\n      <td>HLA-A*02</td>\n      <td>B2M</td>\n      <td>MHCI</td>\n      <td>ELAGIGILTV</td>\n      <td>MLANA</td>\n      <td>HomoSapiens</td>\n      <td>11</td>\n      <td>4</td>\n      <td>1</td>\n      <td>0</td>\n      <td>0</td>\n    </tr>\n    <tr>\n      <th>682</th>\n      <td>CAVAGYGGSQGNLIF</td>\n      <td>TRAV12-2*01</td>\n      <td>TRAJ42*01</td>\n      <td>HLA-A*02</td>\n      <td>B2M</td>\n      <td>MHCI</td>\n      <td>ELAGIGILTV</td>\n      <td>MLANA</td>\n      <td>HomoSapiens</td>\n      <td>11</td>\n      <td>4</td>\n      <td>1</td>\n      <td>0</td>\n      <td>0</td>\n    </tr>\n    <tr>\n      <th>...</th>\n      <td>...</td>\n      <td>...</td>\n      <td>...</td>\n      <td>...</td>\n      <td>...</td>\n      <td>...</td>\n      <td>...</td>\n      <td>...</td>\n      <td>...</td>\n      <td>...</td>\n      <td>...</td>\n      <td>...</td>\n      <td>...</td>\n      <td>...</td>\n    </tr>\n    <tr>\n      <th>92344</th>\n      <td>CAGQLYGGSQGNLIF</td>\n      <td>TRAV35*01</td>\n      <td>TRAJ42*01</td>\n      <td>HLA-DPA*01:03</td>\n      <td>HLA-DPB*04:01</td>\n      <td>MHCII</td>\n      <td>TFEYVSQPFLMDLE</td>\n      <td>Spike</td>\n      <td>SARS-CoV-2</td>\n      <td>24</td>\n      <td>6</td>\n      <td>34</td>\n      <td>1</td>\n      <td>1</td>\n    </tr>\n    <tr>\n      <th>92346</th>\n      <td>CAGLNYGGSQGNLIF</td>\n      <td>TRAV35*01</td>\n      <td>TRAJ42*01</td>\n      <td>HLA-DPA*01:03</td>\n      <td>HLA-DPB*04:01</td>\n      <td>MHCII</td>\n      <td>TFEYVSQPFLMDLE</td>\n      <td>Spike</td>\n      <td>SARS-CoV-2</td>\n      <td>24</td>\n      <td>6</td>\n      <td>34</td>\n      <td>1</td>\n      <td>1</td>\n    </tr>\n    <tr>\n      <th>92348</th>\n      <td>CAGLNYGGSQGNLIF</td>\n      <td>TRAV35*01</td>\n      <td>TRAJ42*01</td>\n      <td>HLA-DPA*01:03</td>\n      <td>HLA-DPB*04:01</td>\n      <td>MHCII</td>\n      <td>TFEYVSQPFLMDLE</td>\n      <td>Spike</td>\n      <td>SARS-CoV-2</td>\n      <td>24</td>\n      <td>6</td>\n      <td>34</td>\n      <td>1</td>\n      <td>1</td>\n    </tr>\n    <tr>\n      <th>92351</th>\n      <td>CAALNYGGSQGNLIF</td>\n      <td>TRAV35*01</td>\n      <td>TRAJ42*01</td>\n      <td>HLA-DPA*01:03</td>\n      <td>HLA-DPB*04:01</td>\n      <td>MHCII</td>\n      <td>TFEYVSQPFLMDLE</td>\n      <td>Spike</td>\n      <td>SARS-CoV-2</td>\n      <td>24</td>\n      <td>6</td>\n      <td>34</td>\n      <td>1</td>\n      <td>1</td>\n    </tr>\n    <tr>\n      <th>92353</th>\n      <td>CAGLNYGGSQGNLIF</td>\n      <td>TRAV35*01</td>\n      <td>TRAJ42*01</td>\n      <td>HLA-DPA*01:03</td>\n      <td>HLA-DPB*04:01</td>\n      <td>MHCII</td>\n      <td>TFEYVSQPFLMDLE</td>\n      <td>Spike</td>\n      <td>SARS-CoV-2</td>\n      <td>24</td>\n      <td>6</td>\n      <td>34</td>\n      <td>1</td>\n      <td>1</td>\n    </tr>\n  </tbody>\n</table>\n<p>25456 rows × 14 columns</p>\n</div>"
     },
     "execution_count": 36,
     "metadata": {},
     "output_type": "execute_result"
    }
   ],
   "source": [
    "# Assuming 'df_alpha' is your DataFrame and 'mhc.class' is the column to encode\n",
    "df_alpha['mhc.class_encoded'] = df_alpha['mhc.class'].map({'MHCI': 0, 'MHCII': 1})\n",
    "df_alpha"
   ]
  },
  {
   "cell_type": "markdown",
   "id": "1e8fef0e",
   "metadata": {},
   "source": [
    "LABEL ENCODING ON THE 'v.segm' AND 'j.segm' COLUMN"
   ]
  },
  {
   "cell_type": "code",
   "execution_count": 37,
   "id": "dd68df64",
   "metadata": {
    "ExecuteTime": {
     "end_time": "2024-04-27T19:43:59.859562Z",
     "start_time": "2024-04-27T19:43:59.813683Z"
    }
   },
   "outputs": [
    {
     "name": "stderr",
     "output_type": "stream",
     "text": [
      "D:\\Program Files (x86)\\python39\\lib\\site-packages\\pandas\\core\\indexing.py:1667: SettingWithCopyWarning: \n",
      "A value is trying to be set on a copy of a slice from a DataFrame.\n",
      "Try using .loc[row_indexer,col_indexer] = value instead\n",
      "\n",
      "See the caveats in the documentation: https://pandas.pydata.org/pandas-docs/stable/user_guide/indexing.html#returning-a-view-versus-a-copy\n",
      "  self.obj[key] = value\n"
     ]
    },
    {
     "data": {
      "text/plain": "                  cdr3           v.segm     j.segm          mhc.a  \\\n0        CIVRAPGRADMRF      TRAV26-1*01  TRAJ43*01       HLA-B*08   \n3       CAVPSGAGSYQLTF        TRAV20*01  TRAJ28*01       HLA-B*08   \n7        CAYRPPGTYKYIF  TRAV38-2/DV8*01  TRAJ40*01       HLA-B*08   \n680      CAYTVLGNEKLTF      TRAV38-1*01  TRAJ48*01       HLA-A*02   \n682    CAVAGYGGSQGNLIF      TRAV12-2*01  TRAJ42*01       HLA-A*02   \n...                ...              ...        ...            ...   \n92344  CAGQLYGGSQGNLIF        TRAV35*01  TRAJ42*01  HLA-DPA*01:03   \n92346  CAGLNYGGSQGNLIF        TRAV35*01  TRAJ42*01  HLA-DPA*01:03   \n92348  CAGLNYGGSQGNLIF        TRAV35*01  TRAJ42*01  HLA-DPA*01:03   \n92351  CAALNYGGSQGNLIF        TRAV35*01  TRAJ42*01  HLA-DPA*01:03   \n92353  CAGLNYGGSQGNLIF        TRAV35*01  TRAJ42*01  HLA-DPA*01:03   \n\n               mhc.b mhc.class         epitope   gene      species  \\\n0                B2M      MHCI        FLKEKGGL    Nef        HIV-1   \n3                B2M      MHCI        FLKEKGGL    Nef        HIV-1   \n7                B2M      MHCI        FLKEKGGL    Nef        HIV-1   \n680              B2M      MHCI      ELAGIGILTV  MLANA  HomoSapiens   \n682              B2M      MHCI      ELAGIGILTV  MLANA  HomoSapiens   \n...              ...       ...             ...    ...          ...   \n92344  HLA-DPB*04:01     MHCII  TFEYVSQPFLMDLE  Spike   SARS-CoV-2   \n92346  HLA-DPB*04:01     MHCII  TFEYVSQPFLMDLE  Spike   SARS-CoV-2   \n92348  HLA-DPB*04:01     MHCII  TFEYVSQPFLMDLE  Spike   SARS-CoV-2   \n92351  HLA-DPB*04:01     MHCII  TFEYVSQPFLMDLE  Spike   SARS-CoV-2   \n92353  HLA-DPB*04:01     MHCII  TFEYVSQPFLMDLE  Spike   SARS-CoV-2   \n\n       gene_encoded  species_encoded  mhc.a_encoded  mhc.b_encoded  \\\n0                17                3             17              0   \n3                17                3             17              0   \n7                17                3             17              0   \n680              11                4              1              0   \n682              11                4              1              0   \n...             ...              ...            ...            ...   \n92344            24                6             34              1   \n92346            24                6             34              1   \n92348            24                6             34              1   \n92351            24                6             34              1   \n92353            24                6             34              1   \n\n       mhc.class_encoded  v.segm_encoded  j.segm_encoded  \n0                      0              21              33  \n3                      0              15              17  \n7                      0              31              30  \n680                    0              30              38  \n682                    0               4              32  \n...                  ...             ...             ...  \n92344                  1              28              32  \n92346                  1              28              32  \n92348                  1              28              32  \n92351                  1              28              32  \n92353                  1              28              32  \n\n[25456 rows x 16 columns]",
      "text/html": "<div>\n<style scoped>\n    .dataframe tbody tr th:only-of-type {\n        vertical-align: middle;\n    }\n\n    .dataframe tbody tr th {\n        vertical-align: top;\n    }\n\n    .dataframe thead th {\n        text-align: right;\n    }\n</style>\n<table border=\"1\" class=\"dataframe\">\n  <thead>\n    <tr style=\"text-align: right;\">\n      <th></th>\n      <th>cdr3</th>\n      <th>v.segm</th>\n      <th>j.segm</th>\n      <th>mhc.a</th>\n      <th>mhc.b</th>\n      <th>mhc.class</th>\n      <th>epitope</th>\n      <th>gene</th>\n      <th>species</th>\n      <th>gene_encoded</th>\n      <th>species_encoded</th>\n      <th>mhc.a_encoded</th>\n      <th>mhc.b_encoded</th>\n      <th>mhc.class_encoded</th>\n      <th>v.segm_encoded</th>\n      <th>j.segm_encoded</th>\n    </tr>\n  </thead>\n  <tbody>\n    <tr>\n      <th>0</th>\n      <td>CIVRAPGRADMRF</td>\n      <td>TRAV26-1*01</td>\n      <td>TRAJ43*01</td>\n      <td>HLA-B*08</td>\n      <td>B2M</td>\n      <td>MHCI</td>\n      <td>FLKEKGGL</td>\n      <td>Nef</td>\n      <td>HIV-1</td>\n      <td>17</td>\n      <td>3</td>\n      <td>17</td>\n      <td>0</td>\n      <td>0</td>\n      <td>21</td>\n      <td>33</td>\n    </tr>\n    <tr>\n      <th>3</th>\n      <td>CAVPSGAGSYQLTF</td>\n      <td>TRAV20*01</td>\n      <td>TRAJ28*01</td>\n      <td>HLA-B*08</td>\n      <td>B2M</td>\n      <td>MHCI</td>\n      <td>FLKEKGGL</td>\n      <td>Nef</td>\n      <td>HIV-1</td>\n      <td>17</td>\n      <td>3</td>\n      <td>17</td>\n      <td>0</td>\n      <td>0</td>\n      <td>15</td>\n      <td>17</td>\n    </tr>\n    <tr>\n      <th>7</th>\n      <td>CAYRPPGTYKYIF</td>\n      <td>TRAV38-2/DV8*01</td>\n      <td>TRAJ40*01</td>\n      <td>HLA-B*08</td>\n      <td>B2M</td>\n      <td>MHCI</td>\n      <td>FLKEKGGL</td>\n      <td>Nef</td>\n      <td>HIV-1</td>\n      <td>17</td>\n      <td>3</td>\n      <td>17</td>\n      <td>0</td>\n      <td>0</td>\n      <td>31</td>\n      <td>30</td>\n    </tr>\n    <tr>\n      <th>680</th>\n      <td>CAYTVLGNEKLTF</td>\n      <td>TRAV38-1*01</td>\n      <td>TRAJ48*01</td>\n      <td>HLA-A*02</td>\n      <td>B2M</td>\n      <td>MHCI</td>\n      <td>ELAGIGILTV</td>\n      <td>MLANA</td>\n      <td>HomoSapiens</td>\n      <td>11</td>\n      <td>4</td>\n      <td>1</td>\n      <td>0</td>\n      <td>0</td>\n      <td>30</td>\n      <td>38</td>\n    </tr>\n    <tr>\n      <th>682</th>\n      <td>CAVAGYGGSQGNLIF</td>\n      <td>TRAV12-2*01</td>\n      <td>TRAJ42*01</td>\n      <td>HLA-A*02</td>\n      <td>B2M</td>\n      <td>MHCI</td>\n      <td>ELAGIGILTV</td>\n      <td>MLANA</td>\n      <td>HomoSapiens</td>\n      <td>11</td>\n      <td>4</td>\n      <td>1</td>\n      <td>0</td>\n      <td>0</td>\n      <td>4</td>\n      <td>32</td>\n    </tr>\n    <tr>\n      <th>...</th>\n      <td>...</td>\n      <td>...</td>\n      <td>...</td>\n      <td>...</td>\n      <td>...</td>\n      <td>...</td>\n      <td>...</td>\n      <td>...</td>\n      <td>...</td>\n      <td>...</td>\n      <td>...</td>\n      <td>...</td>\n      <td>...</td>\n      <td>...</td>\n      <td>...</td>\n      <td>...</td>\n    </tr>\n    <tr>\n      <th>92344</th>\n      <td>CAGQLYGGSQGNLIF</td>\n      <td>TRAV35*01</td>\n      <td>TRAJ42*01</td>\n      <td>HLA-DPA*01:03</td>\n      <td>HLA-DPB*04:01</td>\n      <td>MHCII</td>\n      <td>TFEYVSQPFLMDLE</td>\n      <td>Spike</td>\n      <td>SARS-CoV-2</td>\n      <td>24</td>\n      <td>6</td>\n      <td>34</td>\n      <td>1</td>\n      <td>1</td>\n      <td>28</td>\n      <td>32</td>\n    </tr>\n    <tr>\n      <th>92346</th>\n      <td>CAGLNYGGSQGNLIF</td>\n      <td>TRAV35*01</td>\n      <td>TRAJ42*01</td>\n      <td>HLA-DPA*01:03</td>\n      <td>HLA-DPB*04:01</td>\n      <td>MHCII</td>\n      <td>TFEYVSQPFLMDLE</td>\n      <td>Spike</td>\n      <td>SARS-CoV-2</td>\n      <td>24</td>\n      <td>6</td>\n      <td>34</td>\n      <td>1</td>\n      <td>1</td>\n      <td>28</td>\n      <td>32</td>\n    </tr>\n    <tr>\n      <th>92348</th>\n      <td>CAGLNYGGSQGNLIF</td>\n      <td>TRAV35*01</td>\n      <td>TRAJ42*01</td>\n      <td>HLA-DPA*01:03</td>\n      <td>HLA-DPB*04:01</td>\n      <td>MHCII</td>\n      <td>TFEYVSQPFLMDLE</td>\n      <td>Spike</td>\n      <td>SARS-CoV-2</td>\n      <td>24</td>\n      <td>6</td>\n      <td>34</td>\n      <td>1</td>\n      <td>1</td>\n      <td>28</td>\n      <td>32</td>\n    </tr>\n    <tr>\n      <th>92351</th>\n      <td>CAALNYGGSQGNLIF</td>\n      <td>TRAV35*01</td>\n      <td>TRAJ42*01</td>\n      <td>HLA-DPA*01:03</td>\n      <td>HLA-DPB*04:01</td>\n      <td>MHCII</td>\n      <td>TFEYVSQPFLMDLE</td>\n      <td>Spike</td>\n      <td>SARS-CoV-2</td>\n      <td>24</td>\n      <td>6</td>\n      <td>34</td>\n      <td>1</td>\n      <td>1</td>\n      <td>28</td>\n      <td>32</td>\n    </tr>\n    <tr>\n      <th>92353</th>\n      <td>CAGLNYGGSQGNLIF</td>\n      <td>TRAV35*01</td>\n      <td>TRAJ42*01</td>\n      <td>HLA-DPA*01:03</td>\n      <td>HLA-DPB*04:01</td>\n      <td>MHCII</td>\n      <td>TFEYVSQPFLMDLE</td>\n      <td>Spike</td>\n      <td>SARS-CoV-2</td>\n      <td>24</td>\n      <td>6</td>\n      <td>34</td>\n      <td>1</td>\n      <td>1</td>\n      <td>28</td>\n      <td>32</td>\n    </tr>\n  </tbody>\n</table>\n<p>25456 rows × 16 columns</p>\n</div>"
     },
     "execution_count": 37,
     "metadata": {},
     "output_type": "execute_result"
    }
   ],
   "source": [
    "import pandas as pd\n",
    "from sklearn.preprocessing import LabelEncoder\n",
    "\n",
    "# Initialize the label encoder\n",
    "label_encoder = LabelEncoder()\n",
    "\n",
    "# Fit and transform 'gene' column\n",
    "# Note: It's important to fit a new instance of LabelEncoder for each distinct column.\n",
    "df_alpha.loc[:,'v.segm_encoded'] = LabelEncoder().fit_transform(df_alpha['v.segm'])\n",
    "\n",
    "# Fit and transform 'species' column\n",
    "df_alpha.loc[:,'j.segm_encoded'] = LabelEncoder().fit_transform(df_alpha['j.segm'])\n",
    "\n",
    "# Now df contains the new encoded columns: 'gene_encoded' and 'species_encoded'\n",
    "df_alpha"
   ]
  },
  {
   "cell_type": "markdown",
   "id": "8917dd73",
   "metadata": {},
   "source": [
    "BLOSUM 62 ON THE 'CDR3' COLUMN"
   ]
  },
  {
   "cell_type": "code",
   "execution_count": 38,
   "id": "19d00808",
   "metadata": {
    "ExecuteTime": {
     "end_time": "2024-04-27T19:44:02.106981Z",
     "start_time": "2024-04-27T19:43:59.863552Z"
    }
   },
   "outputs": [
    {
     "name": "stdout",
     "output_type": "stream",
     "text": [
      "0        [0.0, -3.0, -3.0, -3.0, 9.0, -3.0, -4.0, -3.0,...\n",
      "3        [0.0, -3.0, -3.0, -3.0, 9.0, -3.0, -4.0, -3.0,...\n",
      "7        [0.0, -3.0, -3.0, -3.0, 9.0, -3.0, -4.0, -3.0,...\n",
      "680      [0.0, -3.0, -3.0, -3.0, 9.0, -3.0, -4.0, -3.0,...\n",
      "682      [0.0, -3.0, -3.0, -3.0, 9.0, -3.0, -4.0, -3.0,...\n",
      "                               ...                        \n",
      "92344    [0.0, -3.0, -3.0, -3.0, 9.0, -3.0, -4.0, -3.0,...\n",
      "92346    [0.0, -3.0, -3.0, -3.0, 9.0, -3.0, -4.0, -3.0,...\n",
      "92348    [0.0, -3.0, -3.0, -3.0, 9.0, -3.0, -4.0, -3.0,...\n",
      "92351    [0.0, -3.0, -3.0, -3.0, 9.0, -3.0, -4.0, -3.0,...\n",
      "92353    [0.0, -3.0, -3.0, -3.0, 9.0, -3.0, -4.0, -3.0,...\n",
      "Name: cdr3, Length: 25456, dtype: object\n"
     ]
    }
   ],
   "source": [
    "import pandas as pd\n",
    "import numpy as np\n",
    "from Bio.Align import substitution_matrices\n",
    "\n",
    "\n",
    "# Load the BLOSUM62 matrix\n",
    "blosum62 = substitution_matrices.load(\"BLOSUM62\")\n",
    "\n",
    "# Define the encoding function\n",
    "def encode_sequence_with_blosum62(sequence, blosum62_matrix):\n",
    "    # Initialize an empty list to store the encoded sequence\n",
    "    encoded_sequence = []\n",
    "    # Iterate over each amino acid in the sequence\n",
    "    for aa in sequence:\n",
    "        # If the amino acid is in the BLOSUM62 matrix, retrieve its encoding\n",
    "        # If not (e.g., a gap or special character), use a vector of zeros\n",
    "        encoded_sequence.append(blosum62_matrix.get(aa, np.zeros((1, len(blosum62_matrix)))))\n",
    "    # Convert the list of encoded amino acids into a numpy array\n",
    "    return np.concatenate(encoded_sequence)\n",
    "\n",
    "# Apply the function to each cdr3 sequence in the DataFrame\n",
    "cdr3_encoded = df_alpha['cdr3'].apply(lambda x: encode_sequence_with_blosum62(x, blosum62))\n",
    "\n",
    "# Each row in 'cdr3_blosum62_encoded' will now be a flat array of BLOSUM62 scores\n",
    "print(cdr3_encoded)"
   ]
  },
  {
   "cell_type": "code",
   "execution_count": 39,
   "id": "2d212a30",
   "metadata": {
    "ExecuteTime": {
     "end_time": "2024-04-27T19:44:02.142405Z",
     "start_time": "2024-04-27T19:44:02.114960Z"
    }
   },
   "outputs": [
    {
     "name": "stderr",
     "output_type": "stream",
     "text": [
      "D:\\Program Files (x86)\\python39\\lib\\site-packages\\pandas\\core\\indexing.py:1667: SettingWithCopyWarning: \n",
      "A value is trying to be set on a copy of a slice from a DataFrame.\n",
      "Try using .loc[row_indexer,col_indexer] = value instead\n",
      "\n",
      "See the caveats in the documentation: https://pandas.pydata.org/pandas-docs/stable/user_guide/indexing.html#returning-a-view-versus-a-copy\n",
      "  self.obj[key] = value\n"
     ]
    },
    {
     "data": {
      "text/plain": "\"\\n# GIANA encoding\\nfrom encoders.GIANA_encoder import GIANA_encoder_pd\\ndf_alpha.loc[:,'cdr3_encoded'] = GIANA_encoder_pd(df_alpha['cdr3'])\\n\""
     },
     "execution_count": 39,
     "metadata": {},
     "output_type": "execute_result"
    }
   ],
   "source": [
    "# Add the encoded(Blosum62) sequences to the DataFrame\n",
    "# df_alpha.loc[:,'cdr3_encoded'] = cdr3_encoded\n",
    "\n",
    "# GIANA encoding\n",
    "from encoders.GIANA_encoder import GIANA_encoder_pd\n",
    "df_alpha.loc[:,'cdr3_encoded'] = GIANA_encoder_pd(df_alpha['cdr3'])\n",
    "\n",
    "\n"
   ]
  },
  {
   "cell_type": "code",
   "execution_count": 40,
   "id": "17a50ab3",
   "metadata": {
    "ExecuteTime": {
     "end_time": "2024-04-27T19:44:04.023237Z",
     "start_time": "2024-04-27T19:44:02.145398Z"
    }
   },
   "outputs": [
    {
     "ename": "TypeError",
     "evalue": "'LabelEncoder' object is not callable",
     "output_type": "error",
     "traceback": [
      "\u001B[1;31m---------------------------------------------------------------------------\u001B[0m",
      "\u001B[1;31mTypeError\u001B[0m                                 Traceback (most recent call last)",
      "Cell \u001B[1;32mIn[40], line 4\u001B[0m\n\u001B[0;32m      2\u001B[0m \u001B[38;5;28;01mfrom\u001B[39;00m \u001B[38;5;21;01msklearn\u001B[39;00m\u001B[38;5;21;01m.\u001B[39;00m\u001B[38;5;21;01mpreprocessing\u001B[39;00m \u001B[38;5;28;01mimport\u001B[39;00m LabelEncoder\n\u001B[0;32m      3\u001B[0m label_encoder \u001B[38;5;241m=\u001B[39m LabelEncoder()\n\u001B[1;32m----> 4\u001B[0m df_alpha\u001B[38;5;241m.\u001B[39mloc[:,\u001B[38;5;124m'\u001B[39m\u001B[38;5;124mepitope_encoded\u001B[39m\u001B[38;5;124m'\u001B[39m] \u001B[38;5;241m=\u001B[39m \u001B[43mlabel_encoder\u001B[49m\u001B[43m(\u001B[49m\u001B[43m)\u001B[49m\u001B[38;5;241m.\u001B[39mfit_transform(df_alpha[\u001B[38;5;124m'\u001B[39m\u001B[38;5;124mepitope\u001B[39m\u001B[38;5;124m'\u001B[39m])\n",
      "\u001B[1;31mTypeError\u001B[0m: 'LabelEncoder' object is not callable"
     ]
    }
   ],
   "source": [
    "\n"
   ]
  },
  {
   "cell_type": "code",
   "execution_count": null,
   "id": "9ea5f8e4",
   "metadata": {},
   "outputs": [],
   "source": [
    "df_alpha"
   ]
  },
  {
   "cell_type": "code",
   "execution_count": null,
   "id": "4a278bb6",
   "metadata": {
    "ExecuteTime": {
     "end_time": "2024-04-27T19:44:04.027227Z",
     "start_time": "2024-04-27T19:44:04.026230Z"
    }
   },
   "outputs": [],
   "source": [
    "df_alpha.drop(['v.segm','j.segm','mhc.a','mhc.b','mhc.class','gene'], axis=1, inplace=True)"
   ]
  },
  {
   "cell_type": "code",
   "execution_count": null,
   "id": "935c11b4",
   "metadata": {
    "ExecuteTime": {
     "start_time": "2024-04-27T19:44:04.028223Z"
    }
   },
   "outputs": [],
   "source": [
    "df_alpha"
   ]
  }
 ],
 "metadata": {
  "kernelspec": {
   "display_name": "Python 3 (ipykernel)",
   "language": "python",
   "name": "python3"
  },
  "language_info": {
   "codemirror_mode": {
    "name": "ipython",
    "version": 3
   },
   "file_extension": ".py",
   "mimetype": "text/x-python",
   "name": "python",
   "nbconvert_exporter": "python",
   "pygments_lexer": "ipython3",
   "version": "3.11.5"
  }
 },
 "nbformat": 4,
 "nbformat_minor": 5
}
