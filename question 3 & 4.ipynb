{
 "cells": [
  {
   "cell_type": "code",
   "execution_count": 1,
   "id": "fcf17073",
   "metadata": {},
   "outputs": [],
   "source": [
    "import pandas as pd\n",
    "import numpy as np\n",
    "\n",
    "df_alpha = pd.read_csv('cdr3_alpha_df.csv')\n",
    "df_beta = pd.read_csv('cdr3_beta_df.csv')\n",
    "df_combined = pd.read_csv('cdr3_alpha_beta_df.csv')"
   ]
  },
  {
   "cell_type": "code",
   "execution_count": 2,
   "id": "77493a20",
   "metadata": {},
   "outputs": [
    {
     "data": {
      "text/html": [
       "<div>\n",
       "<style scoped>\n",
       "    .dataframe tbody tr th:only-of-type {\n",
       "        vertical-align: middle;\n",
       "    }\n",
       "\n",
       "    .dataframe tbody tr th {\n",
       "        vertical-align: top;\n",
       "    }\n",
       "\n",
       "    .dataframe thead th {\n",
       "        text-align: right;\n",
       "    }\n",
       "</style>\n",
       "<table border=\"1\" class=\"dataframe\">\n",
       "  <thead>\n",
       "    <tr style=\"text-align: right;\">\n",
       "      <th></th>\n",
       "      <th>complex.id</th>\n",
       "      <th>gene</th>\n",
       "      <th>cdr3</th>\n",
       "      <th>v.segm</th>\n",
       "      <th>j.segm</th>\n",
       "      <th>species</th>\n",
       "      <th>mhc.a</th>\n",
       "      <th>mhc.b</th>\n",
       "      <th>mhc.class</th>\n",
       "      <th>antigen.epitope</th>\n",
       "      <th>...</th>\n",
       "      <th>antigen.species</th>\n",
       "      <th>reference.id</th>\n",
       "      <th>method</th>\n",
       "      <th>meta</th>\n",
       "      <th>cdr3fix</th>\n",
       "      <th>vdjdb.score</th>\n",
       "      <th>web.method</th>\n",
       "      <th>web.method.seq</th>\n",
       "      <th>web.cdr3fix.nc</th>\n",
       "      <th>web.cdr3fix.unmp</th>\n",
       "    </tr>\n",
       "  </thead>\n",
       "  <tbody>\n",
       "    <tr>\n",
       "      <th>0</th>\n",
       "      <td>1</td>\n",
       "      <td>TRA</td>\n",
       "      <td>CIVRAPGRADMRF</td>\n",
       "      <td>TRAV26-1*01</td>\n",
       "      <td>TRAJ43*01</td>\n",
       "      <td>HomoSapiens</td>\n",
       "      <td>HLA-B*08</td>\n",
       "      <td>B2M</td>\n",
       "      <td>MHCI</td>\n",
       "      <td>FLKEKGGL</td>\n",
       "      <td>...</td>\n",
       "      <td>HIV-1</td>\n",
       "      <td>PMID:15596521</td>\n",
       "      <td>{\"frequency\": \"\", \"identification\": \"tetramer-...</td>\n",
       "      <td>{\"cell.subset\": \"CD8+\", \"clone.id\": \"\", \"donor...</td>\n",
       "      <td>{\"cdr3\": \"CIVRAPGRADMRF\", \"cdr3_old\": \"CIVRAPG...</td>\n",
       "      <td>2</td>\n",
       "      <td>sort</td>\n",
       "      <td>sanger</td>\n",
       "      <td>no</td>\n",
       "      <td>no</td>\n",
       "    </tr>\n",
       "    <tr>\n",
       "      <th>1</th>\n",
       "      <td>1</td>\n",
       "      <td>TRB</td>\n",
       "      <td>CASSYLPGQGDHYSNQPQHF</td>\n",
       "      <td>TRBV13*01</td>\n",
       "      <td>TRBJ1-5*01</td>\n",
       "      <td>HomoSapiens</td>\n",
       "      <td>HLA-B*08</td>\n",
       "      <td>B2M</td>\n",
       "      <td>MHCI</td>\n",
       "      <td>FLKEKGGL</td>\n",
       "      <td>...</td>\n",
       "      <td>HIV-1</td>\n",
       "      <td>PMID:15596521</td>\n",
       "      <td>{\"frequency\": \"\", \"identification\": \"tetramer-...</td>\n",
       "      <td>{\"cell.subset\": \"CD8+\", \"clone.id\": \"\", \"donor...</td>\n",
       "      <td>{\"cdr3\": \"CASSYLPGQGDHYSNQPQHF\", \"cdr3_old\": \"...</td>\n",
       "      <td>2</td>\n",
       "      <td>sort</td>\n",
       "      <td>sanger</td>\n",
       "      <td>no</td>\n",
       "      <td>no</td>\n",
       "    </tr>\n",
       "    <tr>\n",
       "      <th>2</th>\n",
       "      <td>0</td>\n",
       "      <td>TRB</td>\n",
       "      <td>CASSFEAGQGFFSNQPQHF</td>\n",
       "      <td>TRBV13*01</td>\n",
       "      <td>TRBJ1-5*01</td>\n",
       "      <td>HomoSapiens</td>\n",
       "      <td>HLA-B*08</td>\n",
       "      <td>B2M</td>\n",
       "      <td>MHCI</td>\n",
       "      <td>FLKEKGGL</td>\n",
       "      <td>...</td>\n",
       "      <td>HIV-1</td>\n",
       "      <td>PMID:15596521</td>\n",
       "      <td>{\"frequency\": \"\", \"identification\": \"tetramer-...</td>\n",
       "      <td>{\"cell.subset\": \"CD8+\", \"clone.id\": \"\", \"donor...</td>\n",
       "      <td>{\"cdr3\": \"CASSFEAGQGFFSNQPQHF\", \"cdr3_old\": \"C...</td>\n",
       "      <td>2</td>\n",
       "      <td>sort</td>\n",
       "      <td>sanger</td>\n",
       "      <td>no</td>\n",
       "      <td>no</td>\n",
       "    </tr>\n",
       "    <tr>\n",
       "      <th>3</th>\n",
       "      <td>2</td>\n",
       "      <td>TRA</td>\n",
       "      <td>CAVPSGAGSYQLTF</td>\n",
       "      <td>TRAV20*01</td>\n",
       "      <td>TRAJ28*01</td>\n",
       "      <td>HomoSapiens</td>\n",
       "      <td>HLA-B*08</td>\n",
       "      <td>B2M</td>\n",
       "      <td>MHCI</td>\n",
       "      <td>FLKEKGGL</td>\n",
       "      <td>...</td>\n",
       "      <td>HIV-1</td>\n",
       "      <td>PMID:15596521</td>\n",
       "      <td>{\"frequency\": \"\", \"identification\": \"tetramer-...</td>\n",
       "      <td>{\"cell.subset\": \"CD8+\", \"clone.id\": \"\", \"donor...</td>\n",
       "      <td>{\"cdr3\": \"CAVPSGAGSYQLTF\", \"cdr3_old\": \"CAVPSG...</td>\n",
       "      <td>2</td>\n",
       "      <td>sort</td>\n",
       "      <td>sanger</td>\n",
       "      <td>no</td>\n",
       "      <td>no</td>\n",
       "    </tr>\n",
       "    <tr>\n",
       "      <th>4</th>\n",
       "      <td>2</td>\n",
       "      <td>TRB</td>\n",
       "      <td>CASSFEPGQGFYSNQPQHF</td>\n",
       "      <td>TRBV13*01</td>\n",
       "      <td>TRBJ1-5*01</td>\n",
       "      <td>HomoSapiens</td>\n",
       "      <td>HLA-B*08</td>\n",
       "      <td>B2M</td>\n",
       "      <td>MHCI</td>\n",
       "      <td>FLKEKGGL</td>\n",
       "      <td>...</td>\n",
       "      <td>HIV-1</td>\n",
       "      <td>PMID:15596521</td>\n",
       "      <td>{\"frequency\": \"\", \"identification\": \"tetramer-...</td>\n",
       "      <td>{\"cell.subset\": \"CD8+\", \"clone.id\": \"\", \"donor...</td>\n",
       "      <td>{\"cdr3\": \"CASSFEPGQGFYSNQPQHF\", \"cdr3_old\": \"C...</td>\n",
       "      <td>2</td>\n",
       "      <td>sort</td>\n",
       "      <td>sanger</td>\n",
       "      <td>no</td>\n",
       "      <td>no</td>\n",
       "    </tr>\n",
       "  </tbody>\n",
       "</table>\n",
       "<p>5 rows × 21 columns</p>\n",
       "</div>"
      ],
      "text/plain": [
       "   complex.id gene                  cdr3       v.segm      j.segm  \\\n",
       "0           1  TRA         CIVRAPGRADMRF  TRAV26-1*01   TRAJ43*01   \n",
       "1           1  TRB  CASSYLPGQGDHYSNQPQHF    TRBV13*01  TRBJ1-5*01   \n",
       "2           0  TRB   CASSFEAGQGFFSNQPQHF    TRBV13*01  TRBJ1-5*01   \n",
       "3           2  TRA        CAVPSGAGSYQLTF    TRAV20*01   TRAJ28*01   \n",
       "4           2  TRB   CASSFEPGQGFYSNQPQHF    TRBV13*01  TRBJ1-5*01   \n",
       "\n",
       "       species     mhc.a mhc.b mhc.class antigen.epitope  ... antigen.species  \\\n",
       "0  HomoSapiens  HLA-B*08   B2M      MHCI        FLKEKGGL  ...           HIV-1   \n",
       "1  HomoSapiens  HLA-B*08   B2M      MHCI        FLKEKGGL  ...           HIV-1   \n",
       "2  HomoSapiens  HLA-B*08   B2M      MHCI        FLKEKGGL  ...           HIV-1   \n",
       "3  HomoSapiens  HLA-B*08   B2M      MHCI        FLKEKGGL  ...           HIV-1   \n",
       "4  HomoSapiens  HLA-B*08   B2M      MHCI        FLKEKGGL  ...           HIV-1   \n",
       "\n",
       "    reference.id                                             method  \\\n",
       "0  PMID:15596521  {\"frequency\": \"\", \"identification\": \"tetramer-...   \n",
       "1  PMID:15596521  {\"frequency\": \"\", \"identification\": \"tetramer-...   \n",
       "2  PMID:15596521  {\"frequency\": \"\", \"identification\": \"tetramer-...   \n",
       "3  PMID:15596521  {\"frequency\": \"\", \"identification\": \"tetramer-...   \n",
       "4  PMID:15596521  {\"frequency\": \"\", \"identification\": \"tetramer-...   \n",
       "\n",
       "                                                meta  \\\n",
       "0  {\"cell.subset\": \"CD8+\", \"clone.id\": \"\", \"donor...   \n",
       "1  {\"cell.subset\": \"CD8+\", \"clone.id\": \"\", \"donor...   \n",
       "2  {\"cell.subset\": \"CD8+\", \"clone.id\": \"\", \"donor...   \n",
       "3  {\"cell.subset\": \"CD8+\", \"clone.id\": \"\", \"donor...   \n",
       "4  {\"cell.subset\": \"CD8+\", \"clone.id\": \"\", \"donor...   \n",
       "\n",
       "                                             cdr3fix vdjdb.score  web.method  \\\n",
       "0  {\"cdr3\": \"CIVRAPGRADMRF\", \"cdr3_old\": \"CIVRAPG...           2        sort   \n",
       "1  {\"cdr3\": \"CASSYLPGQGDHYSNQPQHF\", \"cdr3_old\": \"...           2        sort   \n",
       "2  {\"cdr3\": \"CASSFEAGQGFFSNQPQHF\", \"cdr3_old\": \"C...           2        sort   \n",
       "3  {\"cdr3\": \"CAVPSGAGSYQLTF\", \"cdr3_old\": \"CAVPSG...           2        sort   \n",
       "4  {\"cdr3\": \"CASSFEPGQGFYSNQPQHF\", \"cdr3_old\": \"C...           2        sort   \n",
       "\n",
       "  web.method.seq web.cdr3fix.nc web.cdr3fix.unmp  \n",
       "0         sanger             no               no  \n",
       "1         sanger             no               no  \n",
       "2         sanger             no               no  \n",
       "3         sanger             no               no  \n",
       "4         sanger             no               no  \n",
       "\n",
       "[5 rows x 21 columns]"
      ]
     },
     "execution_count": 2,
     "metadata": {},
     "output_type": "execute_result"
    }
   ],
   "source": [
    "df = pd.read_csv('/Users/shalomifernandes/Desktop/UOB/TB2/DSMP/vdjdb.csv')\n",
    "df.head()"
   ]
  },
  {
   "cell_type": "code",
   "execution_count": 3,
   "id": "3a3d7a01",
   "metadata": {},
   "outputs": [
    {
     "data": {
      "text/html": [
       "<div>\n",
       "<style scoped>\n",
       "    .dataframe tbody tr th:only-of-type {\n",
       "        vertical-align: middle;\n",
       "    }\n",
       "\n",
       "    .dataframe tbody tr th {\n",
       "        vertical-align: top;\n",
       "    }\n",
       "\n",
       "    .dataframe thead th {\n",
       "        text-align: right;\n",
       "    }\n",
       "</style>\n",
       "<table border=\"1\" class=\"dataframe\">\n",
       "  <thead>\n",
       "    <tr style=\"text-align: right;\">\n",
       "      <th></th>\n",
       "      <th>complex.id</th>\n",
       "      <th>cdr3_a_aa</th>\n",
       "      <th>v_a_gene</th>\n",
       "      <th>j_a_gene</th>\n",
       "      <th>species</th>\n",
       "      <th>mhc.a</th>\n",
       "      <th>mhc.b</th>\n",
       "      <th>mhc.class</th>\n",
       "      <th>epitope</th>\n",
       "      <th>vdjdb.score</th>\n",
       "    </tr>\n",
       "  </thead>\n",
       "  <tbody>\n",
       "    <tr>\n",
       "      <th>0</th>\n",
       "      <td>1</td>\n",
       "      <td>CIVRAPGRADMRF</td>\n",
       "      <td>TRAV26-1*01</td>\n",
       "      <td>TRAJ43*01</td>\n",
       "      <td>HomoSapiens</td>\n",
       "      <td>HLA-B*08</td>\n",
       "      <td>B2M</td>\n",
       "      <td>MHCI</td>\n",
       "      <td>FLKEKGGL</td>\n",
       "      <td>2</td>\n",
       "    </tr>\n",
       "    <tr>\n",
       "      <th>1</th>\n",
       "      <td>2</td>\n",
       "      <td>CAVPSGAGSYQLTF</td>\n",
       "      <td>TRAV20*01</td>\n",
       "      <td>TRAJ28*01</td>\n",
       "      <td>HomoSapiens</td>\n",
       "      <td>HLA-B*08</td>\n",
       "      <td>B2M</td>\n",
       "      <td>MHCI</td>\n",
       "      <td>FLKEKGGL</td>\n",
       "      <td>2</td>\n",
       "    </tr>\n",
       "    <tr>\n",
       "      <th>2</th>\n",
       "      <td>4</td>\n",
       "      <td>CAYRPPGTYKYIF</td>\n",
       "      <td>TRAV38-2/DV8*01</td>\n",
       "      <td>TRAJ40*01</td>\n",
       "      <td>HomoSapiens</td>\n",
       "      <td>HLA-B*08</td>\n",
       "      <td>B2M</td>\n",
       "      <td>MHCI</td>\n",
       "      <td>FLKEKGGL</td>\n",
       "      <td>2</td>\n",
       "    </tr>\n",
       "    <tr>\n",
       "      <th>3</th>\n",
       "      <td>5</td>\n",
       "      <td>CIVRAPGRADMRF</td>\n",
       "      <td>TRAV26-1*01</td>\n",
       "      <td>TRAJ43*01</td>\n",
       "      <td>HomoSapiens</td>\n",
       "      <td>HLA-B*08</td>\n",
       "      <td>B2M</td>\n",
       "      <td>MHCI</td>\n",
       "      <td>FLKEQGGL</td>\n",
       "      <td>2</td>\n",
       "    </tr>\n",
       "    <tr>\n",
       "      <th>4</th>\n",
       "      <td>6</td>\n",
       "      <td>CAVPSGAGSYQLTF</td>\n",
       "      <td>TRAV20*01</td>\n",
       "      <td>TRAJ28*01</td>\n",
       "      <td>HomoSapiens</td>\n",
       "      <td>HLA-B*08</td>\n",
       "      <td>B2M</td>\n",
       "      <td>MHCI</td>\n",
       "      <td>FLKEQGGL</td>\n",
       "      <td>2</td>\n",
       "    </tr>\n",
       "  </tbody>\n",
       "</table>\n",
       "</div>"
      ],
      "text/plain": [
       "   complex.id       cdr3_a_aa         v_a_gene   j_a_gene      species  \\\n",
       "0           1   CIVRAPGRADMRF      TRAV26-1*01  TRAJ43*01  HomoSapiens   \n",
       "1           2  CAVPSGAGSYQLTF        TRAV20*01  TRAJ28*01  HomoSapiens   \n",
       "2           4   CAYRPPGTYKYIF  TRAV38-2/DV8*01  TRAJ40*01  HomoSapiens   \n",
       "3           5   CIVRAPGRADMRF      TRAV26-1*01  TRAJ43*01  HomoSapiens   \n",
       "4           6  CAVPSGAGSYQLTF        TRAV20*01  TRAJ28*01  HomoSapiens   \n",
       "\n",
       "      mhc.a mhc.b mhc.class   epitope  vdjdb.score  \n",
       "0  HLA-B*08   B2M      MHCI  FLKEKGGL            2  \n",
       "1  HLA-B*08   B2M      MHCI  FLKEKGGL            2  \n",
       "2  HLA-B*08   B2M      MHCI  FLKEKGGL            2  \n",
       "3  HLA-B*08   B2M      MHCI  FLKEQGGL            2  \n",
       "4  HLA-B*08   B2M      MHCI  FLKEQGGL            2  "
      ]
     },
     "execution_count": 3,
     "metadata": {},
     "output_type": "execute_result"
    }
   ],
   "source": [
    "df_alpha.head()"
   ]
  },
  {
   "cell_type": "code",
   "execution_count": 4,
   "id": "671828f9",
   "metadata": {},
   "outputs": [
    {
     "data": {
      "text/html": [
       "<div>\n",
       "<style scoped>\n",
       "    .dataframe tbody tr th:only-of-type {\n",
       "        vertical-align: middle;\n",
       "    }\n",
       "\n",
       "    .dataframe tbody tr th {\n",
       "        vertical-align: top;\n",
       "    }\n",
       "\n",
       "    .dataframe thead th {\n",
       "        text-align: right;\n",
       "    }\n",
       "</style>\n",
       "<table border=\"1\" class=\"dataframe\">\n",
       "  <thead>\n",
       "    <tr style=\"text-align: right;\">\n",
       "      <th></th>\n",
       "      <th>complex.id</th>\n",
       "      <th>cdr3_b_aa</th>\n",
       "      <th>v_b_gene</th>\n",
       "      <th>j_b_gene</th>\n",
       "      <th>species</th>\n",
       "      <th>mhc.a</th>\n",
       "      <th>mhc.b</th>\n",
       "      <th>mhc.class</th>\n",
       "      <th>epitope</th>\n",
       "      <th>vdjdb.score</th>\n",
       "    </tr>\n",
       "  </thead>\n",
       "  <tbody>\n",
       "    <tr>\n",
       "      <th>0</th>\n",
       "      <td>1</td>\n",
       "      <td>CASSYLPGQGDHYSNQPQHF</td>\n",
       "      <td>TRBV13*01</td>\n",
       "      <td>TRBJ1-5*01</td>\n",
       "      <td>HomoSapiens</td>\n",
       "      <td>HLA-B*08</td>\n",
       "      <td>B2M</td>\n",
       "      <td>MHCI</td>\n",
       "      <td>FLKEKGGL</td>\n",
       "      <td>2</td>\n",
       "    </tr>\n",
       "    <tr>\n",
       "      <th>1</th>\n",
       "      <td>2</td>\n",
       "      <td>CASSFEPGQGFYSNQPQHF</td>\n",
       "      <td>TRBV13*01</td>\n",
       "      <td>TRBJ1-5*01</td>\n",
       "      <td>HomoSapiens</td>\n",
       "      <td>HLA-B*08</td>\n",
       "      <td>B2M</td>\n",
       "      <td>MHCI</td>\n",
       "      <td>FLKEKGGL</td>\n",
       "      <td>2</td>\n",
       "    </tr>\n",
       "    <tr>\n",
       "      <th>2</th>\n",
       "      <td>3</td>\n",
       "      <td>CASSYEPGQVSHYSNQPQHF</td>\n",
       "      <td>TRBV13*01</td>\n",
       "      <td>TRBJ1-5*01</td>\n",
       "      <td>HomoSapiens</td>\n",
       "      <td>HLA-B*08</td>\n",
       "      <td>B2M</td>\n",
       "      <td>MHCI</td>\n",
       "      <td>FLKEKGGL</td>\n",
       "      <td>2</td>\n",
       "    </tr>\n",
       "    <tr>\n",
       "      <th>3</th>\n",
       "      <td>4</td>\n",
       "      <td>CASSALASLNEQFF</td>\n",
       "      <td>TRBV14*01</td>\n",
       "      <td>TRBJ2-1*01</td>\n",
       "      <td>HomoSapiens</td>\n",
       "      <td>HLA-B*08</td>\n",
       "      <td>B2M</td>\n",
       "      <td>MHCI</td>\n",
       "      <td>FLKEKGGL</td>\n",
       "      <td>2</td>\n",
       "    </tr>\n",
       "    <tr>\n",
       "      <th>4</th>\n",
       "      <td>5</td>\n",
       "      <td>CASSYLPGQGDHYSNQPQHF</td>\n",
       "      <td>TRBV13*01</td>\n",
       "      <td>TRBJ1-5*01</td>\n",
       "      <td>HomoSapiens</td>\n",
       "      <td>HLA-B*08</td>\n",
       "      <td>B2M</td>\n",
       "      <td>MHCI</td>\n",
       "      <td>FLKEQGGL</td>\n",
       "      <td>2</td>\n",
       "    </tr>\n",
       "  </tbody>\n",
       "</table>\n",
       "</div>"
      ],
      "text/plain": [
       "   complex.id             cdr3_b_aa   v_b_gene    j_b_gene      species  \\\n",
       "0           1  CASSYLPGQGDHYSNQPQHF  TRBV13*01  TRBJ1-5*01  HomoSapiens   \n",
       "1           2   CASSFEPGQGFYSNQPQHF  TRBV13*01  TRBJ1-5*01  HomoSapiens   \n",
       "2           3  CASSYEPGQVSHYSNQPQHF  TRBV13*01  TRBJ1-5*01  HomoSapiens   \n",
       "3           4        CASSALASLNEQFF  TRBV14*01  TRBJ2-1*01  HomoSapiens   \n",
       "4           5  CASSYLPGQGDHYSNQPQHF  TRBV13*01  TRBJ1-5*01  HomoSapiens   \n",
       "\n",
       "      mhc.a mhc.b mhc.class   epitope  vdjdb.score  \n",
       "0  HLA-B*08   B2M      MHCI  FLKEKGGL            2  \n",
       "1  HLA-B*08   B2M      MHCI  FLKEKGGL            2  \n",
       "2  HLA-B*08   B2M      MHCI  FLKEKGGL            2  \n",
       "3  HLA-B*08   B2M      MHCI  FLKEKGGL            2  \n",
       "4  HLA-B*08   B2M      MHCI  FLKEQGGL            2  "
      ]
     },
     "execution_count": 4,
     "metadata": {},
     "output_type": "execute_result"
    }
   ],
   "source": [
    "df_beta.head()"
   ]
  },
  {
   "cell_type": "code",
   "execution_count": 5,
   "id": "8b74faea",
   "metadata": {},
   "outputs": [
    {
     "data": {
      "text/html": [
       "<div>\n",
       "<style scoped>\n",
       "    .dataframe tbody tr th:only-of-type {\n",
       "        vertical-align: middle;\n",
       "    }\n",
       "\n",
       "    .dataframe tbody tr th {\n",
       "        vertical-align: top;\n",
       "    }\n",
       "\n",
       "    .dataframe thead th {\n",
       "        text-align: right;\n",
       "    }\n",
       "</style>\n",
       "<table border=\"1\" class=\"dataframe\">\n",
       "  <thead>\n",
       "    <tr style=\"text-align: right;\">\n",
       "      <th></th>\n",
       "      <th>complex.id</th>\n",
       "      <th>cdr3_a_aa</th>\n",
       "      <th>v_a_gene</th>\n",
       "      <th>j_a_gene</th>\n",
       "      <th>species</th>\n",
       "      <th>mhc.a</th>\n",
       "      <th>mhc.b</th>\n",
       "      <th>mhc.class</th>\n",
       "      <th>epitope</th>\n",
       "      <th>vdjdb.score</th>\n",
       "      <th>cdr3_b_aa</th>\n",
       "      <th>v_b_gene</th>\n",
       "      <th>j_b_gene</th>\n",
       "    </tr>\n",
       "  </thead>\n",
       "  <tbody>\n",
       "    <tr>\n",
       "      <th>0</th>\n",
       "      <td>1</td>\n",
       "      <td>CIVRAPGRADMRF</td>\n",
       "      <td>TRAV26-1*01</td>\n",
       "      <td>TRAJ43*01</td>\n",
       "      <td>HomoSapiens</td>\n",
       "      <td>HLA-B*08</td>\n",
       "      <td>B2M</td>\n",
       "      <td>MHCI</td>\n",
       "      <td>FLKEKGGL</td>\n",
       "      <td>2</td>\n",
       "      <td>CASSYLPGQGDHYSNQPQHF</td>\n",
       "      <td>TRBV13*01</td>\n",
       "      <td>TRBJ1-5*01</td>\n",
       "    </tr>\n",
       "    <tr>\n",
       "      <th>1</th>\n",
       "      <td>2</td>\n",
       "      <td>CAVPSGAGSYQLTF</td>\n",
       "      <td>TRAV20*01</td>\n",
       "      <td>TRAJ28*01</td>\n",
       "      <td>HomoSapiens</td>\n",
       "      <td>HLA-B*08</td>\n",
       "      <td>B2M</td>\n",
       "      <td>MHCI</td>\n",
       "      <td>FLKEKGGL</td>\n",
       "      <td>2</td>\n",
       "      <td>CASSFEPGQGFYSNQPQHF</td>\n",
       "      <td>TRBV13*01</td>\n",
       "      <td>TRBJ1-5*01</td>\n",
       "    </tr>\n",
       "    <tr>\n",
       "      <th>2</th>\n",
       "      <td>4</td>\n",
       "      <td>CAYRPPGTYKYIF</td>\n",
       "      <td>TRAV38-2/DV8*01</td>\n",
       "      <td>TRAJ40*01</td>\n",
       "      <td>HomoSapiens</td>\n",
       "      <td>HLA-B*08</td>\n",
       "      <td>B2M</td>\n",
       "      <td>MHCI</td>\n",
       "      <td>FLKEKGGL</td>\n",
       "      <td>2</td>\n",
       "      <td>CASSALASLNEQFF</td>\n",
       "      <td>TRBV14*01</td>\n",
       "      <td>TRBJ2-1*01</td>\n",
       "    </tr>\n",
       "    <tr>\n",
       "      <th>3</th>\n",
       "      <td>5</td>\n",
       "      <td>CIVRAPGRADMRF</td>\n",
       "      <td>TRAV26-1*01</td>\n",
       "      <td>TRAJ43*01</td>\n",
       "      <td>HomoSapiens</td>\n",
       "      <td>HLA-B*08</td>\n",
       "      <td>B2M</td>\n",
       "      <td>MHCI</td>\n",
       "      <td>FLKEQGGL</td>\n",
       "      <td>2</td>\n",
       "      <td>CASSYLPGQGDHYSNQPQHF</td>\n",
       "      <td>TRBV13*01</td>\n",
       "      <td>TRBJ1-5*01</td>\n",
       "    </tr>\n",
       "    <tr>\n",
       "      <th>4</th>\n",
       "      <td>6</td>\n",
       "      <td>CAVPSGAGSYQLTF</td>\n",
       "      <td>TRAV20*01</td>\n",
       "      <td>TRAJ28*01</td>\n",
       "      <td>HomoSapiens</td>\n",
       "      <td>HLA-B*08</td>\n",
       "      <td>B2M</td>\n",
       "      <td>MHCI</td>\n",
       "      <td>FLKEQGGL</td>\n",
       "      <td>2</td>\n",
       "      <td>CASSFEPGQGFYSNQPQHF</td>\n",
       "      <td>TRBV13*01</td>\n",
       "      <td>TRBJ1-5*01</td>\n",
       "    </tr>\n",
       "  </tbody>\n",
       "</table>\n",
       "</div>"
      ],
      "text/plain": [
       "   complex.id       cdr3_a_aa         v_a_gene   j_a_gene      species  \\\n",
       "0           1   CIVRAPGRADMRF      TRAV26-1*01  TRAJ43*01  HomoSapiens   \n",
       "1           2  CAVPSGAGSYQLTF        TRAV20*01  TRAJ28*01  HomoSapiens   \n",
       "2           4   CAYRPPGTYKYIF  TRAV38-2/DV8*01  TRAJ40*01  HomoSapiens   \n",
       "3           5   CIVRAPGRADMRF      TRAV26-1*01  TRAJ43*01  HomoSapiens   \n",
       "4           6  CAVPSGAGSYQLTF        TRAV20*01  TRAJ28*01  HomoSapiens   \n",
       "\n",
       "      mhc.a mhc.b mhc.class   epitope  vdjdb.score             cdr3_b_aa  \\\n",
       "0  HLA-B*08   B2M      MHCI  FLKEKGGL            2  CASSYLPGQGDHYSNQPQHF   \n",
       "1  HLA-B*08   B2M      MHCI  FLKEKGGL            2   CASSFEPGQGFYSNQPQHF   \n",
       "2  HLA-B*08   B2M      MHCI  FLKEKGGL            2        CASSALASLNEQFF   \n",
       "3  HLA-B*08   B2M      MHCI  FLKEQGGL            2  CASSYLPGQGDHYSNQPQHF   \n",
       "4  HLA-B*08   B2M      MHCI  FLKEQGGL            2   CASSFEPGQGFYSNQPQHF   \n",
       "\n",
       "    v_b_gene    j_b_gene  \n",
       "0  TRBV13*01  TRBJ1-5*01  \n",
       "1  TRBV13*01  TRBJ1-5*01  \n",
       "2  TRBV14*01  TRBJ2-1*01  \n",
       "3  TRBV13*01  TRBJ1-5*01  \n",
       "4  TRBV13*01  TRBJ1-5*01  "
      ]
     },
     "execution_count": 5,
     "metadata": {},
     "output_type": "execute_result"
    }
   ],
   "source": [
    "df_combined.head()"
   ]
  },
  {
   "cell_type": "code",
   "execution_count": 6,
   "id": "80e39042",
   "metadata": {},
   "outputs": [],
   "source": [
    "human_alpha = df_alpha[df_alpha['species'] == 'HomoSapiens']\n",
    "human_beta = df_beta[df_beta['species'] == 'HomoSapiens']\n",
    "human = df_combined[df_combined['species'] == 'HomoSapiens']\n",
    "mouse_alpha = df_alpha[df_alpha['species'] == 'MusMusculus']\n",
    "mouse_beta = df_beta[df_beta['species'] == 'MusMusculus']\n",
    "mouse = df_combined[df_combined['species'] == 'MusMusculus']"
   ]
  },
  {
   "cell_type": "code",
   "execution_count": 7,
   "id": "ad9deda0",
   "metadata": {},
   "outputs": [
    {
     "data": {
      "text/plain": [
       "(   complex.id       cdr3_a_aa         v_a_gene   j_a_gene      species  \\\n",
       " 0           1   CIVRAPGRADMRF      TRAV26-1*01  TRAJ43*01  HomoSapiens   \n",
       " 1           2  CAVPSGAGSYQLTF        TRAV20*01  TRAJ28*01  HomoSapiens   \n",
       " 2           4   CAYRPPGTYKYIF  TRAV38-2/DV8*01  TRAJ40*01  HomoSapiens   \n",
       " 3           5   CIVRAPGRADMRF      TRAV26-1*01  TRAJ43*01  HomoSapiens   \n",
       " 4           6  CAVPSGAGSYQLTF        TRAV20*01  TRAJ28*01  HomoSapiens   \n",
       " \n",
       "       mhc.a mhc.b mhc.class   epitope  vdjdb.score  \n",
       " 0  HLA-B*08   B2M      MHCI  FLKEKGGL            2  \n",
       " 1  HLA-B*08   B2M      MHCI  FLKEKGGL            2  \n",
       " 2  HLA-B*08   B2M      MHCI  FLKEKGGL            2  \n",
       " 3  HLA-B*08   B2M      MHCI  FLKEQGGL            2  \n",
       " 4  HLA-B*08   B2M      MHCI  FLKEQGGL            2  ,\n",
       "    complex.id             cdr3_b_aa   v_b_gene    j_b_gene      species  \\\n",
       " 0           1  CASSYLPGQGDHYSNQPQHF  TRBV13*01  TRBJ1-5*01  HomoSapiens   \n",
       " 1           2   CASSFEPGQGFYSNQPQHF  TRBV13*01  TRBJ1-5*01  HomoSapiens   \n",
       " 2           3  CASSYEPGQVSHYSNQPQHF  TRBV13*01  TRBJ1-5*01  HomoSapiens   \n",
       " 3           4        CASSALASLNEQFF  TRBV14*01  TRBJ2-1*01  HomoSapiens   \n",
       " 4           5  CASSYLPGQGDHYSNQPQHF  TRBV13*01  TRBJ1-5*01  HomoSapiens   \n",
       " \n",
       "       mhc.a mhc.b mhc.class   epitope  vdjdb.score  \n",
       " 0  HLA-B*08   B2M      MHCI  FLKEKGGL            2  \n",
       " 1  HLA-B*08   B2M      MHCI  FLKEKGGL            2  \n",
       " 2  HLA-B*08   B2M      MHCI  FLKEKGGL            2  \n",
       " 3  HLA-B*08   B2M      MHCI  FLKEKGGL            2  \n",
       " 4  HLA-B*08   B2M      MHCI  FLKEQGGL            2  ,\n",
       "    complex.id       cdr3_a_aa         v_a_gene   j_a_gene      species  \\\n",
       " 0           1   CIVRAPGRADMRF      TRAV26-1*01  TRAJ43*01  HomoSapiens   \n",
       " 1           2  CAVPSGAGSYQLTF        TRAV20*01  TRAJ28*01  HomoSapiens   \n",
       " 2           4   CAYRPPGTYKYIF  TRAV38-2/DV8*01  TRAJ40*01  HomoSapiens   \n",
       " 3           5   CIVRAPGRADMRF      TRAV26-1*01  TRAJ43*01  HomoSapiens   \n",
       " 4           6  CAVPSGAGSYQLTF        TRAV20*01  TRAJ28*01  HomoSapiens   \n",
       " \n",
       "       mhc.a mhc.b mhc.class   epitope  vdjdb.score             cdr3_b_aa  \\\n",
       " 0  HLA-B*08   B2M      MHCI  FLKEKGGL            2  CASSYLPGQGDHYSNQPQHF   \n",
       " 1  HLA-B*08   B2M      MHCI  FLKEKGGL            2   CASSFEPGQGFYSNQPQHF   \n",
       " 2  HLA-B*08   B2M      MHCI  FLKEKGGL            2        CASSALASLNEQFF   \n",
       " 3  HLA-B*08   B2M      MHCI  FLKEQGGL            2  CASSYLPGQGDHYSNQPQHF   \n",
       " 4  HLA-B*08   B2M      MHCI  FLKEQGGL            2   CASSFEPGQGFYSNQPQHF   \n",
       " \n",
       "     v_b_gene    j_b_gene  \n",
       " 0  TRBV13*01  TRBJ1-5*01  \n",
       " 1  TRBV13*01  TRBJ1-5*01  \n",
       " 2  TRBV14*01  TRBJ2-1*01  \n",
       " 3  TRBV13*01  TRBJ1-5*01  \n",
       " 4  TRBV13*01  TRBJ1-5*01  )"
      ]
     },
     "execution_count": 7,
     "metadata": {},
     "output_type": "execute_result"
    }
   ],
   "source": [
    "human_alpha.head(), human_beta.head(), human.head()"
   ]
  },
  {
   "cell_type": "code",
   "execution_count": 8,
   "id": "afe36a2b",
   "metadata": {},
   "outputs": [
    {
     "data": {
      "text/plain": [
       "(    complex.id         cdr3_a_aa     v_a_gene   j_a_gene      species  mhc.a  \\\n",
       " 38         106  CAMRGDYGGSGNKLIF    TRAV16*01  TRAJ32*01  MusMusculus  H-2Kb   \n",
       " 40         108      CAVSGFASALTF   TRAV9-4*01  TRAJ35*01  MusMusculus  H-2Kb   \n",
       " 42         110     CAARYQGGRALIF  TRAV14-1*01  TRAJ15*01  MusMusculus  H-2Kb   \n",
       " 44         112      CAVSGFASALTF   TRAV9-4*01  TRAJ35*01  MusMusculus  H-2Kb   \n",
       " 45         113  CAMRGDYGGSGNKLIF    TRAV16*01  TRAJ32*01  MusMusculus  H-2Kb   \n",
       " \n",
       "    mhc.b mhc.class   epitope  vdjdb.score  \n",
       " 38   B2M      MHCI  INFDFNTI            3  \n",
       " 40   B2M      MHCI  SIYRYYGL            3  \n",
       " 42   B2M      MHCI  KVITFIDL            3  \n",
       " 44   B2M      MHCI  EQYKFYSV            3  \n",
       " 45   B2M      MHCI  RGYVYQGL            3  ,\n",
       "     complex.id           cdr3_b_aa     v_b_gene    j_b_gene      species  \\\n",
       " 42         105       CASGGQGRAEQFF  TRBV13-2*01  TRBJ2-1*01  MusMusculus   \n",
       " 43         106      CTCSADRVGNTLYF     TRBV1*01  TRBJ1-3*01  MusMusculus   \n",
       " 45         108         CASGGGGTLYF  TRBV13-2*01  TRBJ2-4*01  MusMusculus   \n",
       " 47         110  CTCSAAPDWGASAETLYF     TRBV1*01  TRBJ2-3*01  MusMusculus   \n",
       " 49         112         CASGGGGTLYF  TRBV13-2*01  TRBJ2-4*01  MusMusculus   \n",
       " \n",
       "     mhc.a  mhc.b mhc.class           epitope  vdjdb.score  \n",
       " 42  H-2Aa  H-2Aa     MHCII  GNSHRGAIEWEGIESG            3  \n",
       " 43  H-2Kb    B2M      MHCI          INFDFNTI            3  \n",
       " 45  H-2Kb    B2M      MHCI          SIYRYYGL            3  \n",
       " 47  H-2Kb    B2M      MHCI          KVITFIDL            3  \n",
       " 49  H-2Kb    B2M      MHCI          EQYKFYSV            3  ,\n",
       "     complex.id         cdr3_a_aa     v_a_gene   j_a_gene      species  mhc.a  \\\n",
       " 38         106  CAMRGDYGGSGNKLIF    TRAV16*01  TRAJ32*01  MusMusculus  H-2Kb   \n",
       " 40         108      CAVSGFASALTF   TRAV9-4*01  TRAJ35*01  MusMusculus  H-2Kb   \n",
       " 42         110     CAARYQGGRALIF  TRAV14-1*01  TRAJ15*01  MusMusculus  H-2Kb   \n",
       " 44         112      CAVSGFASALTF   TRAV9-4*01  TRAJ35*01  MusMusculus  H-2Kb   \n",
       " 45         113  CAMRGDYGGSGNKLIF    TRAV16*01  TRAJ32*01  MusMusculus  H-2Kb   \n",
       " \n",
       "    mhc.b mhc.class   epitope  vdjdb.score           cdr3_b_aa     v_b_gene  \\\n",
       " 38   B2M      MHCI  INFDFNTI            3      CTCSADRVGNTLYF     TRBV1*01   \n",
       " 40   B2M      MHCI  SIYRYYGL            3         CASGGGGTLYF  TRBV13-2*01   \n",
       " 42   B2M      MHCI  KVITFIDL            3  CTCSAAPDWGASAETLYF     TRBV1*01   \n",
       " 44   B2M      MHCI  EQYKFYSV            3         CASGGGGTLYF  TRBV13-2*01   \n",
       " 45   B2M      MHCI  RGYVYQGL            3      CTCSADRVGNTLYF     TRBV1*01   \n",
       " \n",
       "       j_b_gene  \n",
       " 38  TRBJ1-3*01  \n",
       " 40  TRBJ2-4*01  \n",
       " 42  TRBJ2-3*01  \n",
       " 44  TRBJ2-4*01  \n",
       " 45  TRBJ1-3*01  )"
      ]
     },
     "execution_count": 8,
     "metadata": {},
     "output_type": "execute_result"
    }
   ],
   "source": [
    "mouse_alpha.head(), mouse_beta.head(), mouse.head()"
   ]
  },
  {
   "cell_type": "code",
   "execution_count": 9,
   "id": "9879600a",
   "metadata": {},
   "outputs": [
    {
     "data": {
      "text/plain": [
       "{'human': species\n",
       " HomoSapiens    1868\n",
       " Name: count, dtype: int64,\n",
       " 'human_alpha': species\n",
       " HomoSapiens    1941\n",
       " Name: count, dtype: int64,\n",
       " 'human_beta': species\n",
       " HomoSapiens    1966\n",
       " Name: count, dtype: int64,\n",
       " 'mouse': species\n",
       " MusMusculus    902\n",
       " Name: count, dtype: int64,\n",
       " 'mouse_alpha': species\n",
       " MusMusculus    902\n",
       " Name: count, dtype: int64,\n",
       " 'mouse_beta': species\n",
       " MusMusculus    925\n",
       " Name: count, dtype: int64}"
      ]
     },
     "execution_count": 9,
     "metadata": {},
     "output_type": "execute_result"
    }
   ],
   "source": [
    "# Create a dictionary with each DataFrame you want to check\n",
    "dataframes = {\n",
    "    'human': human,\n",
    "    'human_alpha': human_alpha,\n",
    "    'human_beta': human_beta,\n",
    "    'mouse': mouse,\n",
    "    'mouse_alpha': mouse_alpha,\n",
    "    'mouse_beta': mouse_beta\n",
    "}\n",
    "\n",
    "# Initialize an empty dictionary to store the value counts for each species\n",
    "species_value_counts = {}\n",
    "\n",
    "# Loop through the dictionary to get value counts for the 'species' column in each DataFrame\n",
    "for key, df in dataframes.items():\n",
    "    species_value_counts[key] = df['species'].value_counts()\n",
    "\n",
    "# species_value_counts now contains the value counts for the 'species' column from each DataFrame\n",
    "species_value_counts"
   ]
  },
  {
   "cell_type": "code",
   "execution_count": 10,
   "id": "654f2f48",
   "metadata": {},
   "outputs": [
    {
     "data": {
      "text/plain": [
       "({'human': 0,\n",
       "  'human_alpha': 0,\n",
       "  'human_beta': 0,\n",
       "  'mouse': 0,\n",
       "  'mouse_alpha': 0,\n",
       "  'mouse_beta': 0},\n",
       " {'human': complex.id     0\n",
       "  cdr3_a_aa      0\n",
       "  v_a_gene       0\n",
       "  j_a_gene       0\n",
       "  species        0\n",
       "  mhc.a          0\n",
       "  mhc.b          0\n",
       "  mhc.class      0\n",
       "  epitope        0\n",
       "  vdjdb.score    0\n",
       "  cdr3_b_aa      0\n",
       "  v_b_gene       0\n",
       "  j_b_gene       0\n",
       "  dtype: int64,\n",
       "  'human_alpha': complex.id     0\n",
       "  cdr3_a_aa      0\n",
       "  v_a_gene       0\n",
       "  j_a_gene       0\n",
       "  species        0\n",
       "  mhc.a          0\n",
       "  mhc.b          0\n",
       "  mhc.class      0\n",
       "  epitope        0\n",
       "  vdjdb.score    0\n",
       "  dtype: int64,\n",
       "  'human_beta': complex.id     0\n",
       "  cdr3_b_aa      0\n",
       "  v_b_gene       0\n",
       "  j_b_gene       0\n",
       "  species        0\n",
       "  mhc.a          0\n",
       "  mhc.b          0\n",
       "  mhc.class      0\n",
       "  epitope        0\n",
       "  vdjdb.score    0\n",
       "  dtype: int64,\n",
       "  'mouse': complex.id     0\n",
       "  cdr3_a_aa      0\n",
       "  v_a_gene       0\n",
       "  j_a_gene       0\n",
       "  species        0\n",
       "  mhc.a          0\n",
       "  mhc.b          0\n",
       "  mhc.class      0\n",
       "  epitope        0\n",
       "  vdjdb.score    0\n",
       "  cdr3_b_aa      0\n",
       "  v_b_gene       0\n",
       "  j_b_gene       0\n",
       "  dtype: int64,\n",
       "  'mouse_alpha': complex.id     0\n",
       "  cdr3_a_aa      0\n",
       "  v_a_gene       0\n",
       "  j_a_gene       0\n",
       "  species        0\n",
       "  mhc.a          0\n",
       "  mhc.b          0\n",
       "  mhc.class      0\n",
       "  epitope        0\n",
       "  vdjdb.score    0\n",
       "  dtype: int64,\n",
       "  'mouse_beta': complex.id     0\n",
       "  cdr3_b_aa      0\n",
       "  v_b_gene       0\n",
       "  j_b_gene       0\n",
       "  species        0\n",
       "  mhc.a          0\n",
       "  mhc.b          0\n",
       "  mhc.class      0\n",
       "  epitope        0\n",
       "  vdjdb.score    0\n",
       "  dtype: int64})"
      ]
     },
     "execution_count": 10,
     "metadata": {},
     "output_type": "execute_result"
    }
   ],
   "source": [
    "dataframes = {\n",
    "    'human': human,\n",
    "    'human_alpha': human_alpha,\n",
    "    'human_beta': human_beta,\n",
    "    'mouse': mouse,\n",
    "    'mouse_alpha': mouse_alpha,\n",
    "    'mouse_beta': mouse_beta\n",
    "}\n",
    "\n",
    "# Initialize dictionaries to store the counts of duplicates and missing values\n",
    "duplicate_counts = {}\n",
    "missing_value_counts = {}\n",
    "\n",
    "# Loop through the dataframes to calculate counts of duplicates and missing values\n",
    "for key, df in dataframes.items():\n",
    "    # Count of duplicate rows\n",
    "    duplicate_counts[key] = df.duplicated().sum()\n",
    "    \n",
    "    # Count of missing values for each column\n",
    "    missing_value_counts[key] = df.isnull().sum()\n",
    "\n",
    "# Now, duplicate_counts contains the counts of duplicates for each DataFrame\n",
    "# and missing_value_counts contains the counts of missing values for each DataFrame\n",
    "duplicate_counts, missing_value_counts"
   ]
  },
  {
   "cell_type": "markdown",
   "id": "8547532a",
   "metadata": {},
   "source": [
    "# TCR DISTANCE CALCULATION FOR MOUSE SPECIES FOR ALPHA, BETA AND COMBINED ALPHA AND BETA CHAINS"
   ]
  },
  {
   "cell_type": "markdown",
   "id": "aad23196",
   "metadata": {},
   "source": [
    "TCR DISTANCE CALCULATION FOR MOUSE SPECIES FOR ALPHA CHAIN"
   ]
  },
  {
   "cell_type": "code",
   "execution_count": 11,
   "id": "2e92f380",
   "metadata": {},
   "outputs": [
    {
     "name": "stderr",
     "output_type": "stream",
     "text": [
      "/Users/shalomifernandes/anaconda3/lib/python3.11/site-packages/tcrdist/repertoire.py:159: UserWarning: cell_df needs a counts column to track clonal number of frequency\n",
      "\n",
      "  self._validate_cell_df()\n",
      "/Users/shalomifernandes/anaconda3/lib/python3.11/site-packages/tcrdist/repertoire.py:791: UserWarning: No 'count' column provided; count column set to 1\n",
      "  warnings.warn(\"No 'count' column provided; count column set to 1\")\n",
      "/Users/shalomifernandes/anaconda3/lib/python3.11/site-packages/tcrdist/repertoire.py:792: SettingWithCopyWarning: \n",
      "A value is trying to be set on a copy of a slice from a DataFrame.\n",
      "Try using .loc[row_indexer,col_indexer] = value instead\n",
      "\n",
      "See the caveats in the documentation: https://pandas.pydata.org/pandas-docs/stable/user_guide/indexing.html#returning-a-view-versus-a-copy\n",
      "  self.cell_df['count'] = 1\n"
     ]
    },
    {
     "data": {
      "text/plain": [
       "array([[ 0, 35, 32, ..., 24, 23, 40],\n",
       "       [35,  0, 24, ..., 36, 31, 40],\n",
       "       [32, 24,  0, ..., 28, 36, 35],\n",
       "       ...,\n",
       "       [24, 36, 28, ...,  0, 32, 36],\n",
       "       [23, 31, 36, ..., 32,  0, 38],\n",
       "       [40, 40, 35, ..., 36, 38,  0]], dtype=int16)"
      ]
     },
     "execution_count": 11,
     "metadata": {},
     "output_type": "execute_result"
    }
   ],
   "source": [
    "import pandas as pd\n",
    "from tcrdist.repertoire import TCRrep\n",
    "\n",
    "tr = TCRrep(cell_df = mouse_alpha, \n",
    "            organism = 'mouse', \n",
    "            chains = ['alpha'], \n",
    "            db_file = 'alphabeta_gammadelta_db.tsv')\n",
    "\n",
    "tr.pw_alpha\n",
    "mouse_alpha_matrix = tr.pw_cdr3_a_aa\n",
    "mouse_alpha_matrix"
   ]
  },
  {
   "cell_type": "markdown",
   "id": "dc6b988d",
   "metadata": {},
   "source": [
    "TCR DISTANCE CALCULATION FOR MOUSE SPECIES FOR BETA CHAIN"
   ]
  },
  {
   "cell_type": "code",
   "execution_count": 12,
   "id": "8b604b0c",
   "metadata": {},
   "outputs": [
    {
     "name": "stderr",
     "output_type": "stream",
     "text": [
      "/Users/shalomifernandes/anaconda3/lib/python3.11/site-packages/tcrdist/repertoire.py:159: UserWarning: cell_df needs a counts column to track clonal number of frequency\n",
      "\n",
      "  self._validate_cell_df()\n",
      "/Users/shalomifernandes/anaconda3/lib/python3.11/site-packages/tcrdist/repertoire.py:791: UserWarning: No 'count' column provided; count column set to 1\n",
      "  warnings.warn(\"No 'count' column provided; count column set to 1\")\n",
      "/Users/shalomifernandes/anaconda3/lib/python3.11/site-packages/tcrdist/repertoire.py:792: SettingWithCopyWarning: \n",
      "A value is trying to be set on a copy of a slice from a DataFrame.\n",
      "Try using .loc[row_indexer,col_indexer] = value instead\n",
      "\n",
      "See the caveats in the documentation: https://pandas.pydata.org/pandas-docs/stable/user_guide/indexing.html#returning-a-view-versus-a-copy\n",
      "  self.cell_df['count'] = 1\n"
     ]
    },
    {
     "data": {
      "text/plain": [
       "array([[ 0, 35, 24, ..., 20, 20, 37],\n",
       "       [35,  0, 24, ..., 34, 28, 30],\n",
       "       [24, 24,  0, ..., 36, 36, 40],\n",
       "       ...,\n",
       "       [20, 34, 36, ...,  0, 19, 36],\n",
       "       [20, 28, 36, ..., 19,  0, 29],\n",
       "       [37, 30, 40, ..., 36, 29,  0]], dtype=int16)"
      ]
     },
     "execution_count": 12,
     "metadata": {},
     "output_type": "execute_result"
    }
   ],
   "source": [
    "import pandas as pd\n",
    "from tcrdist.repertoire import TCRrep\n",
    "\n",
    "tr = TCRrep(cell_df = mouse_beta, \n",
    "            organism = 'mouse', \n",
    "            chains = ['beta'], \n",
    "            db_file = 'alphabeta_gammadelta_db.tsv')\n",
    "\n",
    "tr.pw_beta\n",
    "mouse_beta_matrix = tr.pw_cdr3_b_aa\n",
    "mouse_beta_matrix"
   ]
  },
  {
   "cell_type": "markdown",
   "id": "673e65d2",
   "metadata": {},
   "source": [
    "TCR DISTANCE CALCULATION FOR MOUSE SPECIES FOR ALPHA AND BETA COMBINED CHAIN"
   ]
  },
  {
   "cell_type": "code",
   "execution_count": 13,
   "id": "97e0c282",
   "metadata": {},
   "outputs": [
    {
     "name": "stderr",
     "output_type": "stream",
     "text": [
      "/Users/shalomifernandes/anaconda3/lib/python3.11/site-packages/tcrdist/repertoire.py:159: UserWarning: cell_df needs a counts column to track clonal number of frequency\n",
      "\n",
      "  self._validate_cell_df()\n",
      "/Users/shalomifernandes/anaconda3/lib/python3.11/site-packages/tcrdist/repertoire.py:791: UserWarning: No 'count' column provided; count column set to 1\n",
      "  warnings.warn(\"No 'count' column provided; count column set to 1\")\n",
      "/Users/shalomifernandes/anaconda3/lib/python3.11/site-packages/tcrdist/repertoire.py:792: SettingWithCopyWarning: \n",
      "A value is trying to be set on a copy of a slice from a DataFrame.\n",
      "Try using .loc[row_indexer,col_indexer] = value instead\n",
      "\n",
      "See the caveats in the documentation: https://pandas.pydata.org/pandas-docs/stable/user_guide/indexing.html#returning-a-view-versus-a-copy\n",
      "  self.cell_df['count'] = 1\n"
     ]
    },
    {
     "data": {
      "text/plain": [
       "array([[ 0, 24, 36, ..., 34, 28, 30],\n",
       "       [24,  0, 44, ..., 36, 36, 40],\n",
       "       [36, 44,  0, ..., 48, 48, 48],\n",
       "       ...,\n",
       "       [34, 36, 48, ...,  0, 19, 36],\n",
       "       [28, 36, 48, ..., 19,  0, 29],\n",
       "       [30, 40, 48, ..., 36, 29,  0]], dtype=int16)"
      ]
     },
     "execution_count": 13,
     "metadata": {},
     "output_type": "execute_result"
    }
   ],
   "source": [
    "from tcrdist.repertoire import TCRrep\n",
    "\n",
    "tr = TCRrep(cell_df = mouse, \n",
    "            organism = 'mouse', \n",
    "            chains = ['alpha','beta'], \n",
    "            db_file = 'alphabeta_gammadelta_db.tsv')\n",
    "\n",
    "tr.pw_alpha\n",
    "tr.pw_beta\n",
    "tr.pw_cdr3_a_aa\n",
    "mouse_matrix = tr.pw_cdr3_b_aa\n",
    "mouse_matrix"
   ]
  },
  {
   "cell_type": "markdown",
   "id": "8ee29007",
   "metadata": {},
   "source": [
    "# TCR DISTANCE CALCULATION FOR HUMAN SPECIES FOR ALPHA, BETA AND COMBINED ALPHA AND BETA CHAINS"
   ]
  },
  {
   "cell_type": "markdown",
   "id": "c8266988",
   "metadata": {},
   "source": [
    "TCR DISTANCE CALCULATION FOR HUMAN SPECIES FOR ALPHA CHAIN"
   ]
  },
  {
   "cell_type": "code",
   "execution_count": 14,
   "id": "6054c9d3",
   "metadata": {},
   "outputs": [
    {
     "name": "stderr",
     "output_type": "stream",
     "text": [
      "/Users/shalomifernandes/anaconda3/lib/python3.11/site-packages/tcrdist/repertoire.py:159: UserWarning: cell_df needs a counts column to track clonal number of frequency\n",
      "\n",
      "  self._validate_cell_df()\n",
      "/Users/shalomifernandes/anaconda3/lib/python3.11/site-packages/tcrdist/repertoire.py:791: UserWarning: No 'count' column provided; count column set to 1\n",
      "  warnings.warn(\"No 'count' column provided; count column set to 1\")\n",
      "/Users/shalomifernandes/anaconda3/lib/python3.11/site-packages/tcrdist/repertoire.py:792: SettingWithCopyWarning: \n",
      "A value is trying to be set on a copy of a slice from a DataFrame.\n",
      "Try using .loc[row_indexer,col_indexer] = value instead\n",
      "\n",
      "See the caveats in the documentation: https://pandas.pydata.org/pandas-docs/stable/user_guide/indexing.html#returning-a-view-versus-a-copy\n",
      "  self.cell_df['count'] = 1\n"
     ]
    },
    {
     "data": {
      "text/plain": [
       "array([[ 0, 29, 20, ..., 42, 46, 29],\n",
       "       [29,  0, 26, ..., 30, 35, 30],\n",
       "       [20, 26,  0, ..., 36, 40, 23],\n",
       "       ...,\n",
       "       [42, 30, 36, ...,  0, 31, 24],\n",
       "       [46, 35, 40, ..., 31,  0, 36],\n",
       "       [29, 30, 23, ..., 24, 36,  0]], dtype=int16)"
      ]
     },
     "execution_count": 14,
     "metadata": {},
     "output_type": "execute_result"
    }
   ],
   "source": [
    "#TCR DISTANCE CALCULATION FOR HUMAN SPECIES FOR ALPHA CHAIN\n",
    "import pandas as pd\n",
    "from tcrdist.repertoire import TCRrep\n",
    "\n",
    "tr = TCRrep(cell_df = human_alpha, \n",
    "            organism = 'human', \n",
    "            chains = ['alpha'], \n",
    "            db_file = 'alphabeta_gammadelta_db.tsv')\n",
    "\n",
    "tr.pw_alpha\n",
    "human_alpha_matrix = tr.pw_cdr3_a_aa\n",
    "human_alpha_matrix"
   ]
  },
  {
   "cell_type": "markdown",
   "id": "6669ff8f",
   "metadata": {},
   "source": [
    "TCR DISTANCE CALCULATION FOR HUMAN SPECIES FOR BETA CHAIN"
   ]
  },
  {
   "cell_type": "code",
   "execution_count": 15,
   "id": "d843844b",
   "metadata": {},
   "outputs": [
    {
     "name": "stderr",
     "output_type": "stream",
     "text": [
      "/Users/shalomifernandes/anaconda3/lib/python3.11/site-packages/tcrdist/repertoire.py:159: UserWarning: cell_df needs a counts column to track clonal number of frequency\n",
      "\n",
      "  self._validate_cell_df()\n",
      "/Users/shalomifernandes/anaconda3/lib/python3.11/site-packages/tcrdist/repertoire.py:791: UserWarning: No 'count' column provided; count column set to 1\n",
      "  warnings.warn(\"No 'count' column provided; count column set to 1\")\n",
      "/Users/shalomifernandes/anaconda3/lib/python3.11/site-packages/tcrdist/repertoire.py:792: SettingWithCopyWarning: \n",
      "A value is trying to be set on a copy of a slice from a DataFrame.\n",
      "Try using .loc[row_indexer,col_indexer] = value instead\n",
      "\n",
      "See the caveats in the documentation: https://pandas.pydata.org/pandas-docs/stable/user_guide/indexing.html#returning-a-view-versus-a-copy\n",
      "  self.cell_df['count'] = 1\n"
     ]
    },
    {
     "data": {
      "text/plain": [
       "array([[ 0, 13, 12, ..., 48, 47, 46],\n",
       "       [13,  0, 13, ..., 44, 41, 42],\n",
       "       [12, 13,  0, ..., 48, 48, 46],\n",
       "       ...,\n",
       "       [48, 44, 48, ...,  0, 24, 19],\n",
       "       [47, 41, 48, ..., 24,  0, 21],\n",
       "       [46, 42, 46, ..., 19, 21,  0]], dtype=int16)"
      ]
     },
     "execution_count": 15,
     "metadata": {},
     "output_type": "execute_result"
    }
   ],
   "source": [
    "import pandas as pd\n",
    "from tcrdist.repertoire import TCRrep\n",
    "\n",
    "tr = TCRrep(cell_df = human_beta, \n",
    "            organism = 'human', \n",
    "            chains = ['beta'], \n",
    "            db_file = 'alphabeta_gammadelta_db.tsv')\n",
    "\n",
    "tr.pw_beta\n",
    "human_beta_matrix = tr.pw_cdr3_b_aa\n",
    "human_beta_matrix"
   ]
  },
  {
   "cell_type": "markdown",
   "id": "29d79160",
   "metadata": {},
   "source": [
    "TCR DISTANCE CALCULATION FOR HUMAN SPECIES FOR ALPHA AND BETA COMBINED CHAIN"
   ]
  },
  {
   "cell_type": "code",
   "execution_count": 16,
   "id": "d0e9d0ed",
   "metadata": {},
   "outputs": [
    {
     "name": "stderr",
     "output_type": "stream",
     "text": [
      "/Users/shalomifernandes/anaconda3/lib/python3.11/site-packages/tcrdist/repertoire.py:159: UserWarning: cell_df needs a counts column to track clonal number of frequency\n",
      "\n",
      "  self._validate_cell_df()\n",
      "/Users/shalomifernandes/anaconda3/lib/python3.11/site-packages/tcrdist/repertoire.py:791: UserWarning: No 'count' column provided; count column set to 1\n",
      "  warnings.warn(\"No 'count' column provided; count column set to 1\")\n",
      "/Users/shalomifernandes/anaconda3/lib/python3.11/site-packages/tcrdist/repertoire.py:792: SettingWithCopyWarning: \n",
      "A value is trying to be set on a copy of a slice from a DataFrame.\n",
      "Try using .loc[row_indexer,col_indexer] = value instead\n",
      "\n",
      "See the caveats in the documentation: https://pandas.pydata.org/pandas-docs/stable/user_guide/indexing.html#returning-a-view-versus-a-copy\n",
      "  self.cell_df['count'] = 1\n"
     ]
    },
    {
     "data": {
      "text/plain": [
       "array([[ 0, 13, 44, ..., 48, 47, 46],\n",
       "       [13,  0, 44, ..., 44, 41, 42],\n",
       "       [44, 44,  0, ..., 19, 23, 28],\n",
       "       ...,\n",
       "       [48, 44, 19, ...,  0, 24, 19],\n",
       "       [47, 41, 23, ..., 24,  0, 21],\n",
       "       [46, 42, 28, ..., 19, 21,  0]], dtype=int16)"
      ]
     },
     "execution_count": 16,
     "metadata": {},
     "output_type": "execute_result"
    }
   ],
   "source": [
    "import pandas as pd\n",
    "from tcrdist.repertoire import TCRrep\n",
    "\n",
    "tr = TCRrep(cell_df = human, \n",
    "            organism = 'human', \n",
    "            chains = ['alpha','beta'], \n",
    "            db_file = 'alphabeta_gammadelta_db.tsv')\n",
    "\n",
    "tr.pw_alpha\n",
    "tr.pw_beta\n",
    "tr.pw_cdr3_a_aa\n",
    "human_matrix = tr.pw_cdr3_b_aa\n",
    "human_matrix"
   ]
  },
  {
   "cell_type": "markdown",
   "id": "e901837e",
   "metadata": {},
   "source": [
    "# DIMENSIONALITY REDUCTION:"
   ]
  },
  {
   "cell_type": "markdown",
   "id": "4e732c4f",
   "metadata": {},
   "source": [
    "DIMENSIONALITY REDUCTION FOR MOUSE SPECIES FOR ALPHA CHAIN"
   ]
  },
  {
   "cell_type": "code",
   "execution_count": 17,
   "id": "34841876",
   "metadata": {},
   "outputs": [
    {
     "data": {
      "image/png": "[encoded data removed]",
      "text/plain": [
       "<Figure size 1000x800 with 1 Axes>"
      ]
     },
     "metadata": {},
     "output_type": "display_data"
    }
   ],
   "source": [
    "from sklearn.decomposition import PCA\n",
    "from sklearn.manifold import TSNE\n",
    "import umap\n",
    "import matplotlib.pyplot as plt\n",
    "\n",
    "# Assume 'encoded_sequences' is a NumPy array with your encoded TCR sequences\n",
    "\n",
    "# For PCA\n",
    "#pca_model = PCA(n_components=2)\n",
    "#pca_result = pca_model.fit_transform(mouse_alpha_matrix)\n",
    "\n",
    "# For t-SNE\n",
    "#tsne_model = TSNE(n_components=2)\n",
    "#tsne_result = tsne_model.fit_transform(mouse_alpha_matrix)\n",
    "\n",
    "# For UMAP\n",
    "umap_model = umap.UMAP(n_components=2)\n",
    "umap_result = umap_model.fit_transform(mouse_alpha_matrix)\n",
    "\n",
    "# Plotting function\n",
    "def plot_embeddings(embeddings, title):\n",
    "    plt.figure(figsize=(10, 8))\n",
    "    plt.scatter(embeddings[:, 0], embeddings[:, 1], s=5)\n",
    "    plt.title(title)\n",
    "    plt.xlabel('Component 1')\n",
    "    plt.ylabel('Component 2')\n",
    "    plt.show()\n",
    "\n",
    "# Plot the results\n",
    "#plot_embeddings(pca_result, 'PCA of TCR Sequences for mouse alpha chains')\n",
    "#plot_embeddings(tsne_result, 't-SNE of TCR Sequences for mouse alpha chains')\n",
    "plot_embeddings(umap_result, 'UMAP of TCR Sequences for mouse alpha chains')"
   ]
  },
  {
   "cell_type": "markdown",
   "id": "d9496a7a",
   "metadata": {},
   "source": [
    "DIMENSIONALITY REDUCTION FOR MOUSE SPECIES FOR ALPHA CHAIN"
   ]
  },
  {
   "cell_type": "code",
   "execution_count": 18,
   "id": "acaf9f7a",
   "metadata": {},
   "outputs": [
    {
     "data": {
      "image/png": "[encoded data removed]",
      "text/plain": [
       "<Figure size 1000x800 with 1 Axes>"
      ]
     },
     "metadata": {},
     "output_type": "display_data"
    }
   ],
   "source": [
    "from sklearn.decomposition import PCA\n",
    "from sklearn.manifold import TSNE\n",
    "import umap\n",
    "import matplotlib.pyplot as plt\n",
    "\n",
    "# Assume 'encoded_sequences' is a NumPy array with your encoded TCR sequences\n",
    "\n",
    "# For PCA\n",
    "#pca_model = PCA(n_components=2)\n",
    "#pca_result = pca_model.fit_transform(mouse_beta_matrix)\n",
    "\n",
    "# For t-SNE\n",
    "#tsne_model = TSNE(n_components=2)\n",
    "#tsne_result = tsne_model.fit_transform(mouse_beta_matrix)\n",
    "\n",
    "# For UMAP\n",
    "umap_model = umap.UMAP(n_components=2)\n",
    "umap_result = umap_model.fit_transform(mouse_beta_matrix)\n",
    "\n",
    "# Plotting function\n",
    "def plot_embeddings(embeddings, title):\n",
    "    plt.figure(figsize=(10, 8))\n",
    "    plt.scatter(embeddings[:, 0], embeddings[:, 1], s=5)\n",
    "    plt.title(title)\n",
    "    plt.xlabel('Component 1')\n",
    "    plt.ylabel('Component 2')\n",
    "    plt.show()\n",
    "\n",
    "# Plot the results\n",
    "#plot_embeddings(pca_result, 'PCA of TCR Sequences for mouse beta chains')\n",
    "#plot_embeddings(tsne_result, 't-SNE of TCR Sequences for mouse beta chains')\n",
    "plot_embeddings(umap_result, 'UMAP of TCR Sequences for mouse beta chains')"
   ]
  },
  {
   "cell_type": "markdown",
   "id": "5b754abb",
   "metadata": {},
   "source": [
    "DIMENSIONALITY REDUCTION FOR MOUSE SPECIES FOR COMBINED ALPHA AND BETA CHAINS"
   ]
  },
  {
   "cell_type": "code",
   "execution_count": 19,
   "id": "060ae2aa",
   "metadata": {},
   "outputs": [
    {
     "data": {
      "image/png": "[encoded data removed]",
      "text/plain": [
       "<Figure size 1000x800 with 1 Axes>"
      ]
     },
     "metadata": {},
     "output_type": "display_data"
    }
   ],
   "source": [
    "from sklearn.decomposition import PCA\n",
    "from sklearn.manifold import TSNE\n",
    "import umap\n",
    "import matplotlib.pyplot as plt\n",
    "\n",
    "# Assume 'encoded_sequences' is a NumPy array with your encoded TCR sequences\n",
    "\n",
    "# For PCA\n",
    "#pca_model = PCA(n_components=2)\n",
    "#pca_result = pca_model.fit_transform(mouse_matrix)\n",
    "\n",
    "# For t-SNE\n",
    "#tsne_model = TSNE(n_components=2)\n",
    "#tsne_result = tsne_model.fit_transform(mouse_matrix)\n",
    "\n",
    "# For UMAP\n",
    "umap_model = umap.UMAP(n_components=2)\n",
    "umap_result = umap_model.fit_transform(mouse_matrix)\n",
    "\n",
    "# Plotting function\n",
    "def plot_embeddings(embeddings, title):\n",
    "    plt.figure(figsize=(10, 8))\n",
    "    plt.scatter(embeddings[:, 0], embeddings[:, 1], s=5)\n",
    "    plt.title(title)\n",
    "    plt.xlabel('Component 1')\n",
    "    plt.ylabel('Component 2')\n",
    "    plt.show()\n",
    "\n",
    "# Plot the results\n",
    "#plot_embeddings(pca_result, 'PCA of TCR Sequences for mouse combined chains')\n",
    "#plot_embeddings(tsne_result, 't-SNE of TCR Sequences for mouse combined chains')\n",
    "plot_embeddings(umap_result, 'UMAP of TCR Sequences for mouse combined chains')"
   ]
  },
  {
   "cell_type": "markdown",
   "id": "f52c49f2",
   "metadata": {},
   "source": [
    "DIMENSIONALITY REDUCTION FOR HUMAN SPECIES FOR ALPHA CHAIN"
   ]
  },
  {
   "cell_type": "code",
   "execution_count": 20,
   "id": "bba3b47f",
   "metadata": {},
   "outputs": [
    {
     "data": {
      "image/png": "[encoded data removed]",
      "text/plain": [
       "<Figure size 1000x800 with 1 Axes>"
      ]
     },
     "metadata": {},
     "output_type": "display_data"
    }
   ],
   "source": [
    "from sklearn.decomposition import PCA\n",
    "from sklearn.manifold import TSNE\n",
    "import umap\n",
    "import matplotlib.pyplot as plt\n",
    "\n",
    "# Assume 'encoded_sequences' is a NumPy array with your encoded TCR sequences\n",
    "\n",
    "# For PCA\n",
    "#pca_model = PCA(n_components=2)\n",
    "#pca_result = pca_model.fit_transform(human_alpha_matrix)\n",
    "\n",
    "# For t-SNE\n",
    "#tsne_model = TSNE(n_components=2)\n",
    "#tsne_result = tsne_model.fit_transform(human_alpha_matrix)\n",
    "\n",
    "# For UMAP\n",
    "umap_model = umap.UMAP(n_components=2)\n",
    "umap_result = umap_model.fit_transform(human_alpha_matrix)\n",
    "\n",
    "# Plotting function\n",
    "def plot_embeddings(embeddings, title):\n",
    "    plt.figure(figsize=(10, 8))\n",
    "    plt.scatter(embeddings[:, 0], embeddings[:, 1], s=5)\n",
    "    plt.title(title)\n",
    "    plt.xlabel('Component 1')\n",
    "    plt.ylabel('Component 2')\n",
    "    plt.show()\n",
    "\n",
    "# Plot the results\n",
    "#plot_embeddings(pca_result, 'PCA of TCR Sequences for human alpha chains')\n",
    "#plot_embeddings(tsne_result, 't-SNE of TCR Sequences for human alpha chains')\n",
    "plot_embeddings(umap_result, 'UMAP of TCR Sequences for human alpha chains')"
   ]
  },
  {
   "cell_type": "markdown",
   "id": "c69dd6e2",
   "metadata": {},
   "source": [
    "DIMENSIONALITY REDUCTION FOR HUMAN SPECIES FOR BETA CHAIN"
   ]
  },
  {
   "cell_type": "code",
   "execution_count": 21,
   "id": "75e00697",
   "metadata": {},
   "outputs": [
    {
     "data": {
      "image/png": "[encoded data removed]",
      "text/plain": [
       "<Figure size 1000x800 with 1 Axes>"
      ]
     },
     "metadata": {},
     "output_type": "display_data"
    }
   ],
   "source": [
    "from sklearn.decomposition import PCA\n",
    "from sklearn.manifold import TSNE\n",
    "import umap\n",
    "import matplotlib.pyplot as plt\n",
    "\n",
    "# Assume 'encoded_sequences' is a NumPy array with your encoded TCR sequences\n",
    "\n",
    "# For PCA\n",
    "#pca_model = PCA(n_components=2)\n",
    "#pca_result = pca_model.fit_transform(human_beta_matrix)\n",
    "\n",
    "# For t-SNE\n",
    "#tsne_model = TSNE(n_components=2)\n",
    "#tsne_result = tsne_model.fit_transform(human_beta_matrix)\n",
    "\n",
    "# For UMAP\n",
    "umap_model = umap.UMAP(n_components=2)\n",
    "umap_result = umap_model.fit_transform(human_beta_matrix)\n",
    "\n",
    "# Plotting function\n",
    "def plot_embeddings(embeddings, title):\n",
    "    plt.figure(figsize=(10, 8))\n",
    "    plt.scatter(embeddings[:, 0], embeddings[:, 1], s=5)\n",
    "    plt.title(title)\n",
    "    plt.xlabel('Component 1')\n",
    "    plt.ylabel('Component 2')\n",
    "    plt.show()\n",
    "\n",
    "# Plot the results\n",
    "#plot_embeddings(pca_result, 'PCA of TCR Sequences for human beta chains')\n",
    "#plot_embeddings(tsne_result, 't-SNE of TCR Sequences for human beta chains')\n",
    "plot_embeddings(umap_result, 'UMAP of TCR Sequences for human beta chains')"
   ]
  },
  {
   "cell_type": "markdown",
   "id": "43804fd8",
   "metadata": {},
   "source": [
    "DIMENSIONALITY REDUCTION FOR HUMAN SPECIES FOR COMBINED ALPHA AND BETA CHAINS"
   ]
  },
  {
   "cell_type": "code",
   "execution_count": 22,
   "id": "cabc8893",
   "metadata": {},
   "outputs": [
    {
     "data": {
      "image/png": "[encoded data removed]",
      "text/plain": [
       "<Figure size 1000x800 with 1 Axes>"
      ]
     },
     "metadata": {},
     "output_type": "display_data"
    }
   ],
   "source": [
    "from sklearn.decomposition import PCA\n",
    "from sklearn.manifold import TSNE\n",
    "import umap\n",
    "import matplotlib.pyplot as plt\n",
    "\n",
    "# Assume 'encoded_sequences' is a NumPy array with your encoded TCR sequences\n",
    "\n",
    "# For PCA\n",
    "#pca_model = PCA(n_components=2)\n",
    "#pca_result = pca_model.fit_transform(human_matrix)\n",
    "\n",
    "# For t-SNE\n",
    "#tsne_model = TSNE(n_components=2)\n",
    "#tsne_result = tsne_model.fit_transform(human_matrix)\n",
    "\n",
    "# For UMAP\n",
    "umap_model = umap.UMAP(n_components=2)\n",
    "umap_result = umap_model.fit_transform(human_matrix)\n",
    "\n",
    "# Plotting function\n",
    "def plot_embeddings(embeddings, title):\n",
    "    plt.figure(figsize=(10, 8))\n",
    "    plt.scatter(embeddings[:, 0], embeddings[:, 1], s=5)\n",
    "    plt.title(title)\n",
    "    plt.xlabel('Component 1')\n",
    "    plt.ylabel('Component 2')\n",
    "    plt.show()\n",
    "\n",
    "# Plot the results\n",
    "#plot_embeddings(pca_result, 'PCA of TCR Sequences for human combined chains')\n",
    "#plot_embeddings(tsne_result, 't-SNE of TCR Sequences for human combined chains')\n",
    "plot_embeddings(umap_result, 'UMAP of TCR Sequences for human combined chains')"
   ]
  },
  {
   "cell_type": "code",
   "execution_count": null,
   "id": "7ccb06a9",
   "metadata": {},
   "outputs": [],
   "source": []
  },
  {
   "cell_type": "code",
   "execution_count": null,
   "id": "62587821",
   "metadata": {},
   "outputs": [],
   "source": []
  },
  {
   "cell_type": "code",
   "execution_count": null,
   "id": "97c33f76",
   "metadata": {},
   "outputs": [],
   "source": []
  },
  {
   "cell_type": "code",
   "execution_count": null,
   "id": "10b01185",
   "metadata": {},
   "outputs": [],
   "source": []
  },
  {
   "cell_type": "code",
   "execution_count": 23,
   "id": "1616a0ff",
   "metadata": {},
   "outputs": [
    {
     "name": "stderr",
     "output_type": "stream",
     "text": [
      "/Users/shalomifernandes/anaconda3/lib/python3.11/site-packages/umap/umap_.py:1943: UserWarning: n_jobs value -1 overridden to 1 by setting random_state. Use no seed for parallelism.\n",
      "  warn(f\"n_jobs value {self.n_jobs} overridden to 1 by setting random_state. Use no seed for parallelism.\")\n"
     ]
    },
    {
     "ename": "NameError",
     "evalue": "name 'epitope' is not defined",
     "output_type": "error",
     "traceback": [
      "\u001b[0;31m---------------------------------------------------------------------------\u001b[0m",
      "\u001b[0;31mNameError\u001b[0m                                 Traceback (most recent call last)",
      "Cell \u001b[0;32mIn[23], line 13\u001b[0m\n\u001b[1;32m     10\u001b[0m reduced_data \u001b[38;5;241m=\u001b[39m reducer\u001b[38;5;241m.\u001b[39mfit_transform(mouse_matrix)\n\u001b[1;32m     12\u001b[0m \u001b[38;5;66;03m# Convert specificities into a color code using pandas' factorize method\u001b[39;00m\n\u001b[0;32m---> 13\u001b[0m epitope_codes, unique_epitopes \u001b[38;5;241m=\u001b[39m pd\u001b[38;5;241m.\u001b[39mfactorize(epitope)\n\u001b[1;32m     14\u001b[0m colors \u001b[38;5;241m=\u001b[39m plt\u001b[38;5;241m.\u001b[39mcm\u001b[38;5;241m.\u001b[39mtab20(epitope_codes \u001b[38;5;241m/\u001b[39m \u001b[38;5;28mlen\u001b[39m(unique_epitopes))\n\u001b[1;32m     16\u001b[0m \u001b[38;5;66;03m# Create the scatter plot\u001b[39;00m\n",
      "\u001b[0;31mNameError\u001b[0m: name 'epitope' is not defined"
     ]
    }
   ],
   "source": [
    "import umap\n",
    "import pandas as pd\n",
    "import matplotlib.pyplot as plt\n",
    "\n",
    "# Assuming 'distance_matrix' is a NumPy array of your precomputed distance matrix\n",
    "# and 'specificities' contains the corresponding epitope specificity for each TCR.\n",
    "\n",
    "# Perform UMAP dimensionality reduction\n",
    "reducer = umap.UMAP(random_state=42)\n",
    "reduced_data = reducer.fit_transform(mouse_matrix)\n",
    "\n",
    "# Convert specificities into a color code using pandas' factorize method\n",
    "epitope_codes, unique_epitopes = pd.factorize(epitope)\n",
    "colors = plt.cm.tab20(epitope_codes / len(unique_epitopes))\n",
    "\n",
    "# Create the scatter plot\n",
    "plt.figure(figsize=(12, 10))\n",
    "scatter = plt.scatter(reduced_data[:, 0], reduced_data[:, 1], c=colors, alpha=0.6)\n",
    "\n",
    "# Add a legend\n",
    "handles = [plt.Line2D([0], [0], marker='o', color='w', markerfacecolor=plt.cm.tab20(i/len(unique_epitopes)), markersize=10) for i in range(len(unique_epitopes))]\n",
    "plt.legend(handles, unique_epitopes, title='Specificity', bbox_to_anchor=(1.05, 1), loc='upper left')\n",
    "\n",
    "# Add axis labels and a title\n",
    "plt.xlabel('UMAP Dimension 1')\n",
    "plt.ylabel('UMAP Dimension 2')\n",
    "plt.title('2D UMAP Projection of TCRs colored by Specificity')\n",
    "\n",
    "# Show the plot\n",
    "plt.tight_layout()\n",
    "plt.show()\n"
   ]
  },
  {
   "cell_type": "code",
   "execution_count": null,
   "id": "ea8513dc",
   "metadata": {},
   "outputs": [],
   "source": []
  },
  {
   "cell_type": "code",
   "execution_count": null,
   "id": "9e214c1b",
   "metadata": {},
   "outputs": [],
   "source": []
  },
  {
   "cell_type": "code",
   "execution_count": null,
   "id": "d27b7a23",
   "metadata": {},
   "outputs": [],
   "source": []
  },
  {
   "cell_type": "code",
   "execution_count": null,
   "id": "6879b011",
   "metadata": {},
   "outputs": [],
   "source": []
  },
  {
   "cell_type": "code",
   "execution_count": null,
   "id": "8653dca2",
   "metadata": {},
   "outputs": [],
   "source": []
  },
  {
   "cell_type": "code",
   "execution_count": null,
   "id": "579f93cf",
   "metadata": {},
   "outputs": [],
   "source": []
  },
  {
   "cell_type": "code",
   "execution_count": null,
   "id": "1ef3f5bd",
   "metadata": {},
   "outputs": [],
   "source": []
  },
  {
   "cell_type": "code",
   "execution_count": null,
   "id": "f42a195d",
   "metadata": {},
   "outputs": [],
   "source": []
  }
 ],
 "metadata": {
  "kernelspec": {
   "display_name": "Python 3 (ipykernel)",
   "language": "python",
   "name": "python3"
  },
  "language_info": {
   "codemirror_mode": {
    "name": "ipython",
    "version": 3
   },
   "file_extension": ".py",
   "mimetype": "text/x-python",
   "name": "python",
   "nbconvert_exporter": "python",
   "pygments_lexer": "ipython3",
   "version": "3.11.5"
  }
 },
 "nbformat": 4,
 "nbformat_minor": 5
}
